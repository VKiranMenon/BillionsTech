{
 "cells": [
  {
   "cell_type": "code",
   "execution_count": null,
   "metadata": {},
   "outputs": [],
   "source": []
  },
  {
   "cell_type": "markdown",
   "metadata": {},
   "source": [
    "Question1. \n",
    "\n",
    "Create a function that takes three arguments a, b, c and returns the sum of the\n",
    "\n",
    "numbers that are evenly divided by c from the range a, b inclusive.\n",
    "\n",
    "Examples\n",
    "\n",
    "evenly_divisible(1, 10, 20) ➞ 0\n",
    "\n",
    "No number between 1 and 10 can be evenly divided by 20.\n",
    "\n",
    "evenly_divisible(1, 10, 2) ➞ 30\n",
    "\n",
    "2 + 4 + 6 + 8 + 10 = 30\n",
    "\n",
    "evenly_divisible(1, 10, 3) ➞ 18\n",
    "\n",
    "3 + 6 + 9 = 18"
   ]
  },
  {
   "cell_type": "code",
   "execution_count": 283,
   "metadata": {},
   "outputs": [
    {
     "name": "stdout",
     "output_type": "stream",
     "text": [
      "6\n",
      "15\n",
      "3\n",
      "The Total of divisble number is:  42\n",
      "The number  42 /  3  :  14.0\n"
     ]
    },
    {
     "data": {
      "text/plain": [
       "('The range of numbers from ', 6, 'to ', 15, 'is DIVISIBLE ', 3, True)"
      ]
     },
     "execution_count": 283,
     "metadata": {},
     "output_type": "execute_result"
    }
   ],
   "source": [
    "def evenly_divisible():\n",
    "    a = int(input())\n",
    "    b = int(input())\n",
    "    c = int(input())\n",
    "    flag = False\n",
    "    divisible_numbers = []\n",
    "    for val in range(a, b+1):\n",
    "        if val % c == 0:\n",
    "            flag = True\n",
    "            divisible_numbers.append(val)\n",
    "    print(\"The Total of divisble number is: \", sum(divisible_numbers))\n",
    "    print(\"The number \", sum(divisible_numbers), \"/ \", c, \" : \", sum(divisible_numbers)/c)\n",
    "    if flag == 1:\n",
    "        return \"The range of numbers from \", a, \"to \", b, \"is DIVISIBLE \", c, True\n",
    "    \n",
    "    return \"The range of numbers from \", a, \"to \", b, \"is NOT DIVISIBLE by \", c, False\n",
    "      \n",
    "evenly_divisible()"
   ]
  },
  {
   "cell_type": "code",
   "execution_count": 284,
   "metadata": {},
   "outputs": [
    {
     "name": "stdout",
     "output_type": "stream",
     "text": [
      "1\n",
      "10\n",
      "20\n",
      "The Total of divisble number is:  0\n",
      "The number  0 /  20  :  0.0\n"
     ]
    },
    {
     "data": {
      "text/plain": [
       "('The range of numbers from ', 1, 'to ', 10, 'is NOT DIVISIBLE by ', 20, False)"
      ]
     },
     "execution_count": 284,
     "metadata": {},
     "output_type": "execute_result"
    }
   ],
   "source": [
    "evenly_divisible()"
   ]
  },
  {
   "cell_type": "code",
   "execution_count": null,
   "metadata": {},
   "outputs": [],
   "source": []
  },
  {
   "cell_type": "code",
   "execution_count": null,
   "metadata": {},
   "outputs": [],
   "source": []
  },
  {
   "cell_type": "code",
   "execution_count": null,
   "metadata": {},
   "outputs": [],
   "source": []
  },
  {
   "cell_type": "markdown",
   "metadata": {},
   "source": [
    "Method 2"
   ]
  },
  {
   "cell_type": "code",
   "execution_count": 244,
   "metadata": {},
   "outputs": [
    {
     "name": "stdout",
     "output_type": "stream",
     "text": [
      "No Number between  1 and  10 can be divided by  3\n",
      "Number between  1 and  10 can be divided by  3\n",
      "[3, 6, 9]\n",
      "3\n",
      "\n",
      "18\n",
      "6.0\n"
     ]
    }
   ],
   "source": [
    "def evenly_divisible_1(a, b, c):\n",
    "        \n",
    "    sum_total_of_range = []\n",
    "    non_divisible_num = []\n",
    "    a = int(a)\n",
    "    b = int(b)\n",
    "    c = int(c)\n",
    "\n",
    "    try:\n",
    "        for elem in range(a, b+1):\n",
    "            if elem % c != 0:\n",
    "                non_divisible_num.append(elem)\n",
    "        print(\"No Number between \", a, \"and \", b, \"can be divided by \", c)\n",
    "\n",
    "    except ValueError:\n",
    "        print(\"Invalid\")\n",
    "\n",
    "    else:\n",
    "        for val in range(a, b+1):\n",
    "            if val % c == 0:\n",
    "                sum_total_of_range.append(val)\n",
    "        print(\"Number between \", a, \"and \", b, \"can be divided by \", c)\n",
    "                \n",
    "    print(sum_total_of_range)\n",
    "    print(c)\n",
    "\n",
    "    print()\n",
    "\n",
    "    print(sum(sum_total_of_range))\n",
    "\n",
    "    print(sum(sum_total_of_range)/c)\n",
    "\n",
    "    \n",
    "    \n",
    "    \n",
    "evenly_divisible_1(1, 10, 3)           "
   ]
  },
  {
   "cell_type": "code",
   "execution_count": null,
   "metadata": {},
   "outputs": [],
   "source": []
  },
  {
   "cell_type": "code",
   "execution_count": null,
   "metadata": {},
   "outputs": [],
   "source": []
  },
  {
   "cell_type": "code",
   "execution_count": null,
   "metadata": {},
   "outputs": [],
   "source": []
  },
  {
   "cell_type": "markdown",
   "metadata": {},
   "source": [
    "Question2. \n",
    "\n",
    "Create a function that returns True if a given inequality expression is correct and\n",
    "False otherwise.\n",
    "\n",
    "Examples\n",
    "\n",
    "correct_signs(&quot;3 &lt; 7 &lt; 11&quot;) ➞ True\n",
    "\n",
    "correct_signs(&quot;13 &gt; 44 &gt; 33 &gt; 1&quot;) ➞ False\n",
    "\n",
    "correct_signs(&quot;1 &lt; 2 &lt; 6 &lt; 9 &gt; 3&quot;) ➞ True"
   ]
  },
  {
   "cell_type": "code",
   "execution_count": null,
   "metadata": {},
   "outputs": [],
   "source": []
  },
  {
   "cell_type": "markdown",
   "metadata": {},
   "source": [
    "Method 1"
   ]
  },
  {
   "cell_type": "code",
   "execution_count": 187,
   "metadata": {},
   "outputs": [],
   "source": [
    "def correct_signs(check_num):\n",
    "    expression_ = eval(check_num)\n",
    "    if expression_:\n",
    "        return True\n",
    "    return False"
   ]
  },
  {
   "cell_type": "code",
   "execution_count": 190,
   "metadata": {},
   "outputs": [
    {
     "data": {
      "text/plain": [
       "False"
      ]
     },
     "execution_count": 190,
     "metadata": {},
     "output_type": "execute_result"
    }
   ],
   "source": [
    "correct_signs(\"4 < 5 > 8 < 77 < 9 > 6 > 3\")"
   ]
  },
  {
   "cell_type": "code",
   "execution_count": 191,
   "metadata": {},
   "outputs": [
    {
     "data": {
      "text/plain": [
       "False"
      ]
     },
     "execution_count": 191,
     "metadata": {},
     "output_type": "execute_result"
    }
   ],
   "source": [
    "correct_signs(\"13 > 44 > 33 > 1\")"
   ]
  },
  {
   "cell_type": "code",
   "execution_count": 192,
   "metadata": {},
   "outputs": [
    {
     "data": {
      "text/plain": [
       "True"
      ]
     },
     "execution_count": 192,
     "metadata": {},
     "output_type": "execute_result"
    }
   ],
   "source": [
    "correct_signs(\"1 < 2 < 6 < 9 > 3\")"
   ]
  },
  {
   "cell_type": "code",
   "execution_count": null,
   "metadata": {},
   "outputs": [],
   "source": []
  },
  {
   "cell_type": "code",
   "execution_count": null,
   "metadata": {},
   "outputs": [],
   "source": []
  },
  {
   "cell_type": "markdown",
   "metadata": {},
   "source": [
    "Method 2"
   ]
  },
  {
   "cell_type": "code",
   "execution_count": 217,
   "metadata": {},
   "outputs": [
    {
     "name": "stdout",
     "output_type": "stream",
     "text": [
      "[False, False, True, True, True, False, False]\n"
     ]
    }
   ],
   "source": [
    "class Inequality(object):\n",
    "    def __init__(self, list_values):\n",
    "        self.list_values = list_values\n",
    "    def __lt__(self, compare):\n",
    "        return [val < compare for val in self.list_values]\n",
    "    def __gt__(self, compare):\n",
    "        return [val > compare for val in self.list_values]\n",
    "    \n",
    "## we can create a List where each element will be iterated from it as the variable 'val'\n",
    "val = Inequality([4, 5, 8, 77, 9, 6, 3])\n",
    "\n",
    "## Now we choose a number where we compare each number from the list above...which will be for the variable 'compare'\n",
    "compare = 7\n",
    "\n",
    "print(val > 7)"
   ]
  },
  {
   "cell_type": "code",
   "execution_count": 226,
   "metadata": {},
   "outputs": [
    {
     "name": "stdout",
     "output_type": "stream",
     "text": [
      "[True, True, True, True, True, True, True]\n"
     ]
    }
   ],
   "source": [
    "## Choosing TWO numbers 22 and 100...\n",
    "##Compare the TWO numbers with the whole list 'val'\n",
    "\n",
    "\n",
    "print(val > 22 < 100 > val)"
   ]
  },
  {
   "cell_type": "code",
   "execution_count": null,
   "metadata": {},
   "outputs": [],
   "source": []
  },
  {
   "cell_type": "code",
   "execution_count": 229,
   "metadata": {},
   "outputs": [
    {
     "name": "stdout",
     "output_type": "stream",
     "text": [
      "[True, True, True, False, True, True, True]\n"
     ]
    }
   ],
   "source": [
    "print(val > 5 < 10 > val)"
   ]
  },
  {
   "cell_type": "code",
   "execution_count": null,
   "metadata": {},
   "outputs": [],
   "source": []
  },
  {
   "cell_type": "code",
   "execution_count": null,
   "metadata": {},
   "outputs": [],
   "source": []
  },
  {
   "cell_type": "code",
   "execution_count": null,
   "metadata": {},
   "outputs": [],
   "source": []
  },
  {
   "cell_type": "markdown",
   "metadata": {},
   "source": [
    "Question 3. \n",
    "\n",
    "Create a function that replaces all the vowels in a string with a specified character.\n",
    "\n",
    "Examples\n",
    "\n",
    "\n",
    "replace_vowels(&quot;the aardvark&quot;, &quot;#&quot;) ➞ &quot;th# ##rdv#rk&quot;\n",
    "\n",
    "replace_vowels(&quot;minnie mouse&quot;, &quot;?&quot;) ➞ &quot;m?nn?? m??s?&quot;\n",
    "\n",
    "replace_vowels(&quot;shakespeare&quot;, &quot;*&quot;) ➞ &quot;sh * k * sp * * r * &quot;"
   ]
  },
  {
   "cell_type": "code",
   "execution_count": null,
   "metadata": {},
   "outputs": [],
   "source": []
  },
  {
   "cell_type": "code",
   "execution_count": 189,
   "metadata": {},
   "outputs": [],
   "source": [
    "def replace_vowels(special_char):\n",
    "    vowels_ = [\"a\", \"e\", \"i\", \"o\", \"u\"]\n",
    "    user_list = list(input(\"Enter Some string values: \"))\n",
    "    print(user_list)\n",
    "    indices_ = []\n",
    "\n",
    "    for i in range(len(vowels_)):\n",
    "        for j in range(len(user_list)):\n",
    "            if vowels_[i] == user_list[j]:\n",
    "                indices_.append((j))\n",
    "                \n",
    "    print(\"The indexes for vowels: \")\n",
    "    print(indices_)\n",
    "    replace_ = special_char * len(indices_)\n",
    "    \n",
    "    for i in range(len(indices_)):\n",
    "        user_list[indices_[i]] = replace_[i]\n",
    "    print(\"Replaced String: \", ''.join(user_list))\n"
   ]
  },
  {
   "cell_type": "code",
   "execution_count": 190,
   "metadata": {},
   "outputs": [
    {
     "name": "stdout",
     "output_type": "stream",
     "text": [
      "Enter Some string values: the aardvark\n",
      "['t', 'h', 'e', ' ', 'a', 'a', 'r', 'd', 'v', 'a', 'r', 'k']\n",
      "The indexes for vowels: \n",
      "[4, 5, 9, 2]\n",
      "Replaced String:  th# ##rdv#rk\n"
     ]
    }
   ],
   "source": [
    "replace_vowels(\"#\")"
   ]
  },
  {
   "cell_type": "code",
   "execution_count": null,
   "metadata": {},
   "outputs": [],
   "source": []
  },
  {
   "cell_type": "code",
   "execution_count": null,
   "metadata": {},
   "outputs": [],
   "source": []
  },
  {
   "cell_type": "code",
   "execution_count": null,
   "metadata": {},
   "outputs": [],
   "source": []
  },
  {
   "cell_type": "markdown",
   "metadata": {},
   "source": [
    "Question 4. \n",
    "\n",
    "Write a function that calculates the factorial of a number recursively.\n",
    "\n",
    "Examples\n",
    "\n",
    "factorial(5) ➞ 120\n",
    "\n",
    "factorial(3) ➞ 6\n",
    "\n",
    "factorial(1) ➞ 1\n",
    "\n",
    "factorial(0) ➞ 1"
   ]
  },
  {
   "cell_type": "code",
   "execution_count": 6,
   "metadata": {},
   "outputs": [
    {
     "name": "stdout",
     "output_type": "stream",
     "text": [
      "5\n",
      "120\n"
     ]
    }
   ],
   "source": [
    "def factorial_by_recursive(num):\n",
    "    if num < 0:\n",
    "        return \"Invalid\"\n",
    "    if (num == 0 or num ==1):\n",
    "        return 1\n",
    "    else:\n",
    "        return num * factorial_by_recursive(num - 1)\n",
    "    \n",
    "num = int(input())\n",
    "print(factorial_by_recursive(num))"
   ]
  },
  {
   "cell_type": "code",
   "execution_count": null,
   "metadata": {},
   "outputs": [],
   "source": []
  },
  {
   "cell_type": "code",
   "execution_count": null,
   "metadata": {},
   "outputs": [],
   "source": []
  },
  {
   "cell_type": "code",
   "execution_count": null,
   "metadata": {},
   "outputs": [],
   "source": []
  },
  {
   "cell_type": "markdown",
   "metadata": {},
   "source": [
    "Question 5.\n",
    "\n",
    "Hamming distance is the number of characters that differ between two strings.\n",
    "\n",
    "To illustrate:\n",
    "\n",
    "String1: &quot;abcbba&quot;\n",
    "\n",
    "String2: &quot;abcbda&quot;\n",
    "\n",
    "Hamming Distance: 1 - &quot;b&quot; vs. &quot;d&quot; is the only difference.\n",
    "\n",
    "Create a function that computes the hamming distance between two strings."
   ]
  },
  {
   "cell_type": "code",
   "execution_count": 64,
   "metadata": {},
   "outputs": [
    {
     "name": "stdout",
     "output_type": "stream",
     "text": [
      "abcde\n",
      "bcdef\n",
      "['a', 'b', 'c', 'd', 'e']\n",
      "['b', 'c', 'd', 'e', 'f']\n"
     ]
    },
    {
     "data": {
      "text/plain": [
       "('The Hamming Distance is ', 5)"
      ]
     },
     "execution_count": 64,
     "metadata": {},
     "output_type": "execute_result"
    }
   ],
   "source": [
    "def hamm_distance_2_lists():\n",
    "    string1 = input()\n",
    "    string2 = input()\n",
    "\n",
    "    char1 = [c for c in string1]\n",
    "    char2 = [d for d in string2]\n",
    "\n",
    "    print(char1)\n",
    "    print(char2)\n",
    "    hamming_count = 0\n",
    "\n",
    "    for count, elem in enumerate(char1):\n",
    "        if char1[count] != char2[count]:\n",
    "            hamming_count += 1\n",
    "    return \"The Hamming Distance is \", hamming_count\n",
    "\n",
    "hamm_distance_2_lists()"
   ]
  },
  {
   "cell_type": "code",
   "execution_count": null,
   "metadata": {},
   "outputs": [],
   "source": []
  },
  {
   "cell_type": "code",
   "execution_count": null,
   "metadata": {},
   "outputs": [],
   "source": []
  },
  {
   "cell_type": "code",
   "execution_count": 123,
   "metadata": {},
   "outputs": [
    {
     "name": "stdout",
     "output_type": "stream",
     "text": [
      "string\n",
      "strong\n"
     ]
    },
    {
     "data": {
      "text/plain": [
       "('Hamming Distance is ==> ', 1)"
      ]
     },
     "execution_count": 123,
     "metadata": {},
     "output_type": "execute_result"
    }
   ],
   "source": [
    "def hamming_distance():\n",
    "    word_1 = input()\n",
    "    word_2 = input()\n",
    "\n",
    "    index_ = 0\n",
    "    hamm_count = 0\n",
    "\n",
    "    while index_ < len(word_1):\n",
    "        if word_1[index_] != word_2[index_]:\n",
    "            hamm_count += 1\n",
    "        index_ += 1\n",
    "        \n",
    "    return \"Hamming Distance is ==> \", hamm_count\n",
    "\n",
    "hamming_distance()"
   ]
  },
  {
   "cell_type": "code",
   "execution_count": null,
   "metadata": {},
   "outputs": [],
   "source": []
  },
  {
   "cell_type": "code",
   "execution_count": null,
   "metadata": {},
   "outputs": [],
   "source": []
  },
  {
   "cell_type": "code",
   "execution_count": null,
   "metadata": {},
   "outputs": [],
   "source": []
  },
  {
   "cell_type": "code",
   "execution_count": null,
   "metadata": {},
   "outputs": [],
   "source": []
  },
  {
   "cell_type": "code",
   "execution_count": null,
   "metadata": {},
   "outputs": [],
   "source": []
  },
  {
   "cell_type": "code",
   "execution_count": null,
   "metadata": {},
   "outputs": [],
   "source": []
  },
  {
   "cell_type": "code",
   "execution_count": null,
   "metadata": {},
   "outputs": [],
   "source": []
  },
  {
   "cell_type": "code",
   "execution_count": null,
   "metadata": {},
   "outputs": [],
   "source": []
  },
  {
   "cell_type": "code",
   "execution_count": null,
   "metadata": {},
   "outputs": [],
   "source": []
  },
  {
   "cell_type": "code",
   "execution_count": null,
   "metadata": {},
   "outputs": [],
   "source": []
  },
  {
   "cell_type": "code",
   "execution_count": null,
   "metadata": {},
   "outputs": [],
   "source": []
  },
  {
   "cell_type": "code",
   "execution_count": null,
   "metadata": {},
   "outputs": [],
   "source": []
  },
  {
   "cell_type": "code",
   "execution_count": null,
   "metadata": {},
   "outputs": [],
   "source": []
  }
 ],
 "metadata": {
  "kernelspec": {
   "display_name": "Python 3",
   "language": "python",
   "name": "python3"
  },
  "language_info": {
   "codemirror_mode": {
    "name": "ipython",
    "version": 3
   },
   "file_extension": ".py",
   "mimetype": "text/x-python",
   "name": "python",
   "nbconvert_exporter": "python",
   "pygments_lexer": "ipython3",
   "version": "3.8.5"
  }
 },
 "nbformat": 4,
 "nbformat_minor": 4
}
