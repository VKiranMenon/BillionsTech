{
 "cells": [
  {
   "cell_type": "code",
   "execution_count": null,
   "metadata": {},
   "outputs": [],
   "source": []
  },
  {
   "cell_type": "markdown",
   "metadata": {},
   "source": [
    "Question 1\n",
    "\n",
    "Write a function to compute 5/0 and use try/except to catch the exceptions."
   ]
  },
  {
   "cell_type": "code",
   "execution_count": 8,
   "metadata": {},
   "outputs": [
    {
     "name": "stdout",
     "output_type": "stream",
     "text": [
      "This form of calculation is invalid !!  division by zero\n",
      "'Finally' part gets executed regardless. \n"
     ]
    }
   ],
   "source": [
    "\n",
    "def compute_handling(a, b):  ## Random values to be placed in a and b\n",
    "\n",
    "    try:\n",
    "        print(int(a/b))              ## Try Block which will have the value of 'a' that is divided by 'b'\n",
    "        print(\"The entered value is Valid for division\\n Value: \", a/b)\n",
    "        \n",
    "        \n",
    "    ## Exception Handling if the 'try' block fails to execute the program falls into exception handling block    \n",
    "    except Exception as e:\n",
    "        print(\"This form of calculation is invalid !! \", e) ## Print this message instead of terminating the program itself.\n",
    "        \n",
    "    finally:\n",
    "        print(\"'Finally' part gets executed regardless. \")  ## This is executed regardless.\n",
    "    return \n",
    "        \n",
    "\n",
    "compute_handling(5, 0)"
   ]
  },
  {
   "cell_type": "code",
   "execution_count": null,
   "metadata": {},
   "outputs": [],
   "source": []
  },
  {
   "cell_type": "markdown",
   "metadata": {},
   "source": [
    "Question number 2\n",
    "\n",
    "Implement a Python program to generate all sentences where subject is in [\"Americans\", \"Indians\"] and verb is in [\"Play\", \"watch\"] and the object is in\n",
    "[\"Baseball\",\"cricket\"].  Hint: Subject,Verb and Object should be declared in the program as shown below.  subjects=[\"Americans \",\"Indians\"] verbs[\"play\",\"watch\"] objects=[\"Baseball\",\"Cricket\"]\n",
    "\n",
    "Output should come as below:\n",
    "\n",
    "Americans play Baseball.\n",
    "\n",
    "Americans play Cricket.\n",
    "\n",
    "Americans watch Baseball.\n",
    "\n",
    "Americans watch Cricket.\n",
    "\n",
    "Indians play Baseball.\n",
    "\n",
    "Indians play Cricket.\n",
    "\n",
    "Indians watch Baseball.\n",
    "\n",
    "Indians watch Cricket."
   ]
  },
  {
   "cell_type": "code",
   "execution_count": 39,
   "metadata": {},
   "outputs": [
    {
     "name": "stdout",
     "output_type": "stream",
     "text": [
      "Americans play Baseball\n",
      "Americans play Cricket\n",
      "Americans watch Baseball\n",
      "Americans watch Cricket\n",
      "Indians play Baseball\n",
      "Indians play Cricket\n",
      "Indians watch Baseball\n",
      "Indians watch Cricket\n"
     ]
    }
   ],
   "source": [
    "import itertools  ## imported libraries itertools\n",
    "\n",
    "s = [[\"Americans\", \"Indians\"], [\"play\", \"watch\"], [\"Baseball\", \"Cricket\"]]\n",
    "\n",
    "## Using itertools.product is used to iterate between the 2 lists instead of using FOR Loop\n",
    "## What it does is gives the product of all the elements which are iterable\n",
    "## in short each element in its index is iterated from all the 3 lists\n",
    "## That is from 0 from List 1, 0 from List 2 and 0 from List 3 is iterated together\n",
    "\n",
    "## Cartesian Product means imagine a 3 * 3 matrix, where X, Y and Z is vertical and 1, 2 and 3 is horizontal\n",
    "## What cartesian product is to match where the 1st LOOP is X1, X2, X3 and then another  LOOP is Y1, Y2, Y3\n",
    "\n",
    "## So instead of using 3 For Loops itertools.product(*iterables), where *iterables is all the 3 lists we have\n",
    "for l in (itertools.product(*s)):   \n",
    "    print(' '.join(l))\n",
    "    \n"
   ]
  },
  {
   "cell_type": "code",
   "execution_count": null,
   "metadata": {},
   "outputs": [],
   "source": []
  },
  {
   "cell_type": "code",
   "execution_count": 218,
   "metadata": {},
   "outputs": [
    {
     "name": "stdout",
     "output_type": "stream",
     "text": [
      "Americans play Baseball Americans play Cricket Americans watch Baseball Americans watch Cricket Americans enjoy Baseball Americans enjoy Cricket Indians play Baseball Indians play Cricket Indians watch Baseball Indians watch Cricket Indians enjoy Baseball Indians enjoy Cricket\n"
     ]
    }
   ],
   "source": [
    "\n",
    "subjects = [\"Americans\", \"Indians\"] \n",
    "verb = [\"play\", \"watch\", \"enjoy\"] \n",
    "objects = [\"Baseball\", \"Cricket\"] \n",
    "\n",
    "\n",
    "# using list comprehension \n",
    "## 3 For Loops can be used which are nested below each other\n",
    "## So using list comprehension that will enable 3 for loops for the 3 lists.\n",
    "\n",
    "res = [[i,j,k] for i in subjects for j in verb for k in objects]\n",
    "\n",
    "## Converting List to String \n",
    "str_res = str(res)                                                 \n",
    "\n",
    "## to take all the commas, quotation and square brackets.\n",
    "remv = str_res.replace(',','').replace('[', '').replace(']','').replace(\"'\", \"\")\n",
    "\n",
    "print(remv)\n",
    "\n"
   ]
  },
  {
   "cell_type": "code",
   "execution_count": null,
   "metadata": {},
   "outputs": [],
   "source": []
  },
  {
   "cell_type": "code",
   "execution_count": 174,
   "metadata": {},
   "outputs": [
    {
     "name": "stdout",
     "output_type": "stream",
     "text": [
      "Americans play Baseball\n",
      "Americans play Cricket\n",
      "Americans watch Baseball\n",
      "Americans watch Cricket\n",
      "Indians play Baseball\n",
      "Indians play Cricket\n",
      "Indians watch Baseball\n",
      "Indians watch Cricket\n"
     ]
    }
   ],
   "source": [
    "subjects = [\"Americans\", \"Indians\"] \n",
    "verb = [\"play\", \"watch\"] \n",
    "objects = [\"Baseball\", \"Cricket\"] \n",
    "\n",
    "\n",
    "# using similar to the ones above but instead using this technique where each element is seperated by a space\n",
    "res = [i + \" \" +  j + \" \" + k for i in subjects for j in verb for k in objects ] \n",
    "\n",
    "\n",
    "## Iterating the list removes all the quotations, commas and square brackets and prints them one by one after iterating\n",
    "for i in res:\n",
    "    print(i)"
   ]
  },
  {
   "cell_type": "code",
   "execution_count": null,
   "metadata": {},
   "outputs": [],
   "source": []
  },
  {
   "cell_type": "code",
   "execution_count": null,
   "metadata": {},
   "outputs": [],
   "source": []
  },
  {
   "cell_type": "code",
   "execution_count": null,
   "metadata": {},
   "outputs": [],
   "source": []
  },
  {
   "cell_type": "code",
   "execution_count": null,
   "metadata": {},
   "outputs": [],
   "source": []
  },
  {
   "cell_type": "code",
   "execution_count": null,
   "metadata": {},
   "outputs": [],
   "source": []
  },
  {
   "cell_type": "code",
   "execution_count": null,
   "metadata": {},
   "outputs": [],
   "source": []
  },
  {
   "cell_type": "code",
   "execution_count": null,
   "metadata": {},
   "outputs": [],
   "source": []
  },
  {
   "cell_type": "code",
   "execution_count": null,
   "metadata": {},
   "outputs": [],
   "source": []
  },
  {
   "cell_type": "code",
   "execution_count": 21,
   "metadata": {},
   "outputs": [],
   "source": []
  },
  {
   "cell_type": "code",
   "execution_count": null,
   "metadata": {},
   "outputs": [],
   "source": []
  }
 ],
 "metadata": {
  "kernelspec": {
   "display_name": "Python 3",
   "language": "python",
   "name": "python3"
  },
  "language_info": {
   "codemirror_mode": {
    "name": "ipython",
    "version": 3
   },
   "file_extension": ".py",
   "mimetype": "text/x-python",
   "name": "python",
   "nbconvert_exporter": "python",
   "pygments_lexer": "ipython3",
   "version": "3.8.5"
  }
 },
 "nbformat": 4,
 "nbformat_minor": 4
}
