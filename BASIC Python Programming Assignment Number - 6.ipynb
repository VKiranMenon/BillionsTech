{
 "cells": [
  {
   "cell_type": "markdown",
   "metadata": {},
   "source": [
    "Question 1. \n",
    "\n",
    "Write a Python Program to Display Fibonacci Sequence Using Recursion?"
   ]
  },
  {
   "cell_type": "code",
   "execution_count": 3,
   "metadata": {},
   "outputs": [],
   "source": [
    "## Method 1\n",
    "\n",
    "def genFibSeq(fib_term):\n",
    "    \n",
    "    if fib_term < 0:\n",
    "        return \"Incorrect Input. Only Positive Whole Number. \"\n",
    "    \n",
    "    if type(fib_term) == float or type(fib_term) == str:\n",
    "        return \"Data Type has to be an Integer (int) \"\n",
    "    \n",
    "    elif fib_term <= 0:\n",
    "        return fib_term\n",
    "    \n",
    "    elif fib_term == 1:\n",
    "        return fib_term\n",
    "    \n",
    "    else:\n",
    "        return (genFibSeq(fib_term - 1) + genFibSeq(fib_term - 2))\n",
    "    "
   ]
  },
  {
   "cell_type": "code",
   "execution_count": 62,
   "metadata": {},
   "outputs": [
    {
     "data": {
      "text/plain": [
       "34"
      ]
     },
     "execution_count": 62,
     "metadata": {},
     "output_type": "execute_result"
    }
   ],
   "source": [
    "genFibSeq(9)"
   ]
  },
  {
   "cell_type": "code",
   "execution_count": null,
   "metadata": {},
   "outputs": [],
   "source": []
  },
  {
   "cell_type": "code",
   "execution_count": 13,
   "metadata": {},
   "outputs": [],
   "source": [
    "## Method 2\n",
    "\n",
    "def genfib2(term):\n",
    "    \n",
    "    output = []\n",
    "    a = 1\n",
    "    b = 1\n",
    "    for i in range(term):\n",
    "        output.append(a)\n",
    "        a, b = b, a + b\n",
    "    \n",
    "    return output\n",
    "    \n",
    "    "
   ]
  },
  {
   "cell_type": "code",
   "execution_count": 14,
   "metadata": {},
   "outputs": [
    {
     "data": {
      "text/plain": [
       "[1, 1, 2, 3, 5, 8, 13, 21, 34]"
      ]
     },
     "execution_count": 14,
     "metadata": {},
     "output_type": "execute_result"
    }
   ],
   "source": [
    "genfib2(9)"
   ]
  },
  {
   "cell_type": "code",
   "execution_count": null,
   "metadata": {},
   "outputs": [],
   "source": []
  },
  {
   "cell_type": "code",
   "execution_count": null,
   "metadata": {},
   "outputs": [],
   "source": []
  },
  {
   "cell_type": "code",
   "execution_count": null,
   "metadata": {},
   "outputs": [],
   "source": []
  },
  {
   "cell_type": "markdown",
   "metadata": {},
   "source": [
    "Question 2.\n",
    "\n",
    "Write a Python Program to Find Factorial of Number Using Recursion?"
   ]
  },
  {
   "cell_type": "code",
   "execution_count": 60,
   "metadata": {},
   "outputs": [],
   "source": []
  },
  {
   "cell_type": "code",
   "execution_count": 77,
   "metadata": {},
   "outputs": [],
   "source": [
    "## Method 1\n",
    "\n",
    "\n",
    "def genfact(num):\n",
    "    \n",
    "    if num < 0:\n",
    "        return \"Invalid Entry. \"\n",
    "    \n",
    "    elif num == 0 or num == 1:\n",
    "        return num\n",
    "         \n",
    "    elif type(num) == str:\n",
    "        return \"Only int or float values. \"\n",
    "    \n",
    "    else:\n",
    "        factorial = 1\n",
    "        \n",
    "        while num > 1: ## num = 5\n",
    "            \n",
    "            factorial = factorial * num\n",
    "            num = num - 1\n",
    "            \n",
    "        return factorial\n",
    "    "
   ]
  },
  {
   "cell_type": "code",
   "execution_count": 79,
   "metadata": {},
   "outputs": [
    {
     "data": {
      "text/plain": [
       "5040"
      ]
     },
     "execution_count": 79,
     "metadata": {},
     "output_type": "execute_result"
    }
   ],
   "source": [
    "genfact(7)"
   ]
  },
  {
   "cell_type": "code",
   "execution_count": null,
   "metadata": {},
   "outputs": [],
   "source": []
  },
  {
   "cell_type": "code",
   "execution_count": 161,
   "metadata": {},
   "outputs": [],
   "source": [
    "## Method 2\n",
    "\n",
    "\n",
    "def genfact2(num):\n",
    "    \n",
    "    fact = 1\n",
    "    for i in range(1, num + 1):\n",
    "        fact = fact * i\n",
    "    return fact"
   ]
  },
  {
   "cell_type": "code",
   "execution_count": 162,
   "metadata": {},
   "outputs": [
    {
     "data": {
      "text/plain": [
       "5040"
      ]
     },
     "execution_count": 162,
     "metadata": {},
     "output_type": "execute_result"
    }
   ],
   "source": [
    "genfact2(7)"
   ]
  },
  {
   "cell_type": "code",
   "execution_count": null,
   "metadata": {},
   "outputs": [],
   "source": []
  },
  {
   "cell_type": "code",
   "execution_count": null,
   "metadata": {},
   "outputs": [],
   "source": []
  },
  {
   "cell_type": "code",
   "execution_count": null,
   "metadata": {},
   "outputs": [],
   "source": []
  },
  {
   "cell_type": "markdown",
   "metadata": {},
   "source": [
    "Question 3.\n",
    "\n",
    "Write a Python Program to calculate your Body Mass Index?"
   ]
  },
  {
   "cell_type": "code",
   "execution_count": null,
   "metadata": {},
   "outputs": [],
   "source": []
  },
  {
   "cell_type": "code",
   "execution_count": 98,
   "metadata": {},
   "outputs": [],
   "source": [
    "def bmi():\n",
    "    \n",
    "    body_weight = float(input(\"Enter the body weight in Kgs.: \"))\n",
    "    \n",
    "    body_height = float(input(\"Enter the body height in Meters: \"))\n",
    "    \n",
    "    BMI = (body_weight/(body_height ** 2))\n",
    "    \n",
    "    if BMI < 18.5:\n",
    "        return \"Status is Underweight.\", \"BMI is at: \", BMI\n",
    "    \n",
    "    elif BMI >= 18.5 or BMI <= 24.9:\n",
    "        return \"Status is Healthy.\", \"BMI is at: \", BMI\n",
    "    \n",
    "    elif BMI >= 25 or BMI <= 29.9:\n",
    "        return \"Status is Overweight.\", \"BMI is at: \", BMI\n",
    "    \n",
    "    else:\n",
    "        BMI > 30\n",
    "        return \"Status is Obese. \", \"BMI is at: \", BMI\n",
    "    \n",
    "    return BMI"
   ]
  },
  {
   "cell_type": "code",
   "execution_count": 99,
   "metadata": {},
   "outputs": [
    {
     "name": "stdout",
     "output_type": "stream",
     "text": [
      "Enter the body weight: 80\n",
      "Enter the body height: 1.8\n"
     ]
    },
    {
     "data": {
      "text/plain": [
       "('Status is Healthy.', 'BMI is at: ', 24.691358024691358)"
      ]
     },
     "execution_count": 99,
     "metadata": {},
     "output_type": "execute_result"
    }
   ],
   "source": [
    "bmi()"
   ]
  },
  {
   "cell_type": "code",
   "execution_count": null,
   "metadata": {},
   "outputs": [],
   "source": []
  },
  {
   "cell_type": "code",
   "execution_count": null,
   "metadata": {},
   "outputs": [],
   "source": []
  },
  {
   "cell_type": "code",
   "execution_count": null,
   "metadata": {},
   "outputs": [],
   "source": []
  },
  {
   "cell_type": "markdown",
   "metadata": {},
   "source": [
    "Question 4. \n",
    "\n",
    "Write a Python Program to calculate the natural logarithm of any number?"
   ]
  },
  {
   "cell_type": "code",
   "execution_count": 123,
   "metadata": {},
   "outputs": [
    {
     "name": "stdout",
     "output_type": "stream",
     "text": [
      "Enter any number. 78\n",
      "Natural log of 78.0 : 4.356708826689592\n"
     ]
    }
   ],
   "source": [
    "import numpy as np\n",
    "\n",
    "\n",
    "try:\n",
    "    input_number = float(input(\"Enter any number. \"))\n",
    "    while input_number > 1:\n",
    "        natural_log = np.log(input_number)\n",
    "        print(\"Natural log of\", input_number, \":\", natural_log)\n",
    "        break\n",
    "    else:\n",
    "        print (\"Natural Logarithm of a Negative Number is Undefined.\")\n",
    "    \n",
    "except Exception  as e:\n",
    "    print (\"Invalid Input \", e)\n",
    "\n"
   ]
  },
  {
   "cell_type": "code",
   "execution_count": null,
   "metadata": {},
   "outputs": [],
   "source": []
  },
  {
   "cell_type": "code",
   "execution_count": null,
   "metadata": {},
   "outputs": [],
   "source": []
  },
  {
   "cell_type": "code",
   "execution_count": null,
   "metadata": {},
   "outputs": [],
   "source": []
  },
  {
   "cell_type": "markdown",
   "metadata": {},
   "source": [
    "Question 5. \n",
    "\n",
    "Write a Python Program for cube sum of first n natural numbers?"
   ]
  },
  {
   "cell_type": "code",
   "execution_count": null,
   "metadata": {},
   "outputs": [],
   "source": []
  },
  {
   "cell_type": "code",
   "execution_count": 170,
   "metadata": {},
   "outputs": [],
   "source": [
    "## Method 1\n",
    "def cubeOfnatNum(natNum):\n",
    "    sum1 = 0\n",
    "    for i in range (1, natNum+1):\n",
    "        sum1 = sum1 + (i*i*i)\n",
    "    return sum1\n",
    "    "
   ]
  },
  {
   "cell_type": "code",
   "execution_count": 171,
   "metadata": {},
   "outputs": [
    {
     "data": {
      "text/plain": [
       "225"
      ]
     },
     "execution_count": 171,
     "metadata": {},
     "output_type": "execute_result"
    }
   ],
   "source": [
    "cubeOfnatNum(5)"
   ]
  },
  {
   "cell_type": "code",
   "execution_count": 172,
   "metadata": {},
   "outputs": [],
   "source": [
    "## Method 2\n",
    "\n",
    "def gen_sum(num):\n",
    "    \n",
    "    add_sum = 0\n",
    "    while num >= 1:\n",
    "        add_sum = add_sum + (num**3)\n",
    "        num = num - 1\n",
    "        \n",
    "    return add_sum"
   ]
  },
  {
   "cell_type": "code",
   "execution_count": 174,
   "metadata": {},
   "outputs": [
    {
     "data": {
      "text/plain": [
       "225"
      ]
     },
     "execution_count": 174,
     "metadata": {},
     "output_type": "execute_result"
    }
   ],
   "source": [
    "gen_sum(5)"
   ]
  },
  {
   "cell_type": "code",
   "execution_count": null,
   "metadata": {},
   "outputs": [],
   "source": []
  },
  {
   "cell_type": "code",
   "execution_count": null,
   "metadata": {},
   "outputs": [],
   "source": []
  },
  {
   "cell_type": "code",
   "execution_count": null,
   "metadata": {},
   "outputs": [],
   "source": []
  },
  {
   "cell_type": "code",
   "execution_count": null,
   "metadata": {},
   "outputs": [],
   "source": []
  }
 ],
 "metadata": {
  "kernelspec": {
   "display_name": "Python 3",
   "language": "python",
   "name": "python3"
  },
  "language_info": {
   "codemirror_mode": {
    "name": "ipython",
    "version": 3
   },
   "file_extension": ".py",
   "mimetype": "text/x-python",
   "name": "python",
   "nbconvert_exporter": "python",
   "pygments_lexer": "ipython3",
   "version": "3.8.5"
  }
 },
 "nbformat": 4,
 "nbformat_minor": 4
}
