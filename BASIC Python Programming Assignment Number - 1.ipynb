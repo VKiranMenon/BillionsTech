{
 "cells": [
  {
   "cell_type": "markdown",
   "metadata": {},
   "source": [
    "Question 1. \n",
    "\n",
    "Write a Python program to print \"Hello Python\"?\n"
   ]
  },
  {
   "cell_type": "code",
   "execution_count": 3,
   "metadata": {},
   "outputs": [
    {
     "name": "stdout",
     "output_type": "stream",
     "text": [
      "Hello Python\n"
     ]
    }
   ],
   "source": [
    "## Method 1\n",
    "\n",
    "## Create 2 variables with 'Hello' and 'Python'\n",
    "\n",
    "a = \"Hello\"\n",
    "\n",
    "b = \"Python\"\n",
    "\n",
    "print(a  + \" \" + b)"
   ]
  },
  {
   "cell_type": "code",
   "execution_count": 6,
   "metadata": {},
   "outputs": [
    {
     "name": "stdout",
     "output_type": "stream",
     "text": [
      "Hello Python\n"
     ]
    }
   ],
   "source": [
    "## Method 2\n",
    "\n",
    "## Simply print Hello Python\n",
    "\n",
    "print (\"Hello\"  + \" \" + \"Python\")"
   ]
  },
  {
   "cell_type": "code",
   "execution_count": null,
   "metadata": {},
   "outputs": [],
   "source": []
  },
  {
   "cell_type": "code",
   "execution_count": null,
   "metadata": {},
   "outputs": [],
   "source": []
  },
  {
   "cell_type": "code",
   "execution_count": null,
   "metadata": {},
   "outputs": [],
   "source": []
  },
  {
   "cell_type": "markdown",
   "metadata": {},
   "source": [
    "Question 2. \n",
    "\n",
    "Write a Python program to do arithmetical operations addition and division.?\n"
   ]
  },
  {
   "cell_type": "markdown",
   "metadata": {},
   "source": [
    "Addition operation"
   ]
  },
  {
   "cell_type": "code",
   "execution_count": 7,
   "metadata": {},
   "outputs": [
    {
     "data": {
      "text/plain": [
       "5"
      ]
     },
     "execution_count": 7,
     "metadata": {},
     "output_type": "execute_result"
    }
   ],
   "source": [
    "## Python program to perform addition operation between 2 operands\n",
    "\n",
    "2 + 3"
   ]
  },
  {
   "cell_type": "code",
   "execution_count": 8,
   "metadata": {},
   "outputs": [
    {
     "data": {
      "text/plain": [
       "'Data Science'"
      ]
     },
     "execution_count": 8,
     "metadata": {},
     "output_type": "execute_result"
    }
   ],
   "source": [
    "## Try using string values\n",
    "\n",
    "\"Data\" + \" \" + \"Science\""
   ]
  },
  {
   "cell_type": "code",
   "execution_count": 9,
   "metadata": {},
   "outputs": [
    {
     "data": {
      "text/plain": [
       "83.5779"
      ]
     },
     "execution_count": 9,
     "metadata": {},
     "output_type": "execute_result"
    }
   ],
   "source": [
    "## Try using float-point number\n",
    "\n",
    "78.99 + 4.5879"
   ]
  },
  {
   "cell_type": "code",
   "execution_count": 10,
   "metadata": {},
   "outputs": [
    {
     "data": {
      "text/plain": [
       "(11+13j)"
      ]
     },
     "execution_count": 10,
     "metadata": {},
     "output_type": "execute_result"
    }
   ],
   "source": [
    "## Test using complex numbers\n",
    "\n",
    "a = 8 + 5j\n",
    "\n",
    "b = 3 + 8j\n",
    "\n",
    "a + b"
   ]
  },
  {
   "cell_type": "code",
   "execution_count": null,
   "metadata": {},
   "outputs": [],
   "source": []
  },
  {
   "cell_type": "markdown",
   "metadata": {},
   "source": [
    "Division Operation"
   ]
  },
  {
   "cell_type": "code",
   "execution_count": 15,
   "metadata": {},
   "outputs": [
    {
     "data": {
      "text/plain": [
       "5.0"
      ]
     },
     "execution_count": 15,
     "metadata": {},
     "output_type": "execute_result"
    }
   ],
   "source": [
    "## Method 1\n",
    "\n",
    "25/5"
   ]
  },
  {
   "cell_type": "code",
   "execution_count": 16,
   "metadata": {},
   "outputs": [
    {
     "data": {
      "text/plain": [
       "15.79599576644911"
      ]
     },
     "execution_count": 16,
     "metadata": {},
     "output_type": "execute_result"
    }
   ],
   "source": [
    "## Test using float numbers\n",
    "\n",
    "89.5475/5.669"
   ]
  },
  {
   "cell_type": "code",
   "execution_count": null,
   "metadata": {},
   "outputs": [],
   "source": []
  },
  {
   "cell_type": "code",
   "execution_count": 17,
   "metadata": {},
   "outputs": [
    {
     "data": {
      "text/plain": [
       "(1.4153846153846155+0.476923076923077j)"
      ]
     },
     "execution_count": 17,
     "metadata": {},
     "output_type": "execute_result"
    }
   ],
   "source": [
    "## test using complex numbers\n",
    "\n",
    "(8+9j) / (7+4j)"
   ]
  },
  {
   "cell_type": "code",
   "execution_count": 18,
   "metadata": {},
   "outputs": [
    {
     "ename": "TypeError",
     "evalue": "unsupported operand type(s) for /: 'str' and 'str'",
     "output_type": "error",
     "traceback": [
      "\u001b[1;31m---------------------------------------------------------------------------\u001b[0m",
      "\u001b[1;31mTypeError\u001b[0m                                 Traceback (most recent call last)",
      "\u001b[1;32m<ipython-input-18-856190b58c63>\u001b[0m in \u001b[0;36m<module>\u001b[1;34m\u001b[0m\n\u001b[0;32m      1\u001b[0m \u001b[1;31m## Divison will not work on String Values\u001b[0m\u001b[1;33m\u001b[0m\u001b[1;33m\u001b[0m\u001b[1;33m\u001b[0m\u001b[0m\n\u001b[0;32m      2\u001b[0m \u001b[1;33m\u001b[0m\u001b[0m\n\u001b[1;32m----> 3\u001b[1;33m \u001b[1;34m\"Data\"\u001b[0m \u001b[1;33m/\u001b[0m \u001b[1;34m\"Science\"\u001b[0m\u001b[1;33m\u001b[0m\u001b[1;33m\u001b[0m\u001b[0m\n\u001b[0m",
      "\u001b[1;31mTypeError\u001b[0m: unsupported operand type(s) for /: 'str' and 'str'"
     ]
    }
   ],
   "source": [
    "## Divison will not work on String Values\n",
    "\n",
    "\"Data\" / \"Science\""
   ]
  },
  {
   "cell_type": "markdown",
   "metadata": {},
   "source": [
    "In conclusion \n",
    "\n",
    "Addition operator works for all types of Data Types, even for Complex Numbers.\n",
    "\n",
    "Divison operator works on All types of Data Types..EXCEPT for String Data Types."
   ]
  },
  {
   "cell_type": "code",
   "execution_count": null,
   "metadata": {},
   "outputs": [],
   "source": []
  },
  {
   "cell_type": "code",
   "execution_count": null,
   "metadata": {},
   "outputs": [],
   "source": []
  },
  {
   "cell_type": "code",
   "execution_count": null,
   "metadata": {},
   "outputs": [],
   "source": []
  },
  {
   "cell_type": "markdown",
   "metadata": {},
   "source": [
    "Question 3. \n",
    "\n",
    "Write a Python program to find the area of a triangle?\n"
   ]
  },
  {
   "cell_type": "markdown",
   "metadata": {},
   "source": [
    "The formula to calculate the Area of a Triangle is\n",
    "\n",
    "1/2 * Base * Height\n",
    "\n",
    "We assume this formula because we assume we know the Base and Altitude(Height) of the triangle.|\n",
    "\n",
    "Note: Assuming that we know the height of the Triangle. In other words, the Altitude must be corresponding to the base of the triangle, as its perpendicular from its selected Base, which is usually the opposite vertex."
   ]
  },
  {
   "cell_type": "code",
   "execution_count": 23,
   "metadata": {},
   "outputs": [
    {
     "name": "stdout",
     "output_type": "stream",
     "text": [
      "Enter the height of the Triangle (in cms): 45\n",
      "Enter the base of the Triangle (in cms): 77\n",
      "\n",
      "The total Area of the Triangle is:  1732.5 cms.\n"
     ]
    }
   ],
   "source": [
    "## Create 2 variables\n",
    "\n",
    "Height_Tri = int(input(\"Enter the height of the Triangle (in cms): \" ))\n",
    "\n",
    "Base_tri = int(input(\"Enter the base of the Triangle (in cms): \"))\n",
    "\n",
    "Area_tri = (Height_Tri * Base_tri) / 2\n",
    "\n",
    "print(\"\\nThe total Area of the Triangle is: \", Area_tri, \"cms.\")"
   ]
  },
  {
   "cell_type": "code",
   "execution_count": null,
   "metadata": {},
   "outputs": [],
   "source": []
  },
  {
   "cell_type": "code",
   "execution_count": null,
   "metadata": {},
   "outputs": [],
   "source": []
  },
  {
   "cell_type": "code",
   "execution_count": null,
   "metadata": {},
   "outputs": [],
   "source": []
  },
  {
   "cell_type": "markdown",
   "metadata": {},
   "source": [
    "Question 4. \n",
    "\n",
    "Write a Python program to swap two variables?\n"
   ]
  },
  {
   "cell_type": "code",
   "execution_count": 42,
   "metadata": {},
   "outputs": [],
   "source": [
    "## Method 1\n",
    "\n",
    "## Create 2 variables\n",
    "\n",
    "a = 1\n",
    "\n",
    "b = 2\n",
    "\n"
   ]
  },
  {
   "cell_type": "code",
   "execution_count": 49,
   "metadata": {},
   "outputs": [],
   "source": [
    "## create a variable 'temp'\n",
    "\n",
    "temp = a ## switch value to the variable\n",
    "\n",
    "a = b   ## Switch the value of 'b' to 'a'\n",
    "\n",
    "b = temp  ## Now the 3rd variable has same value as 'a' we switch it to the 'temp' variable (which is the same as variable 'a')"
   ]
  },
  {
   "cell_type": "code",
   "execution_count": 44,
   "metadata": {},
   "outputs": [
    {
     "data": {
      "text/plain": [
       "2"
      ]
     },
     "execution_count": 44,
     "metadata": {},
     "output_type": "execute_result"
    }
   ],
   "source": [
    "a"
   ]
  },
  {
   "cell_type": "code",
   "execution_count": 45,
   "metadata": {},
   "outputs": [
    {
     "data": {
      "text/plain": [
       "1"
      ]
     },
     "execution_count": 45,
     "metadata": {},
     "output_type": "execute_result"
    }
   ],
   "source": [
    "b"
   ]
  },
  {
   "cell_type": "code",
   "execution_count": null,
   "metadata": {},
   "outputs": [],
   "source": []
  },
  {
   "cell_type": "code",
   "execution_count": 46,
   "metadata": {},
   "outputs": [],
   "source": [
    "## Method 2\n",
    "## The 2 variables created can be switched using the \"COMMA Operator\"\n",
    "\n",
    "a, b = b, a\n"
   ]
  },
  {
   "cell_type": "code",
   "execution_count": 47,
   "metadata": {},
   "outputs": [
    {
     "data": {
      "text/plain": [
       "1"
      ]
     },
     "execution_count": 47,
     "metadata": {},
     "output_type": "execute_result"
    }
   ],
   "source": [
    "a"
   ]
  },
  {
   "cell_type": "code",
   "execution_count": 48,
   "metadata": {},
   "outputs": [
    {
     "data": {
      "text/plain": [
       "2"
      ]
     },
     "execution_count": 48,
     "metadata": {},
     "output_type": "execute_result"
    }
   ],
   "source": [
    "b"
   ]
  },
  {
   "cell_type": "code",
   "execution_count": null,
   "metadata": {},
   "outputs": [],
   "source": []
  },
  {
   "cell_type": "code",
   "execution_count": 53,
   "metadata": {},
   "outputs": [],
   "source": [
    "## Method 3\n",
    "\n",
    "## Using the '+' addition  and '-' subtraction operator\n",
    "\n",
    "## Create 2 variables\n",
    "\n",
    "x = 20\n",
    "\n",
    "y = 30\n",
    "\n",
    "\n",
    "## Step 1  x + y\n",
    "\n",
    "## We have combined the value of x and y and now in order to switch we can minus the combined value and switch them to either variable.\n",
    "\n",
    "x = x + y   ## By adding gives us the entire sum of x and y\n",
    "\n",
    "\n",
    "\n",
    "\n",
    "## Step 2   \n",
    "\n",
    "y = x - y  ## We minus the new value of x with current value of y....so as the combined value of x if we take-out the 'y' what remains is value of x\n",
    "\n",
    "           ## Which we switched it to y\n",
    "    \n",
    "    \n",
    "\n",
    "## Step 3\n",
    "\n",
    "x = x - y   ## Now the new value of 'y' was the new value of 'x', as the previous value of 'y' was minus giving us the difference which was x.\n",
    "\n",
    "            ## Now remainder of COMBINED VALUE is now deducted with NEW VALUE of 'y'"
   ]
  },
  {
   "cell_type": "code",
   "execution_count": 54,
   "metadata": {},
   "outputs": [
    {
     "name": "stdout",
     "output_type": "stream",
     "text": [
      "30\n",
      "20\n"
     ]
    }
   ],
   "source": [
    "print(x)\n",
    "\n",
    "print(y)"
   ]
  },
  {
   "cell_type": "code",
   "execution_count": null,
   "metadata": {},
   "outputs": [],
   "source": []
  },
  {
   "cell_type": "code",
   "execution_count": null,
   "metadata": {},
   "outputs": [],
   "source": []
  },
  {
   "cell_type": "code",
   "execution_count": null,
   "metadata": {},
   "outputs": [],
   "source": []
  },
  {
   "cell_type": "markdown",
   "metadata": {},
   "source": [
    "Question 5. \n",
    "\n",
    "Write a Python program to generate a random number?"
   ]
  },
  {
   "cell_type": "code",
   "execution_count": 69,
   "metadata": {},
   "outputs": [
    {
     "name": "stdout",
     "output_type": "stream",
     "text": [
      "[2, 12, 14, 30, 29]\n"
     ]
    }
   ],
   "source": [
    "## Method 1\n",
    "\n",
    "## Using the random generator\n",
    "\n",
    "import random\n",
    "\n",
    "## Create a list to contain all the numbers to be generated\n",
    "\n",
    "randomlst = []\n",
    "\n",
    "## Generate the number of random numbers required\n",
    "\n",
    "for i in range(0, 5):\n",
    "    n = random.randint(1, 30)\n",
    "    randomlst.append(n)\n",
    "    \n",
    "print(randomlst)"
   ]
  },
  {
   "cell_type": "code",
   "execution_count": null,
   "metadata": {},
   "outputs": [],
   "source": []
  },
  {
   "cell_type": "code",
   "execution_count": null,
   "metadata": {},
   "outputs": [],
   "source": [
    "## Method 2\n",
    "\n",
    "import random\n",
    "\n",
    "## Create an empty list to append all the random numbers generated\n",
    "\n",
    "number = []\n",
    "\n",
    "## Number of numbers generated that are random will be 4 (0 to 5)\n",
    "## For loop that will produce range of numbers required to be generated\n",
    "\n",
    "for i in range(0, 5):   \n",
    "    \n",
    "## After FOR loop is satisfied it jumps to this part where the empty list is appended with random numbers                                           \n",
    "## random.randint will generate 5 such numbers in the range of 0 to 30\n",
    "\n",
    "    number.append(random.randint(0, 30))  \n",
    "print(number)"
   ]
  },
  {
   "cell_type": "code",
   "execution_count": null,
   "metadata": {},
   "outputs": [],
   "source": []
  },
  {
   "cell_type": "code",
   "execution_count": 161,
   "metadata": {},
   "outputs": [
    {
     "name": "stdout",
     "output_type": "stream",
     "text": [
      "19\n",
      "{'8', '10', '17', '13', '12', '14', '3', '5', '11', '7', '2', '6', '15', '16', '18', '4', '19', '1', '9'}\n"
     ]
    }
   ],
   "source": [
    "## Method 3\n",
    "\n",
    "a = set(map(str, range(1, int(input())+1)))\n",
    "\n",
    "## Using set() gives an UNORDERED collection of NON-repeatitive elements...in other words numbers will not be in order but they won't be repeated.\n",
    "\n",
    "## Cannot use int, or float as it will give ordered and NOT random\n",
    "\n",
    "## range (1, input())+1 gives numbers from 1 till n ...covers entire number range\n",
    "\n",
    "print(a)"
   ]
  },
  {
   "cell_type": "markdown",
   "metadata": {},
   "source": [
    "Conclusion:\n",
    "\n",
    "If we are NOT to import random then by using set() we will be able to produce disordered and non-repeatitive elements... However\n",
    "\n",
    "One thing we noticed when using set is that everytime we use 'ONE Digit' as the range...it produces the same disordered elements...therefore they are disordered but repeats the PATTERN.\n",
    "\n",
    "For example NOTE while running\n",
    "\n",
    "if we run Method 3 for Question 5...and keep the `input` in the range of  2 - 18  it always begins with 2 and as you go higher the PATTERN repeats but still keeps the number is disordered fashion....\n",
    "\n",
    "Therefore using set() DOES NOT generate Random numbers."
   ]
  },
  {
   "cell_type": "code",
   "execution_count": null,
   "metadata": {},
   "outputs": [],
   "source": []
  },
  {
   "cell_type": "code",
   "execution_count": null,
   "metadata": {},
   "outputs": [],
   "source": []
  },
  {
   "cell_type": "code",
   "execution_count": null,
   "metadata": {},
   "outputs": [],
   "source": []
  },
  {
   "cell_type": "code",
   "execution_count": null,
   "metadata": {},
   "outputs": [],
   "source": []
  },
  {
   "cell_type": "code",
   "execution_count": null,
   "metadata": {},
   "outputs": [],
   "source": []
  },
  {
   "cell_type": "code",
   "execution_count": null,
   "metadata": {},
   "outputs": [],
   "source": []
  },
  {
   "cell_type": "code",
   "execution_count": null,
   "metadata": {},
   "outputs": [],
   "source": []
  },
  {
   "cell_type": "code",
   "execution_count": null,
   "metadata": {},
   "outputs": [],
   "source": []
  },
  {
   "cell_type": "code",
   "execution_count": null,
   "metadata": {},
   "outputs": [],
   "source": []
  },
  {
   "cell_type": "code",
   "execution_count": null,
   "metadata": {},
   "outputs": [],
   "source": []
  }
 ],
 "metadata": {
  "kernelspec": {
   "display_name": "Python 3",
   "language": "python",
   "name": "python3"
  },
  "language_info": {
   "codemirror_mode": {
    "name": "ipython",
    "version": 3
   },
   "file_extension": ".py",
   "mimetype": "text/x-python",
   "name": "python",
   "nbconvert_exporter": "python",
   "pygments_lexer": "ipython3",
   "version": "3.8.5"
  }
 },
 "nbformat": 4,
 "nbformat_minor": 4
}
