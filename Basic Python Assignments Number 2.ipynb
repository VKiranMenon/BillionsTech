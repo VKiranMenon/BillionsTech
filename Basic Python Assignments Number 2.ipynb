{
 "cells": [
  {
   "cell_type": "markdown",
   "metadata": {},
   "source": [
    "Question 1.\n",
    "\n",
    "What are the two values of the Boolean data type? How do you write them?"
   ]
  },
  {
   "cell_type": "markdown",
   "metadata": {},
   "source": [
    "In Python, there are only 2 types of Boolean Data Type.\n",
    "\n",
    "(a) True\n",
    "\n",
    "(b) False.\n",
    "\n",
    "Basically what Boolean data type does is returns \"Truth Value\" of an Expression, especially when it deals with system that has logical thoughts. Hence creating scenarios of True or False statements."
   ]
  },
  {
   "cell_type": "code",
   "execution_count": 21,
   "metadata": {},
   "outputs": [
    {
     "data": {
      "text/plain": [
       "bool"
      ]
     },
     "execution_count": 21,
     "metadata": {},
     "output_type": "execute_result"
    }
   ],
   "source": [
    "a_tr = True\n",
    "\n",
    "type(a_tr)"
   ]
  },
  {
   "cell_type": "code",
   "execution_count": 22,
   "metadata": {},
   "outputs": [
    {
     "data": {
      "text/plain": [
       "bool"
      ]
     },
     "execution_count": 22,
     "metadata": {},
     "output_type": "execute_result"
    }
   ],
   "source": [
    "b_fl = False\n",
    "\n",
    "type(b_fl)"
   ]
  },
  {
   "cell_type": "code",
   "execution_count": null,
   "metadata": {},
   "outputs": [],
   "source": []
  },
  {
   "cell_type": "markdown",
   "metadata": {},
   "source": [
    "Writing Boolean data Types in programs for the interpreter to evaluate, we now see how to write these Data Types."
   ]
  },
  {
   "cell_type": "markdown",
   "metadata": {},
   "source": [
    "Method 1.. \n",
    "\n",
    "Evaluate values and variables using the `bool()` function"
   ]
  },
  {
   "cell_type": "code",
   "execution_count": 3,
   "metadata": {},
   "outputs": [
    {
     "name": "stdout",
     "output_type": "stream",
     "text": [
      "True\n"
     ]
    }
   ],
   "source": [
    "## Using an Int value\n",
    "\n",
    "print(bool(100))"
   ]
  },
  {
   "cell_type": "code",
   "execution_count": 4,
   "metadata": {},
   "outputs": [
    {
     "name": "stdout",
     "output_type": "stream",
     "text": [
      "True\n"
     ]
    }
   ],
   "source": [
    "## Using a variable\n",
    "\n",
    "a = 101\n",
    "\n",
    "print(bool(a))"
   ]
  },
  {
   "cell_type": "code",
   "execution_count": 6,
   "metadata": {},
   "outputs": [
    {
     "name": "stdout",
     "output_type": "stream",
     "text": [
      "False\n"
     ]
    }
   ],
   "source": [
    "## Using an empty variable or a null value\n",
    "\n",
    "b = 0\n",
    "\n",
    "print(bool(b))"
   ]
  },
  {
   "cell_type": "code",
   "execution_count": 7,
   "metadata": {},
   "outputs": [
    {
     "name": "stdout",
     "output_type": "stream",
     "text": [
      "True\n"
     ]
    }
   ],
   "source": [
    "## Using a string Value\n",
    "\n",
    "a_str = \"Data Science\"\n",
    "\n",
    "print(bool(a_str))"
   ]
  },
  {
   "cell_type": "code",
   "execution_count": 11,
   "metadata": {},
   "outputs": [
    {
     "name": "stdout",
     "output_type": "stream",
     "text": [
      "False\n"
     ]
    }
   ],
   "source": [
    "## Using an empty string value\n",
    "\n",
    "b_str = \"\"\n",
    "\n",
    "print(bool(b_str))"
   ]
  },
  {
   "cell_type": "code",
   "execution_count": 12,
   "metadata": {},
   "outputs": [
    {
     "name": "stdout",
     "output_type": "stream",
     "text": [
      "True\n"
     ]
    }
   ],
   "source": [
    "c_str = \" \"\n",
    "\n",
    "print(bool(c_str))"
   ]
  },
  {
   "cell_type": "markdown",
   "metadata": {},
   "source": [
    "Important Note: Keeping White Space is considered a Non-Space value...therefore the bool() function returns true."
   ]
  },
  {
   "cell_type": "code",
   "execution_count": null,
   "metadata": {},
   "outputs": [],
   "source": []
  },
  {
   "cell_type": "code",
   "execution_count": 20,
   "metadata": {},
   "outputs": [
    {
     "name": "stdout",
     "output_type": "stream",
     "text": [
      "True\n"
     ]
    }
   ],
   "source": [
    "## Use a Complex number\n",
    "\n",
    "print(bool(8+9j))"
   ]
  },
  {
   "cell_type": "code",
   "execution_count": null,
   "metadata": {},
   "outputs": [],
   "source": []
  },
  {
   "cell_type": "markdown",
   "metadata": {},
   "source": [
    "Method 2..\n",
    "\n",
    "Printing a message or getting True or False statements using `Operators` \n",
    "\n"
   ]
  },
  {
   "cell_type": "code",
   "execution_count": 16,
   "metadata": {},
   "outputs": [
    {
     "name": "stdout",
     "output_type": "stream",
     "text": [
      "True\n",
      "False\n",
      "False\n"
     ]
    }
   ],
   "source": [
    "## Use more than and equal to sign >=  ...   equal to sign ==  ...   and less than sign <\n",
    "\n",
    "print(15 > 9)\n",
    "\n",
    "print(15 == 9)\n",
    "\n",
    "print(15 < 9)"
   ]
  },
  {
   "cell_type": "code",
   "execution_count": null,
   "metadata": {},
   "outputs": [],
   "source": []
  },
  {
   "cell_type": "code",
   "execution_count": 23,
   "metadata": {},
   "outputs": [
    {
     "name": "stdout",
     "output_type": "stream",
     "text": [
      "False\n"
     ]
    }
   ],
   "source": [
    "## Using variables and operators to understand the Boolean expressions... and if the values will produce Tru expressions or not.\n",
    "\n",
    "\n",
    "a = 10\n",
    "\n",
    "b = 20\n",
    "\n",
    "print(a == b)"
   ]
  },
  {
   "cell_type": "code",
   "execution_count": null,
   "metadata": {},
   "outputs": [],
   "source": []
  },
  {
   "cell_type": "markdown",
   "metadata": {},
   "source": [
    "Method 3..\n",
    "\n",
    "Using a statement in order to get expressions"
   ]
  },
  {
   "cell_type": "code",
   "execution_count": 18,
   "metadata": {},
   "outputs": [
    {
     "name": "stdout",
     "output_type": "stream",
     "text": [
      "True   Value of A1 is higher\n"
     ]
    }
   ],
   "source": [
    "a1 = 1000\n",
    "\n",
    "b1 = 250\n",
    "\n",
    "if a1 < b1:\n",
    "    print(bool(a1 < b1), \"  Value of B1 is Higher. \")\n",
    "    \n",
    "else:\n",
    "    print(bool(a1 > b1), \"  Value of A1 is higher\")"
   ]
  },
  {
   "cell_type": "code",
   "execution_count": null,
   "metadata": {},
   "outputs": [],
   "source": []
  },
  {
   "cell_type": "markdown",
   "metadata": {},
   "source": [
    "Let us find how False expressions are created in which scenarios"
   ]
  },
  {
   "cell_type": "code",
   "execution_count": 19,
   "metadata": {},
   "outputs": [
    {
     "name": "stdout",
     "output_type": "stream",
     "text": [
      "False\n",
      "False\n",
      "False\n",
      "False\n",
      "False\n",
      "False\n"
     ]
    }
   ],
   "source": [
    "print(bool(False))\n",
    "\n",
    "print(bool(None))\n",
    "\n",
    "print(bool(0))\n",
    "\n",
    "print(bool(()))\n",
    "\n",
    "print(bool([]))\n",
    "\n",
    "print(bool({}))"
   ]
  },
  {
   "cell_type": "code",
   "execution_count": null,
   "metadata": {},
   "outputs": [],
   "source": []
  },
  {
   "cell_type": "markdown",
   "metadata": {},
   "source": [
    "Conclusion: \n",
    "\n",
    "All String, Integers, Float-Point and Complex Number will return a `True` Expression... Only when values are 'None Type' or '0' is when statements becomes `False`\n",
    "\n",
    "All Containers when has Values will return `True` ...Empty containers returns `False` Expressions."
   ]
  },
  {
   "cell_type": "code",
   "execution_count": null,
   "metadata": {},
   "outputs": [],
   "source": []
  },
  {
   "cell_type": "code",
   "execution_count": null,
   "metadata": {},
   "outputs": [],
   "source": []
  },
  {
   "cell_type": "code",
   "execution_count": null,
   "metadata": {},
   "outputs": [],
   "source": []
  },
  {
   "cell_type": "markdown",
   "metadata": {},
   "source": [
    "Question 2. \n",
    "\n",
    "What are the three different types of Boolean operators?"
   ]
  },
  {
   "cell_type": "markdown",
   "metadata": {},
   "source": [
    "The 3 different types of Boolean Operators are:\n",
    "\n",
    "(a) AND operator\n",
    "\n",
    "(b) OR operator\n",
    "\n",
    "(c) NOT operator\n",
    "\n",
    "|\n",
    "\n",
    "Let us use examples in order to understand how it works.\n"
   ]
  },
  {
   "cell_type": "code",
   "execution_count": null,
   "metadata": {},
   "outputs": [],
   "source": []
  },
  {
   "cell_type": "markdown",
   "metadata": {},
   "source": [
    "`and` Operator\n",
    "\n",
    "The Boolean AND operator returns `True` when both operands are True.\n",
    "\n",
    "And returns `False` if either one of the operand is False."
   ]
  },
  {
   "cell_type": "code",
   "execution_count": 27,
   "metadata": {},
   "outputs": [
    {
     "name": "stdout",
     "output_type": "stream",
     "text": [
      "False\n",
      "False\n",
      "False\n",
      "True\n"
     ]
    }
   ],
   "source": [
    "## Let us create variables and assign values to return Logical Operator statements of True or False\n",
    "\n",
    "## Remember in AND operator BOTH operands should be True for a True statement\n",
    "\n",
    "a = 10\n",
    "\n",
    "b = -10\n",
    "\n",
    "print(a > 5 and b > 5)\n",
    "    \n",
    "print(a < 0 and b < 0)\n",
    "\n",
    "print(a == 0 and b == 0)\n",
    "\n",
    "print(a > 5 and b < 5)  ## Both operands are TRUE."
   ]
  },
  {
   "cell_type": "code",
   "execution_count": null,
   "metadata": {},
   "outputs": [],
   "source": []
  },
  {
   "cell_type": "markdown",
   "metadata": {},
   "source": [
    "`or` operator\n",
    "\n",
    "The Boolean `OR` Operator returns `True` when either ONE of the operand is True.\n",
    "\n",
    "And returns `False` when both operands are False."
   ]
  },
  {
   "cell_type": "code",
   "execution_count": 48,
   "metadata": {},
   "outputs": [
    {
     "name": "stdout",
     "output_type": "stream",
     "text": [
      "True\n",
      "True\n",
      "False\n",
      "True\n",
      "True\n",
      "False\n"
     ]
    }
   ],
   "source": [
    "## Use variables and use OR operator as above\n",
    "\n",
    "a = 50\n",
    "\n",
    "b = 25\n",
    "\n",
    "print (a > 50 or b < 50)\n",
    "\n",
    "print(a > 40 or b < 25)\n",
    "\n",
    "print (a == 0 or b == 0)  ## Both Operands are False.\n",
    "\n",
    "print(a > 0 or b > 0)\n",
    "\n",
    "print(a > 0 or b < 0)\n",
    "\n",
    "print (a > 50 or a < 50) ## Both operands are False."
   ]
  },
  {
   "cell_type": "code",
   "execution_count": null,
   "metadata": {},
   "outputs": [],
   "source": []
  },
  {
   "cell_type": "markdown",
   "metadata": {},
   "source": [
    "`not` operator \n",
    "\n",
    "The Boolean operator `NOT` works exactly opposite to its operands value. That is if the operands is False it will return `True` statement, and when if the operand is True it will retuen `False` statement.\n",
    "\n",
    "If BOTH should be False to return `True` or both should be True to return `False`.\n",
    "\n",
    "If EITHER is False then it will return `True`"
   ]
  },
  {
   "cell_type": "code",
   "execution_count": 40,
   "metadata": {},
   "outputs": [
    {
     "name": "stdout",
     "output_type": "stream",
     "text": [
      "False\n",
      "False\n",
      "True\n"
     ]
    }
   ],
   "source": [
    "## Let us create only one variable to understand how 'not' operstor works\n",
    "\n",
    "aaybee = 100\n",
    "\n",
    "print(not(aaybee == 100))\n",
    "\n",
    "print(not(aaybee > 50))\n",
    "\n",
    "print(not(aaybee > 150))"
   ]
  },
  {
   "cell_type": "code",
   "execution_count": 46,
   "metadata": {},
   "outputs": [
    {
     "name": "stdout",
     "output_type": "stream",
     "text": [
      "False\n",
      "False\n",
      "True\n"
     ]
    }
   ],
   "source": [
    "## Create 2 variables and use in combination of the 'and' operator...\n",
    "\n",
    "## Remember in and operator both operands should be True for the statement to return a True value\n",
    "\n",
    "## In this case, we are combining it with the not operator\n",
    "\n",
    "a = 100\n",
    "\n",
    "b = - 100\n",
    "\n",
    "print (not(a > 0 and b < 0)) ## Both operands are True but returns FALSE\n",
    "\n",
    "print (not(a == 100 and b == -100)) ## Both operands are True but returns 'FALSE'\n",
    "\n",
    "print (not(a > 0 and b > 0)) ## One of the operand is True which should give False, but it will give TRUE\n",
    "\n",
    "\n",
    "## In case of 'or' either one of the operand should be True for it to return a True statement...but in combination of 'not' will produce the opposite."
   ]
  },
  {
   "cell_type": "code",
   "execution_count": null,
   "metadata": {},
   "outputs": [],
   "source": []
  },
  {
   "cell_type": "code",
   "execution_count": null,
   "metadata": {},
   "outputs": [],
   "source": []
  },
  {
   "cell_type": "code",
   "execution_count": null,
   "metadata": {},
   "outputs": [],
   "source": []
  },
  {
   "cell_type": "markdown",
   "metadata": {},
   "source": [
    "Question 3. \n",
    "\n",
    "Make a list of each Boolean operator&#39;s truth tables (i.e. every possible combination of Boolean\n",
    "values for the operator and what it evaluate )."
   ]
  },
  {
   "cell_type": "markdown",
   "metadata": {},
   "source": [
    "Truth Table for `and` operator..\n",
    "\n",
    "Condition both operands should be True for it to return a `True` statement.\n"
   ]
  },
  {
   "cell_type": "markdown",
   "metadata": {},
   "source": [
    "A  ------------------------        B  ------------------------------->                   A `and` B\n",
    "\n",
    "True ------------------            True ----------------------------->                      True\n",
    "\n",
    "True ------------------            False ---------------------------->                      False\n",
    "\n",
    "False------------------            True ----------------------------->                      False\n",
    "\n",
    "False------------------            False ---------------------------->                      False"
   ]
  },
  {
   "cell_type": "code",
   "execution_count": null,
   "metadata": {},
   "outputs": [],
   "source": []
  },
  {
   "cell_type": "markdown",
   "metadata": {},
   "source": [
    "Truth Table for `or` operator\n",
    "\n",
    "Condition is either one of the Operands should be True for the statement to return a `True` value.\n",
    "\n",
    "If both are True it will return a `True` statement and if both are False it will return a `False` statement."
   ]
  },
  {
   "cell_type": "markdown",
   "metadata": {},
   "source": [
    "A  ------------------------        B  ------------------------------->                   A `or` B\n",
    "\n",
    "True ------------------            True ----------------------------->                      True\n",
    "\n",
    "True ------------------            False ---------------------------->                      True\n",
    "\n",
    "False------------------            True ----------------------------->                      True\n",
    "\n",
    "False------------------            False ---------------------------->                      False"
   ]
  },
  {
   "cell_type": "code",
   "execution_count": null,
   "metadata": {},
   "outputs": [],
   "source": []
  },
  {
   "cell_type": "markdown",
   "metadata": {},
   "source": [
    "Truth Table for the `not` operator\n",
    "\n",
    "Condition is it will produce an opposite of operands value. If the operand is True `not` operator will return a `False` statement."
   ]
  },
  {
   "cell_type": "markdown",
   "metadata": {},
   "source": [
    "A  ------------------------                           `not` A\n",
    "\n",
    "True ------------------>                                 False    \n",
    "\n",
    "False------------------>                                 True"
   ]
  },
  {
   "cell_type": "code",
   "execution_count": null,
   "metadata": {},
   "outputs": [],
   "source": []
  },
  {
   "cell_type": "code",
   "execution_count": null,
   "metadata": {},
   "outputs": [],
   "source": []
  },
  {
   "cell_type": "code",
   "execution_count": null,
   "metadata": {},
   "outputs": [],
   "source": []
  },
  {
   "cell_type": "markdown",
   "metadata": {},
   "source": [
    "Question 4. \n",
    "\n",
    "What are the values of the following expressions?\n",
    "\n",
    "\n",
    "(a) (5 > 4) and (3 == 5)\n",
    "\n",
    "\n",
    "(b) not (5 > 4)\n",
    "\n",
    "\n",
    "(c) (5 > 4) or (3 == 5)\n",
    "\n",
    "\n",
    "(d) not ((5 > 4) or (3 == 5))\n",
    "\n",
    "\n",
    "(e) (True and True) and (True == False)\n",
    "\n",
    "\n",
    "(f) (not False) or (not True)"
   ]
  },
  {
   "cell_type": "code",
   "execution_count": null,
   "metadata": {},
   "outputs": [],
   "source": []
  },
  {
   "cell_type": "code",
   "execution_count": 49,
   "metadata": {},
   "outputs": [
    {
     "data": {
      "text/plain": [
       "False"
      ]
     },
     "execution_count": 49,
     "metadata": {},
     "output_type": "execute_result"
    }
   ],
   "source": [
    "## (a)  \n",
    "\n",
    "(5 > 4) and (3 == 5)\n"
   ]
  },
  {
   "cell_type": "markdown",
   "metadata": {},
   "source": [
    "This is an `and` operator, where both operands should produce True in order for a `True` statement\n",
    "\n",
    "(5 > 4) ---> True\n",
    "\n",
    "and\n",
    "\n",
    "(3 == 5) ---> False\n",
    "\n",
    "True and False ==  False"
   ]
  },
  {
   "cell_type": "code",
   "execution_count": null,
   "metadata": {},
   "outputs": [],
   "source": []
  },
  {
   "cell_type": "code",
   "execution_count": 50,
   "metadata": {},
   "outputs": [
    {
     "data": {
      "text/plain": [
       "False"
      ]
     },
     "execution_count": 50,
     "metadata": {},
     "output_type": "execute_result"
    }
   ],
   "source": [
    "## b\n",
    "\n",
    "not ( 5 > 4)"
   ]
  },
  {
   "cell_type": "markdown",
   "metadata": {},
   "source": [
    "The `not` operator gives an exact opposite statement, \n",
    "\n",
    "5 > 4 gives True, \n",
    "\n",
    "but when combined with `not` gives the opposite"
   ]
  },
  {
   "cell_type": "code",
   "execution_count": null,
   "metadata": {},
   "outputs": [],
   "source": []
  },
  {
   "cell_type": "code",
   "execution_count": 51,
   "metadata": {},
   "outputs": [
    {
     "data": {
      "text/plain": [
       "True"
      ]
     },
     "execution_count": 51,
     "metadata": {},
     "output_type": "execute_result"
    }
   ],
   "source": [
    "## (c)\n",
    "\n",
    "(5 > 4) or (3 == 5)"
   ]
  },
  {
   "cell_type": "markdown",
   "metadata": {},
   "source": [
    "In `or` operator either one of the operands should be True or the return value to be a `True` statement.\n",
    "\n",
    "5 > 4  ---> True\n",
    "\n",
    "`or` operator\n",
    "\n",
    "3 == 5 ---> False\n",
    "\n",
    "True `or` False == True"
   ]
  },
  {
   "cell_type": "code",
   "execution_count": null,
   "metadata": {},
   "outputs": [],
   "source": []
  },
  {
   "cell_type": "code",
   "execution_count": 52,
   "metadata": {},
   "outputs": [
    {
     "data": {
      "text/plain": [
       "False"
      ]
     },
     "execution_count": 52,
     "metadata": {},
     "output_type": "execute_result"
    }
   ],
   "source": [
    "## (d)\n",
    "\n",
    "not ((5 > 4) or (3 == 5))"
   ]
  },
  {
   "cell_type": "markdown",
   "metadata": {},
   "source": [
    "The `not` operator gives the opposite of the actual statements.\n",
    "\n",
    "5 > 4 ---> True\n",
    "\n",
    "`or` operator\n",
    "\n",
    "3 == 5 ---> False\n",
    "\n",
    "True `or` False == True\n",
    "\n",
    "`not` (True `or` False == True) == False"
   ]
  },
  {
   "cell_type": "code",
   "execution_count": null,
   "metadata": {},
   "outputs": [],
   "source": []
  },
  {
   "cell_type": "code",
   "execution_count": 53,
   "metadata": {},
   "outputs": [
    {
     "data": {
      "text/plain": [
       "False"
      ]
     },
     "execution_count": 53,
     "metadata": {},
     "output_type": "execute_result"
    }
   ],
   "source": [
    "## (e)\n",
    "\n",
    "(True and True) and (True == False)"
   ]
  },
  {
   "cell_type": "markdown",
   "metadata": {},
   "source": [
    "The `and` operator should produce a True statement when both operands are True.\n",
    "\n",
    "True == True ---> True\n",
    "\n",
    "`and` operator\n",
    "\n",
    "True == False ---> False\n",
    "\n",
    "Therefore,\n",
    "\n",
    "True `and` False == False"
   ]
  },
  {
   "cell_type": "code",
   "execution_count": null,
   "metadata": {},
   "outputs": [],
   "source": []
  },
  {
   "cell_type": "code",
   "execution_count": 54,
   "metadata": {},
   "outputs": [
    {
     "data": {
      "text/plain": [
       "True"
      ]
     },
     "execution_count": 54,
     "metadata": {},
     "output_type": "execute_result"
    }
   ],
   "source": [
    "## (f)\n",
    "\n",
    "(not False) or (not True)"
   ]
  },
  {
   "cell_type": "markdown",
   "metadata": {},
   "source": [
    "The `not` operator returns an opposite statement on the original True/False expression.\n",
    "\n",
    "`not` False ---> True\n",
    "\n",
    "`or` operand\n",
    "\n",
    "`not` True ---> False\n",
    "\n",
    "Therefore,\n",
    "\n",
    "True `or` False == True"
   ]
  },
  {
   "cell_type": "code",
   "execution_count": null,
   "metadata": {},
   "outputs": [],
   "source": []
  },
  {
   "cell_type": "code",
   "execution_count": null,
   "metadata": {},
   "outputs": [],
   "source": []
  },
  {
   "cell_type": "code",
   "execution_count": null,
   "metadata": {},
   "outputs": [],
   "source": []
  },
  {
   "cell_type": "markdown",
   "metadata": {},
   "source": [
    "Question 5. \n",
    "\n",
    "What are the six comparison operators?"
   ]
  },
  {
   "cell_type": "markdown",
   "metadata": {},
   "source": [
    "The 6 Comparision Operators are used to define between `operand1` and `operand2`, hence there are 6 ways to define them\n",
    "\n",
    "(a)  ==  `Equal to` operator   \n",
    "\n",
    "(b)  !=   `Not Equal to` operator\n",
    "\n",
    "(c)  >    `Greater than` operator\n",
    "\n",
    "(d) <      `Less than` operator\n",
    "\n",
    "(e) >=      `Greater than or Equal to` operator\n",
    "\n",
    "(f) <=      `Less than or Equal to` operator"
   ]
  },
  {
   "cell_type": "code",
   "execution_count": 3,
   "metadata": {},
   "outputs": [
    {
     "name": "stdout",
     "output_type": "stream",
     "text": [
      "False\n",
      "True\n",
      "False\n",
      "True\n",
      "False\n",
      "True\n"
     ]
    }
   ],
   "source": [
    "## Create 2 variables for testing the Comparision Operators\n",
    "\n",
    "x = 5\n",
    "\n",
    "y = 10\n",
    "\n",
    "print (x == y)\n",
    "\n",
    "print (x != y)\n",
    "\n",
    "print (x > y)\n",
    "\n",
    "print (x < y)\n",
    "\n",
    "print (x >= y)\n",
    "\n",
    "print (x <= y)"
   ]
  },
  {
   "cell_type": "code",
   "execution_count": null,
   "metadata": {},
   "outputs": [],
   "source": []
  },
  {
   "cell_type": "code",
   "execution_count": null,
   "metadata": {},
   "outputs": [],
   "source": []
  },
  {
   "cell_type": "code",
   "execution_count": null,
   "metadata": {},
   "outputs": [],
   "source": []
  },
  {
   "cell_type": "markdown",
   "metadata": {},
   "source": [
    "Question 6. \n",
    "\n",
    "How do you tell the difference between the equal to and assignment operators?\n",
    "\n",
    "Describe a condition and when you would use one."
   ]
  },
  {
   "cell_type": "markdown",
   "metadata": {},
   "source": [
    "The difference between the equal operator and the assignment operator is the way it is represented.\n",
    "\n",
    "==  Equal Operator\n",
    "\n",
    "= is the `Assign Value assignment` operator\n",
    "\n",
    "+= is the variable `addition assignment` operator....\n",
    "\n",
    "There are 13 types of assignment operators in python."
   ]
  },
  {
   "cell_type": "code",
   "execution_count": null,
   "metadata": {},
   "outputs": [],
   "source": []
  },
  {
   "cell_type": "markdown",
   "metadata": {},
   "source": [
    "Below we have discussed how assignment operator can be used, and we have discussed 2 such conditions\n",
    "\n",
    "(a) When we have to assign a certain value to a variable.... or\n",
    "\n",
    "(b) We want to understand if a certain number is divisible by another number with no remainder."
   ]
  },
  {
   "cell_type": "code",
   "execution_count": 11,
   "metadata": {},
   "outputs": [
    {
     "name": "stdout",
     "output_type": "stream",
     "text": [
      "5\n"
     ]
    }
   ],
   "source": [
    "## (a) \n",
    "\n",
    "## Assign a value to a variable\n",
    "\n",
    "x = 5\n",
    "\n",
    "print(x)"
   ]
  },
  {
   "cell_type": "markdown",
   "metadata": {},
   "source": [
    "The variable `x` has been assigned an integer 5, and hence the value of x that will be returned will be 5."
   ]
  },
  {
   "cell_type": "code",
   "execution_count": 17,
   "metadata": {},
   "outputs": [
    {
     "name": "stdout",
     "output_type": "stream",
     "text": [
      "0\n"
     ]
    }
   ],
   "source": [
    "## (b)\n",
    "\n",
    "## Create a variable with a value\n",
    "\n",
    "y = 15\n",
    "\n",
    "## find if a pre-determined number to find if it will provide a remainder or not.\n",
    "\n",
    "y %= 3\n",
    "\n",
    "print(y)"
   ]
  },
  {
   "cell_type": "markdown",
   "metadata": {},
   "source": [
    "The value of `y` which is 15 is divisible by 3, (as 5 times 3 == 15)....therefore  using the `%` modulus operator ( % )\n",
    "\n",
    "there will be NO remainder."
   ]
  },
  {
   "cell_type": "code",
   "execution_count": 19,
   "metadata": {},
   "outputs": [
    {
     "name": "stdout",
     "output_type": "stream",
     "text": [
      "3\n"
     ]
    }
   ],
   "source": [
    "## Using the same variable with the same value\n",
    "\n",
    "y = 15\n",
    "\n",
    "## To find if the same variable if divided by 4 gives us 0 remainder or not.\n",
    "\n",
    "y %= 4\n",
    "\n",
    "print(y)"
   ]
  },
  {
   "cell_type": "markdown",
   "metadata": {},
   "source": [
    "Conclusion: Equal operator is denoted by 2 `equal signs` ==\n",
    "\n",
    "And assignment operator is used to assign values and determine the nature of the value."
   ]
  },
  {
   "cell_type": "code",
   "execution_count": null,
   "metadata": {},
   "outputs": [],
   "source": []
  },
  {
   "cell_type": "code",
   "execution_count": null,
   "metadata": {},
   "outputs": [],
   "source": []
  },
  {
   "cell_type": "code",
   "execution_count": null,
   "metadata": {},
   "outputs": [],
   "source": []
  },
  {
   "cell_type": "markdown",
   "metadata": {},
   "source": [
    "Question 7. \n",
    "\n",
    "Identify the three blocks in this code:"
   ]
  },
  {
   "cell_type": "markdown",
   "metadata": {},
   "source": [
    "\n",
    "\n",
    "\n",
    "spam = 0\n",
    "\n",
    "\n",
    "BLOCK 1\n",
    "\n",
    "if spam == 10:\n",
    "\n",
    "\n",
    "print('eggs')\n",
    "\n",
    "|\n",
    "\n",
    "|\n",
    "\n",
    "BLOCK 2\n",
    "\n",
    "\n",
    "if spam > 5:\n",
    "\n",
    "\n",
    "print(bacon)\n",
    "\n",
    "\n",
    "|\n",
    "\n",
    "|\n",
    "\n",
    "BLOCK 3\n",
    "\n",
    "\n",
    "else:\n",
    "\n",
    "print(&#39;ham&#39;)\n",
    "\n",
    "\n",
    "print(&#39;spam&#39;)\n",
    "\n",
    "\n",
    "print(&#39;spam&#39;)"
   ]
  },
  {
   "cell_type": "code",
   "execution_count": 33,
   "metadata": {},
   "outputs": [
    {
     "name": "stdout",
     "output_type": "stream",
     "text": [
      "ham\n",
      "spam\n",
      "spam\n"
     ]
    }
   ],
   "source": [
    "spam = 0\n",
    "\n",
    "\n",
    "## Block 1\n",
    "\n",
    "if spam == 10:\n",
    "    print(\"eggs\") \n",
    "\n",
    "    \n",
    "    \n",
    "## Block 2\n",
    "\n",
    "if spam > 5:\n",
    "    print(\"bacon\")\n",
    "    \n",
    "\n",
    "    \n",
    "## Block 3\n",
    "\n",
    "else:\n",
    "    print(\"ham\")\n",
    "\n",
    "    print(\"spam\")\n",
    "\n",
    "    print(\"spam\")"
   ]
  },
  {
   "cell_type": "code",
   "execution_count": null,
   "metadata": {},
   "outputs": [],
   "source": []
  },
  {
   "cell_type": "code",
   "execution_count": null,
   "metadata": {},
   "outputs": [],
   "source": []
  },
  {
   "cell_type": "code",
   "execution_count": null,
   "metadata": {},
   "outputs": [],
   "source": []
  },
  {
   "cell_type": "markdown",
   "metadata": {},
   "source": [
    "Question 8.\n",
    "\n",
    "Write code that prints Hello if 1 is stored in spam, \n",
    "\n",
    "prints Howdy if 2 is stored in spam, and \n",
    "\n",
    "prints\n",
    "Greetings! if anything else is stored in spam."
   ]
  },
  {
   "cell_type": "code",
   "execution_count": 37,
   "metadata": {},
   "outputs": [
    {
     "name": "stdout",
     "output_type": "stream",
     "text": [
      "Hello \n"
     ]
    }
   ],
   "source": [
    "spam = 1\n",
    "\n",
    "if spam == 1:\n",
    "    print(\"Hello \")\n",
    "    \n",
    "elif spam == 2:\n",
    "    print(\"Howdy \")\n",
    "    \n",
    "else:\n",
    "    print(\"Greetings ! \")\n",
    "    "
   ]
  },
  {
   "cell_type": "code",
   "execution_count": 38,
   "metadata": {},
   "outputs": [
    {
     "name": "stdout",
     "output_type": "stream",
     "text": [
      "Howdy \n"
     ]
    }
   ],
   "source": [
    "spam = 2\n",
    "\n",
    "if spam == 1:\n",
    "    print(\"Hello \")\n",
    "    \n",
    "elif spam == 2:\n",
    "    print(\"Howdy \")\n",
    "    \n",
    "else:\n",
    "    print(\"Greetings ! \")\n",
    "    "
   ]
  },
  {
   "cell_type": "code",
   "execution_count": 39,
   "metadata": {},
   "outputs": [
    {
     "name": "stdout",
     "output_type": "stream",
     "text": [
      "Greetings ! \n"
     ]
    }
   ],
   "source": [
    "spam = 99\n",
    "\n",
    "if spam == 1:\n",
    "    print(\"Hello \")\n",
    "    \n",
    "elif spam == 2:\n",
    "    print(\"Howdy \")\n",
    "    \n",
    "else:\n",
    "    print(\"Greetings ! \")\n",
    "    "
   ]
  },
  {
   "cell_type": "code",
   "execution_count": null,
   "metadata": {},
   "outputs": [],
   "source": []
  },
  {
   "cell_type": "code",
   "execution_count": null,
   "metadata": {},
   "outputs": [],
   "source": []
  },
  {
   "cell_type": "code",
   "execution_count": null,
   "metadata": {},
   "outputs": [],
   "source": []
  },
  {
   "cell_type": "markdown",
   "metadata": {},
   "source": [
    "Question 9.\n",
    "\n",
    "If your programme is stuck in an endless loop, what keys you’ll press?"
   ]
  },
  {
   "cell_type": "markdown",
   "metadata": {},
   "source": [
    "For every While Loop we can use `break` to come out of the loop....\n",
    "\n",
    "The other way is to select the Cell where the program is working and use `CTRL + C`"
   ]
  },
  {
   "cell_type": "code",
   "execution_count": null,
   "metadata": {},
   "outputs": [],
   "source": []
  },
  {
   "cell_type": "code",
   "execution_count": null,
   "metadata": {},
   "outputs": [],
   "source": []
  },
  {
   "cell_type": "code",
   "execution_count": null,
   "metadata": {},
   "outputs": [],
   "source": []
  },
  {
   "cell_type": "markdown",
   "metadata": {},
   "source": [
    "Question 10. \n",
    "\n",
    "How can you tell the difference between break and continue?"
   ]
  },
  {
   "cell_type": "markdown",
   "metadata": {},
   "source": [
    "`Break` statements allows the a FOR loop or a WHILE loop to break, when a certain condition is satisfied.\n",
    "\n",
    "Upon breaking the loop the program would jump onto the next step of the code to execute."
   ]
  },
  {
   "cell_type": "code",
   "execution_count": 94,
   "metadata": {},
   "outputs": [
    {
     "name": "stdout",
     "output_type": "stream",
     "text": [
      "s\n",
      "t\n",
      "r\n"
     ]
    }
   ],
   "source": [
    "for var in \"string\":\n",
    "    \n",
    "    if var == \"i\":\n",
    "        break\n",
    "        \n",
    "    print(var)"
   ]
  },
  {
   "cell_type": "markdown",
   "metadata": {},
   "source": [
    "The code was written to break the `for loop` when the variable 'var' will get the string value \"i\" during iteration...it will STOP/BREAK the iteration and then jumps onto the next line of the code...  print(var) ...printing all the values that was iterated BEFORE the break statement."
   ]
  },
  {
   "cell_type": "code",
   "execution_count": null,
   "metadata": {},
   "outputs": [],
   "source": []
  },
  {
   "cell_type": "markdown",
   "metadata": {},
   "source": [
    "`continue` statement is used to skip a step within a FOR loop or a WHILE loop...using this statement does not break the code and jump outside the loop, but rather skips a step and then \"continue\" to perform the same loop until it is over."
   ]
  },
  {
   "cell_type": "code",
   "execution_count": 96,
   "metadata": {},
   "outputs": [
    {
     "name": "stdout",
     "output_type": "stream",
     "text": [
      "s\n",
      "t\n",
      "r\n",
      "n\n",
      "g\n"
     ]
    }
   ],
   "source": [
    "for var in \"string\":\n",
    "    if var == \"i\":\n",
    "        \n",
    "        continue\n",
    "        \n",
    "    print(var)"
   ]
  },
  {
   "cell_type": "markdown",
   "metadata": {},
   "source": [
    "As noticed the `continue` has allowed the iteration to complete, with the condition laid.... when iterating if the variable \"var\" == \"i\"...then it would not print that \"STEP\" of iteration and prints the rest after completion of the loop."
   ]
  },
  {
   "cell_type": "code",
   "execution_count": null,
   "metadata": {},
   "outputs": [],
   "source": []
  },
  {
   "cell_type": "code",
   "execution_count": null,
   "metadata": {},
   "outputs": [],
   "source": []
  },
  {
   "cell_type": "code",
   "execution_count": null,
   "metadata": {},
   "outputs": [],
   "source": []
  },
  {
   "cell_type": "markdown",
   "metadata": {},
   "source": [
    "Question 11. \n",
    "\n",
    "In a for loop, what is the difference between range(10), range(0, 10), and range(0, 10, 1)?\n",
    "\n"
   ]
  },
  {
   "cell_type": "code",
   "execution_count": 42,
   "metadata": {},
   "outputs": [
    {
     "name": "stdout",
     "output_type": "stream",
     "text": [
      "0\n",
      "1\n",
      "2\n",
      "3\n",
      "4\n",
      "5\n",
      "6\n",
      "7\n",
      "8\n",
      "9\n"
     ]
    }
   ],
   "source": [
    "for i in range(10):\n",
    "    print(i)\n",
    "    "
   ]
  },
  {
   "cell_type": "code",
   "execution_count": 44,
   "metadata": {},
   "outputs": [
    {
     "name": "stdout",
     "output_type": "stream",
     "text": [
      "0\n",
      "1\n",
      "2\n",
      "3\n",
      "4\n",
      "5\n",
      "6\n",
      "7\n",
      "8\n",
      "9\n"
     ]
    }
   ],
   "source": [
    "for i in range(0, 10):\n",
    "    print(i)"
   ]
  },
  {
   "cell_type": "code",
   "execution_count": 45,
   "metadata": {},
   "outputs": [
    {
     "name": "stdout",
     "output_type": "stream",
     "text": [
      "0\n",
      "1\n",
      "2\n",
      "3\n",
      "4\n",
      "5\n",
      "6\n",
      "7\n",
      "8\n",
      "9\n"
     ]
    }
   ],
   "source": [
    "for i in range(0, 10, 1):\n",
    "    print(i)"
   ]
  },
  {
   "cell_type": "markdown",
   "metadata": {},
   "source": [
    "Conclusion:\n",
    "\n",
    "No Difference"
   ]
  },
  {
   "cell_type": "code",
   "execution_count": null,
   "metadata": {},
   "outputs": [],
   "source": []
  },
  {
   "cell_type": "code",
   "execution_count": null,
   "metadata": {},
   "outputs": [],
   "source": []
  },
  {
   "cell_type": "code",
   "execution_count": null,
   "metadata": {},
   "outputs": [],
   "source": []
  },
  {
   "cell_type": "markdown",
   "metadata": {},
   "source": [
    "Question 12. \n",
    "\n",
    "Write a short program that prints the numbers 1 to 10 using a for loop. \n",
    "\n",
    "Then write an equivalent\n",
    "program that prints the numbers 1 to 10 using a while loop."
   ]
  },
  {
   "cell_type": "code",
   "execution_count": 48,
   "metadata": {},
   "outputs": [
    {
     "name": "stdout",
     "output_type": "stream",
     "text": [
      "1\n",
      "2\n",
      "3\n",
      "4\n",
      "5\n",
      "6\n",
      "7\n",
      "8\n",
      "9\n",
      "10\n"
     ]
    }
   ],
   "source": [
    "## Using a for loop print numbers from 1 to 10\n",
    "\n",
    "for i in range(1, 11):\n",
    "    print(i)"
   ]
  },
  {
   "cell_type": "code",
   "execution_count": 87,
   "metadata": {},
   "outputs": [
    {
     "name": "stdout",
     "output_type": "stream",
     "text": [
      "1\n",
      "2\n",
      "3\n",
      "4\n",
      "5\n",
      "6\n",
      "7\n",
      "8\n",
      "9\n",
      "10\n"
     ]
    }
   ],
   "source": [
    "## Using a while loop with the same output\n",
    "\n",
    "n = 0\n",
    "\n",
    "while n < 10:  ## Will make n = 9 in the last stage and will not go to 10.\n",
    "    \n",
    "    n = n + 1  ## Starts with 0 + 1\n",
    "    print(n)"
   ]
  },
  {
   "cell_type": "code",
   "execution_count": 88,
   "metadata": {},
   "outputs": [
    {
     "name": "stdout",
     "output_type": "stream",
     "text": [
      "1\n",
      "2\n",
      "3\n",
      "4\n",
      "5\n",
      "6\n",
      "7\n",
      "8\n",
      "9\n",
      "10\n"
     ]
    }
   ],
   "source": [
    "n = 1\n",
    "\n",
    "while n <= 10:\n",
    "    print(n)\n",
    "    n += 1\n",
    "    "
   ]
  },
  {
   "cell_type": "code",
   "execution_count": null,
   "metadata": {},
   "outputs": [],
   "source": []
  },
  {
   "cell_type": "code",
   "execution_count": null,
   "metadata": {},
   "outputs": [],
   "source": []
  },
  {
   "cell_type": "code",
   "execution_count": null,
   "metadata": {},
   "outputs": [],
   "source": []
  },
  {
   "cell_type": "markdown",
   "metadata": {},
   "source": [
    "Question 13. \n",
    "\n",
    "If you had a function named bacon() inside a module named spam, how would you call it after\n",
    "importing spam?"
   ]
  },
  {
   "cell_type": "markdown",
   "metadata": {},
   "source": [
    "If there is a function named `bacon()` inside a module named spam, then the method of calling the function from the module is:\n",
    "\n",
    "import spam\n",
    "\n",
    "n = some value\n",
    "\n",
    "print(spam.bacon(n))  <--- is the way to be called"
   ]
  },
  {
   "cell_type": "code",
   "execution_count": 92,
   "metadata": {},
   "outputs": [
    {
     "name": "stdout",
     "output_type": "stream",
     "text": [
      "2.0\n"
     ]
    }
   ],
   "source": [
    "import math\n",
    "\n",
    "num = 4\n",
    "\n",
    "print(math.sqrt(num))"
   ]
  },
  {
   "cell_type": "code",
   "execution_count": null,
   "metadata": {},
   "outputs": [],
   "source": []
  },
  {
   "cell_type": "code",
   "execution_count": null,
   "metadata": {},
   "outputs": [],
   "source": []
  },
  {
   "cell_type": "code",
   "execution_count": null,
   "metadata": {},
   "outputs": [],
   "source": []
  },
  {
   "cell_type": "code",
   "execution_count": null,
   "metadata": {},
   "outputs": [],
   "source": []
  },
  {
   "cell_type": "code",
   "execution_count": null,
   "metadata": {},
   "outputs": [],
   "source": []
  },
  {
   "cell_type": "code",
   "execution_count": null,
   "metadata": {},
   "outputs": [],
   "source": []
  },
  {
   "cell_type": "code",
   "execution_count": null,
   "metadata": {},
   "outputs": [],
   "source": []
  },
  {
   "cell_type": "code",
   "execution_count": null,
   "metadata": {},
   "outputs": [],
   "source": []
  },
  {
   "cell_type": "code",
   "execution_count": null,
   "metadata": {},
   "outputs": [],
   "source": []
  },
  {
   "cell_type": "code",
   "execution_count": null,
   "metadata": {},
   "outputs": [],
   "source": []
  },
  {
   "cell_type": "code",
   "execution_count": null,
   "metadata": {},
   "outputs": [],
   "source": []
  },
  {
   "cell_type": "code",
   "execution_count": null,
   "metadata": {},
   "outputs": [],
   "source": []
  },
  {
   "cell_type": "code",
   "execution_count": null,
   "metadata": {},
   "outputs": [],
   "source": []
  },
  {
   "cell_type": "code",
   "execution_count": null,
   "metadata": {},
   "outputs": [],
   "source": []
  },
  {
   "cell_type": "code",
   "execution_count": null,
   "metadata": {},
   "outputs": [],
   "source": []
  },
  {
   "cell_type": "code",
   "execution_count": null,
   "metadata": {},
   "outputs": [],
   "source": []
  },
  {
   "cell_type": "code",
   "execution_count": null,
   "metadata": {},
   "outputs": [],
   "source": []
  },
  {
   "cell_type": "code",
   "execution_count": null,
   "metadata": {},
   "outputs": [],
   "source": []
  }
 ],
 "metadata": {
  "kernelspec": {
   "display_name": "Python 3",
   "language": "python",
   "name": "python3"
  },
  "language_info": {
   "codemirror_mode": {
    "name": "ipython",
    "version": 3
   },
   "file_extension": ".py",
   "mimetype": "text/x-python",
   "name": "python",
   "nbconvert_exporter": "python",
   "pygments_lexer": "ipython3",
   "version": "3.8.5"
  }
 },
 "nbformat": 4,
 "nbformat_minor": 4
}
