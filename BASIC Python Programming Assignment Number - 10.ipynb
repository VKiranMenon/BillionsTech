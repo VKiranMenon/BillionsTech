{
 "cells": [
  {
   "cell_type": "code",
   "execution_count": null,
   "metadata": {},
   "outputs": [],
   "source": []
  },
  {
   "cell_type": "markdown",
   "metadata": {},
   "source": [
    "Question 1.\n",
    "\n",
    "Write a Python program to find sum of elements in list?"
   ]
  },
  {
   "cell_type": "code",
   "execution_count": 1,
   "metadata": {},
   "outputs": [],
   "source": [
    "def sum_of_elem():\n",
    "    sum_lst = []\n",
    "    try:\n",
    "        while True:\n",
    "            input_n = int(input(\"Enter numbers OR type 'stop' to terminate inputing elements: \"))\n",
    "            if input_n == \"stop\":\n",
    "                break\n",
    "            sum_lst.append(input_n)\n",
    "            \n",
    "    except:\n",
    "        print(sum_lst)\n",
    "        \n",
    "    total_elem = sum(sum_lst)\n",
    "    return total_elem"
   ]
  },
  {
   "cell_type": "code",
   "execution_count": 2,
   "metadata": {},
   "outputs": [
    {
     "name": "stdout",
     "output_type": "stream",
     "text": [
      "Enter numbers OR type 'stop' to terminate inputing elements: 4\n",
      "Enter numbers OR type 'stop' to terminate inputing elements: 44\n",
      "Enter numbers OR type 'stop' to terminate inputing elements: 45\n",
      "Enter numbers OR type 'stop' to terminate inputing elements: 5\n",
      "Enter numbers OR type 'stop' to terminate inputing elements: stop\n",
      "[4, 44, 45, 5]\n"
     ]
    },
    {
     "data": {
      "text/plain": [
       "98"
      ]
     },
     "execution_count": 2,
     "metadata": {},
     "output_type": "execute_result"
    }
   ],
   "source": [
    "sum_of_elem()"
   ]
  },
  {
   "cell_type": "code",
   "execution_count": null,
   "metadata": {},
   "outputs": [],
   "source": []
  },
  {
   "cell_type": "code",
   "execution_count": null,
   "metadata": {},
   "outputs": [],
   "source": []
  },
  {
   "cell_type": "code",
   "execution_count": null,
   "metadata": {},
   "outputs": [],
   "source": []
  },
  {
   "cell_type": "markdown",
   "metadata": {},
   "source": [
    "Question 2. \n",
    "\n",
    "Write a Python program to Multiply all numbers in the list?"
   ]
  },
  {
   "cell_type": "code",
   "execution_count": 26,
   "metadata": {},
   "outputs": [],
   "source": [
    "def multiply_elem():\n",
    "    mul_lst = []\n",
    "    try:\n",
    "        while True:\n",
    "            input_n2 = int(input(\"Enter numbers OR type 'stop' to terminate inputing elements: \"))\n",
    "            if input_n2 == \"stop\":\n",
    "                break\n",
    "            mul_lst.append(input_n2)\n",
    "    except:\n",
    "        print(mul_lst)\n",
    "        \n",
    "    temp = 1\n",
    "    for i in mul_lst:\n",
    "        temp = temp * i\n",
    "    return temp\n",
    "    \n",
    "    "
   ]
  },
  {
   "cell_type": "code",
   "execution_count": 27,
   "metadata": {},
   "outputs": [
    {
     "name": "stdout",
     "output_type": "stream",
     "text": [
      "Enter numbers OR type 'stop' to terminate inputing elements: 1\n",
      "Enter numbers OR type 'stop' to terminate inputing elements: 4\n",
      "Enter numbers OR type 'stop' to terminate inputing elements: 5\n",
      "Enter numbers OR type 'stop' to terminate inputing elements: stop\n",
      "[1, 4, 5]\n"
     ]
    },
    {
     "data": {
      "text/plain": [
       "20"
      ]
     },
     "execution_count": 27,
     "metadata": {},
     "output_type": "execute_result"
    }
   ],
   "source": [
    "multiply_elem()"
   ]
  },
  {
   "cell_type": "code",
   "execution_count": null,
   "metadata": {},
   "outputs": [],
   "source": []
  },
  {
   "cell_type": "code",
   "execution_count": null,
   "metadata": {},
   "outputs": [],
   "source": []
  },
  {
   "cell_type": "code",
   "execution_count": null,
   "metadata": {},
   "outputs": [],
   "source": []
  },
  {
   "cell_type": "markdown",
   "metadata": {},
   "source": [
    "Question 3. \n",
    "\n",
    "Write a Python program to find smallest number in a list?\n"
   ]
  },
  {
   "cell_type": "code",
   "execution_count": 90,
   "metadata": {},
   "outputs": [],
   "source": [
    "def lowst_num():\n",
    "    lowest_lst = []\n",
    "    sort_lst = []\n",
    "    try:\n",
    "        while True:\n",
    "            input_n3 = int(input(\"Enter numbers OR type 'stop' to terminate inputing elements: \"))\n",
    "            if input_n3 == \"stop\":\n",
    "                break\n",
    "            lowest_lst.append(input_n3)\n",
    "            \n",
    "    except:\n",
    "        print(lowest_lst)\n",
    "        sort_lst = sorted(lowest_lst)\n",
    "        print(sort_lst)\n",
    "        print(\"lowest number among the list is: \",(sort_lst[0]))\n",
    "        \n",
    "        "
   ]
  },
  {
   "cell_type": "code",
   "execution_count": 91,
   "metadata": {},
   "outputs": [
    {
     "name": "stdout",
     "output_type": "stream",
     "text": [
      "Enter numbers OR type 'stop' to terminate inputing elements: 7\n",
      "Enter numbers OR type 'stop' to terminate inputing elements: 78\n",
      "Enter numbers OR type 'stop' to terminate inputing elements: 99\n",
      "Enter numbers OR type 'stop' to terminate inputing elements: 100\n",
      "Enter numbers OR type 'stop' to terminate inputing elements: 2\n",
      "Enter numbers OR type 'stop' to terminate inputing elements: stop\n",
      "[7, 78, 99, 100, 2]\n",
      "[2, 7, 78, 99, 100]\n",
      "lowest number among the list is:  2\n"
     ]
    }
   ],
   "source": [
    "lowst_num()"
   ]
  },
  {
   "cell_type": "code",
   "execution_count": null,
   "metadata": {},
   "outputs": [],
   "source": []
  },
  {
   "cell_type": "code",
   "execution_count": null,
   "metadata": {},
   "outputs": [],
   "source": []
  },
  {
   "cell_type": "code",
   "execution_count": null,
   "metadata": {},
   "outputs": [],
   "source": []
  },
  {
   "cell_type": "markdown",
   "metadata": {},
   "source": [
    "Question 4. \n",
    "\n",
    "Write a Python program to find largest number in a list?"
   ]
  },
  {
   "cell_type": "code",
   "execution_count": 86,
   "metadata": {},
   "outputs": [],
   "source": [
    "def highest_num():\n",
    "    highest_num = []\n",
    "    sort_lst = []\n",
    "    try:\n",
    "        while True:\n",
    "            input_n3 = int(input(\"Enter numbers OR type 'stop' to terminate inputing elements: \"))\n",
    "            if input_n3 == \"stop\":\n",
    "                break\n",
    "            highest_num.append(input_n3)\n",
    "            \n",
    "    except:\n",
    "        print(highest_num)\n",
    "        sort_lst2 = sorted(highest_num)\n",
    "        print(sort_lst2)\n",
    "        print(sort_lst2[-1])\n",
    "        \n",
    "\n",
    "        \n",
    "        "
   ]
  },
  {
   "cell_type": "code",
   "execution_count": 87,
   "metadata": {},
   "outputs": [
    {
     "name": "stdout",
     "output_type": "stream",
     "text": [
      "Enter numbers OR type 'stop' to terminate inputing elements: 4\n",
      "Enter numbers OR type 'stop' to terminate inputing elements: 87\n",
      "Enter numbers OR type 'stop' to terminate inputing elements: 98\n",
      "Enter numbers OR type 'stop' to terminate inputing elements: 100\n",
      "Enter numbers OR type 'stop' to terminate inputing elements: 120\n",
      "Enter numbers OR type 'stop' to terminate inputing elements: stop\n",
      "[4, 87, 98, 100, 120]\n",
      "[4, 87, 98, 100, 120]\n",
      "120\n"
     ]
    }
   ],
   "source": [
    "highest_num()"
   ]
  },
  {
   "cell_type": "code",
   "execution_count": null,
   "metadata": {},
   "outputs": [],
   "source": []
  },
  {
   "cell_type": "code",
   "execution_count": null,
   "metadata": {},
   "outputs": [],
   "source": []
  },
  {
   "cell_type": "code",
   "execution_count": null,
   "metadata": {},
   "outputs": [],
   "source": []
  },
  {
   "cell_type": "markdown",
   "metadata": {},
   "source": [
    "Question 5. \n",
    "\n",
    "Write a Python program to find second largest number in a list?"
   ]
  },
  {
   "cell_type": "code",
   "execution_count": 33,
   "metadata": {},
   "outputs": [],
   "source": [
    "def Scnd_highest_num():\n",
    "    Scnd_highest_num = []\n",
    "    sort_lst = []\n",
    "    try:\n",
    "        while True:\n",
    "            input_n3 = int(input(\"Enter numbers OR type 'stop' to terminate inputing elements: \"))\n",
    "            if input_n3 == \"stop\":\n",
    "                break\n",
    "            Scnd_highest_num.append(input_n3)\n",
    "            \n",
    "    except:\n",
    "        print(Scnd_highest_num)\n",
    "        sort_lst2 = sorted(Scnd_highest_num)\n",
    "        print(sort_lst2)\n",
    "        print(\"The second highest number from the list is: \",sort_lst2[-2])"
   ]
  },
  {
   "cell_type": "code",
   "execution_count": 85,
   "metadata": {},
   "outputs": [
    {
     "name": "stdout",
     "output_type": "stream",
     "text": [
      "Enter numbers OR type 'stop' to terminate inputing elements: 4\n",
      "Enter numbers OR type 'stop' to terminate inputing elements: 44\n",
      "Enter numbers OR type 'stop' to terminate inputing elements: 58\n",
      "Enter numbers OR type 'stop' to terminate inputing elements: 97\n",
      "Enter numbers OR type 'stop' to terminate inputing elements: 100\n",
      "Enter numbers OR type 'stop' to terminate inputing elements: 120\n",
      "Enter numbers OR type 'stop' to terminate inputing elements: stop\n",
      "<function highest_num at 0x0000022301D94B80>\n",
      "[4, 44, 58, 97, 100, 120]\n",
      "100\n"
     ]
    }
   ],
   "source": [
    "Scnd_highest_num()"
   ]
  },
  {
   "cell_type": "code",
   "execution_count": null,
   "metadata": {},
   "outputs": [],
   "source": []
  },
  {
   "cell_type": "code",
   "execution_count": null,
   "metadata": {},
   "outputs": [],
   "source": []
  },
  {
   "cell_type": "code",
   "execution_count": null,
   "metadata": {},
   "outputs": [],
   "source": []
  },
  {
   "cell_type": "markdown",
   "metadata": {},
   "source": [
    "Question 6. \n",
    "\n",
    "Write a Python program to find N largest elements from a list?"
   ]
  },
  {
   "cell_type": "code",
   "execution_count": 31,
   "metadata": {},
   "outputs": [],
   "source": [
    "def n_elem():\n",
    "    lst_n_elem = []\n",
    "    sort_lst_n = []\n",
    "    try:\n",
    "        while True:\n",
    "            input_n_elem = int(input())\n",
    "            if input_n_elem == \"stop\":\n",
    "                break\n",
    "            lst_n_elem.append(input_n_elem)\n",
    "                \n",
    "            \n",
    "    except:\n",
    "        print(lst_n_elem)\n",
    "        \n",
    "        \n",
    "    for i in lst_n_elem:\n",
    "        sort_lst_n = sorted(lst_n_elem)\n",
    "    print(sort_lst_n)\n",
    "    \n",
    "    enter_n_val = int(input())\n",
    "    highst_num = sort_lst_n[-enter_n_val:]  ## to remove square brackets\n",
    "    lst_str = str(highst_num)[1:-1]\n",
    "    print(\"The Highest \", enter_n_val, \" from the list are: \", lst_str)\n",
    "        "
   ]
  },
  {
   "cell_type": "code",
   "execution_count": 32,
   "metadata": {},
   "outputs": [
    {
     "name": "stdout",
     "output_type": "stream",
     "text": [
      "4\n",
      "45\n",
      "44\n",
      "7\n",
      "78\n",
      "98\n",
      "112\n",
      "stop\n",
      "[4, 45, 44, 7, 78, 98, 112]\n",
      "[4, 7, 44, 45, 78, 98, 112]\n",
      "2\n",
      "The Highest  2  from the list are  98, 112\n"
     ]
    }
   ],
   "source": [
    "n_elem()"
   ]
  },
  {
   "cell_type": "code",
   "execution_count": null,
   "metadata": {},
   "outputs": [],
   "source": []
  },
  {
   "cell_type": "code",
   "execution_count": null,
   "metadata": {},
   "outputs": [],
   "source": []
  },
  {
   "cell_type": "code",
   "execution_count": null,
   "metadata": {},
   "outputs": [],
   "source": []
  },
  {
   "cell_type": "markdown",
   "metadata": {},
   "source": [
    "Question 7. \n",
    "\n",
    "Write a Python program to print even numbers in a list?"
   ]
  },
  {
   "cell_type": "code",
   "execution_count": 50,
   "metadata": {},
   "outputs": [],
   "source": [
    "def prnt_even():\n",
    "    lst_rand = []\n",
    "    try:\n",
    "        while True:\n",
    "            input_rand = int(input())\n",
    "            if input_rand == \"stop\":\n",
    "                break\n",
    "            lst_rand.append(input_rand)\n",
    "            \n",
    "    except:\n",
    "        print(lst_rand)\n",
    "        \n",
    "    print(\"The Even Numbers from the list are: \")\n",
    "        \n",
    "    for i in lst_rand:\n",
    "        if i % 2 == 0:\n",
    "            print(i, end = ' ')\n"
   ]
  },
  {
   "cell_type": "code",
   "execution_count": 51,
   "metadata": {},
   "outputs": [
    {
     "name": "stdout",
     "output_type": "stream",
     "text": [
      "4\n",
      "45\n",
      "78\n",
      "98\n",
      "112\n",
      "111\n",
      "100\n",
      "114\n",
      "45\n",
      "56\n",
      "54\n",
      "58\n",
      "stop\n",
      "[4, 45, 78, 98, 112, 111, 100, 114, 45, 56, 54, 58]\n",
      "The even Numbers from the list are: \n",
      "4 78 98 112 100 114 56 54 58 "
     ]
    }
   ],
   "source": [
    "prnt_even()"
   ]
  },
  {
   "cell_type": "code",
   "execution_count": null,
   "metadata": {},
   "outputs": [],
   "source": []
  },
  {
   "cell_type": "code",
   "execution_count": null,
   "metadata": {},
   "outputs": [],
   "source": []
  },
  {
   "cell_type": "code",
   "execution_count": null,
   "metadata": {},
   "outputs": [],
   "source": []
  },
  {
   "cell_type": "markdown",
   "metadata": {},
   "source": [
    "Question 8. \n",
    "\n",
    "Write a Python program to print odd numbers in a List?"
   ]
  },
  {
   "cell_type": "code",
   "execution_count": 58,
   "metadata": {},
   "outputs": [],
   "source": [
    "def prnt_odd():\n",
    "    lst_rand_odd = []\n",
    "    try:\n",
    "        while True:\n",
    "            input_rand_odd = int(input())\n",
    "            if input_rand_odd == \"stop\":\n",
    "                break\n",
    "            lst_rand_odd.append(input_rand_odd)\n",
    "            \n",
    "    except:\n",
    "        print(lst_rand_odd)\n",
    "        \n",
    "    print(\"The Odd Numbers from the list are: \")\n",
    "        \n",
    "    for i in lst_rand_odd:\n",
    "        if i % 2 != 0:\n",
    "            print(i, end = ' ')\n"
   ]
  },
  {
   "cell_type": "code",
   "execution_count": 59,
   "metadata": {},
   "outputs": [
    {
     "name": "stdout",
     "output_type": "stream",
     "text": [
      "7\n",
      "78\n",
      "98\n",
      "87\n",
      "88\n",
      "85\n",
      "12\n",
      "11\n",
      "9\n",
      "stop\n",
      "[7, 78, 98, 87, 88, 85, 12, 11, 9]\n",
      "The Odd Numbers from the list are: \n",
      "7 87 85 11 9 "
     ]
    }
   ],
   "source": [
    "prnt_odd()"
   ]
  },
  {
   "cell_type": "code",
   "execution_count": null,
   "metadata": {},
   "outputs": [],
   "source": []
  },
  {
   "cell_type": "code",
   "execution_count": null,
   "metadata": {},
   "outputs": [],
   "source": []
  },
  {
   "cell_type": "code",
   "execution_count": null,
   "metadata": {},
   "outputs": [],
   "source": []
  },
  {
   "cell_type": "markdown",
   "metadata": {},
   "source": [
    "Question 9. \n",
    "\n",
    "Write a Python program to Remove empty List from List?"
   ]
  },
  {
   "cell_type": "code",
   "execution_count": null,
   "metadata": {},
   "outputs": [],
   "source": [
    "## Create a list until stop\n",
    "lst_of_lsts = []\n",
    "\n",
    "lst_ = int(input())"
   ]
  },
  {
   "cell_type": "code",
   "execution_count": null,
   "metadata": {},
   "outputs": [],
   "source": []
  },
  {
   "cell_type": "code",
   "execution_count": null,
   "metadata": {},
   "outputs": [],
   "source": []
  },
  {
   "cell_type": "code",
   "execution_count": null,
   "metadata": {},
   "outputs": [],
   "source": []
  },
  {
   "cell_type": "code",
   "execution_count": 103,
   "metadata": {},
   "outputs": [
    {
     "name": "stdout",
     "output_type": "stream",
     "text": [
      "Enter an integer, the value ends if it is '0': 4715\n",
      "Enter an integer, the value ends if it is '0': 98756\n",
      "Enter an integer, the value ends if it is '0': \n",
      "Enter an integer, the value ends if it is '0': 325996\n",
      "Enter an integer, the value ends if it is '0': 0\n",
      "[['4', '7', '1', '5'], ['9', '8', '7', '5', '6'], [], ['3', '2', '5', '9', '9', '6']]\n"
     ]
    }
   ],
   "source": [
    "values = []\n",
    "while True:\n",
    "    val = list(input(\"Enter an integer, the value ends if it is '0': \"))\n",
    "    if val == list(['0']):\n",
    "        break\n",
    "    values.append(val)\n",
    "print(values)\n"
   ]
  },
  {
   "cell_type": "code",
   "execution_count": 108,
   "metadata": {},
   "outputs": [
    {
     "name": "stdout",
     "output_type": "stream",
     "text": [
      "['4', '7', '1', '5']\n",
      "['9', '8', '7', '5', '6']\n",
      "[]\n",
      "['3', '2', '5', '9', '9', '6']\n"
     ]
    }
   ],
   "source": [
    "for j in values:\n",
    "    print(j)\n",
    "    \n",
    "    "
   ]
  },
  {
   "cell_type": "code",
   "execution_count": 109,
   "metadata": {},
   "outputs": [
    {
     "name": "stdout",
     "output_type": "stream",
     "text": [
      "[['4', '7', '1', '5'], ['9', '8', '7', '5', '6'], [], ['3', '2', '5', '9', '9', '6']]\n"
     ]
    }
   ],
   "source": [
    "print(values)"
   ]
  },
  {
   "cell_type": "code",
   "execution_count": 115,
   "metadata": {},
   "outputs": [
    {
     "name": "stdout",
     "output_type": "stream",
     "text": [
      "[]\n"
     ]
    }
   ],
   "source": [
    "lst_values = []\n",
    "for j in values:\n",
    "    if values[i] == []:\n",
    "        lst_values.append(values[i])\n",
    "print(lst_values)\n",
    "\n",
    "    "
   ]
  },
  {
   "cell_type": "code",
   "execution_count": 116,
   "metadata": {},
   "outputs": [
    {
     "name": "stdout",
     "output_type": "stream",
     "text": [
      "[['4', '7', '1', '5'], ['9', '8', '7', '5', '6'], [], ['3', '2', '5', '9', '9', '6']]\n"
     ]
    }
   ],
   "source": [
    "print(values)"
   ]
  },
  {
   "cell_type": "code",
   "execution_count": 112,
   "metadata": {},
   "outputs": [
    {
     "name": "stdout",
     "output_type": "stream",
     "text": [
      "[['4', '7', '1', '5'], ['9', '8', '7', '5', '6'], ['3', '2', '5', '9', '9', '6']]\n"
     ]
    }
   ],
   "source": [
    "val_filter = list(filter(lambda x: x, values))\n",
    "print(val_filter)"
   ]
  },
  {
   "cell_type": "code",
   "execution_count": null,
   "metadata": {},
   "outputs": [],
   "source": []
  },
  {
   "cell_type": "code",
   "execution_count": 117,
   "metadata": {},
   "outputs": [
    {
     "name": "stdout",
     "output_type": "stream",
     "text": [
      "[['4', '7', '1', '5'], ['9', '8', '7', '5', '6'], ['3', '2', '5', '9', '9', '6']]\n"
     ]
    }
   ],
   "source": [
    "val_filter2 = [x for x in values if x]\n",
    "print(val_filter2)"
   ]
  },
  {
   "cell_type": "code",
   "execution_count": null,
   "metadata": {},
   "outputs": [],
   "source": []
  },
  {
   "cell_type": "code",
   "execution_count": null,
   "metadata": {},
   "outputs": [],
   "source": []
  },
  {
   "cell_type": "code",
   "execution_count": null,
   "metadata": {},
   "outputs": [],
   "source": []
  },
  {
   "cell_type": "markdown",
   "metadata": {},
   "source": [
    "Question 10. \n",
    "\n",
    "Write a Python program to Cloning or Copying a list?"
   ]
  },
  {
   "cell_type": "code",
   "execution_count": 139,
   "metadata": {},
   "outputs": [],
   "source": [
    "def clone_list():\n",
    "    fill_lst = []\n",
    "    try:\n",
    "        while True:\n",
    "            new_lst = int(input())\n",
    "            if new_lst == \"quit\":\n",
    "                break\n",
    "            fill_lst.append(new_lst)\n",
    "            \n",
    "    except:\n",
    "        print(\"The original List is: \", fill_lst)\n",
    "        \n",
    "    clone_lst = []\n",
    "    for j in fill_lst:\n",
    "        clone_lst.append(j)\n",
    "    print(\"\\nThe copied list is: \", clone_lst)"
   ]
  },
  {
   "cell_type": "code",
   "execution_count": 140,
   "metadata": {},
   "outputs": [
    {
     "name": "stdout",
     "output_type": "stream",
     "text": [
      "45\n",
      "44\n",
      "78\n",
      "12\n",
      "110\n",
      "quit\n",
      "The original List is:  [45, 44, 78, 12, 110]\n",
      "\n",
      "The copied list is:  [45, 44, 78, 12, 110]\n"
     ]
    }
   ],
   "source": [
    "clone_list()"
   ]
  },
  {
   "cell_type": "code",
   "execution_count": null,
   "metadata": {},
   "outputs": [],
   "source": []
  },
  {
   "cell_type": "code",
   "execution_count": null,
   "metadata": {},
   "outputs": [],
   "source": []
  },
  {
   "cell_type": "code",
   "execution_count": null,
   "metadata": {},
   "outputs": [],
   "source": []
  },
  {
   "cell_type": "markdown",
   "metadata": {},
   "source": [
    "Question 11. \n",
    "\n",
    "Write a Python program to Count occurrences of an element in a list?"
   ]
  },
  {
   "cell_type": "code",
   "execution_count": 241,
   "metadata": {},
   "outputs": [],
   "source": [
    "def count_occurence():\n",
    "    occur_lst = []\n",
    "    \n",
    "    try:\n",
    "        while True:\n",
    "            inp_lst = int(input())\n",
    "            if inp_lst == \"quit\":\n",
    "                break\n",
    "            occur_lst.append(inp_lst)\n",
    "            \n",
    "    except:\n",
    "        print(occur_lst)\n",
    "        \n",
    "    \n",
    "    \n",
    "    find_occur = int(input(\"Enter the Number for its Occurence \"))\n",
    "    count = 0\n",
    "    \n",
    "    try:\n",
    "        for i in occur_lst:\n",
    "            if i == find_occur:\n",
    "                count += 1\n",
    "        print(\"The number of times the number \", find_occur, \"occuered is \", count)\n",
    "        \n",
    "        \n",
    "    except i not in occur_lst:\n",
    "        print(\"Not Present\")\n",
    "        "
   ]
  },
  {
   "cell_type": "code",
   "execution_count": 243,
   "metadata": {},
   "outputs": [
    {
     "name": "stdout",
     "output_type": "stream",
     "text": [
      "44\n",
      "54\n",
      "10\n",
      "63\n",
      "36\n",
      "10\n",
      "98\n",
      "89\n",
      "10\n",
      "quit\n",
      "[44, 54, 10, 63, 36, 10, 98, 89, 10]\n",
      "Enter the Number for its Occurence 5\n",
      "The number of times the number  5 occuered is  0\n"
     ]
    }
   ],
   "source": [
    "count_occurence()"
   ]
  },
  {
   "cell_type": "code",
   "execution_count": 228,
   "metadata": {},
   "outputs": [],
   "source": []
  },
  {
   "cell_type": "code",
   "execution_count": null,
   "metadata": {},
   "outputs": [],
   "source": []
  },
  {
   "cell_type": "code",
   "execution_count": 230,
   "metadata": {},
   "outputs": [],
   "source": []
  },
  {
   "cell_type": "code",
   "execution_count": null,
   "metadata": {},
   "outputs": [],
   "source": []
  },
  {
   "cell_type": "code",
   "execution_count": null,
   "metadata": {},
   "outputs": [],
   "source": []
  }
 ],
 "metadata": {
  "kernelspec": {
   "display_name": "Python 3",
   "language": "python",
   "name": "python3"
  },
  "language_info": {
   "codemirror_mode": {
    "name": "ipython",
    "version": 3
   },
   "file_extension": ".py",
   "mimetype": "text/x-python",
   "name": "python",
   "nbconvert_exporter": "python",
   "pygments_lexer": "ipython3",
   "version": "3.8.5"
  }
 },
 "nbformat": 4,
 "nbformat_minor": 4
}
