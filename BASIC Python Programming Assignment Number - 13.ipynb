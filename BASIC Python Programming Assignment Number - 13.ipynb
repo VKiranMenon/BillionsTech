{
 "cells": [
  {
   "cell_type": "code",
   "execution_count": null,
   "metadata": {},
   "outputs": [],
   "source": []
  },
  {
   "cell_type": "markdown",
   "metadata": {},
   "source": [
    "Question 1:\n",
    "\n",
    "Write a program that calculates and prints the value according to the given formula:\n",
    "\n",
    "Q = Square root of [(2 * C * D)/H]\n",
    "\n",
    "Following are the fixed values of C and H:\n",
    "\n",
    "\n",
    "C is 50. H is 30.\n",
    "\n",
    "D is the variable whose values should be input to your program in a comma-separated\n",
    "sequence.\n",
    "\n",
    "Example\n",
    "Let us assume the following comma separated input sequence is given to the program:\n",
    "\n",
    "100,150,180\n",
    "\n",
    "The output of the program should be:\n",
    "\n",
    "18,22,24"
   ]
  },
  {
   "cell_type": "code",
   "execution_count": 23,
   "metadata": {},
   "outputs": [],
   "source": [
    "import math  ## import math library to perform the in-built sqrt() function\n",
    "\n",
    "\n",
    "def calculate_value():\n",
    "    \n",
    "    ## pre-defined variables\n",
    "    \n",
    "    C = 50  \n",
    "    H = 30\n",
    "    \n",
    "    ## exception handling of entering 3 inputs and converting them into int objects\n",
    "    \n",
    "    try:\n",
    "        entr_3_input = input(\" Please enter 3 numbers seperated by a space: \")\n",
    "        a, b, c = entr_3_input.split()             ## one input assigns 3 values for 3 variables\n",
    "        \n",
    "    except ValueError:\n",
    "        print(\"Error\")\n",
    "        \n",
    "    else:\n",
    "        cnvrt_a = int(a)                          ## converting the values from string to int object\n",
    "        cnvrt_b = int(b)\n",
    "        cnvrt_c = int(c)\n",
    "          \n",
    "    res_1 = math.sqrt(2 * C * cnvrt_a // H)      ## Calculating the value with the given formula\n",
    "    res_2 = math.sqrt(2 * C * cnvrt_b // H)\n",
    "    res_3 = math.sqrt(2 * C * cnvrt_c // H)\n",
    "    \n",
    "    return round(res_1), round(res_2), round(res_3)"
   ]
  },
  {
   "cell_type": "code",
   "execution_count": 24,
   "metadata": {},
   "outputs": [
    {
     "name": "stdout",
     "output_type": "stream",
     "text": [
      " Please enter 3 numbers seperated by a space: 100 150 180\n"
     ]
    },
    {
     "data": {
      "text/plain": [
       "(18, 22, 24)"
      ]
     },
     "execution_count": 24,
     "metadata": {},
     "output_type": "execute_result"
    }
   ],
   "source": [
    "calculate_value()"
   ]
  },
  {
   "cell_type": "code",
   "execution_count": null,
   "metadata": {},
   "outputs": [],
   "source": []
  },
  {
   "cell_type": "code",
   "execution_count": null,
   "metadata": {},
   "outputs": [],
   "source": []
  },
  {
   "cell_type": "code",
   "execution_count": null,
   "metadata": {},
   "outputs": [],
   "source": []
  },
  {
   "cell_type": "markdown",
   "metadata": {},
   "source": [
    "Question 2:\n",
    "\n",
    "\n",
    "Write a program which takes 2 digits, X,Y as input and generates a 2-dimensional array. \n",
    "\n",
    "The element value in the i-th row and j-th column of the array should be i*j.\n",
    "\n",
    "\n",
    "Note: i=0,1.., X-1; j=0,1,¡Y-1.\n",
    "\n",
    "\n",
    "Example:\n",
    "\n",
    "Suppose the following inputs are given to the program:\n",
    "3,5\n",
    "\n",
    "Then, the output of the program should be:\n",
    "\n",
    "[[0, 0, 0, 0, 0], [0, 1, 2, 3, 4], [0, 2, 4, 6, 8]]"
   ]
  },
  {
   "cell_type": "raw",
   "metadata": {},
   "source": [
    "`matrix = []` An empty list is created to include all the rows and columns which will eventually create a 2-D array.\n",
    "\n",
    "|\n",
    "\n",
    "We start with the `For Loop`  for \"rows\" that will have the range from 0 to 'input number - 1'.\n",
    "\n",
    "What this signifies that when the first row is created then from 0 it will also create 5 spaces for the column, which is signified by the `nested For Loop`.\n",
    "\n",
    "Under the main For Loop an empty list is created which acts as a row, and every value that is iterated in columns are included inside this row.\n",
    "\n",
    "For example in Row 0, there will be '5' spaces and the number displayed will range from 0 to 4 (input == 5)\n",
    "\n",
    "Then comes Row 1, where again it will have '5' spaces. \n",
    "\n",
    "`row.append(x * y)` what this function does is after each iteration from columns and then in rows it multiples each element\n",
    "\n",
    "     \n",
    "     Columns\n",
    "     \n",
    "            0     1      2      3      4\n",
    "            \n",
    "       0   0*0   0*1   0*2     0*3    0*4\n",
    "\n",
    "Rows   1   1*0   1*1   1*2     1*3    1*4\n",
    "\n",
    "       2   2*0   2*1   2*2     2*3    2*4\n",
    "\n",
    "       3   3*0  3*1   3*2      3*3    3*4\n",
    "       \n",
    "       \n",
    "So every Row when iterated multiples with each Column and then moves onto the next Row.\n",
    "\n",
    "After which all the values are appended inside the empty list `matrix`....\n",
    "\n",
    "\n",
    "After we imported library Numpy we convert the List (matrix) into an array through the function `np.array`\n",
    "\n",
    "\n",
    "\n",
    "Optional\n",
    "\n",
    "After that we can run the For loop again for Rows and Columns and then print the values of `i` and `j` \n",
    "\n",
    "print(in array form [i] [j])"
   ]
  },
  {
   "cell_type": "code",
   "execution_count": 105,
   "metadata": {},
   "outputs": [],
   "source": [
    "import numpy as np\n",
    "\n",
    "def two_d_array(rows, columns):\n",
    "    \n",
    "    matrix = []         ## An empty list which will append the rows and columsn into a 2-D array\n",
    "    for i in range(rows):\n",
    "        row = []\n",
    "        for j in range(columns):\n",
    "            row.append(i * j)    \n",
    "            \n",
    "        matrix.append(row)\n",
    "    arr = np.array(matrix)\n",
    "    \n",
    "        \n",
    "# #     for i in range(rows):\n",
    "# #         for j in range(columns):\n",
    "# #             print(arr[i][j], end = \" \")\n",
    "#         print()\n",
    "\n",
    "    print(arr)\n",
    "    print(matrix)\n",
    "    return\n",
    "        \n",
    "            "
   ]
  },
  {
   "cell_type": "code",
   "execution_count": 109,
   "metadata": {},
   "outputs": [
    {
     "name": "stdout",
     "output_type": "stream",
     "text": [
      "[[0 0 0 0 0]\n",
      " [0 1 2 3 4]\n",
      " [0 2 4 6 8]]\n",
      "[[0, 0, 0, 0, 0], [0, 1, 2, 3, 4], [0, 2, 4, 6, 8]]\n"
     ]
    }
   ],
   "source": [
    "two_d_array(3, 5)"
   ]
  },
  {
   "cell_type": "code",
   "execution_count": null,
   "metadata": {},
   "outputs": [],
   "source": []
  },
  {
   "cell_type": "code",
   "execution_count": null,
   "metadata": {},
   "outputs": [],
   "source": []
  },
  {
   "cell_type": "code",
   "execution_count": null,
   "metadata": {},
   "outputs": [],
   "source": []
  },
  {
   "cell_type": "markdown",
   "metadata": {},
   "source": [
    "Question 3:\n",
    "\n",
    "Write a program that accepts a comma separated sequence of words as input and prints the\n",
    "words in a comma-separated sequence after sorting them alphabetically.\n",
    "\n",
    "Suppose the following input is supplied to the program:\n",
    "\n",
    "without,hello,bag,world\n",
    "\n",
    "Then, the output should be:\n",
    "\n",
    "bag,hello,without,world"
   ]
  },
  {
   "cell_type": "code",
   "execution_count": 354,
   "metadata": {},
   "outputs": [],
   "source": [
    "def sorting_words():\n",
    "    try:\n",
    "        rand_words = input(\"Input random words seperated by a comma \")\n",
    "        lst_words = [value for value in rand_words.split(\",\")]\n",
    "        \n",
    "    except:\n",
    "        print(\"Please Enter only String Values\")\n",
    "        \n",
    "    else:\n",
    "        print(\",\".join(sorted(list(lst_words))))\n",
    "\n",
    "        \n",
    "    return\n"
   ]
  },
  {
   "cell_type": "code",
   "execution_count": 355,
   "metadata": {},
   "outputs": [
    {
     "name": "stdout",
     "output_type": "stream",
     "text": [
      "Input random words seperated by a comma without,hello,bag,world,bag\n",
      "bag,bag,hello,without,world\n"
     ]
    }
   ],
   "source": [
    "sorting_words()"
   ]
  },
  {
   "cell_type": "code",
   "execution_count": null,
   "metadata": {},
   "outputs": [],
   "source": []
  },
  {
   "cell_type": "code",
   "execution_count": null,
   "metadata": {},
   "outputs": [],
   "source": []
  },
  {
   "cell_type": "code",
   "execution_count": null,
   "metadata": {},
   "outputs": [],
   "source": []
  },
  {
   "cell_type": "markdown",
   "metadata": {},
   "source": [
    "Question 4:\n",
    "\n",
    "Write a program that accepts a sequence of whitespace separated words as input and prints\n",
    "\n",
    "the words after removing all duplicate words and sorting them alphanumerically.\n",
    "\n",
    "Suppose the following input is supplied to the program:\n",
    "\n",
    "hello world and practice makes perfect and hello world again\n",
    "\n",
    "Then, the output should be:\n",
    "\n",
    "again and hello makes perfect practice world"
   ]
  },
  {
   "cell_type": "code",
   "execution_count": 360,
   "metadata": {},
   "outputs": [],
   "source": [
    "def sort_space_duplicate():\n",
    "    \n",
    "    try:\n",
    "        random_words_ = input(\"Random words seperated by a whitespace \").split()\n",
    "        rmv_duplicates = list(dict.fromkeys(random_words_))\n",
    "        \n",
    "        lst_no_duplicates = list(set(random_words_))\n",
    "        \n",
    "    except:\n",
    "        print(\"Invalid entry\")\n",
    "        \n",
    "    else:\n",
    "        print(\"Using built-in commnad fromkeys() --> \",\" \".join(sorted(rmv_duplicates)))\n",
    "        print(\"Using set() command --> \",\" \".join(sorted(lst_no_duplicates)))\n",
    "        \n",
    "    return"
   ]
  },
  {
   "cell_type": "code",
   "execution_count": 361,
   "metadata": {},
   "outputs": [
    {
     "name": "stdout",
     "output_type": "stream",
     "text": [
      "Random words seperated by a whitespace hello world and practice makes perfect and hello world again\n",
      "Using built-in commnad fromkeys() again and hello makes perfect practice world\n",
      "Using set() command again and hello makes perfect practice world\n"
     ]
    }
   ],
   "source": [
    "sort_space_duplicate()"
   ]
  },
  {
   "cell_type": "code",
   "execution_count": null,
   "metadata": {},
   "outputs": [],
   "source": []
  },
  {
   "cell_type": "code",
   "execution_count": null,
   "metadata": {},
   "outputs": [],
   "source": []
  },
  {
   "cell_type": "code",
   "execution_count": null,
   "metadata": {},
   "outputs": [],
   "source": []
  },
  {
   "cell_type": "markdown",
   "metadata": {},
   "source": [
    "Question 5:\n",
    "\n",
    "Write a program that accepts a sentence and calculate the number of letters and digits.\n",
    "\n",
    "Suppose the following input is supplied to the program:\n",
    "\n",
    "hello world! 123\n",
    "\n",
    "Then, the output should be:\n",
    "\n",
    "LETTERS 10\n",
    "\n",
    "DIGITS  3"
   ]
  },
  {
   "cell_type": "code",
   "execution_count": 409,
   "metadata": {},
   "outputs": [],
   "source": [
    "def check_alpha_num():\n",
    "    \n",
    "    alphabts_ = digits_ = charcters_  = \"\"\n",
    "    \n",
    "    entr_string_char = input(\"Enter Random alphanumeric values: \")\n",
    "    \n",
    "    for i in range(len(entr_string_char)):\n",
    "#         if ((entr_string_char[i] >= \"A\" and entr_string_char[i] <= \"Z\") or (entr_string_char[i] >= \"a\" and entr_string_char[i] <= \"z\")):\n",
    "#             alphabts_ = alphabts_ + entr_string_char[i]\n",
    "            \n",
    "    \n",
    "        if (entr_string_char[i].isalpha()):\n",
    "            alphabts_ = alphabts_ + entr_string_char[i]\n",
    "        elif (entr_string_char[i].isdigit()):\n",
    "            digits_ = digits_ + entr_string_char[i]\n",
    "        else:\n",
    "            charcters_ = charcters_ + entr_string_char[i]\n",
    "            \n",
    "    return \"LETTERS: \", len(alphabts_), \"DIGITS: \", len(digits_)\n",
    "        \n",
    "        "
   ]
  },
  {
   "cell_type": "code",
   "execution_count": 410,
   "metadata": {},
   "outputs": [
    {
     "name": "stdout",
     "output_type": "stream",
     "text": [
      "Enter Random alphanumeric values: hello world !!@##@ 123\n"
     ]
    },
    {
     "data": {
      "text/plain": [
       "('LETTERS: ', 10, 'DIGITS: ', 3)"
      ]
     },
     "execution_count": 410,
     "metadata": {},
     "output_type": "execute_result"
    }
   ],
   "source": [
    "check_alpha_num()\n"
   ]
  },
  {
   "cell_type": "code",
   "execution_count": null,
   "metadata": {},
   "outputs": [],
   "source": [
    " "
   ]
  },
  {
   "cell_type": "code",
   "execution_count": null,
   "metadata": {},
   "outputs": [],
   "source": []
  },
  {
   "cell_type": "code",
   "execution_count": null,
   "metadata": {},
   "outputs": [],
   "source": []
  },
  {
   "cell_type": "markdown",
   "metadata": {},
   "source": [
    "Question 6:\n",
    "\n",
    "A website requires the users to input username and password to register. Write a program to\n",
    "check the validity of password input by users.\n",
    "\n",
    "Following are the criteria for checking the password:\n",
    "\n",
    "1. At least 1 letter between [a-z]\n",
    "\n",
    "2. At least 1 number between [0-9]\n",
    "\n",
    "1. At least 1 letter between [A-Z]\n",
    "\n",
    "3. At least 1 character from [$#@]\n",
    "\n",
    "4. Minimum length of transaction password: 6\n",
    "\n",
    "5. Maximum length of transaction password: 12\n",
    "\n",
    "Your program should accept a sequence of comma separated passwords and will check them\n",
    "according to the above criteria. Passwords that match the criteria are to be printed, each\n",
    "separated by a comma.\n",
    "\n",
    "Example\n",
    "\n",
    "If the following passwords are given as input to the program:\n",
    "ABd1234@1,  a F1#,  2w3E*,  2We3345\n",
    "\n",
    "Then, the output of the program should be:\n",
    "ABd1234@1"
   ]
  },
  {
   "cell_type": "code",
   "execution_count": 684,
   "metadata": {},
   "outputs": [],
   "source": [
    "import string\n",
    "\n",
    "def check_password():\n",
    "    \n",
    "# \"PassWrd@$12\"\n",
    "    str_input = input()\n",
    "\n",
    "    alpha_ = digit_ = lower_ = upper_ = char_ = \"\"\n",
    "\n",
    "\n",
    "\n",
    "    if len(str_input) >= 6 and len(str_input) <= 12:\n",
    "        for i in range(len(str_input)):\n",
    "\n",
    "            if (str_input[i].isalpha()):\n",
    "                alpha_ = alpha_ + str_input[i]\n",
    "\n",
    "            if (str_input[i].isdigit()):\n",
    "                digit_ = digit_ + str_input[i]\n",
    "\n",
    "            if (str_input[i].islower()):\n",
    "                lower_ = lower_ + str_input[i]\n",
    "\n",
    "            if (str_input[i].isupper()):\n",
    "                upper_ = upper_ + str_input[i]\n",
    "\n",
    "            if (str_input[i] in string.punctuation):\n",
    "                char_ = char_ + str_input[i]\n",
    "\n",
    "\n",
    "\n",
    "    if len(alpha_) >= 1 and len(digit_) >= 1 and len(lower_) >= 1 and len(upper_) >= 1 and len(char_) >= 1 and len(alpha_ + digit_ + char_) >=6 and len (str_input) <= 12:\n",
    "        print(\"Valid\")\n",
    "\n",
    "    else:\n",
    "        print(\"Invalid\")\n",
    "\n",
    "\n"
   ]
  },
  {
   "cell_type": "code",
   "execution_count": 685,
   "metadata": {},
   "outputs": [
    {
     "name": "stdout",
     "output_type": "stream",
     "text": [
      "PASSWERD45@\n",
      "Invalid\n"
     ]
    }
   ],
   "source": [
    "check_password()"
   ]
  },
  {
   "cell_type": "code",
   "execution_count": null,
   "metadata": {},
   "outputs": [],
   "source": []
  },
  {
   "cell_type": "code",
   "execution_count": null,
   "metadata": {},
   "outputs": [],
   "source": []
  },
  {
   "cell_type": "code",
   "execution_count": null,
   "metadata": {},
   "outputs": [],
   "source": []
  },
  {
   "cell_type": "code",
   "execution_count": null,
   "metadata": {},
   "outputs": [],
   "source": []
  },
  {
   "cell_type": "code",
   "execution_count": null,
   "metadata": {},
   "outputs": [],
   "source": []
  },
  {
   "cell_type": "code",
   "execution_count": null,
   "metadata": {},
   "outputs": [],
   "source": []
  },
  {
   "cell_type": "code",
   "execution_count": null,
   "metadata": {},
   "outputs": [],
   "source": []
  },
  {
   "cell_type": "code",
   "execution_count": null,
   "metadata": {},
   "outputs": [],
   "source": []
  },
  {
   "cell_type": "code",
   "execution_count": null,
   "metadata": {},
   "outputs": [],
   "source": []
  },
  {
   "cell_type": "code",
   "execution_count": null,
   "metadata": {},
   "outputs": [],
   "source": []
  },
  {
   "cell_type": "code",
   "execution_count": null,
   "metadata": {},
   "outputs": [],
   "source": []
  },
  {
   "cell_type": "code",
   "execution_count": null,
   "metadata": {},
   "outputs": [],
   "source": []
  },
  {
   "cell_type": "code",
   "execution_count": null,
   "metadata": {},
   "outputs": [],
   "source": []
  },
  {
   "cell_type": "code",
   "execution_count": null,
   "metadata": {},
   "outputs": [],
   "source": []
  },
  {
   "cell_type": "code",
   "execution_count": null,
   "metadata": {},
   "outputs": [],
   "source": []
  },
  {
   "cell_type": "code",
   "execution_count": null,
   "metadata": {},
   "outputs": [],
   "source": []
  },
  {
   "cell_type": "code",
   "execution_count": null,
   "metadata": {},
   "outputs": [],
   "source": []
  },
  {
   "cell_type": "code",
   "execution_count": null,
   "metadata": {},
   "outputs": [],
   "source": []
  },
  {
   "cell_type": "code",
   "execution_count": null,
   "metadata": {},
   "outputs": [],
   "source": []
  },
  {
   "cell_type": "code",
   "execution_count": null,
   "metadata": {},
   "outputs": [],
   "source": []
  },
  {
   "cell_type": "code",
   "execution_count": null,
   "metadata": {},
   "outputs": [],
   "source": []
  },
  {
   "cell_type": "code",
   "execution_count": null,
   "metadata": {},
   "outputs": [],
   "source": []
  },
  {
   "cell_type": "code",
   "execution_count": null,
   "metadata": {},
   "outputs": [],
   "source": []
  },
  {
   "cell_type": "code",
   "execution_count": null,
   "metadata": {},
   "outputs": [],
   "source": []
  },
  {
   "cell_type": "code",
   "execution_count": null,
   "metadata": {},
   "outputs": [],
   "source": []
  },
  {
   "cell_type": "code",
   "execution_count": null,
   "metadata": {},
   "outputs": [],
   "source": []
  },
  {
   "cell_type": "code",
   "execution_count": null,
   "metadata": {},
   "outputs": [],
   "source": []
  },
  {
   "cell_type": "code",
   "execution_count": null,
   "metadata": {},
   "outputs": [],
   "source": []
  },
  {
   "cell_type": "code",
   "execution_count": null,
   "metadata": {},
   "outputs": [],
   "source": []
  },
  {
   "cell_type": "code",
   "execution_count": null,
   "metadata": {},
   "outputs": [],
   "source": []
  },
  {
   "cell_type": "code",
   "execution_count": null,
   "metadata": {},
   "outputs": [],
   "source": []
  },
  {
   "cell_type": "code",
   "execution_count": null,
   "metadata": {},
   "outputs": [],
   "source": []
  },
  {
   "cell_type": "code",
   "execution_count": null,
   "metadata": {},
   "outputs": [],
   "source": []
  },
  {
   "cell_type": "code",
   "execution_count": null,
   "metadata": {},
   "outputs": [],
   "source": []
  },
  {
   "cell_type": "code",
   "execution_count": null,
   "metadata": {},
   "outputs": [],
   "source": []
  },
  {
   "cell_type": "code",
   "execution_count": null,
   "metadata": {},
   "outputs": [],
   "source": []
  },
  {
   "cell_type": "code",
   "execution_count": null,
   "metadata": {},
   "outputs": [],
   "source": []
  },
  {
   "cell_type": "code",
   "execution_count": null,
   "metadata": {},
   "outputs": [],
   "source": []
  },
  {
   "cell_type": "code",
   "execution_count": null,
   "metadata": {},
   "outputs": [],
   "source": []
  },
  {
   "cell_type": "code",
   "execution_count": null,
   "metadata": {},
   "outputs": [],
   "source": []
  },
  {
   "cell_type": "code",
   "execution_count": null,
   "metadata": {},
   "outputs": [],
   "source": []
  },
  {
   "cell_type": "code",
   "execution_count": null,
   "metadata": {},
   "outputs": [],
   "source": []
  },
  {
   "cell_type": "code",
   "execution_count": null,
   "metadata": {},
   "outputs": [],
   "source": []
  },
  {
   "cell_type": "code",
   "execution_count": null,
   "metadata": {},
   "outputs": [],
   "source": []
  },
  {
   "cell_type": "code",
   "execution_count": null,
   "metadata": {},
   "outputs": [],
   "source": []
  },
  {
   "cell_type": "code",
   "execution_count": null,
   "metadata": {},
   "outputs": [],
   "source": []
  },
  {
   "cell_type": "code",
   "execution_count": null,
   "metadata": {},
   "outputs": [],
   "source": []
  },
  {
   "cell_type": "code",
   "execution_count": null,
   "metadata": {},
   "outputs": [],
   "source": []
  },
  {
   "cell_type": "code",
   "execution_count": null,
   "metadata": {},
   "outputs": [],
   "source": []
  },
  {
   "cell_type": "code",
   "execution_count": null,
   "metadata": {},
   "outputs": [],
   "source": []
  },
  {
   "cell_type": "code",
   "execution_count": null,
   "metadata": {},
   "outputs": [],
   "source": []
  },
  {
   "cell_type": "code",
   "execution_count": null,
   "metadata": {},
   "outputs": [],
   "source": []
  },
  {
   "cell_type": "code",
   "execution_count": null,
   "metadata": {},
   "outputs": [],
   "source": []
  },
  {
   "cell_type": "code",
   "execution_count": null,
   "metadata": {},
   "outputs": [],
   "source": []
  },
  {
   "cell_type": "code",
   "execution_count": null,
   "metadata": {},
   "outputs": [],
   "source": []
  },
  {
   "cell_type": "code",
   "execution_count": null,
   "metadata": {},
   "outputs": [],
   "source": []
  },
  {
   "cell_type": "code",
   "execution_count": null,
   "metadata": {},
   "outputs": [],
   "source": []
  },
  {
   "cell_type": "code",
   "execution_count": null,
   "metadata": {},
   "outputs": [],
   "source": []
  },
  {
   "cell_type": "code",
   "execution_count": null,
   "metadata": {},
   "outputs": [],
   "source": []
  },
  {
   "cell_type": "code",
   "execution_count": null,
   "metadata": {},
   "outputs": [],
   "source": []
  },
  {
   "cell_type": "code",
   "execution_count": null,
   "metadata": {},
   "outputs": [],
   "source": []
  },
  {
   "cell_type": "code",
   "execution_count": null,
   "metadata": {},
   "outputs": [],
   "source": []
  },
  {
   "cell_type": "code",
   "execution_count": null,
   "metadata": {},
   "outputs": [],
   "source": []
  },
  {
   "cell_type": "code",
   "execution_count": null,
   "metadata": {},
   "outputs": [],
   "source": []
  },
  {
   "cell_type": "code",
   "execution_count": null,
   "metadata": {},
   "outputs": [],
   "source": []
  }
 ],
 "metadata": {
  "kernelspec": {
   "display_name": "Python 3",
   "language": "python",
   "name": "python3"
  },
  "language_info": {
   "codemirror_mode": {
    "name": "ipython",
    "version": 3
   },
   "file_extension": ".py",
   "mimetype": "text/x-python",
   "name": "python",
   "nbconvert_exporter": "python",
   "pygments_lexer": "ipython3",
   "version": "3.8.5"
  }
 },
 "nbformat": 4,
 "nbformat_minor": 4
}
