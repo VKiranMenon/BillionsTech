{
 "cells": [
  {
   "cell_type": "code",
   "execution_count": null,
   "metadata": {},
   "outputs": [],
   "source": []
  },
  {
   "cell_type": "markdown",
   "metadata": {},
   "source": [
    "Question 1.\n",
    "\n",
    "Add the current date to the text file today.txt as a string."
   ]
  },
  {
   "cell_type": "code",
   "execution_count": null,
   "metadata": {},
   "outputs": [],
   "source": []
  },
  {
   "cell_type": "code",
   "execution_count": 22,
   "metadata": {},
   "outputs": [],
   "source": [
    "import datetime\n",
    "\n",
    "current_dt_current_tme = datetime.datetime.now()\n",
    "\n",
    "todays_date_time = str(current_dt_current_tme)\n",
    "\n",
    "extension = \".txt\"\n",
    "\n",
    "today = todays_date_time + extension\n",
    "\n",
    "with open(\"today_1\", \"w\") as first_file:\n",
    "    print(current_dt_current_tme, file = first_file)\n",
    "\n",
    "# file_is.close()"
   ]
  },
  {
   "cell_type": "code",
   "execution_count": 19,
   "metadata": {},
   "outputs": [
    {
     "data": {
      "text/plain": [
       "'2021-09-14 00:02:06.796736.txt'"
      ]
     },
     "execution_count": 19,
     "metadata": {},
     "output_type": "execute_result"
    }
   ],
   "source": [
    "file_name"
   ]
  },
  {
   "cell_type": "code",
   "execution_count": null,
   "metadata": {},
   "outputs": [],
   "source": []
  },
  {
   "cell_type": "code",
   "execution_count": null,
   "metadata": {},
   "outputs": [],
   "source": []
  },
  {
   "cell_type": "code",
   "execution_count": 13,
   "metadata": {},
   "outputs": [],
   "source": [
    "from datetime import date\n",
    "\n",
    "cuurent_date_and_time = date.today()\n",
    "\n",
    "current_str = cuurent_date_and_time.isoformat()\n",
    "\n",
    "with open('today_2', 'wt') as outfile:\n",
    "    print(current_str, file = outfile)"
   ]
  },
  {
   "cell_type": "code",
   "execution_count": null,
   "metadata": {},
   "outputs": [],
   "source": []
  },
  {
   "cell_type": "code",
   "execution_count": null,
   "metadata": {},
   "outputs": [],
   "source": []
  },
  {
   "cell_type": "code",
   "execution_count": null,
   "metadata": {},
   "outputs": [],
   "source": []
  },
  {
   "cell_type": "code",
   "execution_count": null,
   "metadata": {},
   "outputs": [],
   "source": []
  },
  {
   "cell_type": "markdown",
   "metadata": {},
   "source": [
    "Question 2. \n",
    "\n",
    "Read the text file today.txt into the string today_string"
   ]
  },
  {
   "cell_type": "code",
   "execution_count": null,
   "metadata": {},
   "outputs": [],
   "source": []
  },
  {
   "cell_type": "code",
   "execution_count": 24,
   "metadata": {},
   "outputs": [
    {
     "data": {
      "text/plain": [
       "'2021-09-14 00:18:00.952041\\n'"
      ]
     },
     "execution_count": 24,
     "metadata": {},
     "output_type": "execute_result"
    }
   ],
   "source": [
    "with open (\"today_1\", \"rt\") as scnd_input:\n",
    "    today_1_string = scnd_input.read()\n",
    "\n",
    "today_1_string"
   ]
  },
  {
   "cell_type": "code",
   "execution_count": null,
   "metadata": {},
   "outputs": [],
   "source": []
  },
  {
   "cell_type": "code",
   "execution_count": null,
   "metadata": {},
   "outputs": [],
   "source": []
  },
  {
   "cell_type": "code",
   "execution_count": 20,
   "metadata": {},
   "outputs": [
    {
     "data": {
      "text/plain": [
       "'2021-09-14\\n'"
      ]
     },
     "execution_count": 20,
     "metadata": {},
     "output_type": "execute_result"
    }
   ],
   "source": [
    "with open (\"today_2\", \"r\") as rd_input:\n",
    "    today_string = rd_input.read()\n",
    "    \n",
    "today_string"
   ]
  },
  {
   "cell_type": "code",
   "execution_count": null,
   "metadata": {},
   "outputs": [],
   "source": []
  },
  {
   "cell_type": "code",
   "execution_count": null,
   "metadata": {},
   "outputs": [],
   "source": []
  },
  {
   "cell_type": "code",
   "execution_count": 29,
   "metadata": {},
   "outputs": [
    {
     "data": {
      "text/plain": [
       "'2021-09-14'"
      ]
     },
     "execution_count": 29,
     "metadata": {},
     "output_type": "execute_result"
    }
   ],
   "source": [
    "## if we want \\n to be taken off from the output\n",
    "\n",
    "with open (\"today_2\", \"r\") as file_3:\n",
    "    data_today_string = file_3.read().replace('\\n', '')\n",
    "\n",
    "data_today_string"
   ]
  },
  {
   "cell_type": "code",
   "execution_count": null,
   "metadata": {},
   "outputs": [],
   "source": []
  },
  {
   "cell_type": "code",
   "execution_count": null,
   "metadata": {},
   "outputs": [],
   "source": []
  },
  {
   "cell_type": "code",
   "execution_count": null,
   "metadata": {},
   "outputs": [],
   "source": []
  },
  {
   "cell_type": "markdown",
   "metadata": {},
   "source": [
    "Question 3. \n",
    "\n",
    "Parse the date from today_string."
   ]
  },
  {
   "cell_type": "code",
   "execution_count": null,
   "metadata": {},
   "outputs": [],
   "source": []
  },
  {
   "cell_type": "code",
   "execution_count": 39,
   "metadata": {},
   "outputs": [
    {
     "data": {
      "text/plain": [
       "datetime.datetime(2014, 2, 4, 0, 0)"
      ]
     },
     "execution_count": 39,
     "metadata": {},
     "output_type": "execute_result"
    }
   ],
   "source": [
    "import datetime\n",
    "formated_ = '%Y-%m-%d\\n'\n",
    "datetime.datetime.strptime(today_string, formated_)\n",
    "datetime.datetime(2014, 2, 4, 0, 0)"
   ]
  },
  {
   "cell_type": "code",
   "execution_count": null,
   "metadata": {},
   "outputs": [],
   "source": []
  },
  {
   "cell_type": "code",
   "execution_count": 46,
   "metadata": {},
   "outputs": [
    {
     "name": "stdout",
     "output_type": "stream",
     "text": [
      "20210914 001203\n",
      "379.00 \n",
      "2021-09-14 00:12:03\n"
     ]
    }
   ],
   "source": [
    "import datetime\n",
    "input = '20210914 001203 379.00 22824.13 1.00'\n",
    "\n",
    "inp_date = input[:15]\n",
    "print(inp_date)\n",
    "\n",
    "inp_min_sec = input[16:23]\n",
    "print(inp_min_sec)\n",
    "\n",
    "parse_from_read_only = datetime.datetime.strptime(inp_date, '%Y%m%d %H%M%S')\n",
    "\n",
    "print(parse_from_read_only)\n",
    "\n"
   ]
  },
  {
   "cell_type": "code",
   "execution_count": 47,
   "metadata": {},
   "outputs": [
    {
     "name": "stdout",
     "output_type": "stream",
     "text": [
      "2021-09-14 00:12:03\n"
     ]
    }
   ],
   "source": [
    "date_parse = datetime.datetime.strptime(inp_date, '%Y%m%d %H%M%S')\n",
    "print(date_parse)"
   ]
  },
  {
   "cell_type": "code",
   "execution_count": null,
   "metadata": {},
   "outputs": [],
   "source": []
  },
  {
   "cell_type": "code",
   "execution_count": null,
   "metadata": {},
   "outputs": [],
   "source": []
  },
  {
   "cell_type": "code",
   "execution_count": null,
   "metadata": {},
   "outputs": [],
   "source": []
  },
  {
   "cell_type": "markdown",
   "metadata": {},
   "source": [
    "Question 4. \n",
    "\n",
    "List the files in your current directory"
   ]
  },
  {
   "cell_type": "code",
   "execution_count": null,
   "metadata": {},
   "outputs": [],
   "source": []
  },
  {
   "cell_type": "code",
   "execution_count": 60,
   "metadata": {},
   "outputs": [
    {
     "name": "stdout",
     "output_type": "stream",
     "text": [
      "Basic Python Assignment Number - 10.ipynb\n",
      "Basic Python Assignment Number - 11.ipynb\n",
      "Basic Python Assignment Number - 12.ipynb\n",
      "Basic Python Assignment Number - 13.ipynb\n",
      "Basic Python Assignment Number - 14.ipynb\n",
      "Basic Python Assignment Number - 15.ipynb\n",
      "Basic Python Assignment Number - 16.ipynb\n",
      "Basic Python Assignment Number - 17.ipynb\n",
      "Basic Python Assignment Number - 18.ipynb\n",
      "Basic Python Assignment Number - 19.ipynb\n",
      "Basic Python Assignment Number - 20.ipynb\n",
      "Basic Python Assignment Number - 21.ipynb\n",
      "Basic Python Assignment Number - 3.ipynb\n",
      "Basic Python Assignment Number - 4.ipynb\n",
      "Basic Python Assignment Number - 5.ipynb\n",
      "Basic Python Assignment Number - 6.ipynb\n",
      "Basic Python Assignment Number - 7.ipynb\n",
      "Basic Python Assignment Number - 8.ipynb\n",
      "Basic Python Assignment Number - 9.ipynb\n",
      "Basic Python Assignment Number 1.ipynb\n",
      "Basic_2_py.csv\n",
      "Basic_py.csv\n",
      "books.csv\n",
      "books.db\n",
      "books2.csv\n",
      "iterate.csv\n",
      "MyModule.ipynb\n",
      "Records.csv\n",
      "test.txt\n",
      "today_1\n",
      "today_2\n",
      "Untitled.ipynb\n",
      "zoo.py\n"
     ]
    }
   ],
   "source": [
    "import os\n",
    "\n",
    "files = [f for f in os.listdir('.') if os.path.isfile(f)]\n",
    "for f in files:\n",
    "    print (f)"
   ]
  },
  {
   "cell_type": "code",
   "execution_count": null,
   "metadata": {},
   "outputs": [],
   "source": []
  },
  {
   "cell_type": "code",
   "execution_count": 49,
   "metadata": {},
   "outputs": [
    {
     "name": "stdout",
     "output_type": "stream",
     "text": [
      "['.ipynb_checkpoints', 'Basic Python Assignment Number - 10.ipynb', 'Basic Python Assignment Number - 11.ipynb', 'Basic Python Assignment Number - 12.ipynb', 'Basic Python Assignment Number - 13.ipynb', 'Basic Python Assignment Number - 14.ipynb', 'Basic Python Assignment Number - 15.ipynb', 'Basic Python Assignment Number - 16.ipynb', 'Basic Python Assignment Number - 17.ipynb', 'Basic Python Assignment Number - 18.ipynb', 'Basic Python Assignment Number - 19.ipynb', 'Basic Python Assignment Number - 20.ipynb', 'Basic Python Assignment Number - 21.ipynb', 'Basic Python Assignment Number - 3.ipynb', 'Basic Python Assignment Number - 4.ipynb', 'Basic Python Assignment Number - 5.ipynb', 'Basic Python Assignment Number - 6.ipynb', 'Basic Python Assignment Number - 7.ipynb', 'Basic Python Assignment Number - 8.ipynb', 'Basic Python Assignment Number - 9.ipynb', 'Basic Python Assignment Number 1.ipynb', 'Basic_2_py.csv', 'Basic_py.csv', 'books.csv', 'books.db', 'books2.csv', 'iterate.csv', 'MyModule.ipynb', 'Records.csv', 'test.txt', 'today_1', 'today_2', 'Untitled.ipynb', 'zoo.py', '__pycache__']\n"
     ]
    }
   ],
   "source": [
    "import os\n",
    "arr = os.listdir('.')\n",
    "print(arr)"
   ]
  },
  {
   "cell_type": "code",
   "execution_count": null,
   "metadata": {},
   "outputs": [],
   "source": []
  },
  {
   "cell_type": "code",
   "execution_count": null,
   "metadata": {},
   "outputs": [],
   "source": []
  },
  {
   "cell_type": "code",
   "execution_count": null,
   "metadata": {},
   "outputs": [],
   "source": []
  },
  {
   "cell_type": "markdown",
   "metadata": {},
   "source": [
    "Question 5.\n",
    "\n",
    "Create a list of all of the files in your parent directory (minimum five files should be available)."
   ]
  },
  {
   "cell_type": "code",
   "execution_count": null,
   "metadata": {},
   "outputs": [],
   "source": []
  },
  {
   "cell_type": "code",
   "execution_count": 166,
   "metadata": {},
   "outputs": [
    {
     "data": {
      "text/plain": [
       "['Basic Python Assignments',\n",
       " 'Basic Python Programming Assignments',\n",
       " 'NOMAD CODERS',\n",
       " 'Study Materials',\n",
       " 'Test123',\n",
       " 'TestLogic_Even']"
      ]
     },
     "execution_count": 166,
     "metadata": {},
     "output_type": "execute_result"
    }
   ],
   "source": [
    "import os\n",
    "os.listdir('..')"
   ]
  },
  {
   "cell_type": "code",
   "execution_count": 170,
   "metadata": {},
   "outputs": [
    {
     "name": "stdout",
     "output_type": "stream",
     "text": [
      "Basic Python Assignments\n",
      "Basic Python Programming Assignments\n",
      "NOMAD CODERS\n",
      "Study Materials\n",
      "Test123\n",
      "TestLogic_Even\n"
     ]
    }
   ],
   "source": [
    "import os\n",
    "\n",
    "parent_files = [fl for fl in os.listdir('..')]\n",
    "for fl in parent_files:\n",
    "    print (fl)"
   ]
  },
  {
   "cell_type": "code",
   "execution_count": null,
   "metadata": {},
   "outputs": [],
   "source": []
  },
  {
   "cell_type": "code",
   "execution_count": null,
   "metadata": {},
   "outputs": [],
   "source": []
  },
  {
   "cell_type": "code",
   "execution_count": null,
   "metadata": {},
   "outputs": [],
   "source": []
  },
  {
   "cell_type": "markdown",
   "metadata": {},
   "source": [
    "Question 6. \n",
    "\n",
    "Use multiprocessing to create three separate processes. \n",
    "\n",
    "Make each one wait a random number of\n",
    "seconds between one and five, print the current time, and then exit."
   ]
  },
  {
   "cell_type": "code",
   "execution_count": null,
   "metadata": {},
   "outputs": [],
   "source": []
  },
  {
   "cell_type": "code",
   "execution_count": 257,
   "metadata": {},
   "outputs": [
    {
     "name": "stdout",
     "output_type": "stream",
     "text": [
      "wait for 0.35290852087380087 seconds, current time is 2021-09-14 06:06:48.503528\n",
      "wait for 0.19110499317232088 seconds, current time is 2021-09-14 06:06:48.518434\n",
      "wait for 0.27955034222395403 seconds, current time is 2021-09-14 06:06:48.528410\n",
      "wait for 0.7654162719420705 seconds, current time is 2021-09-14 06:06:48.538384\n",
      "wait for 0.1398372997874845 seconds, current time is 2021-09-14 06:06:48.549351\n"
     ]
    }
   ],
   "source": [
    "import multiprocessing\n",
    "import random\n",
    "\n",
    "def current_time(num_of_seconds):\n",
    "    from datetime import datetime\n",
    "    from time import sleep\n",
    "    return sleep(num_of_seconds)\n",
    "    \n",
    "time = []\n",
    "for i in range(5):\n",
    "    num_of_seconds = random.random()\n",
    "    process = multiprocessing.Process(target=current_time, args=(num_of_seconds,))\n",
    "    time.append(process)\n",
    "    process.start()\n",
    "    print(\"wait for\", num_of_seconds, 'seconds, current time is', datetime.now())\n"
   ]
  },
  {
   "cell_type": "code",
   "execution_count": null,
   "metadata": {},
   "outputs": [],
   "source": []
  },
  {
   "cell_type": "code",
   "execution_count": null,
   "metadata": {},
   "outputs": [],
   "source": []
  },
  {
   "cell_type": "code",
   "execution_count": null,
   "metadata": {},
   "outputs": [],
   "source": []
  },
  {
   "cell_type": "code",
   "execution_count": 212,
   "metadata": {},
   "outputs": [
    {
     "name": "stdout",
     "output_type": "stream",
     "text": [
      "wait for 4 seconds, current time is 2021-09-14 05:48:20.594649\n"
     ]
    }
   ],
   "source": [
    "current_time(4)"
   ]
  },
  {
   "cell_type": "code",
   "execution_count": 213,
   "metadata": {},
   "outputs": [
    {
     "name": "stdout",
     "output_type": "stream",
     "text": [
      "wait for 2 seconds, current time is 2021-09-14 05:48:22.629561\n"
     ]
    }
   ],
   "source": [
    "current_time(2)"
   ]
  },
  {
   "cell_type": "code",
   "execution_count": 214,
   "metadata": {},
   "outputs": [
    {
     "name": "stdout",
     "output_type": "stream",
     "text": [
      "wait for 1 seconds, current time is 2021-09-14 05:48:23.667938\n"
     ]
    }
   ],
   "source": [
    "current_time(1)"
   ]
  },
  {
   "cell_type": "code",
   "execution_count": null,
   "metadata": {},
   "outputs": [],
   "source": []
  },
  {
   "cell_type": "code",
   "execution_count": null,
   "metadata": {},
   "outputs": [],
   "source": []
  },
  {
   "cell_type": "code",
   "execution_count": null,
   "metadata": {},
   "outputs": [],
   "source": []
  },
  {
   "cell_type": "markdown",
   "metadata": {},
   "source": [
    "Question 7. \n",
    "\n",
    "Create a date object of your day of birth."
   ]
  },
  {
   "cell_type": "code",
   "execution_count": null,
   "metadata": {},
   "outputs": [],
   "source": []
  },
  {
   "cell_type": "code",
   "execution_count": 101,
   "metadata": {},
   "outputs": [
    {
     "name": "stdout",
     "output_type": "stream",
     "text": [
      "1993-09-12\n"
     ]
    }
   ],
   "source": [
    "import datetime\n",
    "\n",
    "your_birthday = datetime.date(1993, 9, 12)\n",
    "\n",
    "print(your_birthday)"
   ]
  },
  {
   "cell_type": "code",
   "execution_count": 102,
   "metadata": {},
   "outputs": [
    {
     "data": {
      "text/plain": [
       "datetime.date"
      ]
     },
     "execution_count": 102,
     "metadata": {},
     "output_type": "execute_result"
    }
   ],
   "source": [
    "type(your_birthday)"
   ]
  },
  {
   "cell_type": "code",
   "execution_count": null,
   "metadata": {},
   "outputs": [],
   "source": []
  },
  {
   "cell_type": "code",
   "execution_count": null,
   "metadata": {},
   "outputs": [],
   "source": []
  },
  {
   "cell_type": "markdown",
   "metadata": {},
   "source": [
    "Question 8.\n",
    "\n",
    "What day of the week was your day of birth?"
   ]
  },
  {
   "cell_type": "code",
   "execution_count": 85,
   "metadata": {},
   "outputs": [
    {
     "data": {
      "text/plain": [
       "'Friday'"
      ]
     },
     "execution_count": 85,
     "metadata": {},
     "output_type": "execute_result"
    }
   ],
   "source": [
    "import datetime\n",
    "import calendar\n",
    "\n",
    "def find_day_of_birth(your_birthday):\n",
    "    \n",
    "    born_on = datetime.datetime.strptime(your_birthday, '%d %m %Y').isoweekday()\n",
    "    return (calendar.day_name[born_on])\n",
    "\n",
    "your_birthday = '09 12 1993'\n",
    "find_day_of_birth(your_birthday)\n",
    "\n",
    "## Using .isoweekday() counts Monday as 1 instead of 0 and Sunday as 7 instead of 6....7 Days in a week Logic"
   ]
  },
  {
   "cell_type": "code",
   "execution_count": null,
   "metadata": {},
   "outputs": [],
   "source": []
  },
  {
   "cell_type": "code",
   "execution_count": null,
   "metadata": {},
   "outputs": [],
   "source": []
  },
  {
   "cell_type": "code",
   "execution_count": null,
   "metadata": {},
   "outputs": [],
   "source": []
  },
  {
   "cell_type": "markdown",
   "metadata": {},
   "source": [
    "Question 9. \n",
    "\n",
    "When will you be (or when were you) 10,000 days old?"
   ]
  },
  {
   "cell_type": "code",
   "execution_count": 155,
   "metadata": {},
   "outputs": [
    {
     "data": {
      "text/plain": [
       "'2021-01-28'"
      ]
     },
     "execution_count": 155,
     "metadata": {},
     "output_type": "execute_result"
    }
   ],
   "source": [
    "from datetime import date\n",
    "\n",
    "def ten_thous_days_old():\n",
    "    date_at_10k = date(1993, 9, 12)\n",
    "    precise_date = date_at_10k + timedelta(days = 10000)\n",
    "    return str(precise_date)\n",
    "    \n",
    "ten_thous_days_old()"
   ]
  },
  {
   "cell_type": "code",
   "execution_count": null,
   "metadata": {},
   "outputs": [],
   "source": []
  },
  {
   "cell_type": "code",
   "execution_count": null,
   "metadata": {},
   "outputs": [],
   "source": []
  },
  {
   "cell_type": "code",
   "execution_count": null,
   "metadata": {},
   "outputs": [],
   "source": []
  },
  {
   "cell_type": "code",
   "execution_count": null,
   "metadata": {},
   "outputs": [],
   "source": []
  },
  {
   "cell_type": "code",
   "execution_count": null,
   "metadata": {},
   "outputs": [],
   "source": []
  },
  {
   "cell_type": "code",
   "execution_count": null,
   "metadata": {},
   "outputs": [],
   "source": []
  },
  {
   "cell_type": "code",
   "execution_count": null,
   "metadata": {},
   "outputs": [],
   "source": []
  },
  {
   "cell_type": "code",
   "execution_count": null,
   "metadata": {},
   "outputs": [],
   "source": []
  },
  {
   "cell_type": "code",
   "execution_count": null,
   "metadata": {},
   "outputs": [],
   "source": []
  },
  {
   "cell_type": "code",
   "execution_count": null,
   "metadata": {},
   "outputs": [],
   "source": []
  }
 ],
 "metadata": {
  "kernelspec": {
   "display_name": "Python 3",
   "language": "python",
   "name": "python3"
  },
  "language_info": {
   "codemirror_mode": {
    "name": "ipython",
    "version": 3
   },
   "file_extension": ".py",
   "mimetype": "text/x-python",
   "name": "python",
   "nbconvert_exporter": "python",
   "pygments_lexer": "ipython3",
   "version": "3.8.5"
  }
 },
 "nbformat": 4,
 "nbformat_minor": 4
}
