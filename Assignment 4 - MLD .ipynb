{
 "cells": [
  {
   "cell_type": "markdown",
   "metadata": {},
   "source": [
    "# ASSIGNMENT NUMBER 4"
   ]
  },
  {
   "cell_type": "markdown",
   "metadata": {},
   "source": [
    "Question Number \n",
    "(1.1) \n",
    "\n",
    "Write a Python Program(with class concepts) to find the area of the triangle using the below\n",
    "formula.\n",
    "\n",
    "area = (s*(s-a)*(s-b)*(s-c)) ** 0.5\n",
    "\n",
    "Function to take the length of the sides of triangle from user should be defined in the parent\n",
    "class and function to calculate the area should be defined in subclass."
   ]
  },
  {
   "cell_type": "code",
   "execution_count": 2,
   "metadata": {},
   "outputs": [
    {
     "name": "stdout",
     "output_type": "stream",
     "text": [
      "Insert a: 9\n",
      "Insert b: 11\n",
      "Insert c: 6\n",
      "\n",
      "The 3 inputs made by the user are 9.0 11.0 6.0\n",
      "\n",
      "Calculated using the Heron's Formula\n",
      "\n",
      "\n",
      "The semi-perimeter of the Triangle based on the inputs is:  13.0\n",
      "\n",
      "Area of the Triangle:  26.981475126464083\n"
     ]
    }
   ],
   "source": [
    "## MAIN SOLUTION\n",
    "\n",
    "class sidesofTriangle1:\n",
    "    def __init__(self):\n",
    "        self.a = float(input(\"Insert a: \"))    ## User inputs '3' seperate values for '3' sides of a Triangle\n",
    "        self.b = float(input(\"Insert b: \"))\n",
    "        self.c = float(input(\"Insert c: \"))\n",
    "        \n",
    "        print(\"\\nThe 3 inputs made by the user are\", self.a,self.b,self.c)\n",
    "\n",
    "    def calculatesemiPerimeter(self):      ## Semi - Perimeter using the Classic Heron's Formula\n",
    "        self.s = (self.a+self.b+self.c)/2\n",
    "        print(\"\\nCalculated using the Heron's Formula\\n\")\n",
    "        print(\"\\nThe semi-perimeter of the Triangle based on the inputs is: \", self.s)\n",
    "        \n",
    "        \n",
    "        \n",
    "class Area_Triangle2(sidesofTriangle1):\n",
    "    def __init__(self):\n",
    "        super().__init__()            ## Inheriting all the features and class variables of Parent Class \n",
    "                                      ## \"sidesofTriangle1\"\n",
    "            \n",
    "    def area(self):\n",
    "        area = (self.s*(self.s-self.a)*(self.s-self.b)*(self.s-self.c)) ** 0.5\n",
    "        print(\"\\nArea of the Triangle: \", area)\n",
    "        \n",
    "        \n",
    "                                                 ##  Calculate the entire area using the Heson's Formula \n",
    "                                                 ## area = (s*(s-a)*(s-b)*(s-c)) ** 0.5\n",
    "                \n",
    "\n",
    "chld_class = Area_Triangle2()\n",
    "\n",
    "chld_class.calculatesemiPerimeter()\n",
    "\n",
    "chld_class.area()\n"
   ]
  },
  {
   "cell_type": "code",
   "execution_count": null,
   "metadata": {},
   "outputs": [],
   "source": []
  },
  {
   "cell_type": "markdown",
   "metadata": {},
   "source": [
    "Question Number (1.2) \n",
    "\n",
    "Write a function filter_long_words() that takes a list of words and an integer n and returns\n",
    "the list of words that are longer than n.\n"
   ]
  },
  {
   "cell_type": "code",
   "execution_count": 3,
   "metadata": {},
   "outputs": [
    {
     "name": "stdout",
     "output_type": "stream",
     "text": [
      "Enter multiple words with a space: kiran menon unanai jingostan jingoism kantabai kimijaa\n",
      "List of students:  ['kiran', 'menon', 'unanai', 'jingostan', 'jingoism', 'kantabai', 'kimijaa']\n",
      "A digit for length of a stirng: 5\n",
      "['unanai', 'jingostan', 'jingoism', 'kantabai', 'kimijaa']\n"
     ]
    }
   ],
   "source": [
    "x = list(map(str, input(\"Enter multiple words with a space: \").split()))\n",
    "print(\"List of students: \", x)\n",
    "\n",
    "digit_of_length = int(input(\"A digit for length of a stirng: \"))\n",
    "\n",
    "def filter_long_words(lookup_words):\n",
    "    results = []\n",
    "    if (len(lookup_words) > digit_of_length):\n",
    "        return True\n",
    "    else:\n",
    "        return False\n",
    "    \n",
    "results = list(filter(filter_long_words, x))\n",
    "print(results)"
   ]
  },
  {
   "cell_type": "code",
   "execution_count": null,
   "metadata": {},
   "outputs": [],
   "source": []
  },
  {
   "cell_type": "code",
   "execution_count": 8,
   "metadata": {},
   "outputs": [
    {
     "name": "stdout",
     "output_type": "stream",
     "text": [
      "Please enter a word or enter 'quit': kiran\n",
      "Please enter a word or enter 'quit': menon\n",
      "Please enter a word or enter 'quit': vijaychandran\n",
      "Please enter a word or enter 'quit': allogobi\n",
      "Please enter a word or enter 'quit': maseraati\n",
      "Please enter a word or enter 'quit': ferrariitalia\n",
      "Please enter a word or enter 'quit': europaleaguea\n",
      "Please enter a word or enter 'quit': quit\n",
      "A single number to filter the word length: 5\n",
      "\n",
      "The words which are bigger than 5 are: \n",
      " ['vijaychandran', 'allogobi', 'maseraati', 'ferrariitalia', 'europaleaguea']\n"
     ]
    }
   ],
   "source": [
    "## Another Method\n",
    "\n",
    "names = []                                                       ## Create a list that will be used to append the input made by the user\n",
    "\n",
    "new_name = ''                                                    ## All the input will be string value seperated by comma, Instead of using .split() method\n",
    "\n",
    "while new_name != 'quit':                                       ## Continous loop that will run until the user enters 'quit'.\n",
    "\n",
    "    new_name = input(\"Please enter a word or enter 'quit': \")   ## Asking the user to enter a word or enter 'quit'\n",
    "\n",
    "    names.append(new_name)                                     ## All the entries will then be appended in 'names' list\n",
    "    \n",
    "     \n",
    "total_names = names[:-1]                                      ## 'total_names' will have all the names except 'quit', which it considers as string value.\n",
    "\n",
    "\n",
    "\n",
    "total_length = int(input(\"A single number to filter the word length: \")) ## The user to enter a number, which will be used to gauge the length of\n",
    "                                                                         ## All the string values inside the 'total_names' list\n",
    "\n",
    "    \n",
    "## Creating the function and taking attributes from the above code\n",
    "\n",
    "filter_word = []                                   ## The list which will append the final results \n",
    "def filter_long_words():\n",
    "    for count_words in total_names:                ## iterate all the names from the 'total_names' list\n",
    "        if len(count_words) > total_length:        ## The length of total_names of each string value will be measured as compared to the total_length\n",
    "            filter_word.append(count_words)       ## If the words entered has string value larger that 'total_length' then it will produce those lists\n",
    "        \n",
    "    return filter_word                            ## return value that allows the function to act like a filter\n",
    "\n",
    "\n",
    "\n",
    "\n",
    "\n",
    "\n",
    "print(\"\\nThe words which are bigger than\", total_length, \"are:\" , \"\\n\", filter_long_words())\n",
    "# print(total_names)"
   ]
  },
  {
   "cell_type": "code",
   "execution_count": null,
   "metadata": {},
   "outputs": [],
   "source": []
  },
  {
   "cell_type": "markdown",
   "metadata": {},
   "source": [
    "Question number (2.1) \n",
    "\n",
    "Write a Python program using function concept that maps list of words into a list of integers\n",
    "representing the lengths of the corresponding words.\n",
    "\n",
    "Hint: If a list [ ab,cde,erty] is passed on to the python function output should come as [2,3,4]\n",
    "\n",
    "Here 2,3 and 4 are the lengths of the words in the list"
   ]
  },
  {
   "cell_type": "code",
   "execution_count": 16,
   "metadata": {},
   "outputs": [
    {
     "name": "stdout",
     "output_type": "stream",
     "text": [
      "Please input another word. kiran\n",
      "Please input another word. menon\n",
      "Please input another word. vijay\n",
      "Please input another word. chandran\n",
      "Please input another word. aloomutter\n",
      "Please input another word. quit\n",
      "\n",
      "The List of words are\n",
      "\n",
      " ['kiran', 'menon', 'vijay', 'chandran', 'aloomutter']\n",
      "kiran   length is:  5\n",
      "menon   length is:  5\n",
      "vijay   length is:  5\n",
      "chandran   length is:  8\n",
      "aloomutter   length is:  10\n"
     ]
    }
   ],
   "source": [
    "\n",
    "\n",
    "word_lst1 = []                ## Create a List that will append all the names input by the user\n",
    "\n",
    "nw_word = ' '                ## Create the input as string and seperate each of the input.\n",
    "\n",
    "while nw_word != 'quit':                          ## A continous loop, unless user types 'quit' will ask user to enter another name\n",
    "    nw_word = input(\"Please input another word. \") ## input message\n",
    "    word_lst1.append(nw_word)                      ## Append all the input in the 'word_lst'\n",
    "    \n",
    "print(\"\\nThe List of words are\")\n",
    "print(\"\\n\", word_lst1[:-1])                         ## The string values which are appended should ignore 'quit' as a part of the list\n",
    "\n",
    "# num_lst1 = []\n",
    "\n",
    "def word_length_lst():                           ## Main Code\n",
    "    for new_num_lst in word_lst1[:-1]:           ## Iterate each string value\n",
    "        \n",
    "        print(new_num_lst, \" \", \"string length is: \", (len(new_num_lst)))  ## print each string value and the length of new number list\n",
    "                                                                           ## It has to be iterated again as len() function does not support each item  \n",
    "                                                                           ## on the list rather..it takes the length of the entire list as a WHOLE.\n",
    "                                                                           ## For individual length of the string value it has to be iterated again, which is \n",
    "                                                                           ## NOT A LIST.\n",
    "word_length_lst()"
   ]
  },
  {
   "cell_type": "code",
   "execution_count": null,
   "metadata": {},
   "outputs": [],
   "source": []
  },
  {
   "cell_type": "markdown",
   "metadata": {},
   "source": [
    "Question number (2.2)\n",
    "\n",
    "Write a Python function which takes a character (i.e. a string of length 1) and returns True if\n",
    "it is a vowel, False otherwise."
   ]
  },
  {
   "cell_type": "code",
   "execution_count": 95,
   "metadata": {},
   "outputs": [
    {
     "name": "stdout",
     "output_type": "stream",
     "text": [
      "Please enter single Alphabet: 22\n",
      "Please enter only ONE Alphabet. \n"
     ]
    },
    {
     "data": {
      "text/plain": [
       "'22'"
      ]
     },
     "execution_count": 95,
     "metadata": {},
     "output_type": "execute_result"
    }
   ],
   "source": [
    "entr_letter = ''                                ## Create a String Variable\n",
    "\n",
    "def check_vowels():\n",
    "    entr_letter = str(input(\"Please enter single Alphabet: \").lower())  ## User will enter a Single Alphabet as its input.\n",
    "    \n",
    "    if len(entr_letter) > 1:\n",
    "        print(\"Please enter only ONE Alphabet. \")       ## If the user enters more than one alphabet, the program stops\n",
    "            \n",
    "        \n",
    "    \n",
    "    while len(entr_letter) == 1:                       ## The continuous loop when satisfied will move to its conditions below\n",
    "        \n",
    "                                                      ## Check if the input is a vowel\n",
    "        if entr_letter == 'a' or entr_letter == 'e' or entr_letter == 'i'or entr_letter == 'o'or entr_letter == 'u':\n",
    "            print(\"This is a vowel. \")\n",
    "            break        \n",
    "        \n",
    "        elif entr_letter.isdigit():                  ## Check if the input is a number\n",
    "            print(\"This is a number not an Alphabet. \")\n",
    "            break\n",
    "            \n",
    "        else:\n",
    "            print (\"This is just an Alphabet.\")     ## Check if it another letter other than a vowel.\n",
    "            break\n",
    "        \n",
    "        \n",
    "    return entr_letter\n",
    "\n",
    "check_vowels()"
   ]
  },
  {
   "cell_type": "code",
   "execution_count": null,
   "metadata": {},
   "outputs": [],
   "source": []
  },
  {
   "cell_type": "code",
   "execution_count": null,
   "metadata": {},
   "outputs": [],
   "source": []
  },
  {
   "cell_type": "code",
   "execution_count": null,
   "metadata": {},
   "outputs": [],
   "source": []
  },
  {
   "cell_type": "code",
   "execution_count": null,
   "metadata": {},
   "outputs": [],
   "source": []
  },
  {
   "cell_type": "code",
   "execution_count": null,
   "metadata": {},
   "outputs": [],
   "source": []
  },
  {
   "cell_type": "code",
   "execution_count": null,
   "metadata": {},
   "outputs": [],
   "source": []
  }
 ],
 "metadata": {
  "kernelspec": {
   "display_name": "Python 3",
   "language": "python",
   "name": "python3"
  },
  "language_info": {
   "codemirror_mode": {
    "name": "ipython",
    "version": 3
   },
   "file_extension": ".py",
   "mimetype": "text/x-python",
   "name": "python",
   "nbconvert_exporter": "python",
   "pygments_lexer": "ipython3",
   "version": "3.8.5"
  }
 },
 "nbformat": 4,
 "nbformat_minor": 4
}
