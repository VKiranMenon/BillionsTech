{
 "cells": [
  {
   "cell_type": "code",
   "execution_count": null,
   "metadata": {},
   "outputs": [],
   "source": []
  },
  {
   "cell_type": "markdown",
   "metadata": {},
   "source": [
    "Question 1. \n",
    "\n",
    "Write a Python Program to find sum of array?"
   ]
  },
  {
   "cell_type": "code",
   "execution_count": 575,
   "metadata": {},
   "outputs": [],
   "source": [
    "def summation():\n",
    "    try:\n",
    "        input_list = []\n",
    "        while True:\n",
    "            input_list.append(int(input(\"Enter whole numbers only OR 'Stop' to exit the Loop. \")))\n",
    "\n",
    "    except:\n",
    "        print (input_list)\n",
    "        \n",
    "    res = sum(input_list)\n",
    "    print(res)"
   ]
  },
  {
   "cell_type": "code",
   "execution_count": 576,
   "metadata": {},
   "outputs": [
    {
     "name": "stdout",
     "output_type": "stream",
     "text": [
      "1\n",
      "2\n",
      "5\n",
      "stop\n",
      "[1, 2, 5]\n",
      "8\n"
     ]
    }
   ],
   "source": [
    "summation()"
   ]
  },
  {
   "cell_type": "code",
   "execution_count": null,
   "metadata": {},
   "outputs": [],
   "source": []
  },
  {
   "cell_type": "code",
   "execution_count": 578,
   "metadata": {},
   "outputs": [
    {
     "name": "stdout",
     "output_type": "stream",
     "text": [
      "Enter the number of elements required for the list: 3\n",
      "1\n",
      "4\n",
      "5\n",
      "[1, 4, 5]\n",
      "The Total of all the elements inside the Array is:  10\n"
     ]
    }
   ],
   "source": [
    "make_lst = []\n",
    "\n",
    "num_elem = int(input(\"Enter the number of elements required for the list: \"))\n",
    "\n",
    "for i in range (0, num_elem):\n",
    "    \n",
    "    elem_val = int(input())\n",
    "    make_lst.append(elem_val)\n",
    "print (make_lst)\n",
    "\n",
    "k = 0\n",
    "for j in make_lst:\n",
    "    \n",
    "    k = j + k\n",
    "    \n",
    "print (\"The Total of all the elements inside the Array is: \", k)"
   ]
  },
  {
   "cell_type": "code",
   "execution_count": null,
   "metadata": {},
   "outputs": [],
   "source": []
  },
  {
   "cell_type": "code",
   "execution_count": null,
   "metadata": {},
   "outputs": [],
   "source": []
  },
  {
   "cell_type": "code",
   "execution_count": null,
   "metadata": {},
   "outputs": [],
   "source": []
  },
  {
   "cell_type": "markdown",
   "metadata": {},
   "source": [
    "Question 2. \n",
    "\n",
    "Write a Python Program to find largest element in an array?"
   ]
  },
  {
   "cell_type": "code",
   "execution_count": 571,
   "metadata": {},
   "outputs": [],
   "source": [
    "def find_largest():\n",
    "\n",
    "    try:\n",
    "        input_list = []\n",
    "        while True:\n",
    "            input_list.append(int(input(\"Enter only integers or type 'Stop' to end .\")))\n",
    "\n",
    "    except:\n",
    "        print (input_list)\n",
    "        \n",
    "    res = 0\n",
    "\n",
    "    for i in input_list:\n",
    "        if res < i:\n",
    "            res = i\n",
    "    print (res)"
   ]
  },
  {
   "cell_type": "code",
   "execution_count": 572,
   "metadata": {},
   "outputs": [
    {
     "name": "stdout",
     "output_type": "stream",
     "text": [
      "33\n",
      "55\n",
      "1000\n",
      "100\n",
      "stop\n",
      "[33, 55, 1000, 100]\n",
      "1000\n"
     ]
    }
   ],
   "source": [
    "find_largest()"
   ]
  },
  {
   "cell_type": "code",
   "execution_count": null,
   "metadata": {},
   "outputs": [],
   "source": []
  },
  {
   "cell_type": "code",
   "execution_count": 28,
   "metadata": {},
   "outputs": [],
   "source": [
    "## Use sort command and then reverse"
   ]
  },
  {
   "cell_type": "code",
   "execution_count": 569,
   "metadata": {},
   "outputs": [],
   "source": [
    "def largest_elem():\n",
    "    the_lst = []\n",
    "\n",
    "    n = int(input(\"Number of elements required: \"))\n",
    "\n",
    "    for i in range (0, n):\n",
    "        elem = int(input())\n",
    "        the_lst.append(elem)\n",
    "        the_lst.sort()\n",
    "\n",
    "\n",
    "    print (\"\\nThe Largest Element from the list is: \",*the_lst[-1:], sep = \" \")"
   ]
  },
  {
   "cell_type": "code",
   "execution_count": 570,
   "metadata": {},
   "outputs": [
    {
     "name": "stdout",
     "output_type": "stream",
     "text": [
      "Number of elements required: 3\n",
      "44\n",
      "55\n",
      "1000\n",
      "\n",
      "The Largest Element from the list is:  1000\n"
     ]
    }
   ],
   "source": [
    "largest_elem()"
   ]
  },
  {
   "cell_type": "code",
   "execution_count": null,
   "metadata": {},
   "outputs": [],
   "source": []
  },
  {
   "cell_type": "code",
   "execution_count": null,
   "metadata": {},
   "outputs": [],
   "source": []
  },
  {
   "cell_type": "code",
   "execution_count": null,
   "metadata": {},
   "outputs": [],
   "source": []
  },
  {
   "cell_type": "markdown",
   "metadata": {},
   "source": [
    "Question 3. \n",
    "\n",
    "Write a Python Program for array rotation?"
   ]
  },
  {
   "cell_type": "code",
   "execution_count": null,
   "metadata": {},
   "outputs": [],
   "source": []
  },
  {
   "cell_type": "code",
   "execution_count": 397,
   "metadata": {},
   "outputs": [],
   "source": [
    "def Move_2left(shift):\n",
    "    array = []\n",
    "    try:\n",
    "        while True:\n",
    "            array.append(int(input(\"Enter the elements inside the array: \")))\n",
    "            \n",
    "    except:\n",
    "        print (array)\n",
    "        \n",
    "    for i in range(shift):\n",
    "        len_array = len(array)  ## Length of the array used in the For Loop\n",
    "        temp_var = array [0]    ## Place the Index 0 element in a temporary variable\n",
    "    \n",
    "        for i in range (len_array - 1):   ## As each index when moved it starts from the First Index that moves 2 Indexes towards right\n",
    "        \n",
    "            array[i] = array[i + 1]\n",
    "        \n",
    "        array[len_array -1] = temp_var\n",
    "    print (array)\n",
    "    \n",
    "    "
   ]
  },
  {
   "cell_type": "code",
   "execution_count": 398,
   "metadata": {},
   "outputs": [
    {
     "name": "stdout",
     "output_type": "stream",
     "text": [
      "Enter the elements inside the array: 3\n",
      "Enter the elements inside the array: 11\n",
      "Enter the elements inside the array: 12\n",
      "Enter the elements inside the array: 15\n",
      "Enter the elements inside the array: stop\n",
      "[3, 11, 12, 15]\n",
      "[12, 15, 3, 11]\n"
     ]
    }
   ],
   "source": [
    "Move_2left(2)"
   ]
  },
  {
   "cell_type": "code",
   "execution_count": null,
   "metadata": {},
   "outputs": [],
   "source": []
  },
  {
   "cell_type": "code",
   "execution_count": null,
   "metadata": {},
   "outputs": [],
   "source": []
  },
  {
   "cell_type": "code",
   "execution_count": 573,
   "metadata": {},
   "outputs": [
    {
     "name": "stdout",
     "output_type": "stream",
     "text": [
      "[6, 7, 1, 2, 3, 4, 5]\n"
     ]
    }
   ],
   "source": [
    "elem = [1,2,3,4,5,6,7]                           ## Array with values inside a list\n",
    "\n",
    "len_elem = len(elem)                            ## Length of the List\n",
    " \n",
    "array = [0] * len_elem                         ## A seperate Array with the same number of indexes as per the Original Array, but all values in it are 0.\n",
    "\n",
    "shift = 9                                     ## Each element will be moved one by one, the process will be repeated 9 times....\n",
    "\n",
    "for i in range(len_elem):                     ## For Loop to iterate through each Index hence we use range(len(array))\n",
    "    array[(i + shift) % len_elem] = elem[i]  ## The algorithm that allows the shift of value in Index[0] to Index [2]...as 9 % 7 = 2\n",
    "                                             ## Each of the values after the \"shift\" are placed inside the Array, which replaced the values with the shift algo\n",
    "                                              \n",
    "\n",
    "print (array)\n",
    "    \n",
    "    "
   ]
  },
  {
   "cell_type": "markdown",
   "metadata": {},
   "source": [
    "Concept:\n",
    "\n",
    "--Declare a List variable and enter values inside a List.\n",
    "\n",
    "--Declare a variable which will have the Length of the List/array\n",
    "\n",
    "--Declare a variable, which will be an empty variable with the same number or Indexes as the original Array, which will have values 0, in each index.\n",
    "\n",
    "--Declare a variable, which will allow a \"shift\" of elements by 1 index, OR 2 indexes or as per the value. \n",
    "\n",
    "--The For Loop will iterate through the Length of the elements:\n",
    "\n",
    "--Each Index within the stipulated length will then move to its preceding index. In other word, the value in Index[0] will move to Index[1], as signified by array([i + shift])\n",
    "\n",
    "--The Array/List is modolued with the Length of the Array....\n",
    "\n",
    "--In order to avoid the IndexationError, every time the value is placed into a new Index, it should be within the Length of the Array..\n",
    "\n",
    "What it means is that if we choose to put `shift = 9` instead of `shift = 2`, this will give us the SAME Output.\n",
    "\n",
    "As 2 % 7 (7 being the length of the array) = 2\n",
    "\n",
    "and 9 % 7 also gives us 2....so does if we change the shift value to 23, as 23 % 7 = 2 remainder.\n",
    "\n",
    "\n",
    "--Further each of those values are then inserted inside the ORIGINAL variable, which has the elements. Replacing them with the `shift` algorithm\n",
    "\n"
   ]
  },
  {
   "cell_type": "code",
   "execution_count": null,
   "metadata": {},
   "outputs": [],
   "source": []
  },
  {
   "cell_type": "code",
   "execution_count": null,
   "metadata": {},
   "outputs": [],
   "source": []
  },
  {
   "cell_type": "code",
   "execution_count": null,
   "metadata": {},
   "outputs": [],
   "source": []
  },
  {
   "cell_type": "markdown",
   "metadata": {},
   "source": [
    "Question 4. \n",
    "\n",
    "Write a Python Program to Split the array and add the first part to the end?"
   ]
  },
  {
   "cell_type": "code",
   "execution_count": 377,
   "metadata": {},
   "outputs": [],
   "source": [
    "def move_left(array, shift):\n",
    "    array = [1,2,3,4,5]\n",
    "    shift = 2\n",
    "    rotations = shift % len(array)\n",
    "    \n",
    "    return array[rotations:] + array[:rotations]"
   ]
  },
  {
   "cell_type": "code",
   "execution_count": 378,
   "metadata": {},
   "outputs": [
    {
     "data": {
      "text/plain": [
       "[3, 4, 5, 1, 2]"
      ]
     },
     "execution_count": 378,
     "metadata": {},
     "output_type": "execute_result"
    }
   ],
   "source": [
    "move_left([1,2,3,4,5], 2)"
   ]
  },
  {
   "cell_type": "code",
   "execution_count": null,
   "metadata": {},
   "outputs": [],
   "source": []
  },
  {
   "cell_type": "code",
   "execution_count": 563,
   "metadata": {},
   "outputs": [],
   "source": [
    "def rotate_Left(elem):\n",
    "\n",
    "    elem = [1,2,3,4,5,6,7,9,10]\n",
    "\n",
    "    len_elem = len(elem)\n",
    "\n",
    "    array = [0] * len_elem\n",
    "\n",
    "    shift = 2\n",
    "\n",
    "    for i in range(len_elem):\n",
    "        array[(i - shift) % len_elem] = elem[i]\n",
    "        \n",
    "    print(array)\n",
    "\n",
    "\n"
   ]
  },
  {
   "cell_type": "code",
   "execution_count": 564,
   "metadata": {},
   "outputs": [
    {
     "name": "stdout",
     "output_type": "stream",
     "text": [
      "[3, 4, 5, 6, 7, 9, 10, 1, 2]\n"
     ]
    }
   ],
   "source": [
    "rotate_Left([1,2,3,4,5,6,7,9,10])"
   ]
  },
  {
   "cell_type": "code",
   "execution_count": null,
   "metadata": {},
   "outputs": [],
   "source": []
  },
  {
   "cell_type": "markdown",
   "metadata": {},
   "source": [
    "Concept:\n",
    "\n",
    "--Declare a List variable and enter values inside a List.\n",
    "\n",
    "--Declare a variable which will have the Length of the List/array\n",
    "\n",
    "--Declare a variable, which will be an empty variable with the same number or Indexes as the original Array, which will have values 0, in each index.\n",
    "\n",
    "--Declare a variable, which will allow a \"shift\" of elements by 1 index, OR 2 indexes or as per the value. \n",
    "\n",
    "--The For Loop will iterate through the Length of the elements:\n",
    "\n",
    "--Each Index within the stipulated length will then move to its preceding index. In other word, the value in Index[1] will move to Index[0], as signified by array([i - shift])\n",
    "\n",
    "--The Array/List is modolued with the Length of the Array....\n",
    "\n",
    "--In order to avoid the IndexationError, every time the value is placed into a new Index, it should be within the Length of the Array..\n",
    "\n",
    "What it means is that if we choose to put `shift = 9` instead of `shift = 2`, this will give us the SAME Output.\n",
    "\n",
    "As 2 % 7 (7 being the length of the array) = 2\n",
    "\n",
    "and 9 % 7 also gives us 2....so does if we change the shift value to 23, as 23 % 7 = 2 remainder.\n",
    "\n",
    "\n",
    "--Further each of those values are then inserted inside the ORIGINAL variable, which has the elements. Replacing them with the `shift` algorithm\n",
    "\n"
   ]
  },
  {
   "cell_type": "code",
   "execution_count": null,
   "metadata": {},
   "outputs": [],
   "source": []
  },
  {
   "cell_type": "code",
   "execution_count": null,
   "metadata": {},
   "outputs": [],
   "source": []
  },
  {
   "cell_type": "code",
   "execution_count": null,
   "metadata": {},
   "outputs": [],
   "source": []
  },
  {
   "cell_type": "markdown",
   "metadata": {},
   "source": [
    "Question 5.\n",
    "\n",
    "Write a Python Program to check if given array is Monotonic?"
   ]
  },
  {
   "cell_type": "code",
   "execution_count": 497,
   "metadata": {},
   "outputs": [],
   "source": [
    "def Monotonic(array_list):\n",
    "        ascending  = True\n",
    "        descending = True\n",
    "\n",
    "        for i in range(len(array_list) - 1):\n",
    "            if array_list[i] >= array_list[i+1]:\n",
    "                ascending = False\n",
    "            if array_list[i] <= array_list[i+1]:\n",
    "                descending = False\n",
    "\n",
    "        return ascending or descending"
   ]
  },
  {
   "cell_type": "code",
   "execution_count": 498,
   "metadata": {},
   "outputs": [
    {
     "data": {
      "text/plain": [
       "True"
      ]
     },
     "execution_count": 498,
     "metadata": {},
     "output_type": "execute_result"
    }
   ],
   "source": [
    "Monotonic([5,4,3,0])"
   ]
  },
  {
   "cell_type": "code",
   "execution_count": null,
   "metadata": {},
   "outputs": [],
   "source": []
  },
  {
   "cell_type": "code",
   "execution_count": 555,
   "metadata": {},
   "outputs": [],
   "source": [
    "def MonoTon_or_not(array):\n",
    "    \n",
    "    increasing = False  ## Assigned a Boolean value\n",
    "    \n",
    "    if (array[0] < array[1]):\n",
    "        increasing = True\n",
    "    \n",
    "    for i in range(len(array) -1):\n",
    "        if array[i] > array[i + 1] and increasing or array[i] < array[i + 1] and not increasing:\n",
    "            return False\n",
    "        else:\n",
    "            return True"
   ]
  },
  {
   "cell_type": "code",
   "execution_count": 556,
   "metadata": {},
   "outputs": [],
   "source": [
    "MonoTon_or_not([90,88,76,55,40,31,29,10])"
   ]
  },
  {
   "cell_type": "markdown",
   "metadata": {},
   "source": [
    "Concept:\n",
    "We will first Declare a Boolean Value for variable `increasing` as False.\n",
    "\n",
    "Followed by what the condition of variable `increasing` should be\n",
    "\n",
    "The For Loop will take the Range/length of the array to iterate; however will consider `-1` when iterating so it does not go beyond the List, which will promt 'IndexationError'.\n",
    "\n",
    "Inside the For Loop there will be a Condition which is laid:\n",
    "\n",
    "(a) If Index[0] > Index[1] is True, but contradicts when the elements start to increase....then it should return False...as it is not constant decrease in the value of the elements.\n",
    "\n",
    "OR\n",
    "\n",
    "(b) Or if Index[0] < Index[1] and IS NOT increasing, then it means it is decreasing...again there is no constant increase in the value of the elements.\n",
    "\n",
    "Else if both conditions is not satisfied, then return value True."
   ]
  },
  {
   "cell_type": "code",
   "execution_count": null,
   "metadata": {},
   "outputs": [],
   "source": []
  },
  {
   "cell_type": "code",
   "execution_count": null,
   "metadata": {},
   "outputs": [],
   "source": []
  },
  {
   "cell_type": "code",
   "execution_count": 551,
   "metadata": {},
   "outputs": [],
   "source": [
    "def Mono_or_not(arraydd):\n",
    "    return (all(arraydd[i] <= arraydd[i + 1] for i in range(len(arraydd)-1 )) or\n",
    "            all(arraydd[i] >= arraydd[i + 1] for i in range(len(arraydd)|-1 )))\n"
   ]
  },
  {
   "cell_type": "code",
   "execution_count": 552,
   "metadata": {},
   "outputs": [
    {
     "data": {
      "text/plain": [
       "True"
      ]
     },
     "execution_count": 552,
     "metadata": {},
     "output_type": "execute_result"
    }
   ],
   "source": [
    "Mono_or_not([1,2,3,3,4,5,7,8,9])"
   ]
  },
  {
   "cell_type": "markdown",
   "metadata": {},
   "source": [
    "Concept:\n",
    "\n",
    "Using the `all()` function allows return value of `True` or `False` if the elements inside the array are Iterable or not respectively.\n",
    "\n",
    "Once `all` function is used we compare 2 scenarios, if Index [0] > Index[1] OR Index [0] < Index[1] \n",
    "\n",
    "The range on the length of the array will be used, BUT less 1 index....as we need to compare 2 elements, which means the Index[1] will become Indiex[0] when the list/array is iterated.\n",
    "\n",
    "Therefore if the Index[0] >= Index[1], throughout the array then it is Monotonic, as there is constant `DECREASE` in the numbers inside the array.\n",
    "\n",
    "Else if Index[0] <= Index[1], then there is constant `INCREASE` in the elements inside tbe array."
   ]
  },
  {
   "cell_type": "code",
   "execution_count": null,
   "metadata": {},
   "outputs": [],
   "source": []
  },
  {
   "cell_type": "code",
   "execution_count": null,
   "metadata": {},
   "outputs": [],
   "source": []
  },
  {
   "cell_type": "code",
   "execution_count": null,
   "metadata": {},
   "outputs": [],
   "source": []
  },
  {
   "cell_type": "code",
   "execution_count": null,
   "metadata": {},
   "outputs": [],
   "source": []
  },
  {
   "cell_type": "code",
   "execution_count": null,
   "metadata": {},
   "outputs": [],
   "source": []
  },
  {
   "cell_type": "code",
   "execution_count": null,
   "metadata": {},
   "outputs": [],
   "source": []
  }
 ],
 "metadata": {
  "kernelspec": {
   "display_name": "Python 3",
   "language": "python",
   "name": "python3"
  },
  "language_info": {
   "codemirror_mode": {
    "name": "ipython",
    "version": 3
   },
   "file_extension": ".py",
   "mimetype": "text/x-python",
   "name": "python",
   "nbconvert_exporter": "python",
   "pygments_lexer": "ipython3",
   "version": "3.8.5"
  }
 },
 "nbformat": 4,
 "nbformat_minor": 4
}
