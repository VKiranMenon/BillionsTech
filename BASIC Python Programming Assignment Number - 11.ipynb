{
 "cells": [
  {
   "cell_type": "code",
   "execution_count": null,
   "metadata": {},
   "outputs": [],
   "source": []
  },
  {
   "cell_type": "markdown",
   "metadata": {},
   "source": [
    "Question 1. \n",
    "\n",
    "Write a Python program to find words which are greater than given length k?"
   ]
  },
  {
   "cell_type": "code",
   "execution_count": 509,
   "metadata": {},
   "outputs": [],
   "source": [
    "def len_words():\n",
    "    ## Program requires to understand if words entered in the program is bigger than the length chosen by the compiler\n",
    "    \n",
    "    ## empty list to append the word inside the list\n",
    "    lst_words = []\n",
    "    \n",
    "    ## string variable \n",
    "    inp_words = \"\"\n",
    "    \n",
    "    \n",
    "    ## a continous loop that will intake all the words unless terminated by a key word\n",
    "    while inp_words != \"quit\":  ## Condition when While Loop begins\n",
    "        inp_words = input(\"Enter a word \")\n",
    "        if inp_words != \"quit\" and not inp_words.isdigit():   ## Until keyword not entred and as long as not a digit \n",
    "            lst_words.append(inp_words)                       ## Include all the inputs inside the list\n",
    "            \n",
    "    print(lst_words)                                      \n",
    "    \n",
    "    \n",
    "    \n",
    "    ## Enter the length to verify/sort all the words which will be more than the chosen length\n",
    "    entr_k = int(input(\"Enter a length \")) \n",
    "    print(\"Words which are more than length\",  entr_k, \"are \")\n",
    "    \n",
    "    \n",
    "    ## For loop that will iterate each words inside the list and the sort the ones which are more than the chosen length from the compiler\n",
    "    for i in lst_words:\n",
    "        if len(i) > entr_k:\n",
    "            print(\"\\n\",i)\n",
    "            \n",
    "    \n",
    "    "
   ]
  },
  {
   "cell_type": "code",
   "execution_count": 511,
   "metadata": {},
   "outputs": [
    {
     "name": "stdout",
     "output_type": "stream",
     "text": [
      "Enter a word 4566445\n",
      "Enter a word 221487899\n",
      "Enter a word quit\n",
      "[]\n",
      "Enter a length 2\n",
      "Words which are more than length 2 are \n"
     ]
    }
   ],
   "source": [
    "len_words()"
   ]
  },
  {
   "cell_type": "code",
   "execution_count": null,
   "metadata": {},
   "outputs": [],
   "source": []
  },
  {
   "cell_type": "code",
   "execution_count": null,
   "metadata": {},
   "outputs": [],
   "source": []
  },
  {
   "cell_type": "code",
   "execution_count": null,
   "metadata": {},
   "outputs": [],
   "source": []
  },
  {
   "cell_type": "markdown",
   "metadata": {},
   "source": [
    "Question 2. \n",
    "\n",
    "Write a Python program for removing i-th character from a string?"
   ]
  },
  {
   "cell_type": "code",
   "execution_count": 225,
   "metadata": {},
   "outputs": [],
   "source": [
    "def remove_letter():\n",
    "    \n",
    "    ''' Program requires the compiler to remove a chosen character from the string '''\n",
    "    \n",
    "    \n",
    "    ## try statement \n",
    "    try:\n",
    "        insrt_wrd = [] ## empty list\n",
    "        while True:     ## Continous loop to determine the input is a String/Word and not a number (FLoat/int/complexx)\n",
    "            inp_word = input(\"Enter a random word \")\n",
    "            if any (char.isdigit() for char in inp_word):\n",
    "                print(\"Enter only String Datatype \")\n",
    "                continue\n",
    "            else:\n",
    "                insrt_wrd.append(inp_word)   ## If the input is satisfies the condition then appended inside the empty list\n",
    "                print(insrt_wrd)\n",
    "                break\n",
    "    except:\n",
    "        print(insrt_wrd)\n",
    "    \n",
    "    for i in insrt_wrd:\n",
    "        print(\"Formatted string --> \", i)  ## Format the list type into string type\n",
    "\n",
    "       ## Ask the compiler to choose an index between the range of the word \n",
    "    print(\"Enter a number within 0 and \", len(i), \"except for \", len(i))\n",
    "    entr_i = int(input())\n",
    "    res_wrd = \"\"           ## Empty string variable\n",
    "\n",
    "    if entr_i > len(i):\n",
    "        print(\"Invalid and not within 0 and \", len(i), \"except for \", len(i))\n",
    "    else:\n",
    "        for j in range(0, len(i)):             \n",
    "            if j != entr_i:           ## After iterating the word, if the index character chosen is the one inside the word\n",
    "                res_wrd = res_wrd + i[j]  ## that word will be removed and the rest will be printed\n",
    "        print(res_wrd)\n",
    "\n",
    "\n",
    "                \n",
    "            "
   ]
  },
  {
   "cell_type": "code",
   "execution_count": 226,
   "metadata": {},
   "outputs": [
    {
     "name": "stdout",
     "output_type": "stream",
     "text": [
      "Enter a random word powerfull\n",
      "['powerfull']\n",
      "Formatted string -->  powerfull\n",
      "Enter a number within 0 and  9 except for  9\n",
      "8\n",
      "powerful\n"
     ]
    }
   ],
   "source": [
    "remove_letter()"
   ]
  },
  {
   "cell_type": "code",
   "execution_count": null,
   "metadata": {},
   "outputs": [],
   "source": []
  },
  {
   "cell_type": "code",
   "execution_count": null,
   "metadata": {},
   "outputs": [],
   "source": []
  },
  {
   "cell_type": "code",
   "execution_count": null,
   "metadata": {},
   "outputs": [],
   "source": []
  },
  {
   "cell_type": "markdown",
   "metadata": {},
   "source": [
    "Question 3. \n",
    "\n",
    "Write a Python program to split and join a string?"
   ]
  },
  {
   "cell_type": "code",
   "execution_count": 233,
   "metadata": {},
   "outputs": [
    {
     "name": "stdout",
     "output_type": "stream",
     "text": [
      "Enter a random sentence My name is Karan\n",
      "['My', 'name', 'is', 'Karan']\n",
      "My-name-is-Karan\n"
     ]
    }
   ],
   "source": [
    "def split_string(string):        ## This string will split the entire dataset\n",
    "    split_txt = \"\"\n",
    "    split_txt = string.split()\n",
    "    return split_txt\n",
    "\n",
    "def join_string(split_txt):\n",
    "    join_txt = \"-\"\n",
    "    new_txt = join_txt.join(split_txt)\n",
    "    return new_txt\n",
    "\n",
    "string = input(\"Enter a random sentence \")\n",
    "\n",
    "new_string = split_string(string)\n",
    "print(new_string)\n",
    "\n",
    "joined_string = join_string(new_string)\n",
    "print(joined_string)"
   ]
  },
  {
   "cell_type": "code",
   "execution_count": null,
   "metadata": {},
   "outputs": [],
   "source": []
  },
  {
   "cell_type": "code",
   "execution_count": null,
   "metadata": {},
   "outputs": [],
   "source": []
  },
  {
   "cell_type": "code",
   "execution_count": null,
   "metadata": {},
   "outputs": [],
   "source": []
  },
  {
   "cell_type": "markdown",
   "metadata": {},
   "source": [
    "Question 4. \n",
    "\n",
    "Write a Python to check if a given string is binary string or not?"
   ]
  },
  {
   "cell_type": "code",
   "execution_count": 266,
   "metadata": {},
   "outputs": [],
   "source": [
    "def check_binary(string):\n",
    "    for i in string:\n",
    "        if i != \"0\" and i != \"1\":     ## Both condition where the 0 and 1 is in string format\n",
    "            print (\"Not Binary \")\n",
    "            break\n",
    "    else:\n",
    "        print(\"Binary\")\n",
    "\n",
    "    "
   ]
  },
  {
   "cell_type": "code",
   "execution_count": 271,
   "metadata": {},
   "outputs": [
    {
     "name": "stdout",
     "output_type": "stream",
     "text": [
      "Binary\n"
     ]
    }
   ],
   "source": [
    "check_binary(\"1010101010111000\")"
   ]
  },
  {
   "cell_type": "code",
   "execution_count": null,
   "metadata": {},
   "outputs": [],
   "source": []
  },
  {
   "cell_type": "code",
   "execution_count": null,
   "metadata": {},
   "outputs": [],
   "source": []
  },
  {
   "cell_type": "code",
   "execution_count": null,
   "metadata": {},
   "outputs": [],
   "source": []
  },
  {
   "cell_type": "markdown",
   "metadata": {},
   "source": [
    "Question 5. \n",
    "\n",
    "Write a Python program to find uncommon words from two Strings?"
   ]
  },
  {
   "cell_type": "code",
   "execution_count": 409,
   "metadata": {},
   "outputs": [],
   "source": [
    "def sort_uncommon():\n",
    "    \n",
    "    entr_a = input(\"Enter a random sentence \")\n",
    "    entr_b = input(\"Enter another random sentence \")\n",
    "\n",
    "    uncommon_wrd_a = [i for i in entr_a if i not in entr_b]  ## if the iterated char is in List b from List a....then return the word\n",
    "    uncommon_wrd_b = [j for j in entr_b if j not in entr_a]  ## if the iterated char is in List a from List b.... then return the word\n",
    "    \n",
    "    return uncommon_wrd_a, uncommon_wrd_b\n",
    "\n",
    "\n"
   ]
  },
  {
   "cell_type": "code",
   "execution_count": 410,
   "metadata": {},
   "outputs": [
    {
     "name": "stdout",
     "output_type": "stream",
     "text": [
      "Enter a random sentence Learning from Sudhanshu Sir\n",
      "Enter another random sentence Learning from Krish Sir\n"
     ]
    },
    {
     "data": {
      "text/plain": [
       "(['Sudhanshu'], ['Krish'])"
      ]
     },
     "execution_count": 410,
     "metadata": {},
     "output_type": "execute_result"
    }
   ],
   "source": [
    "uncom()"
   ]
  },
  {
   "cell_type": "code",
   "execution_count": null,
   "metadata": {},
   "outputs": [],
   "source": []
  },
  {
   "cell_type": "code",
   "execution_count": null,
   "metadata": {},
   "outputs": [],
   "source": []
  },
  {
   "cell_type": "code",
   "execution_count": null,
   "metadata": {},
   "outputs": [],
   "source": []
  },
  {
   "cell_type": "markdown",
   "metadata": {},
   "source": [
    "Question 6. \n",
    "\n",
    "Write a Python to find all duplicate characters in string?"
   ]
  },
  {
   "cell_type": "code",
   "execution_count": 501,
   "metadata": {},
   "outputs": [],
   "source": [
    "def find_duplicate():\n",
    "    \n",
    "    string = input(\"Enter a random sentence \").lower()  ## All inputs are considered into lower case\n",
    "    repeatd = []\n",
    "    for i in string:\n",
    "        if string.count(i) > 1 and string.count(i) != ' ':  ##Identify if the char is repeated more than 1 and avoid all whitespace inside the string.\n",
    "            if i not in repeatd:\n",
    "                repeatd.append(i)\n",
    "    print(repeatd)\n",
    "        "
   ]
  },
  {
   "cell_type": "code",
   "execution_count": 503,
   "metadata": {},
   "outputs": [
    {
     "name": "stdout",
     "output_type": "stream",
     "text": [
      "Enter a random sentence Iineuron\n",
      "['i', 'n']\n"
     ]
    }
   ],
   "source": [
    "find_duplicate()"
   ]
  },
  {
   "cell_type": "code",
   "execution_count": null,
   "metadata": {},
   "outputs": [],
   "source": []
  },
  {
   "cell_type": "code",
   "execution_count": 464,
   "metadata": {},
   "outputs": [
    {
     "name": "stdout",
     "output_type": "stream",
     "text": [
      "Enter sent hello\n",
      "l\n"
     ]
    }
   ],
   "source": [
    "inp_str = input(\"Enter sent \")\n",
    "\n",
    "dup = {}\n",
    "\n",
    "for i in inp_str:\n",
    "    if i in dup:\n",
    "        dup[i] += 1\n",
    "    else:\n",
    "        dup[i] = 1\n",
    "\n",
    "for key, value in dup.items():\n",
    "    if value > 1:\n",
    "        print(key, end = \"\")\n",
    "print()\n"
   ]
  },
  {
   "cell_type": "code",
   "execution_count": null,
   "metadata": {},
   "outputs": [],
   "source": []
  },
  {
   "cell_type": "code",
   "execution_count": null,
   "metadata": {},
   "outputs": [],
   "source": []
  },
  {
   "cell_type": "code",
   "execution_count": null,
   "metadata": {},
   "outputs": [],
   "source": []
  },
  {
   "cell_type": "markdown",
   "metadata": {},
   "source": [
    "Question 7. \n",
    "\n",
    "Write a Python Program to check if a string contains any special character?"
   ]
  },
  {
   "cell_type": "code",
   "execution_count": 495,
   "metadata": {},
   "outputs": [],
   "source": [
    "def check_sp_char():\n",
    "    special_char = \"!@#$%^&*()-+?_=,<>/\"\n",
    "    inp_rand_sent = input(\"Enter a sentence with special characters in them \")\n",
    "    \n",
    "    for char in special_char:       ## Iterate each special character \n",
    "        if char in inp_rand_sent:   ## Check if the special char is inside the input dataset.\n",
    "            return True             ## Return True\n",
    "        \n",
    "    return False                ## If the Condition is not satisfied it breaks the loop and returns False.\n",
    "    "
   ]
  },
  {
   "cell_type": "code",
   "execution_count": 500,
   "metadata": {},
   "outputs": [
    {
     "name": "stdout",
     "output_type": "stream",
     "text": [
      "Enter a sentence with special characters in them Geeks For Geeks\n"
     ]
    },
    {
     "data": {
      "text/plain": [
       "False"
      ]
     },
     "execution_count": 500,
     "metadata": {},
     "output_type": "execute_result"
    }
   ],
   "source": [
    "check_sp_char()"
   ]
  },
  {
   "cell_type": "code",
   "execution_count": null,
   "metadata": {},
   "outputs": [],
   "source": []
  },
  {
   "cell_type": "code",
   "execution_count": null,
   "metadata": {},
   "outputs": [],
   "source": []
  },
  {
   "cell_type": "code",
   "execution_count": null,
   "metadata": {},
   "outputs": [],
   "source": []
  },
  {
   "cell_type": "code",
   "execution_count": null,
   "metadata": {},
   "outputs": [],
   "source": []
  },
  {
   "cell_type": "code",
   "execution_count": null,
   "metadata": {},
   "outputs": [],
   "source": []
  },
  {
   "cell_type": "code",
   "execution_count": null,
   "metadata": {},
   "outputs": [],
   "source": []
  },
  {
   "cell_type": "code",
   "execution_count": null,
   "metadata": {},
   "outputs": [],
   "source": []
  },
  {
   "cell_type": "code",
   "execution_count": null,
   "metadata": {},
   "outputs": [],
   "source": []
  },
  {
   "cell_type": "code",
   "execution_count": null,
   "metadata": {},
   "outputs": [],
   "source": []
  },
  {
   "cell_type": "code",
   "execution_count": null,
   "metadata": {},
   "outputs": [],
   "source": []
  },
  {
   "cell_type": "code",
   "execution_count": null,
   "metadata": {},
   "outputs": [],
   "source": []
  },
  {
   "cell_type": "code",
   "execution_count": null,
   "metadata": {},
   "outputs": [],
   "source": []
  }
 ],
 "metadata": {
  "kernelspec": {
   "display_name": "Python 3",
   "language": "python",
   "name": "python3"
  },
  "language_info": {
   "codemirror_mode": {
    "name": "ipython",
    "version": 3
   },
   "file_extension": ".py",
   "mimetype": "text/x-python",
   "name": "python",
   "nbconvert_exporter": "python",
   "pygments_lexer": "ipython3",
   "version": "3.8.5"
  }
 },
 "nbformat": 4,
 "nbformat_minor": 4
}
