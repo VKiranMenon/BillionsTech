{
 "cells": [
  {
   "cell_type": "code",
   "execution_count": null,
   "metadata": {},
   "outputs": [],
   "source": []
  },
  {
   "cell_type": "markdown",
   "metadata": {},
   "source": [
    "Question  1. \n",
    "\n",
    "Write a Python program to Extract Unique values dictionary values?"
   ]
  },
  {
   "cell_type": "code",
   "execution_count": 38,
   "metadata": {},
   "outputs": [],
   "source": [
    "def Uniq_val():\n",
    "    ## How to extract unique values from a Dictionary container\n",
    "    dict_1 = {'one': 111, 'two': 112, 'three': 113, 'four': 114, 'five': 111, 'five_1': 115, 'six': 112}\n",
    "    \n",
    "    ## empty list to append all the unique values from the dictionary\n",
    "    list_val = [] \n",
    "    \n",
    "    ## for loop will iterate all the value pairs from the dictionary\n",
    "    for i in dict_1.values(): \n",
    "        if i in list_val:           ## only if the value is not available in the empty list will it add the new value or else the \"continue\" statement will\n",
    "            continue                    ## skip that iteration and move onto the next one.\n",
    "        else:\n",
    "            list_val.append(i)      ## adding only the unique values inside the list.\n",
    "    return list_val"
   ]
  },
  {
   "cell_type": "code",
   "execution_count": 39,
   "metadata": {},
   "outputs": [
    {
     "data": {
      "text/plain": [
       "[111, 112, 113, 114, 115]"
      ]
     },
     "execution_count": 39,
     "metadata": {},
     "output_type": "execute_result"
    }
   ],
   "source": [
    "Uniq_val()"
   ]
  },
  {
   "cell_type": "code",
   "execution_count": null,
   "metadata": {},
   "outputs": [],
   "source": []
  },
  {
   "cell_type": "code",
   "execution_count": null,
   "metadata": {},
   "outputs": [],
   "source": []
  },
  {
   "cell_type": "code",
   "execution_count": null,
   "metadata": {},
   "outputs": [],
   "source": []
  },
  {
   "cell_type": "markdown",
   "metadata": {},
   "source": [
    "Question 2. \n",
    "\n",
    "Write a Python program to find the sum of all items in a dictionary?"
   ]
  },
  {
   "cell_type": "code",
   "execution_count": 30,
   "metadata": {},
   "outputs": [],
   "source": [
    "def sum_dict_val():\n",
    "    dict_2 = {'one': 100, 'two': 200, 'three': 300, 'four': 400}\n",
    "    \n",
    "    val = 0\n",
    "        \n",
    "    for i in dict_2.values():\n",
    "        val = val + i\n",
    "    return val\n",
    "        \n"
   ]
  },
  {
   "cell_type": "code",
   "execution_count": 31,
   "metadata": {},
   "outputs": [
    {
     "data": {
      "text/plain": [
       "1000"
      ]
     },
     "execution_count": 31,
     "metadata": {},
     "output_type": "execute_result"
    }
   ],
   "source": [
    "sum_dict_val()"
   ]
  },
  {
   "cell_type": "code",
   "execution_count": null,
   "metadata": {},
   "outputs": [],
   "source": []
  },
  {
   "cell_type": "code",
   "execution_count": null,
   "metadata": {},
   "outputs": [],
   "source": []
  },
  {
   "cell_type": "code",
   "execution_count": null,
   "metadata": {},
   "outputs": [],
   "source": []
  },
  {
   "cell_type": "markdown",
   "metadata": {},
   "source": [
    "Question 3. \n",
    "\n",
    "Write a Python program to Merging two Dictionaries?"
   ]
  },
  {
   "cell_type": "code",
   "execution_count": 56,
   "metadata": {},
   "outputs": [],
   "source": [
    "def merge_dict():\n",
    "    dict_a = {'one': 100, 'two': 200, 'three': 300, 'four': 400}\n",
    "    \n",
    "    dict_b = {'five': 500, 'six': 600, 'seven': 700}\n",
    "    \n",
    "    dict_copy = {}\n",
    "        \n",
    "    dict_copy = dict_b.copy()\n",
    "    dict_a.update(dict_copy)\n",
    "    \n",
    "    return dict_a"
   ]
  },
  {
   "cell_type": "code",
   "execution_count": 57,
   "metadata": {},
   "outputs": [
    {
     "data": {
      "text/plain": [
       "{'one': 100,\n",
       " 'two': 200,\n",
       " 'three': 300,\n",
       " 'four': 400,\n",
       " 'five': 500,\n",
       " 'six': 600,\n",
       " 'seven': 700}"
      ]
     },
     "execution_count": 57,
     "metadata": {},
     "output_type": "execute_result"
    }
   ],
   "source": [
    "merge_dict()"
   ]
  },
  {
   "cell_type": "code",
   "execution_count": 46,
   "metadata": {},
   "outputs": [],
   "source": [
    "def merge_dict2():\n",
    "    dict_a = {'one': 100, 'two': 200, 'three': 300, 'four': 400}\n",
    "    \n",
    "    dict_b = {'five': 500, 'six': 600, 'seven': 700}\n",
    "    \n",
    "    print({**dict_a, ** dict_b})\n",
    "    "
   ]
  },
  {
   "cell_type": "code",
   "execution_count": 47,
   "metadata": {},
   "outputs": [
    {
     "name": "stdout",
     "output_type": "stream",
     "text": [
      "{'one': 100, 'two': 200, 'three': 300, 'four': 400, 'five': 500, 'six': 600, 'seven': 700}\n"
     ]
    }
   ],
   "source": [
    "merge_dict2()"
   ]
  },
  {
   "cell_type": "code",
   "execution_count": null,
   "metadata": {},
   "outputs": [],
   "source": []
  },
  {
   "cell_type": "code",
   "execution_count": null,
   "metadata": {},
   "outputs": [],
   "source": []
  },
  {
   "cell_type": "code",
   "execution_count": null,
   "metadata": {},
   "outputs": [],
   "source": []
  },
  {
   "cell_type": "markdown",
   "metadata": {},
   "source": [
    "Question 4.\n",
    "\n",
    "Write a Python program to convert key-values list to flat dictionary?"
   ]
  },
  {
   "cell_type": "markdown",
   "metadata": {},
   "source": [
    "We can use the function `zip()` for the above solution.\n",
    "\n",
    "The idea is to merge 2 or more lists which are in \"Dictionary\" format and assign values to them so that the output comes out as one single Dictionary with values."
   ]
  },
  {
   "cell_type": "code",
   "execution_count": 100,
   "metadata": {},
   "outputs": [],
   "source": [
    "from itertools import product\n",
    "\n",
    "def convert_key_flat_dict():\n",
    "    ## let us create 3 seperate lists of students who scored highest marks in which subjects.\n",
    "    ## dictionary comprehension can be used in order to create a flat list\n",
    "    \n",
    "    create_lst = {\"Names\" : [\"Alan\", \"Rajesh\", \"Chulbul\", \"Ajay\", \"Kishore\"], \"Subjects\" : [\"Applied Mathematics \", \"Biomedical Engineering \", \"Artificial Intelligence \", \"Computational Science \", \"Computer Science & Informatics \"], \"Marks\" : [92, 94, 98, 90, 85]}  \n",
    "    \n",
    "    zip_lst = dict(zip(create_lst[\"Names\"], create_lst[\"Subjects\"])) ## zip() command \"maps\" containers with similar indexes together\n",
    "    \n",
    "    \n",
    "    return zip_lst\n",
    "\n",
    "\n",
    "## The above solution can only consider 2 lists if we were to use the dict(zip()) function\n",
    "\n",
    "## In order to create a flat list for more than 2 containers\n",
    "## we can use only zip() command and then convert them into set() \n",
    "\n",
    "def convert_sep_list_flat_lst():\n",
    "    \n",
    "    create_lst = {\"Names\" : [\"Alan\", \"Rajesh\", \"Chulbul\", \"Ajay\", \"Kishore\"], \"Subjects\" : [\"Applied Mathematics \", \"Biomedical Engineering \", \"Artificial Intelligence \", \"Computational Science \", \"Computer Science & Informatics \"], \"Marks\" : [92, 94, 98, 90, 85]}  \n",
    "    \n",
    "    zip_over2 = zip(create_lst[\"Names\"], create_lst[\"Subjects\"], create_lst[\"Marks\"])\n",
    "    \n",
    "    mapped = set(zip_over2)\n",
    "    \n",
    "    return mapped\n",
    "    \n",
    "    "
   ]
  },
  {
   "cell_type": "code",
   "execution_count": 101,
   "metadata": {},
   "outputs": [
    {
     "data": {
      "text/plain": [
       "{'Alan': 'Applied Mathematics ',\n",
       " 'Rajesh': 'Biomedical Engineering ',\n",
       " 'Chulbul': 'Artificial Intelligence ',\n",
       " 'Ajay': 'Computational Science ',\n",
       " 'Kishore': 'Computer Science & Informatics '}"
      ]
     },
     "execution_count": 101,
     "metadata": {},
     "output_type": "execute_result"
    }
   ],
   "source": [
    "convert_key_flat_dict()"
   ]
  },
  {
   "cell_type": "code",
   "execution_count": 94,
   "metadata": {},
   "outputs": [
    {
     "data": {
      "text/plain": [
       "{('Ajay', 'Computational Science ', 90),\n",
       " ('Alan', 'Applied Mathematics ', 92),\n",
       " ('Chulbul', 'Artificial Intelligence ', 98),\n",
       " ('Kishore', 'Computer Science & Informatics ', 85),\n",
       " ('Rajesh', 'Biomedical Engineering ', 94)}"
      ]
     },
     "execution_count": 94,
     "metadata": {},
     "output_type": "execute_result"
    }
   ],
   "source": [
    "convert_sep_list_flat_lst()"
   ]
  },
  {
   "cell_type": "code",
   "execution_count": null,
   "metadata": {},
   "outputs": [],
   "source": []
  },
  {
   "cell_type": "code",
   "execution_count": null,
   "metadata": {},
   "outputs": [],
   "source": []
  },
  {
   "cell_type": "code",
   "execution_count": null,
   "metadata": {},
   "outputs": [],
   "source": []
  },
  {
   "cell_type": "markdown",
   "metadata": {},
   "source": [
    "Question 5. \n",
    "\n",
    "Write a Python program to insertion at the beginning in OrderedDict?"
   ]
  },
  {
   "cell_type": "code",
   "execution_count": 102,
   "metadata": {},
   "outputs": [],
   "source": [
    "from collections import OrderedDict\n",
    "\n",
    "## Packages are imported for Ordered Dictionary"
   ]
  },
  {
   "cell_type": "code",
   "execution_count": 123,
   "metadata": {},
   "outputs": [],
   "source": [
    "def insert_orderdict():\n",
    "    ord_dict = OrderedDict([(\"Subject 1\", \"Human\"), (\"Subject 2\", \"Animal\")])  ## Create 2 containers with \n",
    "    \n",
    "    ord_dict.update({\"Subject 3\" : \"Alien\"})          ## .update() is used to create a Key and a Value Pair\n",
    "    ord_dict.move_to_end(\"Subject 3\", last = False)   ## move_to_end is used to move the new Key and Value pair...\n",
    "                                                      ## also 'last' = False denotes the new addition will be included in the beginning.\n",
    "                                                      ## If wanted at the last we take out the argument or write , 'last' = True\n",
    "    \n",
    "    return ord_dict"
   ]
  },
  {
   "cell_type": "code",
   "execution_count": 124,
   "metadata": {},
   "outputs": [
    {
     "data": {
      "text/plain": [
       "OrderedDict([('Subject 3', 'Alien'),\n",
       "             ('Subject 1', 'Human'),\n",
       "             ('Subject 2', 'Animal')])"
      ]
     },
     "execution_count": 124,
     "metadata": {},
     "output_type": "execute_result"
    }
   ],
   "source": [
    "insert_orderdict()"
   ]
  },
  {
   "cell_type": "code",
   "execution_count": null,
   "metadata": {},
   "outputs": [],
   "source": []
  },
  {
   "cell_type": "code",
   "execution_count": null,
   "metadata": {},
   "outputs": [],
   "source": []
  },
  {
   "cell_type": "code",
   "execution_count": null,
   "metadata": {},
   "outputs": [],
   "source": []
  },
  {
   "cell_type": "markdown",
   "metadata": {},
   "source": [
    "Question 6. \n",
    "\n",
    "Write a Python program to check order of character in string using OrderedDict()?"
   ]
  },
  {
   "cell_type": "markdown",
   "metadata": {},
   "source": [
    "The concept of the above question is where any input that we insert should be matched with the pattern that we assign.\n",
    "\n",
    "For example if we insert \"Hello World\" and the pattern inserted in \"h o\" (regardless of the lower/upper case) then the program should return True.\n"
   ]
  },
  {
   "cell_type": "code",
   "execution_count": 276,
   "metadata": {},
   "outputs": [],
   "source": [
    "## Write a program that inputs random string value and matches it with the pattern\n",
    "\n",
    "## The pattern should have more than one character and the condition are\n",
    "\n",
    "## Conditions\n",
    "\n",
    "## 1)  within the pattern recognition if the last occurence of the previous character is after the first occurence of the current character \n",
    "##     the program returns FALSE.\n",
    "\n",
    "## 2) If the length of pattern is more than the string input, then the program should return FALSE.\n",
    "\n",
    "## 3) If the characters inside the pattern are not present then return FALSE.\n",
    "\n",
    "\n",
    "## create a function with 2 args (variables)\n",
    "def match_str_pattern(string, pattern):\n",
    "    \n",
    "    ##  condition if length of string is less than or equal to 1 return false\n",
    "    if len(string) <= 1:\n",
    "        return False\n",
    "    \n",
    "    \n",
    "    ## condition if length of pattern > length of string return False\n",
    "    \n",
    "    if len(pattern) > len(string):\n",
    "        return False\n",
    "    \n",
    "    \n",
    "    ## In order to find a pattern more than one character is required.\n",
    "    if len(pattern) <= 1:\n",
    "        return False\n",
    "    \n",
    "    \n",
    "    ## Iterate each character inside the pattern\n",
    "    for i in range(len(pattern)-1):\n",
    "        \n",
    "        ## Build adjacent variables that will be used inside pattern recognition\n",
    "        ## The previous character's last occurence will NOT be after the first occurence of its LATEST character...\n",
    "        ## For example if 'er' is a pattern inside a string.... letter 'e' should come first followed by letter 'r' to return TRUE \n",
    "        ## However if there is another 'e' after the letter 'r' in which 'r' will have last occurence then return FALSE\n",
    "        \n",
    "        x = pattern[i]    ## first occurence\n",
    "        y = pattern[i + 1] ## Next occurence\n",
    "        \n",
    "        last_index = string.rindex(x)  ## rindex() returns the highest value...in this case the last occurence of variable 'x'\n",
    "        first_index = string.index(y)  ## index() on the other hand returns the first occurence inside a string \n",
    "        \n",
    "        \n",
    "        ## Return False if last_index is less than 1 and first_index is less than 1\n",
    "        ## within the pattern recognition if the last occurence of the previous character is after the first occurence of the current character \n",
    "        \n",
    "        ## What the first part of the last_index and first_index mean is the character should not be empty as such at minimum it should begin from index[0]\n",
    "        ## Therefore -1 denotes an empty char inside the pattern (Refer to the program below)\n",
    "        \n",
    "        if last_index == -1 or first_index == -1 or last_index > first_index:\n",
    "            return False\n",
    "        \n",
    "    return True"
   ]
  },
  {
   "cell_type": "code",
   "execution_count": 279,
   "metadata": {},
   "outputs": [
    {
     "data": {
      "text/plain": [
       "True"
      ]
     },
     "execution_count": 279,
     "metadata": {},
     "output_type": "execute_result"
    }
   ],
   "source": [
    "match_str_pattern(\"Data Delight\", \"eli\")"
   ]
  },
  {
   "cell_type": "markdown",
   "metadata": {},
   "source": [
    "Refer to the below program as to why -1 is written, instead of 0 or some other value.\n",
    "\n",
    "Basically the index values begin from 0"
   ]
  },
  {
   "cell_type": "code",
   "execution_count": 202,
   "metadata": {},
   "outputs": [
    {
     "name": "stdout",
     "output_type": "stream",
     "text": [
      "2\n",
      "4\n"
     ]
    }
   ],
   "source": [
    "string222 = \"apple\"\n",
    "pattern = \"pe\"\n",
    "for i in range(len(pattern)-1):\n",
    "    x = pattern[i]\n",
    "    y = pattern[i + 1]\n",
    "    \n",
    "    last_ = string222.rindex(x)\n",
    "    first_ = string222.index(y) \n",
    "    \n",
    "print(last_)  ## last occurence \n",
    "print(first_)  ## first occurent"
   ]
  },
  {
   "cell_type": "code",
   "execution_count": null,
   "metadata": {},
   "outputs": [],
   "source": []
  },
  {
   "cell_type": "markdown",
   "metadata": {},
   "source": [
    "Solution for checking string pattern using `OrderedDict()`\n",
    "\n",
    "We create a function where the string follows the same order as the given pattern"
   ]
  },
  {
   "cell_type": "code",
   "execution_count": 265,
   "metadata": {},
   "outputs": [],
   "source": [
    "## import librariy 'OrderedDict'\n",
    "\n",
    "from collections import OrderedDict\n",
    "\n",
    "## create a function name that relates to the problem\n",
    "\n",
    "def check_pattern_dict(string, pattern):\n",
    "    \n",
    "    ## Create an empty dictionary using the library function Ordered Dictionary of the characters of the string\n",
    "    \n",
    "    diction_ = OrderedDict.fromkeys(string)\n",
    "    \n",
    "    ## declaring a pointer variable and setting it to 0\n",
    "    indx_ptrn = 0  \n",
    "\n",
    "    \n",
    "    ## Each character inside the string should be checked with the pattern in parallel\n",
    "    ## Use a loop to iterate each characters (Key and Valuepair) from the Dictionary\n",
    "    \n",
    "    for key, value in diction_.items():\n",
    "        \n",
    "        ## create a condition when each character inside the OrderedDict is checked..\n",
    "        ## We check by iterating each string with the pattern in parallel...hence if condition is inside the for loop\n",
    "        ## If each pattern matches with the string then the pointer variable will increase by 1.\n",
    "        if key == pattern[indx_ptrn]:\n",
    "            indx_ptrn = indx_ptrn + 1\n",
    "            \n",
    "        ## create a condition to check if the pointer variable has same number as with the length of the pattern...return True when satisfied\n",
    "        if indx_ptrn == len(pattern):\n",
    "            return True\n",
    "        \n",
    "        print(key)\n",
    "        print(value)\n",
    "        \n",
    "    return False\n",
    "        \n",
    "    "
   ]
  },
  {
   "cell_type": "code",
   "execution_count": 304,
   "metadata": {},
   "outputs": [
    {
     "name": "stdout",
     "output_type": "stream",
     "text": [
      "W\n",
      "None\n",
      "e\n",
      "None\n",
      "l\n",
      "None\n",
      "c\n",
      "None\n",
      "o\n",
      "None\n"
     ]
    },
    {
     "data": {
      "text/plain": [
       "True"
      ]
     },
     "execution_count": 304,
     "metadata": {},
     "output_type": "execute_result"
    }
   ],
   "source": [
    "check_pattern_dict(\"Welcome\", \"Welcom\") \n",
    "\n",
    "## But if we write \"Welcome\" it will give us False because the character 'e' has occured once that means the when iterating 'e' \n",
    "## was the previous character that comes last after the current character 'm'...which means 'e' came twice, which is False as per condition\n",
    "\n",
    "## As per the condition when OrderedDict was create any string value that we put in such as the word \"Welcome\"\n",
    "\n",
    "## the orderedDictionary creates a Dictionary like this\n",
    "## W: None  e: None l: None c: None o: None m: None e: None\n",
    "\n",
    "## When pattern is recognized with the 'KEY' (String) that is when 1 is added into the pointer variable\n",
    "## as you can see in pattern \"Welcom\" till o: None but at m the pattern is recognised hence it is TRUE...if we include letter \"e\"\n",
    "## at the end of the pattern then the pattern will not recognise and return FALSE as letter \"e\" has occured once and it occurs after m returns FALSE."
   ]
  },
  {
   "cell_type": "code",
   "execution_count": null,
   "metadata": {},
   "outputs": [],
   "source": []
  },
  {
   "cell_type": "code",
   "execution_count": null,
   "metadata": {},
   "outputs": [],
   "source": []
  },
  {
   "cell_type": "code",
   "execution_count": null,
   "metadata": {},
   "outputs": [],
   "source": []
  },
  {
   "cell_type": "markdown",
   "metadata": {},
   "source": [
    "Question 7. \n",
    "\n",
    "Write a Python program to sort Python Dictionaries by Key or Value?"
   ]
  },
  {
   "cell_type": "markdown",
   "metadata": {},
   "source": [
    "In order to solve the above we will be using the `sort()` command by establishing two different function one for each Key and Value"
   ]
  },
  {
   "cell_type": "code",
   "execution_count": 357,
   "metadata": {},
   "outputs": [],
   "source": [
    "def sort_key():\n",
    "    ## create an empty Dictionary and then use the variable name to assign key-value for the dictionary\n",
    "    Fruit = {}\n",
    "    \n",
    "    Fruit['cherry'] = 10\n",
    "    Fruit['jackfruit'] = 25\n",
    "    Fruit['apple'] = 10\n",
    "    Fruit['mangoes'] = 15\n",
    "    Fruit['peach'] = 22\n",
    "    Fruit['berries'] = 30\n",
    "    \n",
    "    for key, value in sorted(Fruit.items()):\n",
    "        print(key, \" : \", value)\n",
    "            "
   ]
  },
  {
   "cell_type": "code",
   "execution_count": 358,
   "metadata": {},
   "outputs": [
    {
     "name": "stdout",
     "output_type": "stream",
     "text": [
      "apple  :  10\n",
      "berries  :  30\n",
      "cherry  :  10\n",
      "jackfruit  :  25\n",
      "mangoes  :  15\n",
      "peach  :  22\n"
     ]
    }
   ],
   "source": [
    "sort_key()"
   ]
  },
  {
   "cell_type": "code",
   "execution_count": null,
   "metadata": {},
   "outputs": [],
   "source": []
  },
  {
   "cell_type": "code",
   "execution_count": 365,
   "metadata": {},
   "outputs": [],
   "source": [
    "import operator\n",
    "def sort_value():\n",
    "    dict_value = {'one1': 2, 'three3': 4, 'four4': 3, 'two2': 1, 'zero1': 0}\n",
    "    \n",
    "    sort_numbers_1 = sorted(dict_value.items(), key = lambda x:x[1]) \n",
    "    sort_numbers_2 = sorted(dict_value.items(), key = operator.itemgetter(1))\n",
    "    \n",
    "    ## Basically both the methods above are callable functions. 'Key' is a parameter and sorted() command requires key and values to sort.\n",
    "    ## operator.itemgetter(1) pulls out the first object from the sorted container which we placed.\n",
    "    \n",
    "    return sort_numbers_1, sort_numbers_2"
   ]
  },
  {
   "cell_type": "code",
   "execution_count": 366,
   "metadata": {},
   "outputs": [
    {
     "data": {
      "text/plain": [
       "([('zero1', 0), ('two2', 1), ('one1', 2), ('four4', 3), ('three3', 4)],\n",
       " [('zero1', 0), ('two2', 1), ('one1', 2), ('four4', 3), ('three3', 4)])"
      ]
     },
     "execution_count": 366,
     "metadata": {},
     "output_type": "execute_result"
    }
   ],
   "source": [
    "sort_value()"
   ]
  },
  {
   "cell_type": "code",
   "execution_count": null,
   "metadata": {},
   "outputs": [],
   "source": []
  },
  {
   "cell_type": "code",
   "execution_count": null,
   "metadata": {},
   "outputs": [],
   "source": []
  },
  {
   "cell_type": "code",
   "execution_count": null,
   "metadata": {},
   "outputs": [],
   "source": []
  },
  {
   "cell_type": "code",
   "execution_count": null,
   "metadata": {},
   "outputs": [],
   "source": []
  },
  {
   "cell_type": "code",
   "execution_count": null,
   "metadata": {},
   "outputs": [],
   "source": []
  },
  {
   "cell_type": "code",
   "execution_count": null,
   "metadata": {},
   "outputs": [],
   "source": []
  },
  {
   "cell_type": "code",
   "execution_count": null,
   "metadata": {},
   "outputs": [],
   "source": []
  },
  {
   "cell_type": "code",
   "execution_count": null,
   "metadata": {},
   "outputs": [],
   "source": []
  },
  {
   "cell_type": "code",
   "execution_count": null,
   "metadata": {},
   "outputs": [],
   "source": []
  },
  {
   "cell_type": "code",
   "execution_count": null,
   "metadata": {},
   "outputs": [],
   "source": []
  },
  {
   "cell_type": "code",
   "execution_count": null,
   "metadata": {},
   "outputs": [],
   "source": []
  },
  {
   "cell_type": "code",
   "execution_count": null,
   "metadata": {},
   "outputs": [],
   "source": []
  },
  {
   "cell_type": "code",
   "execution_count": null,
   "metadata": {},
   "outputs": [],
   "source": []
  },
  {
   "cell_type": "code",
   "execution_count": null,
   "metadata": {},
   "outputs": [],
   "source": []
  },
  {
   "cell_type": "code",
   "execution_count": null,
   "metadata": {},
   "outputs": [],
   "source": []
  },
  {
   "cell_type": "code",
   "execution_count": null,
   "metadata": {},
   "outputs": [],
   "source": []
  },
  {
   "cell_type": "code",
   "execution_count": null,
   "metadata": {},
   "outputs": [],
   "source": []
  },
  {
   "cell_type": "code",
   "execution_count": null,
   "metadata": {},
   "outputs": [],
   "source": []
  },
  {
   "cell_type": "code",
   "execution_count": null,
   "metadata": {},
   "outputs": [],
   "source": []
  },
  {
   "cell_type": "code",
   "execution_count": null,
   "metadata": {},
   "outputs": [],
   "source": []
  },
  {
   "cell_type": "code",
   "execution_count": null,
   "metadata": {},
   "outputs": [],
   "source": []
  },
  {
   "cell_type": "code",
   "execution_count": null,
   "metadata": {},
   "outputs": [],
   "source": []
  },
  {
   "cell_type": "code",
   "execution_count": null,
   "metadata": {},
   "outputs": [],
   "source": []
  },
  {
   "cell_type": "code",
   "execution_count": null,
   "metadata": {},
   "outputs": [],
   "source": []
  },
  {
   "cell_type": "code",
   "execution_count": null,
   "metadata": {},
   "outputs": [],
   "source": []
  },
  {
   "cell_type": "code",
   "execution_count": null,
   "metadata": {},
   "outputs": [],
   "source": []
  },
  {
   "cell_type": "code",
   "execution_count": null,
   "metadata": {},
   "outputs": [],
   "source": []
  },
  {
   "cell_type": "code",
   "execution_count": null,
   "metadata": {},
   "outputs": [],
   "source": []
  },
  {
   "cell_type": "code",
   "execution_count": null,
   "metadata": {},
   "outputs": [],
   "source": []
  },
  {
   "cell_type": "code",
   "execution_count": null,
   "metadata": {},
   "outputs": [],
   "source": []
  },
  {
   "cell_type": "code",
   "execution_count": null,
   "metadata": {},
   "outputs": [],
   "source": []
  },
  {
   "cell_type": "code",
   "execution_count": null,
   "metadata": {},
   "outputs": [],
   "source": []
  },
  {
   "cell_type": "code",
   "execution_count": null,
   "metadata": {},
   "outputs": [],
   "source": []
  },
  {
   "cell_type": "code",
   "execution_count": null,
   "metadata": {},
   "outputs": [],
   "source": []
  },
  {
   "cell_type": "code",
   "execution_count": null,
   "metadata": {},
   "outputs": [],
   "source": []
  },
  {
   "cell_type": "code",
   "execution_count": null,
   "metadata": {},
   "outputs": [],
   "source": []
  },
  {
   "cell_type": "code",
   "execution_count": null,
   "metadata": {},
   "outputs": [],
   "source": []
  },
  {
   "cell_type": "code",
   "execution_count": null,
   "metadata": {},
   "outputs": [],
   "source": []
  },
  {
   "cell_type": "code",
   "execution_count": null,
   "metadata": {},
   "outputs": [],
   "source": []
  },
  {
   "cell_type": "code",
   "execution_count": null,
   "metadata": {},
   "outputs": [],
   "source": []
  },
  {
   "cell_type": "code",
   "execution_count": null,
   "metadata": {},
   "outputs": [],
   "source": []
  },
  {
   "cell_type": "code",
   "execution_count": null,
   "metadata": {},
   "outputs": [],
   "source": []
  },
  {
   "cell_type": "code",
   "execution_count": null,
   "metadata": {},
   "outputs": [],
   "source": []
  },
  {
   "cell_type": "code",
   "execution_count": null,
   "metadata": {},
   "outputs": [],
   "source": []
  },
  {
   "cell_type": "code",
   "execution_count": null,
   "metadata": {},
   "outputs": [],
   "source": []
  },
  {
   "cell_type": "code",
   "execution_count": null,
   "metadata": {},
   "outputs": [],
   "source": []
  },
  {
   "cell_type": "code",
   "execution_count": null,
   "metadata": {},
   "outputs": [],
   "source": []
  },
  {
   "cell_type": "code",
   "execution_count": null,
   "metadata": {},
   "outputs": [],
   "source": []
  },
  {
   "cell_type": "code",
   "execution_count": null,
   "metadata": {},
   "outputs": [],
   "source": []
  },
  {
   "cell_type": "code",
   "execution_count": null,
   "metadata": {},
   "outputs": [],
   "source": []
  },
  {
   "cell_type": "code",
   "execution_count": null,
   "metadata": {},
   "outputs": [],
   "source": []
  },
  {
   "cell_type": "code",
   "execution_count": null,
   "metadata": {},
   "outputs": [],
   "source": []
  },
  {
   "cell_type": "code",
   "execution_count": null,
   "metadata": {},
   "outputs": [],
   "source": []
  },
  {
   "cell_type": "code",
   "execution_count": null,
   "metadata": {},
   "outputs": [],
   "source": []
  },
  {
   "cell_type": "code",
   "execution_count": null,
   "metadata": {},
   "outputs": [],
   "source": []
  },
  {
   "cell_type": "code",
   "execution_count": null,
   "metadata": {},
   "outputs": [],
   "source": []
  },
  {
   "cell_type": "code",
   "execution_count": null,
   "metadata": {},
   "outputs": [],
   "source": []
  }
 ],
 "metadata": {
  "kernelspec": {
   "display_name": "Python 3",
   "language": "python",
   "name": "python3"
  },
  "language_info": {
   "codemirror_mode": {
    "name": "ipython",
    "version": 3
   },
   "file_extension": ".py",
   "mimetype": "text/x-python",
   "name": "python",
   "nbconvert_exporter": "python",
   "pygments_lexer": "ipython3",
   "version": "3.8.5"
  }
 },
 "nbformat": 4,
 "nbformat_minor": 4
}
