{
 "cells": [
  {
   "cell_type": "code",
   "execution_count": null,
   "metadata": {},
   "outputs": [],
   "source": []
  },
  {
   "cell_type": "markdown",
   "metadata": {},
   "source": [
    "Question 1. \n",
    "\n",
    "Write a Python Program to Add Two Matrices?"
   ]
  },
  {
   "cell_type": "code",
   "execution_count": null,
   "metadata": {},
   "outputs": [],
   "source": []
  },
  {
   "cell_type": "markdown",
   "metadata": {},
   "source": [
    "Method 1"
   ]
  },
  {
   "cell_type": "code",
   "execution_count": 61,
   "metadata": {},
   "outputs": [
    {
     "name": "stdout",
     "output_type": "stream",
     "text": [
      "Enter the number of row in Matrix '1':  2\n",
      "Enter the number of columns in Matrix 1:  2\n",
      "1 2 3 4\n",
      "Enter the number of row in Matrix '2':   2 \n",
      "Enter the number of columns in Matrix 2:  2\n",
      "5 6 7 8\n",
      "Matrix 1 is: \n",
      " [[1 2]\n",
      " [3 4]]\n",
      "Matrix 2 is: \n",
      " [[5 6]\n",
      " [7 8]]\n"
     ]
    },
    {
     "data": {
      "text/plain": [
       "('Result of adding 2 matrix is',\n",
       " array([[ 6,  8],\n",
       "        [10, 12]]))"
      ]
     },
     "execution_count": 61,
     "metadata": {},
     "output_type": "execute_result"
    }
   ],
   "source": [
    "import numpy as np\n",
    "\n",
    "def add_arr():\n",
    "    r_arr1 = int(input(\"Enter the number of row in Matrix '1':  \"))     ## Row inside the Matrice\n",
    "    c_arr_1 = int(input(\"Enter the number of columns in Matrix 1:  \"))  ## Column inside the Matrice\n",
    "    \n",
    "    elem_input_1 = list(map(int, input().split()))                      ## Each element required...if we are to use 2 x 2..then 4 inputs\n",
    "    \n",
    "    res_matrix_1 = np.array (elem_input_1). reshape((r_arr1, c_arr_1))  ## Numpy function to convert the inputs into arrays and shape them into Matrices\n",
    "                                                                        ## 2 x 2 gives 2 rows and 2 columns.\n",
    "        \n",
    "    \n",
    "    r_arr2 = int(input(\"Enter the number of row in Matrix '2':   \"))    ## For the second Row\n",
    "    c_arr_2 = int(input(\"Enter the number of columns in Matrix 2:  \"))  ## Second Column\n",
    "    \n",
    "    elem_input_2 = list(map(int,input().split()))                       ## Inputs for the Second Matrice.\n",
    "    \n",
    "    res_matrix_2 = np.array (elem_input_2). reshape((r_arr2, c_arr_2))  ## Numpy function to create a Matrice with the inputs\n",
    "    \n",
    "    print (\"Matrix 1 is: \\n\",  res_matrix_1)\n",
    "    print (\"Matrix 2 is: \\n\",  res_matrix_2)\n",
    "    \n",
    "    add_matrix = res_matrix_1 + res_matrix_2                           ## Create a variable that adds in both the Matrice and provide a New Matrice.\n",
    "    \n",
    "    return \"Result of adding 2 matrix is\", add_matrix\n",
    "\n",
    "add_arr()"
   ]
  },
  {
   "cell_type": "code",
   "execution_count": 218,
   "metadata": {},
   "outputs": [
    {
     "name": "stdout",
     "output_type": "stream",
     "text": [
      "Enter the number of rows for matrix 1: 2\n",
      "Enter the number of columns for matrix 1: 2\n",
      "[]\n",
      "1\n",
      "[1]\n",
      "2\n",
      "[1, 2]\n",
      "[]\n",
      "3\n",
      "[3]\n",
      "4\n",
      "[3, 4]\n"
     ]
    }
   ],
   "source": [
    "''' This is just working column\n",
    "\n",
    "\n",
    "\n",
    "row_arr_1 = int(input(\"Enter the number of rows for matrix 1: \"))\n",
    "col_arr_1 = int(input(\"Enter the number of columns for matrix 1: \")) \n",
    "for i in range(row_arr_1):\n",
    "    ele = []\n",
    "    print(ele)\n",
    "    for j in range(col_arr_1):\n",
    "        ele.append(int(input()))\n",
    "        print(ele)\n",
    "        \n",
    "''' "
   ]
  },
  {
   "cell_type": "code",
   "execution_count": null,
   "metadata": {},
   "outputs": [],
   "source": []
  },
  {
   "cell_type": "markdown",
   "metadata": {},
   "source": [
    "Method 2"
   ]
  },
  {
   "cell_type": "code",
   "execution_count": 220,
   "metadata": {},
   "outputs": [
    {
     "name": "stdout",
     "output_type": "stream",
     "text": [
      "Enter the number of rows for matrix 1: 2\n",
      "Enter the number of columns for matrix 1: 2\n",
      "1\n",
      "2\n",
      "3\n",
      "4\n",
      "[[1, 2], [3, 4]]\n",
      "Enter the number of rows for matrix 2: 2\n",
      "Enter the number of columns for matrix 2: 2\n",
      "5\n",
      "6\n",
      "7\n",
      "8\n",
      "[[5, 6], [7, 8]]\n",
      "[[0, 0], [0, 0]]\n",
      "[[6, 8], [10, 12]]\n"
     ]
    }
   ],
   "source": [
    "matrix_arr_1 = []\n",
    "    \n",
    "row_arr_1 = int(input(\"Enter the number of rows for matrix 1: \"))       ## Input an integer for the Rows \n",
    "    \n",
    "col_arr_1 = int(input(\"Enter the number of columns for matrix 1: \"))   ## Input an integer for the Columns\n",
    "    \n",
    "for i in range (0, row_arr_1):                                        ##  For loop that goes Row First\n",
    "    elem = []                                               ## Empty List which will be inside the For Loop for every time it iterates one space is created\n",
    "    for j in range (0, col_arr_1):                          ## nested For Loop for every iteration an input inside will be included inside the 'elem' list\n",
    "        elem.append(int(input()))                           ## Each time an empty array index is created from the first For Loop inside the elem = []\n",
    "                                                            ## Then each iteration inside the nested For Loop allows the compiler to input an element inside the\n",
    "                                                            ## elem = [] \n",
    "    matrix_arr_1.append(elem)                               ## All the elements inside the first empty list will be then appended inside the second list\n",
    "        \n",
    "print (matrix_arr_1)\n",
    "                            \n",
    "\n",
    "matrix_arr_2 = []\n",
    "    \n",
    "row_arr_2 = int(input(\"Enter the number of rows for matrix 2: \"))\n",
    "    \n",
    "col_arr_2 = int(input(\"Enter the number of columns for matrix 2: \"))\n",
    "    \n",
    "for i in range (0, row_arr_2):\n",
    "    elem2 = []\n",
    "        \n",
    "    for j in range (0, col_arr_2):\n",
    "        elem2.append(int(input()))\n",
    "                \n",
    "    matrix_arr_2.append(elem2)\n",
    "print(matrix_arr_2)\n",
    "\n",
    "\n",
    "\n",
    "new_arr_res = []                                   ## Create the same number/length of matrice which will have ame dimensions as the one abpve\n",
    "for i in matrix_arr_1:                             ## This is an empty matrice which will have [0] value which will be temporary\n",
    "    new_arr_res.append([0]*len(i))\n",
    "print(new_arr_res)\n",
    "                                       ## Inputs for 2 x 2 matrices are = Mat 1 --> [1,2] [3,4]    Mat 2 --> [5,6] [7,8]\n",
    "\n",
    "for i in range(len(matrix_arr_1)):                 ## Again we use nested loop because when we choose '1,2' in first 2 elements it should be parallel to '5,6'\n",
    "    for j in range(len(matrix_arr_2)):             ## Inside the second matrice '1' will be matched with '5' and '2' with '6' and so on\n",
    "        new_arr_res[i][j] = matrix_arr_1[i][j] + matrix_arr_2[i][j]    ## Adding those elements with same indexes\n",
    "print(new_arr_res)"
   ]
  },
  {
   "cell_type": "code",
   "execution_count": null,
   "metadata": {},
   "outputs": [],
   "source": []
  },
  {
   "cell_type": "code",
   "execution_count": null,
   "metadata": {},
   "outputs": [],
   "source": []
  },
  {
   "cell_type": "code",
   "execution_count": null,
   "metadata": {},
   "outputs": [],
   "source": []
  },
  {
   "cell_type": "markdown",
   "metadata": {},
   "source": [
    "Question 2.\n",
    "\n",
    "Write a Python Program to Multiply Two Matrices?"
   ]
  },
  {
   "cell_type": "code",
   "execution_count": 226,
   "metadata": {},
   "outputs": [],
   "source": [
    "## to create rows and columns we need one common input for the same\n",
    "\n",
    "## First Matrice\n",
    "\n",
    "def multiply_Matrices():\n",
    "\n",
    "    arra_a = []\n",
    "\n",
    "    dimensions = int(input(\"Enter a number for Matrix Dimension 1:  \"))  \n",
    "\n",
    "    for i in range(dimensions):\n",
    "        row = []                                                             ## temporary list to store the rows\n",
    "        for j in range(dimensions):\n",
    "            row.append(int(input(\"Enter the elements inside the rows: \")))  ## enter the elements for the row\n",
    "\n",
    "        arra_a.append(row)                                                 ## Store the elements from the row in the list\n",
    "\n",
    "    print(arra_a)\n",
    "\n",
    "\n",
    "\n",
    "    ## For Second Matrice\n",
    "\n",
    "    arra_b = []\n",
    "\n",
    "    dimensions = int(input(\"Enter a number for Matrix Dimension 2:  \"))\n",
    "\n",
    "    for i in range(dimensions):\n",
    "        row = []                                                             ## temporary list to store the rows\n",
    "        for j in range(dimensions):\n",
    "            row.append(int(input(\"Enter the elements inside the rows: \")))  ## enter the elements for the row\n",
    "\n",
    "        arra_b.append(row)                                                 ## Store the elements from the row in the list\n",
    "\n",
    "    print(arra_b)\n",
    "\n",
    "\n",
    "\n",
    "\n",
    "\n",
    "    result_arra = []\n",
    "    for i in arra_a:\n",
    "        result_arra.append([0]*len(i))\n",
    "    print(result_arra)\n",
    "\n",
    "\n",
    "    for i in range(len(arra_a)):\n",
    "        for j in range(len(arra_b)):\n",
    "            result_arra[i][j] = arra_a[i][j]*arra_b[i][j]\n",
    "\n",
    "    print (result_arra)"
   ]
  },
  {
   "cell_type": "code",
   "execution_count": 227,
   "metadata": {},
   "outputs": [
    {
     "name": "stdout",
     "output_type": "stream",
     "text": [
      "Enter a number for Matrix Dimension 1:  2\n",
      "Enter the elements inside the rows: 1\n",
      "Enter the elements inside the rows: 2\n",
      "Enter the elements inside the rows: 3\n",
      "Enter the elements inside the rows: 4\n",
      "[[1, 2], [3, 4]]\n",
      "Enter a number for Matrix Dimension 2:  2\n",
      "Enter the elements inside the rows: 5\n",
      "Enter the elements inside the rows: 6\n",
      "Enter the elements inside the rows: 7\n",
      "Enter the elements inside the rows: 8\n",
      "[[5, 6], [7, 8]]\n",
      "[[0, 0], [0, 0]]\n",
      "[[5, 12], [21, 32]]\n"
     ]
    }
   ],
   "source": [
    "multiply_Matrices()"
   ]
  },
  {
   "cell_type": "code",
   "execution_count": null,
   "metadata": {},
   "outputs": [],
   "source": []
  },
  {
   "cell_type": "code",
   "execution_count": null,
   "metadata": {},
   "outputs": [],
   "source": []
  },
  {
   "cell_type": "code",
   "execution_count": null,
   "metadata": {},
   "outputs": [],
   "source": []
  },
  {
   "cell_type": "markdown",
   "metadata": {},
   "source": [
    "Question 3. \n",
    "\n",
    "Write a Python Program to Transpose a Matrix?"
   ]
  },
  {
   "cell_type": "code",
   "execution_count": null,
   "metadata": {},
   "outputs": [],
   "source": []
  },
  {
   "cell_type": "code",
   "execution_count": 224,
   "metadata": {},
   "outputs": [],
   "source": [
    "def matrice_transpose():\n",
    "\n",
    "    matrix_transpose = []\n",
    "\n",
    "    tran_dimension = int(input(\"Enter an integer for Matrix Dimension:  \"))\n",
    "\n",
    "    for i in range(tran_dimension):\n",
    "        row_transpose = []\n",
    "        for j in range(tran_dimension):\n",
    "            row_transpose.append(int(input(\"Enter the elements for the Matrix: \")))\n",
    "        matrix_transpose.append(row_transpose)\n",
    "    print(matrix_transpose)\n",
    "\n",
    "    ## Create an empty matirx of the same dimensions\n",
    "\n",
    "    res_transpose = []\n",
    "\n",
    "    for i in matrix_transpose:\n",
    "        res_transpose.append([0]*len(i))\n",
    "    print(res_transpose)\n",
    "\n",
    "                                                     ## The concept is the same for creating Matrices\n",
    "    for i in range(len(matrix_transpose)):           ## In this one however we create 2 seperate variables for One Single Matrice\n",
    "        for j in range(len(matrix_transpose)):\n",
    "            res_transpose[j][i] = matrix_transpose[i][j]   ## This allows to switch places within the Matrices\n",
    "    print(res_transpose)"
   ]
  },
  {
   "cell_type": "code",
   "execution_count": 225,
   "metadata": {},
   "outputs": [
    {
     "name": "stdout",
     "output_type": "stream",
     "text": [
      "Enter an integer for Matrix Dimension:  2\n",
      "Enter the elements for the Matrix: 1\n",
      "Enter the elements for the Matrix: 2\n",
      "Enter the elements for the Matrix: 3\n",
      "Enter the elements for the Matrix: 4\n",
      "[[1, 2], [3, 4]]\n",
      "[[0, 0], [0, 0]]\n",
      "[[1, 3], [2, 4]]\n"
     ]
    }
   ],
   "source": [
    "matrice_transpose()"
   ]
  },
  {
   "cell_type": "code",
   "execution_count": null,
   "metadata": {},
   "outputs": [],
   "source": []
  },
  {
   "cell_type": "code",
   "execution_count": null,
   "metadata": {},
   "outputs": [],
   "source": []
  },
  {
   "cell_type": "code",
   "execution_count": null,
   "metadata": {},
   "outputs": [],
   "source": []
  },
  {
   "cell_type": "markdown",
   "metadata": {},
   "source": [
    "Question 4. \n",
    "\n",
    "Write a Python Program to Sort Words in Alphabetic Order?"
   ]
  },
  {
   "cell_type": "code",
   "execution_count": 222,
   "metadata": {},
   "outputs": [],
   "source": [
    "def sort_words():\n",
    "\n",
    "    complete_list = []\n",
    "    while True:\n",
    "        write_random = input(\"Enter words: \")\n",
    "\n",
    "        if write_random == \"stop\":\n",
    "            break\n",
    "        complete_list.append(write_random)\n",
    "    print(complete_list)\n",
    "\n",
    "    for sort in sorted(complete_list):\n",
    "        print (sort)"
   ]
  },
  {
   "cell_type": "code",
   "execution_count": 223,
   "metadata": {},
   "outputs": [
    {
     "name": "stdout",
     "output_type": "stream",
     "text": [
      "Enter words: apple\n",
      "Enter words: havoc\n",
      "Enter words: greenberry\n",
      "Enter words: blackberry\n",
      "Enter words: banana\n",
      "Enter words: cherry\n",
      "Enter words: guvava\n",
      "Enter words: papaya\n",
      "Enter words: stop\n",
      "['apple', 'havoc', 'greenberry', 'blackberry', 'banana', 'cherry', 'guvava', 'papaya']\n",
      "apple\n",
      "banana\n",
      "blackberry\n",
      "cherry\n",
      "greenberry\n",
      "guvava\n",
      "havoc\n",
      "papaya\n"
     ]
    }
   ],
   "source": [
    "sort_words()"
   ]
  },
  {
   "cell_type": "code",
   "execution_count": null,
   "metadata": {},
   "outputs": [],
   "source": []
  },
  {
   "cell_type": "code",
   "execution_count": null,
   "metadata": {},
   "outputs": [],
   "source": []
  },
  {
   "cell_type": "code",
   "execution_count": null,
   "metadata": {},
   "outputs": [],
   "source": []
  },
  {
   "cell_type": "markdown",
   "metadata": {},
   "source": [
    "Question 5. \n",
    "\n",
    "Write a Python Program to Remove Punctuation From a String?"
   ]
  },
  {
   "cell_type": "code",
   "execution_count": null,
   "metadata": {},
   "outputs": [],
   "source": []
  },
  {
   "cell_type": "code",
   "execution_count": 213,
   "metadata": {},
   "outputs": [
    {
     "name": "stdout",
     "output_type": "stream",
     "text": [
      "Input random words with characters and expression: row %^&**good\n",
      "row good\n"
     ]
    }
   ],
   "source": [
    "import re\n",
    "\n",
    "text_with_char = input(\"Input random words with characters and expression: \")\n",
    "\n",
    "opt = re.sub(r'[^\\w\\s]','', text_with_char)    ## re.sub allows replacement of a sub-string with another sub-string\n",
    "                                               ## Inside the parenthesis the pattern was \\w == word and \\s == space....any other special characters\n",
    "print(opt)                                     ## Will be replaced by '' which means it will be removed...works similar to split() or remove()"
   ]
  },
  {
   "cell_type": "code",
   "execution_count": null,
   "metadata": {},
   "outputs": [],
   "source": []
  },
  {
   "cell_type": "code",
   "execution_count": null,
   "metadata": {},
   "outputs": [],
   "source": []
  },
  {
   "cell_type": "code",
   "execution_count": null,
   "metadata": {},
   "outputs": [],
   "source": []
  },
  {
   "cell_type": "code",
   "execution_count": null,
   "metadata": {},
   "outputs": [],
   "source": []
  },
  {
   "cell_type": "code",
   "execution_count": null,
   "metadata": {},
   "outputs": [],
   "source": []
  },
  {
   "cell_type": "code",
   "execution_count": null,
   "metadata": {},
   "outputs": [],
   "source": []
  },
  {
   "cell_type": "code",
   "execution_count": null,
   "metadata": {},
   "outputs": [],
   "source": []
  },
  {
   "cell_type": "code",
   "execution_count": null,
   "metadata": {},
   "outputs": [],
   "source": []
  },
  {
   "cell_type": "code",
   "execution_count": null,
   "metadata": {},
   "outputs": [],
   "source": []
  }
 ],
 "metadata": {
  "kernelspec": {
   "display_name": "Python 3",
   "language": "python",
   "name": "python3"
  },
  "language_info": {
   "codemirror_mode": {
    "name": "ipython",
    "version": 3
   },
   "file_extension": ".py",
   "mimetype": "text/x-python",
   "name": "python",
   "nbconvert_exporter": "python",
   "pygments_lexer": "ipython3",
   "version": "3.8.5"
  }
 },
 "nbformat": 4,
 "nbformat_minor": 4
}
