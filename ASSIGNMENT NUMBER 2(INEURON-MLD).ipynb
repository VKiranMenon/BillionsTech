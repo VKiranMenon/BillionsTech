{
 "cells": [
  {
   "cell_type": "markdown",
   "metadata": {},
   "source": [
    "# ASSIGNMENT NUMBER 2\n"
   ]
  },
  {
   "cell_type": "markdown",
   "metadata": {},
   "source": [
    "Question 1. Create the below pattern using nested for loop in Python."
   ]
  },
  {
   "cell_type": "code",
   "execution_count": 9,
   "metadata": {},
   "outputs": [
    {
     "name": "stdout",
     "output_type": "stream",
     "text": [
      "*         \n",
      "* *       \n",
      "* * *     \n",
      "* * * *   \n",
      "* * * * * \n",
      "* * * * \n",
      "* * * \n",
      "* * \n",
      "* \n",
      "\n"
     ]
    }
   ],
   "source": [
    "## For pre-determined number of rows and columns for the pattern\n",
    "\n",
    "for i in range (1, 6): ## Pre-determined number of 5, suggesting there would be 5 rows of increment from 1 to 5\n",
    "    \n",
    "    for j in range (1, 6):  ## a for loop that will have '*' sign that increments after the first loop is satisfied\n",
    "                            ## that is when it moves down each row, an increment happens in each column.\n",
    "        \n",
    "        if j <= i:          ## if condition, when 'i' and 'j' are considered rows and columns respectively.\n",
    "                            ## numbering 'i' and 'j' vertically and horizontally.\n",
    "                            ## when i = 1, j = 1...when i = 2, j = 1,2...when i = 3, j  = 1,2,3 and so on\n",
    "                    ## or use j <= +1\n",
    "            \n",
    "            print (\"*\", end = ' ') ## we use end so it remains in the same line without going to the next line by default\n",
    "            \n",
    "        else:\n",
    "            \n",
    "            print (\" \", end = ' ') ## when conditions are not satidified then those blocks are filled with spaces.  \n",
    "                                   ## again end as it should remain in the same line\n",
    "    \n",
    "    print ()\n",
    "\n",
    "for i in range(1, 6):\n",
    "    \n",
    "    for j in range (1, 6):\n",
    "        \n",
    "        if j <= 5 - i:  ## same as above, in here however the number of rows for the pattern is considered '5'...from 1 to 6.\n",
    "                        ## therefore when 'i' hits 5, each value is reduced by 5.\n",
    "                        ## that is when i goes from 1 to 5 at step one increment and then reduces at one increment...\n",
    "                        ## therefore it goes from 1, 2, 3, 4, 5....and then 5, 4, 3, 2 and 1,\n",
    "                        ## at second condition when i = 4, j = 5 - 4 (which means 1 less star)....i = 3, j = 5 - 3..\n",
    "                        ## (which means 2 less star)...and so on\n",
    "            \n",
    "            print (\"*\", end = ' ') ## printing at the same line\n",
    "  \n",
    "    print ()  ## print the inner loop"
   ]
  },
  {
   "cell_type": "code",
   "execution_count": null,
   "metadata": {},
   "outputs": [],
   "source": [
    "## 2ND METHOD OF PERFORMING THE ABOVE QTS.\n",
    "\n",
    "\n",
    "    \n",
    "    \n",
    "num = int(input(\"Please enter the number of rows required for the pattern: \"))\n",
    "\n",
    "    \n",
    "for i in range(0, num, +1):    ## start, stop and step size\n",
    "    \n",
    "    for j in range(0, i +1):   ## by iterating we will be incrementing by +1 each columns of the respective rows\n",
    "                               ## (num, 0, +1) means (start, stop. step size)\n",
    "\n",
    "        \n",
    "        print(\"*\", end = ' ')  ## printing by 1 \n",
    "        \n",
    "    print ()\n",
    "\n",
    "\n",
    "for i in range (num, 0, -1):  ## decrement by 1 each time,\n",
    "                              ## (num, 0, -1) means (start, stop. step size)\n",
    "    \n",
    "    for j in range(0, i - 1):\n",
    "        \n",
    "        print(\"*\", end = ' ')\n",
    "        \n",
    "    print ()\n",
    "\n",
    "    \n",
    "        \n",
    "    \n",
    "    \n",
    "        \n",
    "        "
   ]
  },
  {
   "cell_type": "code",
   "execution_count": null,
   "metadata": {},
   "outputs": [],
   "source": []
  },
  {
   "cell_type": "code",
   "execution_count": null,
   "metadata": {},
   "outputs": [],
   "source": []
  },
  {
   "cell_type": "markdown",
   "metadata": {},
   "source": [
    "Question 2. Write a Python program to reverse a word after accepting the input from the user.\n",
    "\n",
    "Sample Output:\n",
    "\n",
    "Input word: ineuron\n",
    "\n",
    "Output: norueni"
   ]
  },
  {
   "cell_type": "code",
   "execution_count": null,
   "metadata": {},
   "outputs": [],
   "source": [
    "## SOLUTION 1ST METHOD"
   ]
  },
  {
   "cell_type": "code",
   "execution_count": 1,
   "metadata": {},
   "outputs": [],
   "source": [
    "def reverse_order(a): ## function for the program\n",
    "    \n",
    "    return a  [:: -1] ## return value should be reverse of any string value"
   ]
  },
  {
   "cell_type": "code",
   "execution_count": 2,
   "metadata": {},
   "outputs": [
    {
     "data": {
      "text/plain": [
       "'norueni'"
      ]
     },
     "execution_count": 2,
     "metadata": {},
     "output_type": "execute_result"
    }
   ],
   "source": [
    "reverse_order('ineuron')"
   ]
  },
  {
   "cell_type": "code",
   "execution_count": null,
   "metadata": {},
   "outputs": [],
   "source": [
    "## SOLUTION 2nd METHOD"
   ]
  },
  {
   "cell_type": "code",
   "execution_count": 7,
   "metadata": {},
   "outputs": [
    {
     "name": "stdout",
     "output_type": "stream",
     "text": [
      "Please enter a string value: 123\n",
      "Please enter a String Value\n",
      "Please enter a string value: bill123\n",
      "Please enter a String Value\n",
      "Please enter a string value: 123bill\n",
      "Please enter a String Value\n",
      "Please enter a string value: bill\n",
      "Please enter a String Value\n",
      "The input inserted by the user is:  bill\n",
      "The inverse format of the input is:  llib\n",
      "Thanks\n"
     ]
    }
   ],
   "source": [
    "## A continous loop to identify only Values with ALPHABETS.\n",
    "## ANTYHING other than alphabets will give re-route the user to re-enter the value.\n",
    "\n",
    "while True:\n",
    "    \n",
    "    type_input = input (\"Please enter a string value: \")\n",
    "    \n",
    "    \n",
    "    \n",
    "    if type_input.isdigit() or type_input.isalnum():\n",
    "        \n",
    "        \n",
    "        \n",
    "        print (\"Please enter a String Value\")\n",
    "        \n",
    "        \n",
    "    if type_input.isalpha():\n",
    "        \n",
    "            \n",
    "        print(\"The input inserted by the user is: \", type_input)\n",
    "        \n",
    "        print (\"The inverse format of the input is: \", type_input [::-1])\n",
    "        \n",
    "        break;\n",
    "            \n",
    "print(\"Thanks for Using the program\")            \n",
    "\n",
    "        \n",
    "        "
   ]
  },
  {
   "cell_type": "code",
   "execution_count": null,
   "metadata": {},
   "outputs": [],
   "source": []
  },
  {
   "cell_type": "code",
   "execution_count": null,
   "metadata": {},
   "outputs": [],
   "source": []
  },
  {
   "cell_type": "code",
   "execution_count": null,
   "metadata": {},
   "outputs": [],
   "source": []
  },
  {
   "cell_type": "code",
   "execution_count": null,
   "metadata": {},
   "outputs": [],
   "source": []
  },
  {
   "cell_type": "code",
   "execution_count": null,
   "metadata": {},
   "outputs": [],
   "source": []
  }
 ],
 "metadata": {
  "kernelspec": {
   "display_name": "Python 3",
   "language": "python",
   "name": "python3"
  },
  "language_info": {
   "codemirror_mode": {
    "name": "ipython",
    "version": 3
   },
   "file_extension": ".py",
   "mimetype": "text/x-python",
   "name": "python",
   "nbconvert_exporter": "python",
   "pygments_lexer": "ipython3",
   "version": "3.7.6"
  }
 },
 "nbformat": 4,
 "nbformat_minor": 4
}
