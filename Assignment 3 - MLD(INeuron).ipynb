{
 "cells": [
  {
   "cell_type": "markdown",
   "metadata": {},
   "source": [
    "QUESTION 1.1  Write a Python Program to implement your own myreduce() function which works exactly\n",
    "like Python's built-in function reduce()"
   ]
  },
  {
   "cell_type": "code",
   "execution_count": 1,
   "metadata": {},
   "outputs": [],
   "source": [
    "## write a function that works similar to reduce() operator inbuilt in python\n",
    "\n",
    "## create the function which will operate as the arg to perform the desired output\n",
    "\n",
    "def adder(a, b):                   ## create a function to be the argument inside the reduce function\n",
    "    return a + b                   ## which could be an adder or a multiplier  \n",
    "def multiplier(c, d):\n",
    "    return c * d                   ## this will multiply all the elements within\n",
    "\n",
    "def myreduceop1(func1, seq1): \n",
    "    result = seq1[0]               ## the first index is assigned as a which will be 'start'\n",
    "    for i in seq1[1:]:             ## iterate the rest of the element from the given dataset and extract into variable 'i'\n",
    "        result = func1(result, i)  ## this step basically any function (adder or multiplier) will iterate each element\n",
    "                                   ## from (start, stop)\n",
    "    return result            "
   ]
  },
  {
   "cell_type": "code",
   "execution_count": 2,
   "metadata": {},
   "outputs": [
    {
     "data": {
      "text/plain": [
       "6"
      ]
     },
     "execution_count": 2,
     "metadata": {},
     "output_type": "execute_result"
    }
   ],
   "source": [
    "myreduceop1(adder, [1,2,3])"
   ]
  },
  {
   "cell_type": "code",
   "execution_count": 3,
   "metadata": {},
   "outputs": [
    {
     "data": {
      "text/plain": [
       "24"
      ]
     },
     "execution_count": 3,
     "metadata": {},
     "output_type": "execute_result"
    }
   ],
   "source": [
    "myreduceop1(multiplier, [1,2,3,4])"
   ]
  },
  {
   "cell_type": "code",
   "execution_count": null,
   "metadata": {},
   "outputs": [],
   "source": []
  },
  {
   "cell_type": "markdown",
   "metadata": {},
   "source": [
    "QUESTION 1.2 Write a Python program to implement your own myfilter() function which works exactly\n",
    "like Python's built-in function filter()"
   ]
  },
  {
   "cell_type": "code",
   "execution_count": 4,
   "metadata": {},
   "outputs": [],
   "source": [
    "## METHOD 1\n",
    "\n",
    "def is_even(num):\n",
    "    if num % 2 == 0:  ## In this program just like filter function operator we will create a function that will filter only\n",
    "        return True   ## Even numbers from a given list\n",
    "    else:\n",
    "        return False\n",
    "    \n",
    "def is_odd(num1):     ## This function will only \"filter\" ODD numbers from a given list\n",
    "    if num1 % 2 != 0:\n",
    "        return True\n",
    "    else:\n",
    "        return False\n",
    "    \n",
    "def myfilterop(func2, seq2): ## This part is where the Filter function will iterate all the elements from the data set\n",
    "    result = []              ## A variable where all the data will be iterated and then appended in the assigned variable\n",
    "    for i in seq2:\n",
    "        if func2(i):\n",
    "            result.append(i) ## all the dataset from the list will be iterated and then this value will be returned\n",
    "                             ## when called by using the function 'myfilterop'            \n",
    "    return result            ## This variable is then returned when the 'myfilterop' is used\n",
    "            \n",
    "    "
   ]
  },
  {
   "cell_type": "code",
   "execution_count": 5,
   "metadata": {},
   "outputs": [
    {
     "data": {
      "text/plain": [
       "[2, 4, 6, 8, 10, 12, 14]"
      ]
     },
     "execution_count": 5,
     "metadata": {},
     "output_type": "execute_result"
    }
   ],
   "source": [
    "myfilterop(is_even, [1,2,3,4,5,6,7,8,9,10,11,12,13,14])"
   ]
  },
  {
   "cell_type": "code",
   "execution_count": 6,
   "metadata": {},
   "outputs": [
    {
     "data": {
      "text/plain": [
       "[1, 3, 5, 7, 9, 11, 13]"
      ]
     },
     "execution_count": 6,
     "metadata": {},
     "output_type": "execute_result"
    }
   ],
   "source": [
    "myfilterop(is_odd, [1,2,3,4,5,6,7,8,9,10,11,12,13,14])"
   ]
  },
  {
   "cell_type": "code",
   "execution_count": null,
   "metadata": {},
   "outputs": [],
   "source": []
  },
  {
   "cell_type": "code",
   "execution_count": 43,
   "metadata": {},
   "outputs": [],
   "source": [
    "## Another filter function METHOD 2\n",
    "\n",
    "def even_only(num_even):\n",
    "    if num_even%2==0:       ## Condition is been laid that only numbers divided by 2 with no remainder will be sorted as 'even'\n",
    "        return num_even\n",
    "    \n",
    "def myfilterop2(even_only, seq):\n",
    "    result=[]\n",
    "    for i in seq:\n",
    "        if i%2==0:        ## Same condition should be laid or all the numbers will be printed which are iterated, that is 'even'\n",
    "            result.append(i)\n",
    "    return result\n",
    "\n",
    "def odd_only(odd_num):        ## Condition is been laid that only numbers divided by 2 with no remainder will be sorted as 'odd'\n",
    "    if odd_num%2 !=0:\n",
    "        return odd_only         ## This condition is laid or else we hit an error stating 'IT' has not been 'DEFINED'\n",
    "\n",
    "def myfilterop3(odd_only, seq2):\n",
    "    result2 = []\n",
    "    for i in seq2:\n",
    "        if i%2 != 0:           ## Same condition should be laid or all the numbers will be printed which are iterated\n",
    "            result2.append(i)\n",
    "    return result2"
   ]
  },
  {
   "cell_type": "code",
   "execution_count": 44,
   "metadata": {},
   "outputs": [
    {
     "data": {
      "text/plain": [
       "[2, 4, 6, 8, 10]"
      ]
     },
     "execution_count": 44,
     "metadata": {},
     "output_type": "execute_result"
    }
   ],
   "source": [
    "myfilterop2(even_only, [1,2,3,4,5,6,7,8,9,10])"
   ]
  },
  {
   "cell_type": "code",
   "execution_count": 45,
   "metadata": {},
   "outputs": [
    {
     "data": {
      "text/plain": [
       "[1, 3, 5, 7, 9]"
      ]
     },
     "execution_count": 45,
     "metadata": {},
     "output_type": "execute_result"
    }
   ],
   "source": [
    "myfilterop3(odd_only, [1,2,3,4,5,6,7,8,9,10])"
   ]
  },
  {
   "cell_type": "markdown",
   "metadata": {},
   "source": [
    "Implement List comprehensions to produce the following lists.\n",
    "Write List comprehensions to produce the following Lists"
   ]
  },
  {
   "cell_type": "markdown",
   "metadata": {},
   "source": [
    "Question 2: Produce the following outputs using list comprehensions\n",
    "\n",
    "Q 2.1: ['x', 'xx', 'xxx', 'xxxx', 'y', 'yy', 'yyy', 'yyyy', 'z', 'zz', 'zzz', 'zzzz'] "
   ]
  },
  {
   "cell_type": "code",
   "execution_count": 7,
   "metadata": {},
   "outputs": [
    {
     "name": "stdout",
     "output_type": "stream",
     "text": [
      "['x', 'xx', 'xxx', 'xxxx', 'y', 'yy', 'yyy', 'yyyy', 'z', 'zz', 'zzz', 'zzzz']\n"
     ]
    }
   ],
   "source": [
    "##first use naive method\n",
    "\n",
    "lst_for_output = ['x', 'y', 'z']\n",
    "new_lst_for_output = []\n",
    "for item in lst_for_output: ## ITERATE ALL THE DATASET FROM THE LIST\n",
    "    for num in range(1,5): ## 2ND FOR LOOP IS WHERE ALL THE ELEMENTS ARE ITERATED IN 'lst_for_output' ONE BY ONE\n",
    "        new_lst_for_output.append(item*num) ## EACH FOR LOOP WILL THEN MULTIPLY THE FIRST INDEX AND THEN MOVE TO THE NEXT\n",
    "print(new_lst_for_output)"
   ]
  },
  {
   "cell_type": "code",
   "execution_count": 8,
   "metadata": {},
   "outputs": [
    {
     "name": "stdout",
     "output_type": "stream",
     "text": [
      "['x', 'xx', 'xxx', 'xxxx', 'y', 'yy', 'yyy', 'yyyy', 'z', 'zz', 'zzz', 'zzzz']\n"
     ]
    }
   ],
   "source": [
    "## USE LIST COMPREHENSION\n",
    "\n",
    "lst_for_output1 = ['x', 'y', 'z']\n",
    "new_lst_for_output1 = [item*num for item in lst_for_output1 for num in range(1,5)]\n",
    "print(new_lst_for_output1)"
   ]
  },
  {
   "cell_type": "code",
   "execution_count": null,
   "metadata": {},
   "outputs": [],
   "source": []
  },
  {
   "cell_type": "markdown",
   "metadata": {},
   "source": [
    "Q 2.2 ['x', 'y', 'z', 'xx', 'yy', 'zz', 'xxx', 'yyy', 'zzz', 'xxxx', 'yyyy', 'zzzz'] "
   ]
  },
  {
   "cell_type": "code",
   "execution_count": 9,
   "metadata": {},
   "outputs": [
    {
     "name": "stdout",
     "output_type": "stream",
     "text": [
      "['x', 'y', 'z', 'xx', 'yy', 'zz', 'xxx', 'yyy', 'zzz', 'xxxx', 'yyyy', 'zzzz']\n"
     ]
    }
   ],
   "source": [
    "## WE USE THE NAIVE METHOD\n",
    "lst_another = ['x', 'y', 'z']\n",
    "new_another = []              ## OPPOSITE FROM THE FIRST, WHERE ALL THE ELEMENTS ARE ITERATED ONE BY ONE AND THEN MOVES TO\n",
    "                              ## THE NEXT RANGE. EACH RANGE WHEN GETS HIGHER WILL MULTIPLY ALL THE DATA FROM THE LIST\n",
    "for item in range(1, 5):     ## THAT IS EACH OF THE ELEMENTS IN THE 2ND FOR LOOP IS ITERATED ONE BY ONE WITH '1' IN RANGE\n",
    "    for num in lst_another:  ## AFTER WHICH THE CYCLE IS REPEATED WITH EACH ELEMENTS FROM THE 2ND LOOP GOING ONE BY ONE\n",
    "        new_another.append(item*num)  ## IN RANGE '2', SIMILARLY IT IS THEN MULTIPLIED WITH RANGE '3', WHICH MEANS * 3....\n",
    "print(new_another)                   ## AND SO ON"
   ]
  },
  {
   "cell_type": "code",
   "execution_count": 10,
   "metadata": {},
   "outputs": [
    {
     "name": "stdout",
     "output_type": "stream",
     "text": [
      "['x', 'y', 'z', 'xx', 'yy', 'zz', 'xxx', 'yyy', 'zzz', 'xxxx', 'yyyy', 'zzzz']\n"
     ]
    }
   ],
   "source": [
    "## USE LIST COMPREHENSION\n",
    "lst_another1 = ['x', 'y', 'z']\n",
    "new_another1 = [item*num for item in range(1,5) for num in lst_another1]\n",
    "print(new_another1)"
   ]
  },
  {
   "cell_type": "code",
   "execution_count": null,
   "metadata": {},
   "outputs": [],
   "source": []
  },
  {
   "cell_type": "markdown",
   "metadata": {},
   "source": [
    "Q 2.3 [[2], [3], [4], [3], [4], [5], [4], [5], [6]]"
   ]
  },
  {
   "cell_type": "code",
   "execution_count": 12,
   "metadata": {},
   "outputs": [
    {
     "name": "stdout",
     "output_type": "stream",
     "text": [
      "[[2], [3], [4], [3], [4], [5], [4], [5], [6]]\n"
     ]
    }
   ],
   "source": [
    "## USE THE NAIVE METHOD\n",
    "lst_more = [2,3,4] ## cannot use the list as [2,3,4,5,6]\n",
    "new_more = []\n",
    "for num in range(0,3):\n",
    "    for item in lst_more: ## EACH ELEMENT IS ITERATED FROM THE LIST AND THEN IN RANGE 0, ALL THE 3 ELEMENTS ARE PRINTED\n",
    "        new_more.append([num+item]) ## WHICH ALSO MEANS IN 2,3,4 INDEX 0 HAS 2, INDEX 1 HAS 3 AND INDEX 2 HAS 4.\n",
    "print(new_more) ## BUT THEN WHEN THE CYCLE REPEATS NUMBER 3 BECOMES INDEX 0 AND THEN INDEX 3 AUTOMATICALLY HAS NUMBER 5 TO \n",
    "                ## FILL THE INDEX. SO FROM RANGE 0 IT IS 2,3,4 ALL THE 3 ELEMENTS ARE PRINTED AND RANGED AT 0 TO 3\n",
    "                ## FOLLOWING WHICH THIS CYCLE WILL REPEAT 3 TIMES IN TOTAL UNTIL EACH TIME EACH DATA IN THE ELEMENT TAKES\n",
    "               ## RANGE 0 WHICH WILL BE FOLLOWED BY DEFAULT NUMBER ASSIGNING IN AN ASCENDING MANNER.\n",
    "              ## NUM + ITEM INITIATES NEXT NUMBER WILL BE FOLLOWED AS PER THE CYCLE"
   ]
  },
  {
   "cell_type": "code",
   "execution_count": 13,
   "metadata": {},
   "outputs": [
    {
     "name": "stdout",
     "output_type": "stream",
     "text": [
      "[[2], [3], [4], [3], [4], [5], [4], [5], [6]]\n"
     ]
    }
   ],
   "source": [
    "## USING LIST COMPREHENSION\n",
    "lst_more1 = [2,3,4]\n",
    "new_more1 = [[num+item] for num in range(0,3) for item in lst_more1]\n",
    "print(new_more1)"
   ]
  },
  {
   "cell_type": "code",
   "execution_count": 46,
   "metadata": {},
   "outputs": [
    {
     "name": "stdout",
     "output_type": "stream",
     "text": [
      "[[2], [3], [5], [4], [3], [4], [6], [5], [4], [5], [7], [6]]\n"
     ]
    }
   ],
   "source": [
    "## USING THE SAME METHOD WITH ONE MORE ELEMENT AND REPEATED 3 TIMES FOR RANGE 0 TO 3 (0, 1, 2)\n",
    "lst_of_num = [2,3,5,4]\n",
    "new_lst = []\n",
    "for num in range(0, 3):\n",
    "    for item in lst_of_num:\n",
    "        new_lst.append([num + item])\n",
    "print (new_lst)\n",
    "\n",
    "## AS WE CAN SEE THE CYCLE GOES AS [2,3,4,5] THE NEXT WILL BE [3,4,6,5] AND THE 3RD WILL BE [4,5,7,6]..THIS PROGRAM\n",
    "## FOLLOWS THE CYCLE AND ASSIGNS THE VALUE WHERE WE SWITCHED A HIGHER NUMBER TO A LOWER NUMBER (5 BEFORE 4). THE SAME HAS\n",
    "## BEEN REPEATED WHERE THE FIRST 2 ELEMENTS ARE PLACED CORRECTLY AND THEN THE HIGHER VALUE IS PLACED BEFORE THE LOWER VALUE."
   ]
  },
  {
   "cell_type": "code",
   "execution_count": null,
   "metadata": {},
   "outputs": [],
   "source": []
  },
  {
   "cell_type": "markdown",
   "metadata": {},
   "source": [
    "Q 2.4 [[2, 3, 4, 5], [3, 4, 5, 6],\n",
    "[4, 5, 6, 7], [5, 6, 7, 8]]"
   ]
  },
  {
   "cell_type": "code",
   "execution_count": 14,
   "metadata": {},
   "outputs": [
    {
     "name": "stdout",
     "output_type": "stream",
     "text": [
      "[2, 3, 4, 5, 3, 4, 5, 6, 4, 5, 6, 7, 5, 6, 7, 8]\n"
     ]
    }
   ],
   "source": [
    "## USE THE NAIVE METHOD\n",
    "lst_1more = [2,3,4,5]\n",
    "new_lst1more = []       ## EACH ELEMENT FROM THE LIST IS ITERATED FIRST AS IT IS THE 2ND FOR LOOP\n",
    "for item in range(0,4): ## THEREFORE EACH DATASET IS ITERATED IN RANGE 0 AND THEN MOVES IN ASCEDING FORM AS AND WHEN IT MOVES\n",
    "    for num in lst_1more: ## TO RANGE 1, RANGE 2 AND SO ON....WHEN IT GOES TO THE NEXT RANGE THE VALUE AT INDEX 1 IS PLACED AT\n",
    "        new_lst1more.append(item+num) ## INDEX 0, UNTIL THE 1ST FOR LOOP IS ITERATED FROM 0 TO 3 = 4 TIMES.\n",
    "print(new_lst1more)"
   ]
  },
  {
   "cell_type": "code",
   "execution_count": 15,
   "metadata": {},
   "outputs": [
    {
     "name": "stdout",
     "output_type": "stream",
     "text": [
      "[[2, 3, 4, 5], [3, 4, 5, 6], [4, 5, 6, 7], [5, 6, 7, 8]]\n"
     ]
    }
   ],
   "source": [
    "## A LONG WINDED VERSION <--- 2nd NAIVE METHOD\n",
    "new_lst1 = []\n",
    "new_lst2 = []\n",
    "new_lst3 = []\n",
    "new_lst4 = []\n",
    "for num1 in range(2,6):   ## IN THIS METHOD EACH RANGE IS GIVEN AND IF YOU NOTICE THE START OF THE RANGE COINCIDES WITH THE LIST\n",
    "    new_lst1.append(num1) ## [2,3,4,5] AND AS IT HAS TO PLACE 4 VALUES IN EACH LIST, THE RANGE TOO HAS 4 VALUES FROM\n",
    "                          ## (START, STOP)\n",
    "for num2 in range(3,7):\n",
    "    new_lst2.append(num2)\n",
    "\n",
    "for num3 in range(4, 8):\n",
    "    new_lst3.append(num3)\n",
    "\n",
    "for num4 in range(5, 9):\n",
    "    new_lst4.append(num4)\n",
    "    \n",
    "print([new_lst1, new_lst2, new_lst3, new_lst4])"
   ]
  },
  {
   "cell_type": "code",
   "execution_count": 16,
   "metadata": {},
   "outputs": [
    {
     "name": "stdout",
     "output_type": "stream",
     "text": [
      "[[2, 3, 4, 5], [3, 4, 5, 6], [4, 5, 6, 7], [5, 6, 7, 8]]\n"
     ]
    }
   ],
   "source": [
    "## USE THE LIST COMPREHENSION\n",
    "lst_1more1 = [2,3,4,5]\n",
    "new_lst1more1 =[[item+num for item in range(0,4)] for num in lst_1more1]\n",
    "print(new_lst1more1)"
   ]
  },
  {
   "cell_type": "code",
   "execution_count": null,
   "metadata": {},
   "outputs": [],
   "source": []
  },
  {
   "cell_type": "markdown",
   "metadata": {},
   "source": [
    "Q 2.5 [(1, 1), (2, 1), (3, 1), (1, 2), (2, 2), (3, 2), (1, 3), (2, 3), (3, 3)]"
   ]
  },
  {
   "cell_type": "code",
   "execution_count": 17,
   "metadata": {},
   "outputs": [
    {
     "name": "stdout",
     "output_type": "stream",
     "text": [
      "[[(1, 1), (2, 1), (3, 1), (1, 2), (2, 2), (3, 2), (1, 3), (2, 3), (3, 3)]]\n"
     ]
    }
   ],
   "source": [
    "## USE NAIVE METHOD\n",
    "\n",
    "lst_smemore = [1,2,3] ## SIMILAR TO PREVIOUS PROBLEMS EACH OF THE INNER FOR LOOP WILL BE ITERATED FIRST \n",
    "new_smemore = []        ## WHEN EACH ELEMENT IS PRINTED ONE BY ONE IN RANGE 1, THAT IS WHEN ONE CYCLE IS FINSIHED IN OUTER LOOP \n",
    "for num in range(1,4): \n",
    "    for item in lst_smemore: ## EACH ELEMENT FROM INNER LOOP IS PRINTED WITH RANGE 1 AND THEN AGAIN IN RANGE 2 AND SO ON\n",
    "        new_smemore.append((item,num)) ## UNTIL ALL THE RANGE IN OUTER LOOP IS EXHAUSTED IT WILL KEEP ITERATING.\n",
    "print([new_smemore])"
   ]
  },
  {
   "cell_type": "code",
   "execution_count": 18,
   "metadata": {},
   "outputs": [
    {
     "name": "stdout",
     "output_type": "stream",
     "text": [
      "[(1, 1), (2, 1), (3, 1), (1, 2), (2, 2), (3, 2), (1, 3), (2, 3), (3, 3)]\n"
     ]
    }
   ],
   "source": [
    "## USE LIST COMPREHENSION\n",
    "\n",
    "lst_smemore1 = [1,2,3]\n",
    "new_smemore1 = [(item, num) for num in range(1,4) for item in lst_smemore1]\n",
    "print(new_smemore1)"
   ]
  },
  {
   "cell_type": "code",
   "execution_count": null,
   "metadata": {},
   "outputs": [],
   "source": []
  }
 ],
 "metadata": {
  "kernelspec": {
   "display_name": "Python 3",
   "language": "python",
   "name": "python3"
  },
  "language_info": {
   "codemirror_mode": {
    "name": "ipython",
    "version": 3
   },
   "file_extension": ".py",
   "mimetype": "text/x-python",
   "name": "python",
   "nbconvert_exporter": "python",
   "pygments_lexer": "ipython3",
   "version": "3.7.6"
  }
 },
 "nbformat": 4,
 "nbformat_minor": 4
}
