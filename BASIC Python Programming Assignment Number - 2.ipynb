{
 "cells": [
  {
   "cell_type": "markdown",
   "metadata": {},
   "source": [
    "Question 1. \n",
    "\n",
    "Write a Python program to convert kilometers to miles?"
   ]
  },
  {
   "cell_type": "code",
   "execution_count": 8,
   "metadata": {},
   "outputs": [
    {
     "name": "stdout",
     "output_type": "stream",
     "text": [
      "Please enter any random Kilometer Number : 45.5\n",
      "28.27 miles\n"
     ]
    }
   ],
   "source": [
    "## Create variable for the compiler to enter a value\n",
    "\n",
    "## Through typecasting convert the value into float...by using the function float()\n",
    "\n",
    "insert_km = float(input(\"Please enter any random Kilometer Number : \"))\n",
    "\n",
    "\n",
    "## Convert the value assuming it is Kilometers...into Miles\n",
    "\n",
    "convrt_mil = insert_km * 0.621372\n",
    "\n",
    "\n",
    "## Printitn 2 decimal places of the Float-Point number\n",
    "\n",
    "print(\"{:.2f}\".format(convrt_mil), \"miles\")"
   ]
  },
  {
   "cell_type": "code",
   "execution_count": null,
   "metadata": {},
   "outputs": [],
   "source": []
  },
  {
   "cell_type": "code",
   "execution_count": null,
   "metadata": {},
   "outputs": [],
   "source": []
  },
  {
   "cell_type": "code",
   "execution_count": null,
   "metadata": {},
   "outputs": [],
   "source": []
  },
  {
   "cell_type": "markdown",
   "metadata": {},
   "source": [
    "Question 2. \n",
    "\n",
    "Write a Python program to convert Celsius to Fahrenheit?"
   ]
  },
  {
   "cell_type": "markdown",
   "metadata": {},
   "source": [
    "Celsius To Fahrenheit formula\n",
    "\n",
    "degree in celsius * (9/5) + 32"
   ]
  },
  {
   "cell_type": "code",
   "execution_count": 11,
   "metadata": {},
   "outputs": [
    {
     "name": "stdout",
     "output_type": "stream",
     "text": [
      "Enter a Number in Celsius : 10\n",
      "50.00 Fahrenheit approximately\n"
     ]
    }
   ],
   "source": [
    "insert_cel = float(input(\"Enter a Number in Celsius : \"))\n",
    "\n",
    "convrt_far = insert_cel * (9/5) + 32\n",
    "\n",
    "print(\"{:.2f}\".format(convrt_far), \"Fahrenheit approximately\")"
   ]
  },
  {
   "cell_type": "code",
   "execution_count": null,
   "metadata": {},
   "outputs": [],
   "source": []
  },
  {
   "cell_type": "code",
   "execution_count": null,
   "metadata": {},
   "outputs": [],
   "source": []
  },
  {
   "cell_type": "code",
   "execution_count": null,
   "metadata": {},
   "outputs": [],
   "source": []
  },
  {
   "cell_type": "markdown",
   "metadata": {},
   "source": [
    "Question 3. \n",
    "\n",
    "Write a Python program to display calendar?\n",
    "\n"
   ]
  },
  {
   "cell_type": "markdown",
   "metadata": {},
   "source": [
    "We need to import package calender"
   ]
  },
  {
   "cell_type": "code",
   "execution_count": 14,
   "metadata": {},
   "outputs": [
    {
     "name": "stdout",
     "output_type": "stream",
     "text": [
      "   September 2020\n",
      "Mo Tu We Th Fr Sa Su\n",
      "    1  2  3  4  5  6\n",
      " 7  8  9 10 11 12 13\n",
      "14 15 16 17 18 19 20\n",
      "21 22 23 24 25 26 27\n",
      "28 29 30\n",
      "\n"
     ]
    }
   ],
   "source": [
    "## To display a certain month\n",
    "\n",
    "## Import Calender\n",
    "\n",
    "import calendar\n",
    "\n",
    "for_year = 2020\n",
    "\n",
    "for_month = 9\n",
    "\n",
    "print(calendar.month(for_year, for_month))"
   ]
  },
  {
   "cell_type": "code",
   "execution_count": 15,
   "metadata": {},
   "outputs": [
    {
     "name": "stdout",
     "output_type": "stream",
     "text": [
      "                                  2021\n",
      "\n",
      "      January                   February                   March\n",
      "Mo Tu We Th Fr Sa Su      Mo Tu We Th Fr Sa Su      Mo Tu We Th Fr Sa Su\n",
      "             1  2  3       1  2  3  4  5  6  7       1  2  3  4  5  6  7\n",
      " 4  5  6  7  8  9 10       8  9 10 11 12 13 14       8  9 10 11 12 13 14\n",
      "11 12 13 14 15 16 17      15 16 17 18 19 20 21      15 16 17 18 19 20 21\n",
      "18 19 20 21 22 23 24      22 23 24 25 26 27 28      22 23 24 25 26 27 28\n",
      "25 26 27 28 29 30 31                                29 30 31\n",
      "\n",
      "       April                      May                       June\n",
      "Mo Tu We Th Fr Sa Su      Mo Tu We Th Fr Sa Su      Mo Tu We Th Fr Sa Su\n",
      "          1  2  3  4                      1  2          1  2  3  4  5  6\n",
      " 5  6  7  8  9 10 11       3  4  5  6  7  8  9       7  8  9 10 11 12 13\n",
      "12 13 14 15 16 17 18      10 11 12 13 14 15 16      14 15 16 17 18 19 20\n",
      "19 20 21 22 23 24 25      17 18 19 20 21 22 23      21 22 23 24 25 26 27\n",
      "26 27 28 29 30            24 25 26 27 28 29 30      28 29 30\n",
      "                          31\n",
      "\n",
      "        July                     August                  September\n",
      "Mo Tu We Th Fr Sa Su      Mo Tu We Th Fr Sa Su      Mo Tu We Th Fr Sa Su\n",
      "          1  2  3  4                         1             1  2  3  4  5\n",
      " 5  6  7  8  9 10 11       2  3  4  5  6  7  8       6  7  8  9 10 11 12\n",
      "12 13 14 15 16 17 18       9 10 11 12 13 14 15      13 14 15 16 17 18 19\n",
      "19 20 21 22 23 24 25      16 17 18 19 20 21 22      20 21 22 23 24 25 26\n",
      "26 27 28 29 30 31         23 24 25 26 27 28 29      27 28 29 30\n",
      "                          30 31\n",
      "\n",
      "      October                   November                  December\n",
      "Mo Tu We Th Fr Sa Su      Mo Tu We Th Fr Sa Su      Mo Tu We Th Fr Sa Su\n",
      "             1  2  3       1  2  3  4  5  6  7             1  2  3  4  5\n",
      " 4  5  6  7  8  9 10       8  9 10 11 12 13 14       6  7  8  9 10 11 12\n",
      "11 12 13 14 15 16 17      15 16 17 18 19 20 21      13 14 15 16 17 18 19\n",
      "18 19 20 21 22 23 24      22 23 24 25 26 27 28      20 21 22 23 24 25 26\n",
      "25 26 27 28 29 30 31      29 30                     27 28 29 30 31\n",
      "\n"
     ]
    }
   ],
   "source": [
    "## To display entire year\n",
    "\n",
    "import calendar\n",
    "\n",
    "for_year21 = 2021\n",
    "\n",
    "print(calendar.calendar(for_year21))"
   ]
  },
  {
   "cell_type": "code",
   "execution_count": null,
   "metadata": {},
   "outputs": [],
   "source": []
  },
  {
   "cell_type": "code",
   "execution_count": null,
   "metadata": {},
   "outputs": [],
   "source": []
  },
  {
   "cell_type": "code",
   "execution_count": null,
   "metadata": {},
   "outputs": [],
   "source": []
  },
  {
   "cell_type": "markdown",
   "metadata": {},
   "source": [
    "Question 4. \n",
    "\n",
    "Write a Python program to solve quadratic equation?"
   ]
  },
  {
   "cell_type": "markdown",
   "metadata": {},
   "source": [
    "Formula for Quadratic Equation when x is unknown\n",
    "\n",
    "x = −b ± √(b2 − 4ac) 2a"
   ]
  },
  {
   "cell_type": "markdown",
   "metadata": {},
   "source": [
    "Let us take an equation\n",
    "\n",
    "x**2 + 4 * x - 21\n",
    "\n",
    "Therefore the values of a, b and c are\n",
    "\n",
    "a = 1\n",
    "\n",
    "b = 4\n",
    "\n",
    "c = -21"
   ]
  },
  {
   "cell_type": "code",
   "execution_count": 23,
   "metadata": {},
   "outputs": [
    {
     "name": "stdout",
     "output_type": "stream",
     "text": [
      "The 2 values of x are\n",
      "x =  3.0  or  x =  -7.0\n"
     ]
    }
   ],
   "source": [
    "## Create 3 variables with respective values\n",
    "\n",
    "import math\n",
    "\n",
    "a = 1\n",
    "\n",
    "b = 4\n",
    "\n",
    "c = -21\n",
    "\n",
    "x_1 = -(4) + math.sqrt(4**2 - 4*1*-21)  \n",
    "\n",
    "x_val1 = x_1 / 2*1\n",
    "\n",
    "x_2 = -(4) - math.sqrt(4**2 - 4*1*-21) \n",
    "\n",
    "x_val2 = x_2 / 2*1\n",
    "\n",
    "\n",
    "print(\"The 2 root values of x are\")\n",
    "print(\"x = \", x_val1,  \" or  x = \", x_val2)\n",
    "\n",
    "\n"
   ]
  },
  {
   "cell_type": "code",
   "execution_count": null,
   "metadata": {},
   "outputs": [],
   "source": []
  },
  {
   "cell_type": "code",
   "execution_count": 44,
   "metadata": {},
   "outputs": [
    {
     "name": "stdout",
     "output_type": "stream",
     "text": [
      "Value of a: 0\n",
      "Invalid input, results will be INVALID !!!\n",
      "Value of b: 4\n",
      "Value of c: 28\n",
      "The 2 root values are \n",
      "x =  0.0  or  x =  -4.0\n"
     ]
    }
   ],
   "source": [
    "## For independent values\n",
    "\n",
    "import math\n",
    "\n",
    "a = float(input(\"Value of a: \"))\n",
    "\n",
    "while a == 0:\n",
    "    if a == 0:\n",
    "        print(\"Invalid input, results will be INVALID !!!\")\n",
    "        break\n",
    "    \n",
    "\n",
    "b = float(input(\"Value of b: \"))\n",
    "\n",
    "c = float(input(\"Value of c: \"))\n",
    "\n",
    "\n",
    "x_1 = -(b) + math.sqrt(b * b - 4 * a * c)  \n",
    "\n",
    "x_val1 = x_1 / 2 * 1\n",
    "\n",
    "x_2 = -(b) - math.sqrt(b * b - 4 * a * c) \n",
    "\n",
    "x_val2 = x_2 / 2 * 1\n",
    "\n",
    "\n",
    "print(\"The 2 root values are \")\n",
    "print(\"x = \", x_val1,  \" or  x = \", x_val2)\n"
   ]
  },
  {
   "cell_type": "code",
   "execution_count": null,
   "metadata": {},
   "outputs": [],
   "source": []
  },
  {
   "cell_type": "code",
   "execution_count": null,
   "metadata": {},
   "outputs": [],
   "source": []
  },
  {
   "cell_type": "code",
   "execution_count": null,
   "metadata": {},
   "outputs": [],
   "source": []
  },
  {
   "cell_type": "markdown",
   "metadata": {},
   "source": [
    "Question 5. \n",
    "\n",
    "Write a Python program to swap two variables without temp variable?"
   ]
  },
  {
   "cell_type": "code",
   "execution_count": 46,
   "metadata": {},
   "outputs": [
    {
     "name": "stdout",
     "output_type": "stream",
     "text": [
      "20\n",
      "10\n"
     ]
    }
   ],
   "source": [
    "x = 10\n",
    "\n",
    "y = 20\n",
    "\n",
    "## Without using temp variable swap values of x and y\n",
    "\n",
    "x , y = y, x\n",
    "\n",
    "print(x)\n",
    "\n",
    "print(y)"
   ]
  },
  {
   "cell_type": "code",
   "execution_count": 50,
   "metadata": {},
   "outputs": [
    {
     "name": "stdout",
     "output_type": "stream",
     "text": [
      "20\n",
      "10\n"
     ]
    }
   ],
   "source": [
    "## Method 2\n",
    "\n",
    "## Using the '+' addition  and '-' subtraction operator\n",
    "\n",
    "## Create 2 variables\n",
    "\n",
    "x = 10\n",
    "\n",
    "y = 20\n",
    "\n",
    "## Step 1  x + y\n",
    "\n",
    "## We have combined the value of x and y and now in order to switch we can minus the combined value and switch them to either variable.\n",
    "\n",
    "x = x + y   ## By adding gives us the entire sum of x and y\n",
    "\n",
    "\n",
    "\n",
    "\n",
    "## Step 2   \n",
    "\n",
    "y = x - y  ## We minus the new value of x with current value of y....so as the combined value of x if we take-out the 'y' what remains is value of x\n",
    "\n",
    "           ## Which we switched it to y\n",
    "    \n",
    "    \n",
    "\n",
    "## Step 3\n",
    "\n",
    "x = x - y   ## Now the new value of 'y' was the new value of 'x', as the previous value of 'y' was minus giving us the difference which was x.\n",
    "\n",
    "            ## Now remainder of COMBINED VALUE is now deducted with NEW VALUE of 'y'\n",
    "    \n",
    "    \n",
    "print(x)\n",
    "\n",
    "print(y)"
   ]
  },
  {
   "cell_type": "code",
   "execution_count": null,
   "metadata": {},
   "outputs": [],
   "source": []
  },
  {
   "cell_type": "code",
   "execution_count": null,
   "metadata": {},
   "outputs": [],
   "source": []
  },
  {
   "cell_type": "code",
   "execution_count": null,
   "metadata": {},
   "outputs": [],
   "source": []
  },
  {
   "cell_type": "code",
   "execution_count": null,
   "metadata": {},
   "outputs": [],
   "source": []
  },
  {
   "cell_type": "code",
   "execution_count": null,
   "metadata": {},
   "outputs": [],
   "source": []
  },
  {
   "cell_type": "code",
   "execution_count": null,
   "metadata": {},
   "outputs": [],
   "source": []
  },
  {
   "cell_type": "code",
   "execution_count": null,
   "metadata": {},
   "outputs": [],
   "source": []
  },
  {
   "cell_type": "code",
   "execution_count": null,
   "metadata": {},
   "outputs": [],
   "source": []
  },
  {
   "cell_type": "code",
   "execution_count": null,
   "metadata": {},
   "outputs": [],
   "source": []
  },
  {
   "cell_type": "code",
   "execution_count": null,
   "metadata": {},
   "outputs": [],
   "source": []
  },
  {
   "cell_type": "code",
   "execution_count": null,
   "metadata": {},
   "outputs": [],
   "source": []
  },
  {
   "cell_type": "code",
   "execution_count": null,
   "metadata": {},
   "outputs": [],
   "source": []
  },
  {
   "cell_type": "code",
   "execution_count": null,
   "metadata": {},
   "outputs": [],
   "source": []
  },
  {
   "cell_type": "code",
   "execution_count": null,
   "metadata": {},
   "outputs": [],
   "source": []
  },
  {
   "cell_type": "code",
   "execution_count": null,
   "metadata": {},
   "outputs": [],
   "source": []
  },
  {
   "cell_type": "code",
   "execution_count": null,
   "metadata": {},
   "outputs": [],
   "source": []
  },
  {
   "cell_type": "code",
   "execution_count": null,
   "metadata": {},
   "outputs": [],
   "source": []
  }
 ],
 "metadata": {
  "kernelspec": {
   "display_name": "Python 3",
   "language": "python",
   "name": "python3"
  },
  "language_info": {
   "codemirror_mode": {
    "name": "ipython",
    "version": 3
   },
   "file_extension": ".py",
   "mimetype": "text/x-python",
   "name": "python",
   "nbconvert_exporter": "python",
   "pygments_lexer": "ipython3",
   "version": "3.8.5"
  }
 },
 "nbformat": 4,
 "nbformat_minor": 4
}
