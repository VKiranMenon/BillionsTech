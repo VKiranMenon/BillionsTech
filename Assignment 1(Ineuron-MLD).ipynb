{
 "cells": [
  {
   "cell_type": "markdown",
   "metadata": {},
   "source": [
    "Question 1.\tWrite a program which will find all such numbers which are divisible by 7 but are not a multiple of 5, between 2000 and 3200 (both included). The numbers obtained should be printed in a comma-separated sequence on a single line."
   ]
  },
  {
   "cell_type": "code",
   "execution_count": null,
   "metadata": {},
   "outputs": [],
   "source": []
  },
  {
   "cell_type": "code",
   "execution_count": 4,
   "metadata": {},
   "outputs": [
    {
     "name": "stdout",
     "output_type": "stream",
     "text": [
      "2002  , 2009  , 2016  , 2023  , 2037  , 2044  , 2051  , 2058  , 2072  , 2079  , 2086  , 2093  , 2107  , 2114  , 2121  , 2128  , 2142  , 2149  , 2156  , 2163  , 2177  , 2184  , 2191  , 2198  , 2212  , 2219  , 2226  , 2233  , 2247  , 2254  , 2261  , 2268  , 2282  , 2289  , 2296  , 2303  , 2317  , 2324  , 2331  , 2338  , 2352  , 2359  , 2366  , 2373  , 2387  , 2394  , 2401  , 2408  , 2422  , 2429  , 2436  , 2443  , 2457  , 2464  , 2471  , 2478  , 2492  , 2499  , 2506  , 2513  , 2527  , 2534  , 2541  , 2548  , 2562  , 2569  , 2576  , 2583  , 2597  , 2604  , 2611  , 2618  , 2632  , 2639  , 2646  , 2653  , 2667  , 2674  , 2681  , 2688  , 2702  , 2709  , 2716  , 2723  , 2737  , 2744  , 2751  , 2758  , 2772  , 2779  , 2786  , 2793  , 2807  , 2814  , 2821  , 2828  , 2842  , 2849  , 2856  , 2863  , 2877  , 2884  , 2891  , 2898  , 2912  , 2919  , 2926  , 2933  , 2947  , 2954  , 2961  , 2968  , 2982  , 2989  , 2996  , 3003  , 3017  , 3024  , 3031  , 3038  , 3052  , 3059  , 3066  , 3073  , 3087  , 3094  , 3101  , 3108  , 3122  , 3129  , 3136  , 3143  , 3157  , 3164  , 3171  , 3178  , 3192  , 3199  , "
     ]
    }
   ],
   "source": [
    "\"\"\"  Write a program which will find all the numbers divisible by 7 but not a multiple of 5, \"\"\"    \n",
    "\n",
    "## The numbers should be in between 2000 and 3200 and includes both.\n",
    "\n",
    "\n",
    "## Create a variable to include all the numbers that will be satifying the condition\n",
    "\n",
    "\n",
    "\n",
    "## the range is given from 0 until last number + 1\n",
    "\n",
    "for i in range (2000, 3201):          ## in this case at 0 = 2000 and Last Number = 3200\n",
    "                                      ## as range function requires to allot +1 number for the last indexed number \n",
    "                                      ## to be accomodated.\n",
    "    \n",
    "    \n",
    "    \n",
    "                                      ## the condition, when divided by 7 gives no remainder,\n",
    "    \n",
    "                                      ## the other condition, which is not a multiple of 5...we can still use % operator     \n",
    "                                      ## as it doubles up in both as a multiple and a divisor for building \"CONDITIONS\"\n",
    "\n",
    "    \n",
    "    \n",
    "    if (i % 7 == 0) and (i % 5 != 0): ## Only when Both Conditions are satisfied\n",
    "        \n",
    "        \n",
    "        print(i, end = '  , ')        ## end command, with space and comma seperated between each numbers\n",
    "        \n",
    "            \n",
    "            \n",
    "\n",
    "    \n",
    "\n"
   ]
  },
  {
   "cell_type": "code",
   "execution_count": null,
   "metadata": {},
   "outputs": [],
   "source": []
  },
  {
   "cell_type": "code",
   "execution_count": 2,
   "metadata": {},
   "outputs": [
    {
     "name": "stdout",
     "output_type": "stream",
     "text": [
      "[2002, 2009, 2016, 2023, 2037, 2044, 2051, 2058, 2072, 2079, 2086, 2093, 2107, 2114, 2121, 2128, 2142, 2149, 2156, 2163, 2177, 2184, 2191, 2198, 2212, 2219, 2226, 2233, 2247, 2254, 2261, 2268, 2282, 2289, 2296, 2303, 2317, 2324, 2331, 2338, 2352, 2359, 2366, 2373, 2387, 2394, 2401, 2408, 2422, 2429, 2436, 2443, 2457, 2464, 2471, 2478, 2492, 2499, 2506, 2513, 2527, 2534, 2541, 2548, 2562, 2569, 2576, 2583, 2597, 2604, 2611, 2618, 2632, 2639, 2646, 2653, 2667, 2674, 2681, 2688, 2702, 2709, 2716, 2723, 2737, 2744, 2751, 2758, 2772, 2779, 2786, 2793, 2807, 2814, 2821, 2828, 2842, 2849, 2856, 2863, 2877, 2884, 2891, 2898, 2912, 2919, 2926, 2933, 2947, 2954, 2961, 2968, 2982, 2989, 2996, 3003, 3017, 3024, 3031, 3038, 3052, 3059, 3066, 3073, 3087, 3094, 3101, 3108, 3122, 3129, 3136, 3143, 3157, 3164, 3171, 3178, 3192, 3199] ,"
     ]
    }
   ],
   "source": [
    "\"\"\"  By way of LIST comprehension \"\"\"    \n",
    "\n",
    "\n",
    "## list comprehension\n",
    "\n",
    "cond_numb = [i for i in range(2000,3201) if i %7 == 0 and i % 5 != 0]\n",
    "\n",
    "print (cond_numb, end = ' ,')"
   ]
  },
  {
   "cell_type": "code",
   "execution_count": null,
   "metadata": {},
   "outputs": [],
   "source": []
  },
  {
   "cell_type": "markdown",
   "metadata": {},
   "source": [
    "Question 2.\tWrite a Python program to accept the user's first and last name and then getting them printed in the reverse order with a space between first name and last name."
   ]
  },
  {
   "cell_type": "code",
   "execution_count": 15,
   "metadata": {},
   "outputs": [
    {
     "name": "stdout",
     "output_type": "stream",
     "text": [
      "your first: Kiran\n",
      "your last: Menon\n",
      "nariK   noneM\n",
      "noneM   nariK\n"
     ]
    }
   ],
   "source": [
    "\"\"\"  Write a program which will print the reverse form of your First and Last Name \"\"\"    \n",
    "\n",
    "\n",
    "\n",
    "firstname = input(\"your first: \") ## Create an input for your First Name\n",
    "\n",
    "surname = input(\"your last: \")   ## Create an input for your Last Name\n",
    "\n",
    "\n",
    "            \n",
    "\n",
    "a = firstname[::-1] ## To reverse your First Name\n",
    "\n",
    "b = surname[::-1]  ## reverse your Last Name\n",
    "\n",
    "\n",
    "## Prints with a space between the two name, formatted by '{}  {}'\n",
    "\n",
    "\n",
    "print (a, \" \", b) ## Surname reverse (b) and then First Name reverse (a)\n",
    "\n",
    "print (b, \" \", a) ## Similar to the one above\n",
    "\n",
    "\n",
    "\"\"\" Similary to printout with a space \"\"\"\n",
    "\n",
    "##print('{}  {}'.format(b,a))  \n",
    "\n",
    "\n",
    "##print('{}  {}'.format(a,b))  \n",
    "\n"
   ]
  },
  {
   "cell_type": "code",
   "execution_count": null,
   "metadata": {},
   "outputs": [],
   "source": []
  },
  {
   "cell_type": "markdown",
   "metadata": {},
   "source": [
    "Question 3.\tWrite a Python program to find the volume of a sphere with diameter 12 cm. Formula: V=4/3 * π * r 3"
   ]
  },
  {
   "cell_type": "code",
   "execution_count": 13,
   "metadata": {},
   "outputs": [
    {
     "name": "stdout",
     "output_type": "stream",
     "text": [
      "904.7786842338603 cms^3\n"
     ]
    }
   ],
   "source": [
    "\"\"\"  Write a program which will find the Volume of a sphere \"\"\"    \n",
    "\n",
    "\n",
    "## V = 4/3 πr³\n",
    "\n",
    "import math\n",
    "\n",
    "\n",
    "r = 6                    ## Given the diameter is 12 cms, therefore radius is 1/2 of the diameter = 12/2 = 6 cms\n",
    "\n",
    "\n",
    "\n",
    "a = 4/3 * math.pi       ## this enables the pi value \n",
    "\n",
    "volume = a*(r**3)       ## the variable a has the one half of the formula\n",
    "\n",
    "print(volume, \"cms^3\")  ## printing in centimeter cube"
   ]
  },
  {
   "cell_type": "code",
   "execution_count": null,
   "metadata": {},
   "outputs": [],
   "source": []
  },
  {
   "cell_type": "code",
   "execution_count": null,
   "metadata": {},
   "outputs": [],
   "source": []
  },
  {
   "cell_type": "code",
   "execution_count": null,
   "metadata": {},
   "outputs": [],
   "source": []
  },
  {
   "cell_type": "code",
   "execution_count": null,
   "metadata": {},
   "outputs": [],
   "source": []
  },
  {
   "cell_type": "code",
   "execution_count": null,
   "metadata": {},
   "outputs": [],
   "source": []
  },
  {
   "cell_type": "code",
   "execution_count": null,
   "metadata": {},
   "outputs": [],
   "source": []
  },
  {
   "cell_type": "code",
   "execution_count": null,
   "metadata": {},
   "outputs": [],
   "source": []
  },
  {
   "cell_type": "code",
   "execution_count": null,
   "metadata": {},
   "outputs": [],
   "source": []
  },
  {
   "cell_type": "code",
   "execution_count": null,
   "metadata": {},
   "outputs": [],
   "source": []
  },
  {
   "cell_type": "code",
   "execution_count": null,
   "metadata": {},
   "outputs": [],
   "source": []
  },
  {
   "cell_type": "code",
   "execution_count": null,
   "metadata": {},
   "outputs": [],
   "source": []
  }
 ],
 "metadata": {
  "kernelspec": {
   "display_name": "Python 3",
   "language": "python",
   "name": "python3"
  },
  "language_info": {
   "codemirror_mode": {
    "name": "ipython",
    "version": 3
   },
   "file_extension": ".py",
   "mimetype": "text/x-python",
   "name": "python",
   "nbconvert_exporter": "python",
   "pygments_lexer": "ipython3",
   "version": "3.7.6"
  }
 },
 "nbformat": 4,
 "nbformat_minor": 4
}
