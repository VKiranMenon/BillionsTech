{
 "cells": [
  {
   "cell_type": "code",
   "execution_count": null,
   "metadata": {},
   "outputs": [],
   "source": []
  },
  {
   "cell_type": "markdown",
   "metadata": {},
   "source": [
    "Question 1.\n",
    "\n",
    "What is the relationship between def statements and lambda expressions ?"
   ]
  },
  {
   "cell_type": "markdown",
   "metadata": {},
   "source": [
    "* `Lambda` functions are also Python Functions; however the major differences between `def` functions are as follows:\n",
    "\n",
    "(a) `Lambda` functions does not have specific names given for their function when called to return a value; therefore they are known as \"anonymous functions\"\n",
    "\n",
    "`def` on the other hand names its functions and are unique if the user chooses to do so.\n",
    "\n",
    "\n"
   ]
  },
  {
   "cell_type": "code",
   "execution_count": 13,
   "metadata": {},
   "outputs": [
    {
     "data": {
      "text/plain": [
       "6"
      ]
     },
     "execution_count": 13,
     "metadata": {},
     "output_type": "execute_result"
    }
   ],
   "source": [
    "mutilpy_By_2 = lambda x: x * 2\n",
    "mutilpy_By_2(3)"
   ]
  },
  {
   "cell_type": "code",
   "execution_count": 7,
   "metadata": {},
   "outputs": [],
   "source": [
    "def multiply_by_2(x, y):\n",
    "    return x * 2"
   ]
  },
  {
   "cell_type": "markdown",
   "metadata": {},
   "source": [
    "Remember in Lambda the function name `mutilpy_By_2` is just an identifier. A normal function. `def` on the other hand has created a function exculsively for variables that are multiplied by 2."
   ]
  },
  {
   "cell_type": "code",
   "execution_count": null,
   "metadata": {},
   "outputs": [],
   "source": []
  },
  {
   "cell_type": "code",
   "execution_count": null,
   "metadata": {},
   "outputs": [],
   "source": []
  },
  {
   "cell_type": "markdown",
   "metadata": {},
   "source": [
    "(b) `Lambda` functions can only perform one specific operation at one time and are unable to handle multiple expressions within the same body.\n",
    "\n",
    "`def` functions on the other hand are able to carry multiple expressions and perform more than one operation"
   ]
  },
  {
   "cell_type": "code",
   "execution_count": 10,
   "metadata": {},
   "outputs": [
    {
     "data": {
      "text/plain": [
       "4"
      ]
     },
     "execution_count": 10,
     "metadata": {},
     "output_type": "execute_result"
    }
   ],
   "source": [
    "\n",
    "a = lambda x: x + 2\n",
    "a(2)"
   ]
  },
  {
   "cell_type": "code",
   "execution_count": 3,
   "metadata": {},
   "outputs": [],
   "source": [
    "def add_subtract(x, y):\n",
    "    \n",
    "    add_ = x + y\n",
    "    subtract_ = x - y\n",
    "    multiply_ = x * y\n",
    "    divide_ = x/y"
   ]
  },
  {
   "cell_type": "code",
   "execution_count": null,
   "metadata": {},
   "outputs": [],
   "source": []
  },
  {
   "cell_type": "code",
   "execution_count": null,
   "metadata": {},
   "outputs": [],
   "source": []
  },
  {
   "cell_type": "markdown",
   "metadata": {},
   "source": [
    "(c) `Lambda` do not contain a return statement, as it performs singleton operation within his function it returns values automatically.\n",
    "\n",
    "`def` functions on the other hand if it needs to return a certain value should specify the `return` statement for that value."
   ]
  },
  {
   "cell_type": "code",
   "execution_count": 16,
   "metadata": {},
   "outputs": [
    {
     "data": {
      "text/plain": [
       "2"
      ]
     },
     "execution_count": 16,
     "metadata": {},
     "output_type": "execute_result"
    }
   ],
   "source": [
    "divide_2 = lambda x: x // 2\n",
    "\n",
    "divide_2(4)"
   ]
  },
  {
   "cell_type": "code",
   "execution_count": 9,
   "metadata": {},
   "outputs": [],
   "source": [
    "def multiplY_2(x):\n",
    "    \n",
    "    multiply_x = x * 2\n",
    "    add_x = x + 2\n",
    "    subtract_x = x - 2\n",
    "    \n",
    "    return subtract_x, add_x\n"
   ]
  },
  {
   "cell_type": "code",
   "execution_count": null,
   "metadata": {},
   "outputs": [],
   "source": []
  },
  {
   "cell_type": "code",
   "execution_count": null,
   "metadata": {},
   "outputs": [],
   "source": []
  },
  {
   "cell_type": "code",
   "execution_count": null,
   "metadata": {},
   "outputs": [],
   "source": []
  },
  {
   "cell_type": "code",
   "execution_count": null,
   "metadata": {},
   "outputs": [],
   "source": []
  },
  {
   "cell_type": "markdown",
   "metadata": {},
   "source": [
    "Question 2.\n",
    "\n",
    "What is the benefit of lambda?"
   ]
  },
  {
   "cell_type": "markdown",
   "metadata": {},
   "source": [
    "(a) The code for `lambda` functions are clear and simple, as it requires only ONE line of code to perform an operation."
   ]
  },
  {
   "cell_type": "code",
   "execution_count": 17,
   "metadata": {},
   "outputs": [
    {
     "data": {
      "text/plain": [
       "5"
      ]
     },
     "execution_count": 17,
     "metadata": {},
     "output_type": "execute_result"
    }
   ],
   "source": [
    "adder_ = lambda x, y: x + y\n",
    "adder_(2, 3)"
   ]
  },
  {
   "cell_type": "code",
   "execution_count": null,
   "metadata": {},
   "outputs": [],
   "source": []
  },
  {
   "cell_type": "markdown",
   "metadata": {},
   "source": [
    "(b) No seperate variables are required to be assigned to it. Therefore it is relatively faster in performing the operation, as space complexity is solved by using the `lambda` function. All it does is remember the function name that performs one operation without having to keep variables.\n",
    "\n",
    "Therefore it can have any number of arguments but only one expression."
   ]
  },
  {
   "cell_type": "code",
   "execution_count": null,
   "metadata": {},
   "outputs": [],
   "source": []
  },
  {
   "cell_type": "markdown",
   "metadata": {},
   "source": [
    "(c) Makes the code much easier to understand in relation to the function name, which sometimes a user is unable to remember. \n",
    "\n",
    "The lambda just performs the expression therefore it does not require any documented string or a name."
   ]
  },
  {
   "cell_type": "code",
   "execution_count": null,
   "metadata": {},
   "outputs": [],
   "source": []
  },
  {
   "cell_type": "code",
   "execution_count": null,
   "metadata": {},
   "outputs": [],
   "source": []
  },
  {
   "cell_type": "code",
   "execution_count": null,
   "metadata": {},
   "outputs": [],
   "source": []
  },
  {
   "cell_type": "code",
   "execution_count": null,
   "metadata": {},
   "outputs": [],
   "source": []
  },
  {
   "cell_type": "markdown",
   "metadata": {},
   "source": [
    "Question 3. \n",
    "\n",
    "Compare and contrast map, filter, and reduce."
   ]
  },
  {
   "cell_type": "markdown",
   "metadata": {},
   "source": [
    "* The combination of `lambda` along with `map, reduce` and `filter` allows python more functional power. These can be used with lambda either to achieve or to map objects or return a single value.\n",
    "\n",
    "\n",
    "|\n",
    "\n",
    "(a) `filter()` is a function that filters out the elements inside a given list if the condition laid are satisfied (if `True`).\n",
    "\n",
    "The difference as compared to `map()` and perhaps `reduce()` is that it creates an entirely different list from the original, that includes only those elements which has satisfied the condition.\n",
    "\n",
    "|\n",
    "\n",
    "Similar to `map()` a `filter()` function is also an iterable, where we can use commands such as `iter()` and `next()` or a `for loop` in order to access the elements in its new formed list. "
   ]
  },
  {
   "cell_type": "code",
   "execution_count": null,
   "metadata": {},
   "outputs": [],
   "source": []
  },
  {
   "cell_type": "markdown",
   "metadata": {},
   "source": [
    "(b) `map()` is another function which is similar to `filter()`. It being an iterable it takes a list of element and maps a certain function to each element inside the list. \n",
    "\n",
    "|\n",
    "\n",
    "Similar to `filter()` it is able to create another new list, by iterating through each element from the original list and maps the function that is passed as an argument on each of them."
   ]
  },
  {
   "cell_type": "code",
   "execution_count": null,
   "metadata": {},
   "outputs": [],
   "source": []
  },
  {
   "cell_type": "markdown",
   "metadata": {},
   "source": [
    "(c) `reduce()` however is a function where its operations are different from other two function `map()` and `filter()`. This function follows a certain sequence until only one value remains.\n",
    "\n",
    "|\n",
    "\n",
    "The `reduce()` function does not have a condition such as `filter()` does, therefore it does not look for conditions to be satisfied.\n",
    "\n",
    "Unlike for `map()` that also iterates through each element to form a new list, the `reduce()` uses the function is each element to come up with a single element. In other words, instead of forming a different list from the original, the `reduce()` function goes through each element to perform the operation in the same list.\n",
    "\n",
    "If for example, we use the adder function, the `reduce()` will go through each element by adding them index wise and coming up with a single value and NOT AN ITERATED VALUE.\n",
    "\n",
    "|\n",
    "\n",
    "`filter()` and `map()` are in-built python functions. `reduce()` on the other hand has to be imported from `functools`."
   ]
  },
  {
   "cell_type": "code",
   "execution_count": null,
   "metadata": {},
   "outputs": [],
   "source": []
  },
  {
   "cell_type": "code",
   "execution_count": null,
   "metadata": {},
   "outputs": [],
   "source": []
  },
  {
   "cell_type": "code",
   "execution_count": null,
   "metadata": {},
   "outputs": [],
   "source": []
  },
  {
   "cell_type": "code",
   "execution_count": null,
   "metadata": {},
   "outputs": [],
   "source": []
  },
  {
   "cell_type": "markdown",
   "metadata": {},
   "source": [
    "Question 4.\n",
    "\n",
    "What are function annotations, and how are they used?"
   ]
  },
  {
   "cell_type": "markdown",
   "metadata": {},
   "source": [
    "The functions annotations were introduced in Python 3.x, as the previous version in Python 2.x lacked a standard format to annotate functions parameters and return values. This was a gap that was filled by tools and libraries that were designed for the 2.x version. This was also extended by employing the use of decorators, while some compilers chose to parse a function's docstring looking for annotations.\n",
    "\n",
    "The aim for function annotation being introduced in Python 3.x is to eradicate the previous Python 2.x approach by laying specific guidelines which are straightforward hence reducing the confusion when utilizing this approach.\n",
    "\n",
    "|\n",
    "\n",
    "Feature of Functions Annotations:\n",
    "\n",
    "(a) Functions annotations provides optional choice of use for return values and for parameters alike.\n",
    "\n",
    "(b) Function Annotations are known as PEP (Python Enterprise Proposal) - 3107\n",
    "\n",
    "(c) Function Annotations provide a way of linking various parts of a function with arbitrary python expression at run-time.\n",
    "\n",
    "(d) The function annotations does not introduce any standard semantics, even for third-party libraries.\n",
    "\n",
    "(e) The only way a PEP - 3107 takes meaning is when they are utilized and linked by way of third-party libraries. The compilers are free to use the annotations as they feel like."
   ]
  },
  {
   "cell_type": "code",
   "execution_count": null,
   "metadata": {},
   "outputs": [],
   "source": []
  },
  {
   "cell_type": "markdown",
   "metadata": {},
   "source": [
    "* How are the functions annotations used?\n",
    "\n",
    "|\n",
    "\n",
    "The benefits from function annotations can only be reaped via third party libraries. The type of benefits depends upon the type of the library, for example\n",
    "\n",
    "Python supports dynamic typing and hence no module is provided for type checking. \n",
    "\n",
    "Annotations like\n",
    "\n",
    "                                                `[def foo(a:”int”, b:”float”=5.0)  -> ”int”]`\n",
    "\n",
    "(syntax described in detail in the next section) can be used to collect information about the type of the parameters and the return type of the function to keep track of the type change occurring in the function. ‘mypy’ is one such library.\n",
    "\n",
    "String based annotations can be used by the libraries to provide better help messages at compile time regarding the functionalities of various methods, classes and modules.\n",
    "\n",
    "They are like the optional parameters that follow the parameter name.\n",
    "\n",
    "\n",
    "Annotations for simple parameters : The argument name is followed by ‘:’ which is then followed by the expression. Annotation syntax is shown below.\n",
    "\n",
    "                                                def foobar(a: expression, b: expression = 5):\n",
    "\n",
    "Annotations for excess parameters : Excess parameters for e.g. *args and **kwargs, allow arbitrary number of arguments to be passed in a function call. \n",
    "\n",
    "                                                def foobar(*args: expression, *kwargs: expression):\n",
    "                                                \n",
    "Annotations for nested parameters : Nested parameters are useful feature of python 2x where a tuple is passed in a function call and automatic unpacking takes place. \n",
    "\n",
    "This feature is removed in python 3x and manual unpacking should be done. Annotation is done after the variable and not after the tuple as shown below.\n",
    "\n",
    "                                        def foobar((a: expression, b: expression), (c: expression, d: expression)):\n",
    "                                        \n",
    "Annotations for return type : Annotating return type is slightly different from annotating function arguments. The ‘->’ is followed by expression which is further followed by ‘:’. Annotation syntax of return type is shown below.\n",
    "\n",
    "                                                def foobar(a: expression)->expression:"
   ]
  },
  {
   "cell_type": "code",
   "execution_count": null,
   "metadata": {},
   "outputs": [],
   "source": []
  },
  {
   "cell_type": "code",
   "execution_count": null,
   "metadata": {},
   "outputs": [],
   "source": []
  },
  {
   "cell_type": "code",
   "execution_count": null,
   "metadata": {},
   "outputs": [],
   "source": []
  },
  {
   "cell_type": "code",
   "execution_count": null,
   "metadata": {},
   "outputs": [],
   "source": []
  },
  {
   "cell_type": "markdown",
   "metadata": {},
   "source": [
    "Question 5.\n",
    "\n",
    "What are recursive functions, and how are they used?"
   ]
  },
  {
   "cell_type": "markdown",
   "metadata": {},
   "source": [
    "There are constructs within the OOP concept that allows one function to call other functions. Or in some cases call the functions itself.\n",
    "\n",
    "These constructs are termed as recursive, as they can define themselves much in a repeated form if it requires for the program to produce a recurring (repetitive) result.\n",
    "\n",
    "|\n",
    "\n",
    "How are Recursive Functions are used ??\n",
    "\n",
    "Here we can see an example where the functions itself calls other functions and repeats its cycle (NOT ITERATION) to produce a range of results.\n",
    "\n",
    "One such example is that of FACTORIAL.\n",
    "\n",
    "We understand the Factorial of 5 ===> 5! = 5 * 4 * 3 * 2 * 1 == 120.\n",
    "\n",
    "Let us create a recursive program to find factotrial of 5."
   ]
  },
  {
   "cell_type": "code",
   "execution_count": 18,
   "metadata": {},
   "outputs": [],
   "source": [
    "def factorial_(num):\n",
    "    \n",
    "    if num <= 0:\n",
    "        return \"Invalid entry. Error\"\n",
    "    elif num == 1:\n",
    "        return num\n",
    "    else:\n",
    "        return (num * factorial_(num-1))"
   ]
  },
  {
   "cell_type": "code",
   "execution_count": 19,
   "metadata": {},
   "outputs": [
    {
     "data": {
      "text/plain": [
       "120"
      ]
     },
     "execution_count": 19,
     "metadata": {},
     "output_type": "execute_result"
    }
   ],
   "source": [
    "factorial_(5)"
   ]
  },
  {
   "cell_type": "markdown",
   "metadata": {},
   "source": [
    "What this program does is as long as the `num` variable is not 1. It will keep multiplying with the num - 1.\n",
    "\n",
    "In other words, the number chosen by the user is 5.\n",
    "\n",
    "|\n",
    "\n",
    "1st Recursive = 5 * (5 -1) which is 4 ===> 5 * 4\n",
    "\n",
    "2nd Recursive = 4 * (4 - 1) == 3  ===> 5 * 4 * 3\n",
    "\n",
    "3rd Recursive = 3 * (3 - 1) == 2 ===> 5 * 4 * 3 * 2\n",
    "\n",
    "4th Recursive = 2 * (2 - 1) == 1 ====> 5 * 4 * 3 * 2 * 1\n",
    "\n",
    "Now num == 1 so it returns 1.\n",
    "\n",
    "IMPORTANT =====> This is not ITERATION as in that case every multiplication step will deliver an answer instead of one answer at the end."
   ]
  },
  {
   "cell_type": "code",
   "execution_count": null,
   "metadata": {},
   "outputs": [],
   "source": []
  },
  {
   "cell_type": "code",
   "execution_count": null,
   "metadata": {},
   "outputs": [],
   "source": []
  },
  {
   "cell_type": "code",
   "execution_count": null,
   "metadata": {},
   "outputs": [],
   "source": []
  },
  {
   "cell_type": "code",
   "execution_count": null,
   "metadata": {},
   "outputs": [],
   "source": []
  },
  {
   "cell_type": "markdown",
   "metadata": {},
   "source": [
    "Question 6. \n",
    "\n",
    "What are some general design guidelines for coding functions?"
   ]
  },
  {
   "cell_type": "markdown",
   "metadata": {},
   "source": [
    "==> Guidelines for Coding standards allows for uniform approach among engineers, where each of them has a unique approach on their respective codes.\n",
    "\n",
    "==> When codes follow a uniform pattern they are easy to be understood, widely improving their readabitlity, maintainability as well as the complexity of the code.\n",
    "\n",
    "==> Detecting error easily especially, when the codebase is quite heavy.\n",
    "\n",
    "And for Many such reasons guidelines have been laid, let us discuss a few:\n",
    "\n",
    "|\n",
    "\n",
    "|\n",
    "\n",
    "* Limited use of globals:\n",
    "\n",
    "These rules tell about which types of data that can be declared global and the data that can’t be.\n",
    "\n",
    "\n",
    "\n",
    "* Standard headers for different modules:\n",
    "\n",
    "For better understanding and maintenance of the code, the header of different modules should follow some standard format and information. The header format must contain below things that is being used in various companies:\n",
    "Name of the module\n",
    "Date of module creation\n",
    "Author of the module\n",
    "Modification history\n",
    "Synopsis of the module about what the module does\n",
    "Different functions supported in the module along with their input output parameters\n",
    "Global variables accessed or modified by the module\n",
    "\n",
    "\n",
    "* Naming conventions for local variables, global variables, constants and functions:\n",
    "\n",
    "Some of the naming conventions are given below:\n",
    "Meaningful and understandable variables name helps anyone to understand the reason of using it.\n",
    "Local variables should be named using camel case lettering starting with small letter (e.g. localData) whereas Global variables names should start with a capital letter (e.g. GlobalData). Constant names should be formed using capital letters only (e.g. CONSDATA).\n",
    "It is better to avoid the use of digits in variable names.\n",
    "The names of the function should be written in camel case starting with small letters.\n",
    "The name of the function must describe the reason of using the function clearly and briefly.\n",
    "\n",
    "\n",
    "* Indentation:\n",
    "\n",
    "Proper indentation is very important to increase the readability of the code. For making the code readable, programmers should use White spaces properly. Some of the spacing conventions are given below:\n",
    "There must be a space after giving a comma between two function arguments.\n",
    "Each nested block should be properly indented and spaced.\n",
    "Proper Indentation should be there at the beginning and at the end of each block in the program.\n",
    "All braces should start from a new line and the code following the end of braces also start from a new line.\n",
    "\n",
    "\n",
    "* Error return values and exception handling conventions:\n",
    "\n",
    "All functions that encountering an error condition should either return a 0 or 1 for simplifying the debugging.\n",
    "\n",
    "On the other hand, Coding guidelines give some general suggestions regarding the coding style that to be followed for the betterment of understandability and readability of the code. Some of the coding guidelines are given below :\n",
    "\n",
    "\n",
    "\n",
    "* Avoid using a coding style that is too difficult to understand:\n",
    "\n",
    "Code should be easily understandable. The complex code makes maintenance and debugging difficult and expensive.\n",
    "\n",
    "\n",
    "* Avoid using an identifier for multiple purposes:\n",
    "\n",
    "Each variable should be given a descriptive and meaningful name indicating the reason behind using it. This is not possible if an identifier is used for multiple purposes and thus it can lead to confusion to the reader. Moreover, it leads to more difficulty during future enhancements.\n",
    "\n",
    "\n",
    "* Code should be well documented:\n",
    "\n",
    "The code should be properly commented for understanding easily. Comments regarding the statements increase the understandability of the code.\n",
    "\n",
    "\n",
    "* Length of functions should not be very large:\n",
    "\n",
    "Lengthy functions are very difficult to understand. That’s why functions should be small enough to carry out small work and lengthy functions should be broken into small ones for completing small tasks.\n",
    "\n",
    "\n",
    "* Try not to use GOTO statement:\n",
    "\n",
    "GOTO statement makes the program unstructured, thus it reduces the understandability of the program and also debugging becomes difficult.\n",
    "\n",
    "\n"
   ]
  },
  {
   "cell_type": "code",
   "execution_count": null,
   "metadata": {},
   "outputs": [],
   "source": []
  },
  {
   "cell_type": "code",
   "execution_count": null,
   "metadata": {},
   "outputs": [],
   "source": []
  },
  {
   "cell_type": "code",
   "execution_count": null,
   "metadata": {},
   "outputs": [],
   "source": []
  },
  {
   "cell_type": "code",
   "execution_count": null,
   "metadata": {},
   "outputs": [],
   "source": []
  },
  {
   "cell_type": "markdown",
   "metadata": {},
   "source": [
    "Question 7. \n",
    "\n",
    "Name three or more ways that functions can communicate results to a caller."
   ]
  },
  {
   "cell_type": "markdown",
   "metadata": {},
   "source": [
    "A Function allows a compiler/caller to communicate with the program in order to get the desired results.\n",
    "\n",
    "The function thus allows different methods, to pass back results of the program and here we state about 3 or 4 of them.\n",
    "\n",
    "(1) Defining a Call Function and using variables to perform the operation created by the function.\n",
    "\n",
    "(2) Return Statements\n",
    "\n",
    "(3) Print Statements\n",
    "\n",
    "(4) Data Types and Boolean conditions.\n",
    "\n",
    "\n",
    "\n",
    "                            "
   ]
  },
  {
   "cell_type": "code",
   "execution_count": null,
   "metadata": {},
   "outputs": [],
   "source": []
  },
  {
   "cell_type": "code",
   "execution_count": null,
   "metadata": {},
   "outputs": [],
   "source": []
  },
  {
   "cell_type": "code",
   "execution_count": null,
   "metadata": {},
   "outputs": [],
   "source": []
  },
  {
   "cell_type": "code",
   "execution_count": null,
   "metadata": {},
   "outputs": [],
   "source": []
  },
  {
   "cell_type": "code",
   "execution_count": null,
   "metadata": {},
   "outputs": [],
   "source": []
  },
  {
   "cell_type": "code",
   "execution_count": null,
   "metadata": {},
   "outputs": [],
   "source": []
  },
  {
   "cell_type": "code",
   "execution_count": null,
   "metadata": {},
   "outputs": [],
   "source": []
  }
 ],
 "metadata": {
  "kernelspec": {
   "display_name": "Python 3",
   "language": "python",
   "name": "python3"
  },
  "language_info": {
   "codemirror_mode": {
    "name": "ipython",
    "version": 3
   },
   "file_extension": ".py",
   "mimetype": "text/x-python",
   "name": "python",
   "nbconvert_exporter": "python",
   "pygments_lexer": "ipython3",
   "version": "3.8.5"
  }
 },
 "nbformat": 4,
 "nbformat_minor": 4
}
