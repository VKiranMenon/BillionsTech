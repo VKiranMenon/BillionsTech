{
 "cells": [
  {
   "cell_type": "code",
   "execution_count": null,
   "metadata": {},
   "outputs": [],
   "source": []
  },
  {
   "cell_type": "markdown",
   "metadata": {},
   "source": [
    "Question 1. \n",
    "\n",
    "What advantages do Excel spreadsheets have over CSV spreadsheets?"
   ]
  },
  {
   "cell_type": "markdown",
   "metadata": {},
   "source": [
    "(a)  Excel spreadsheets are able to perform VBA Coding within the spreadsheet, perform functions and execute formulas and are able to summarise better than with a CSV spreadsheets. \n",
    "\n",
    "CSV spreadsheets on the other hand cannot perform any VBA coding, functions or formulas.\n",
    "\n",
    "|\n",
    "\n",
    "(b) Excel files can be password protected, \n",
    "\n",
    "whereas CSV files does not have password protection features.\n",
    "\n",
    "|\n",
    "\n",
    "(c) The end-user are able to comprehend, read and understand large data-set in Excel Spreadsheets \n",
    "\n",
    "as compared to CSV speadsheets which makes large data-sets complicated to understand.\n",
    "\n",
    "|\n",
    "\n",
    "(d) Excel spreadsheets provies the user with an option of linking other data-set from different sources and users can do custom add-ins."
   ]
  },
  {
   "cell_type": "code",
   "execution_count": null,
   "metadata": {},
   "outputs": [],
   "source": []
  },
  {
   "cell_type": "code",
   "execution_count": null,
   "metadata": {},
   "outputs": [],
   "source": []
  },
  {
   "cell_type": "code",
   "execution_count": null,
   "metadata": {},
   "outputs": [],
   "source": []
  },
  {
   "cell_type": "markdown",
   "metadata": {},
   "source": [
    "Question 2.\n",
    "\n",
    "What do you pass to csv.reader() and csv.writer() to create reader and writer objects?"
   ]
  },
  {
   "cell_type": "markdown",
   "metadata": {},
   "source": [
    "When the user creates reader or writer objects, the user passes an argument that allows us to read or write data from a specified file into CSV file.\n",
    "\n",
    "It is known as `TextIOWrapper` and the same acts as a variable and creates read or write objects."
   ]
  },
  {
   "cell_type": "code",
   "execution_count": 54,
   "metadata": {},
   "outputs": [],
   "source": [
    "import csv\n",
    "  \n",
    "# create csv file and create a write object\n",
    "\n",
    "lst_field = ['Name', 'Discipline', 'Year', 'Marks']\n",
    "\n",
    "with open(\"Records.csv\", 'w') as csvfile:\n",
    "    ## create a write object\n",
    "    obj_w = csv.writer(csvfile)\n",
    "    obj_w.writerow(lst_field)\n",
    "    \n",
    "    ## create the CSV file with the afroresaid name\n",
    "    csvfile.close()"
   ]
  },
  {
   "cell_type": "code",
   "execution_count": 53,
   "metadata": {},
   "outputs": [
    {
     "data": {
      "text/plain": [
       "_io.TextIOWrapper"
      ]
     },
     "execution_count": 53,
     "metadata": {},
     "output_type": "execute_result"
    }
   ],
   "source": [
    "type(csvfile)"
   ]
  },
  {
   "cell_type": "code",
   "execution_count": null,
   "metadata": {},
   "outputs": [],
   "source": []
  },
  {
   "cell_type": "markdown",
   "metadata": {},
   "source": [
    "Question 3. \n",
    "\n",
    "What modes do File objects for reader and writer objects need to be opened in?"
   ]
  },
  {
   "cell_type": "markdown",
   "metadata": {},
   "source": [
    "File Objects are basically objects inside a 'File' which we desire to open. It can be done through a built-in function `open()`, which carries two arguments in its parenthesis. \n",
    "\n",
    "(a) Pathway/address of the file location \n",
    "\n",
    "(b) access_mode.\n",
    "\n",
    "In the above question the Files can be created or existing files can be accessed, of reader objects through the command `r`\n",
    "\n",
    "example:\n",
    "\n",
    "f1 = open(_path_of_filename, 'r')\n",
    "\n",
    "txt_fmt = f1.read() ## the `.read()` command will read the entire contents inside the file, unless specified the amount of bytes inside its parenthesis.\n",
    "\n",
    "print(txt_fmt)\n",
    "f1.close()"
   ]
  },
  {
   "cell_type": "code",
   "execution_count": null,
   "metadata": {},
   "outputs": [],
   "source": [
    "\"\"\" example from the above answer \n",
    "\n",
    "f1 = open(_path_of_filename, 'r')\n",
    "\n",
    "txt_fmt = f1.read() ## the `.read()` command will read the entire contents inside the file, unless specified the amount of bytes inside its parenthesis.\n",
    "\n",
    "print(txt_fmt)\n",
    "f1.close()\n",
    "\n",
    "\"\"\""
   ]
  },
  {
   "cell_type": "code",
   "execution_count": null,
   "metadata": {},
   "outputs": [],
   "source": []
  },
  {
   "cell_type": "markdown",
   "metadata": {},
   "source": [
    "File objects that are to be opened in write form the built-in command to be used is `open()` and in its parenthesis it would be (name/pathway of the file, acess_mode) which in this case would be `'w'`.\n",
    "\n",
    "Therefore the command can be written as follows:\n",
    "\n",
    "f2 = open(_path_of_filename, 'w')\n",
    "\n",
    "This command however, may also include another set of commands if we want to add or create a file with lines of text already written in them.\n",
    "\n",
    "-- create another variable that will include the text.\n",
    "\n",
    "-- then write f2.write(\"insert variable name\")\n",
    "\n",
    "-- f2.close"
   ]
  },
  {
   "cell_type": "code",
   "execution_count": null,
   "metadata": {},
   "outputs": [],
   "source": [
    "\"\"\" example of opening File Objects iin Write mode\n",
    "\n",
    "f2 = open(_path_or_name_of_file, 'w')  ## opens a file by this name that is opened in write mode.\n",
    "txt2 = 'Ineuron rocks' ## text that is to be written inside the file\n",
    "\n",
    "f2.write(txt2)    ## command that includes the text from the created variable that in inside the parenthesis\n",
    "f2.close          ## close the file and create it\n",
    "\n",
    "\"\"\""
   ]
  },
  {
   "cell_type": "code",
   "execution_count": null,
   "metadata": {},
   "outputs": [],
   "source": []
  },
  {
   "cell_type": "code",
   "execution_count": null,
   "metadata": {},
   "outputs": [],
   "source": []
  },
  {
   "cell_type": "code",
   "execution_count": null,
   "metadata": {},
   "outputs": [],
   "source": []
  },
  {
   "cell_type": "markdown",
   "metadata": {},
   "source": [
    "Question 4. \n",
    "\n",
    "What method takes a list argument and writes it to a CSV file?"
   ]
  },
  {
   "cell_type": "markdown",
   "metadata": {},
   "source": [
    "When contents inside an iterable or a container is to be written inside a CSV file, we use the following method:\n",
    "\n",
    "`write()` function\n",
    "\n",
    "This particular function returns a \"write\" object that is able to convert string values inside a container and store it inside a File Object.\n",
    "\n",
    "This function takes a File Object as a parameter. The `write()` function has 2 class methods where it can write the List arguments inside a CSV file.\n",
    "\n",
    "(a) csv.writerow()\n",
    "\n",
    "This function writes the arguments from the list (iterating them) one by one which is seperated by a space/delimiter.\n",
    "\n",
    "|\n",
    "\n",
    "(b) csv.writerows()\n",
    "\n",
    "This function takes each argument from the iterable list and writes them one by one in a new line. Each argument that are seperated by a comma is written on a new line."
   ]
  },
  {
   "cell_type": "code",
   "execution_count": null,
   "metadata": {},
   "outputs": [],
   "source": [
    "\"\"\" \n",
    "When taking list arguments and writing it into a CSV file where each argument is seperated by a comma/delimeter\n",
    "\n",
    "import csv\n",
    "\n",
    "lst_variable = [\"This\", \"is\", \"Basic\", \"Python\", \"Problem\"]  ## creating a list variable with arguments\n",
    "\n",
    "## create a CSV file in the current working directory by writing the contents of the list inside the newly created CSV file\n",
    "\n",
    "with open('Basic_py.csv', 'w', newline = )\n",
    "\n",
    "\"\"\""
   ]
  },
  {
   "cell_type": "code",
   "execution_count": null,
   "metadata": {},
   "outputs": [],
   "source": []
  },
  {
   "cell_type": "code",
   "execution_count": 7,
   "metadata": {},
   "outputs": [],
   "source": [
    "## We try to produce a 'write' command by opening a csv file with a List variable and \n",
    "## produce the output in one line without any special characters and seperated by a space.\n",
    "\n",
    "import csv\n",
    "\n",
    "list_variable = [\"This\", \"is\", \"Basic\", \"Python\"]\n",
    "\n",
    "with open (\"Basic_py.csv\", 'w', newline = '') as csvfile:\n",
    "    obj_1 = csv.writer(csvfile, delimiter = ' ')\n",
    "    obj_1.writerow(list_variable)"
   ]
  },
  {
   "cell_type": "code",
   "execution_count": 8,
   "metadata": {},
   "outputs": [],
   "source": [
    "## We re-create another program by using writerow() \n",
    "## this is a more Lazy approach\n",
    "\n",
    "import csv\n",
    "\n",
    "lst_2 = [\"This\", \"is\", \"FullStack\", \"DataScience\"]\n",
    "\n",
    "\"\"\" Note: If we place a space between 2 words such as 'Data Science', then the output on the csv file will look like  \"Data Science\"      \"\"\"\n",
    "\n",
    "csvfile = open(\"Basic_2_py.csv\", 'w', newline = '')\n",
    "\n",
    "obj_2 = csv.writer(csvfile, delimiter = ' ')\n",
    "\n",
    "obj_2.writerow(lst_2)\n",
    "\n",
    "csvfile.close()\n"
   ]
  },
  {
   "cell_type": "code",
   "execution_count": null,
   "metadata": {},
   "outputs": [],
   "source": []
  },
  {
   "cell_type": "markdown",
   "metadata": {},
   "source": [
    "We can instead use `writerows()` to instead iterate each string value/argument from the list in a csv file."
   ]
  },
  {
   "cell_type": "code",
   "execution_count": 13,
   "metadata": {},
   "outputs": [],
   "source": [
    "import csv\n",
    "\n",
    "lst_3 = [\"We\", \"can\", \"iterate\", \"this\", \"message\"]\n",
    "\n",
    "csvfile2 = open(\"iterate.csv\", 'w', newline = '')\n",
    "\n",
    "obj_3 = csv.writer(csvfile2, delimiter = ' ')  ## always have 1-charater string in deimeter\n",
    "\n",
    "obj_3.writerows(lst_3)\n",
    "\n",
    "csvfile2.close()"
   ]
  },
  {
   "cell_type": "code",
   "execution_count": null,
   "metadata": {},
   "outputs": [],
   "source": []
  },
  {
   "cell_type": "code",
   "execution_count": null,
   "metadata": {},
   "outputs": [],
   "source": []
  },
  {
   "cell_type": "code",
   "execution_count": null,
   "metadata": {},
   "outputs": [],
   "source": []
  },
  {
   "cell_type": "markdown",
   "metadata": {},
   "source": [
    "Question 5.\n",
    "\n",
    "What do the keyword arguments delimiter and line terminator do?"
   ]
  },
  {
   "cell_type": "markdown",
   "metadata": {},
   "source": [
    "The Keyword 'Delimiter' is the character that appears in between two arguments in a list/tuple/set (or any iterable). In a CSV file a delimiter is portrayed as a 'comma'. This is signified when we try to pass arguments from a list to a CSV file and every comma is replaced by the space inside the CSV file.\n",
    "\n",
    "In other words, a comma-character inside a list which has arguments seperated by a 'comma', the delimiter is the comma. This is used to signify different 'String Values' inside a CSV file. However, Characters could be anything such as (;) a (*) and so on.\n",
    "\n",
    "|\n",
    "\n",
    "When string values are passed it may create lines made by writer objects. In order to terminate those lines the Keyword argument `lineterminator` is used. The default values for `lineterminator` are `\\r\\n`."
   ]
  },
  {
   "cell_type": "code",
   "execution_count": null,
   "metadata": {},
   "outputs": [],
   "source": []
  },
  {
   "cell_type": "code",
   "execution_count": null,
   "metadata": {},
   "outputs": [],
   "source": []
  },
  {
   "cell_type": "code",
   "execution_count": null,
   "metadata": {},
   "outputs": [],
   "source": []
  },
  {
   "cell_type": "markdown",
   "metadata": {},
   "source": [
    "Question 6. \n",
    "\n",
    "What function takes a string of JSON data and returns a Python data structure?"
   ]
  },
  {
   "cell_type": "markdown",
   "metadata": {},
   "source": [
    "JSON Decoder class is used for deserialize any Python object while performing decoding. The function that takes/parses a string from JSON data and return a Python Data Structure can be done through the following command:\n",
    "\n",
    "`decode()`"
   ]
  },
  {
   "cell_type": "code",
   "execution_count": 37,
   "metadata": {},
   "outputs": [
    {
     "data": {
      "text/plain": [
       "{'color_style': ['blue', 'black']}"
      ]
     },
     "execution_count": 37,
     "metadata": {},
     "output_type": "execute_result"
    }
   ],
   "source": [
    "import json\n",
    "\n",
    "## Importing json decoder from the JSON library\n",
    "\n",
    "from json.decoder import JSONDecoder\n",
    "\n",
    "str_values = '{\"color_style\": [\"blue\", \"black\"]}'\n",
    "\n",
    "## directly calling decode method from JSON library\n",
    "\n",
    "JSONDecoder().decode(str_values)"
   ]
  },
  {
   "cell_type": "code",
   "execution_count": null,
   "metadata": {},
   "outputs": [],
   "source": []
  },
  {
   "cell_type": "code",
   "execution_count": null,
   "metadata": {},
   "outputs": [],
   "source": []
  },
  {
   "cell_type": "markdown",
   "metadata": {},
   "source": [
    "Question 7.\n",
    "\n",
    "What function takes a Python data structure and returns a string of JSON data?"
   ]
  },
  {
   "cell_type": "markdown",
   "metadata": {},
   "source": [
    "The `JSON Encoder` class is used to serialize Python objects while performing encoding. The function is known as\n",
    "\n",
    "`encode()`"
   ]
  },
  {
   "cell_type": "code",
   "execution_count": null,
   "metadata": {},
   "outputs": [],
   "source": []
  },
  {
   "cell_type": "code",
   "execution_count": null,
   "metadata": {},
   "outputs": [],
   "source": []
  },
  {
   "cell_type": "code",
   "execution_count": null,
   "metadata": {},
   "outputs": [],
   "source": []
  },
  {
   "cell_type": "code",
   "execution_count": null,
   "metadata": {},
   "outputs": [],
   "source": []
  }
 ],
 "metadata": {
  "kernelspec": {
   "display_name": "Python 3",
   "language": "python",
   "name": "python3"
  },
  "language_info": {
   "codemirror_mode": {
    "name": "ipython",
    "version": 3
   },
   "file_extension": ".py",
   "mimetype": "text/x-python",
   "name": "python",
   "nbconvert_exporter": "python",
   "pygments_lexer": "ipython3",
   "version": "3.8.5"
  }
 },
 "nbformat": 4,
 "nbformat_minor": 4
}
