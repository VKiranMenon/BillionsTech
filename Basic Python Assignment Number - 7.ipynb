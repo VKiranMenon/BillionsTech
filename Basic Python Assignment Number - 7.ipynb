{
 "cells": [
  {
   "cell_type": "markdown",
   "metadata": {},
   "source": [
    "Question  1. \n",
    "\n",
    "What is the name of the feature responsible for generating Regex objects?"
   ]
  },
  {
   "cell_type": "markdown",
   "metadata": {},
   "source": [
    "The function used to generate \"Regex Objects\" are `re.compile()`\n",
    "\n",
    "What this does is generate an object in order to create a pattern, for example to create a pattern used to find matches inside a string value.\n",
    "\n",
    "The function is recursive and does not require rewriting the code."
   ]
  },
  {
   "cell_type": "code",
   "execution_count": 6,
   "metadata": {},
   "outputs": [
    {
     "name": "stdout",
     "output_type": "stream",
     "text": [
      "['data']\n",
      "['data', 'data']\n"
     ]
    }
   ],
   "source": [
    "import re\n",
    "\n",
    "pattern_object = re.compile(\"data\")\n",
    "\n",
    "results = pattern_object.findall(\"INeuron has many courses related to data Science \")\n",
    "\n",
    "print (results)\n",
    "\n",
    "another_results = pattern_object.findall(\"data science is the future of Business Analytics. data is required in all aspects of capitalism.\")\n",
    "\n",
    "print (another_results)"
   ]
  },
  {
   "cell_type": "code",
   "execution_count": null,
   "metadata": {},
   "outputs": [],
   "source": []
  },
  {
   "cell_type": "code",
   "execution_count": null,
   "metadata": {},
   "outputs": [],
   "source": []
  },
  {
   "cell_type": "code",
   "execution_count": null,
   "metadata": {},
   "outputs": [],
   "source": []
  },
  {
   "cell_type": "markdown",
   "metadata": {},
   "source": [
    "Question 2. \n",
    "\n",
    "Why do raw strings often appear in Regex objects?"
   ]
  },
  {
   "cell_type": "markdown",
   "metadata": {},
   "source": [
    "Raw String values are used in `regex` module as it as it uses a lot of backslash `\\` in its string values. Therefore using Raw String in `re` module treats backslash as a literal character instead of an escape character. \n",
    "\n",
    "Escape characters are those that are used to create new line `\\n` or for horizontal tabs `\\t`"
   ]
  },
  {
   "cell_type": "code",
   "execution_count": 10,
   "metadata": {},
   "outputs": [],
   "source": [
    "a_str_value = (\"Happy\\nNew\\nYear. \")\n",
    "\n",
    "raw_str_value = (r\"Happy\\nNew\\nYear. \" )\n"
   ]
  },
  {
   "cell_type": "code",
   "execution_count": 8,
   "metadata": {},
   "outputs": [
    {
     "name": "stdout",
     "output_type": "stream",
     "text": [
      "Happy\n",
      "New\n",
      "Year. \n"
     ]
    }
   ],
   "source": [
    "## Create a literal string value\n",
    "\n",
    "print (a_str_value)\n"
   ]
  },
  {
   "cell_type": "code",
   "execution_count": null,
   "metadata": {},
   "outputs": [],
   "source": []
  },
  {
   "cell_type": "code",
   "execution_count": 11,
   "metadata": {},
   "outputs": [
    {
     "name": "stdout",
     "output_type": "stream",
     "text": [
      "Happy\\nNew\\nYear. \n"
     ]
    }
   ],
   "source": [
    "## Create a Raw String Value\n",
    "\n",
    "print (raw_str_value)"
   ]
  },
  {
   "cell_type": "markdown",
   "metadata": {},
   "source": [
    "Conclusion: Raw String values are therefore used as Regular expression (regex) or `re`  would not use backslash as an escape character and makes the string values easier to read.\n",
    "\n",
    "Moreover `\\` backslash is considered one of the Meta-characters used to specify regular expressions."
   ]
  },
  {
   "cell_type": "code",
   "execution_count": null,
   "metadata": {},
   "outputs": [],
   "source": []
  },
  {
   "cell_type": "code",
   "execution_count": null,
   "metadata": {},
   "outputs": [],
   "source": []
  },
  {
   "cell_type": "code",
   "execution_count": null,
   "metadata": {},
   "outputs": [],
   "source": []
  },
  {
   "cell_type": "markdown",
   "metadata": {},
   "source": [
    "Question 3. \n",
    "\n",
    "What is the return value of the search() method?"
   ]
  },
  {
   "cell_type": "markdown",
   "metadata": {},
   "source": [
    "The `re.search()` function takes in a regular expression pattern and finds a match of that pattern inside a string value/values.\n",
    "\n",
    "Therefore this function takes in 2 arguments namely (pattern , string-value).\n",
    "\n",
    "Normally, such a function is used alongwith an `if` and `else` statement, as and when it does find a match in the pattern will return a value, \"else\" return a None value."
   ]
  },
  {
   "cell_type": "code",
   "execution_count": 72,
   "metadata": {},
   "outputs": [],
   "source": [
    "import re\n",
    "\n",
    "def re_search():\n",
    "    \n",
    "    string_value = input(\"Enter a random line: \")\n",
    "    pattern_input = input(\"Enter a random word: \")\n",
    "    \n",
    "    x = re.search(pattern_input, string_value)\n",
    "    if x:\n",
    "        print(\"Match Found !! \")\n",
    "    else:\n",
    "        print(\"Not Found \")\n",
    "        \n",
    "    return\n",
    "\n"
   ]
  },
  {
   "cell_type": "code",
   "execution_count": 73,
   "metadata": {},
   "outputs": [
    {
     "name": "stdout",
     "output_type": "stream",
     "text": [
      "Enter a random line: Ineuron has many good courses in Data Science\n",
      "Enter a random word: Science\n",
      "Match Found !! \n"
     ]
    }
   ],
   "source": [
    "re_search()"
   ]
  },
  {
   "cell_type": "code",
   "execution_count": null,
   "metadata": {},
   "outputs": [],
   "source": []
  },
  {
   "cell_type": "code",
   "execution_count": null,
   "metadata": {},
   "outputs": [],
   "source": []
  },
  {
   "cell_type": "code",
   "execution_count": null,
   "metadata": {},
   "outputs": [],
   "source": []
  },
  {
   "cell_type": "markdown",
   "metadata": {},
   "source": [
    "Question 4.\n",
    "\n",
    "From a Match item, how do you get the actual strings that match the pattern?"
   ]
  },
  {
   "cell_type": "markdown",
   "metadata": {},
   "source": [
    "After the pattern is matched from the string values. The method that is used to get all the matches together is known as \"Grouping\" and denoted by the function\n",
    "`re.group()`.\n",
    "\n",
    "The pattern lays out the required groups and after it has matched all the elements within the input, they are grouped together as per the groups laid in the pattern.\n",
    "\n",
    "The groups are denoted in `( )` . Therefore the outputs are in tuple form."
   ]
  },
  {
   "cell_type": "code",
   "execution_count": 243,
   "metadata": {},
   "outputs": [],
   "source": [
    "import re\n",
    "\n",
    "## create a function that will match and group a word and number\n",
    "\n",
    "def create_group(string_text):\n",
    "    \n",
    "    ## create a pattern in regex form --> Pattern is a word that has an Uppercase letter and Lower case letters and a number.\n",
    "    \n",
    "    regex_pattern = r\"([A-Za-z]+) (\\d+)\"  ## Reg expression (regex) is One word---> uppercase or lowercase and One Number only\n",
    "    \n",
    "    \n",
    "    ## Use the function to match all the pattern from the string_text\n",
    "    \n",
    "    regex_match = re.match(regex_pattern, string_text)\n",
    "    \n",
    "    ## set a condition that if no match is found then data is invalid\n",
    "    \n",
    "    ## The match pattern set is One word with Uppercase and Lowercase and a Number.\n",
    "    \n",
    "    if regex_match == None:\n",
    "        print (\"Data is invalid.\")\n",
    "        \n",
    "    else:\n",
    "        print (regex_match.groups())   ## Prints all the data entered\n",
    "        \n",
    "        ## regular expression where one word and one number is only accepted...anything more it returns data invalid\n",
    "        \n",
    "        print (regex_match.group(1))   ## For one word...The First one\n",
    "        print (regex_match.group(2))   ## For the number"
   ]
  },
  {
   "cell_type": "code",
   "execution_count": 244,
   "metadata": {},
   "outputs": [
    {
     "name": "stdout",
     "output_type": "stream",
     "text": [
      "('august', '15')\n",
      "august\n",
      "15\n"
     ]
    }
   ],
   "source": [
    "create_group(\"august 15\")"
   ]
  },
  {
   "cell_type": "code",
   "execution_count": 245,
   "metadata": {},
   "outputs": [
    {
     "name": "stdout",
     "output_type": "stream",
     "text": [
      "Data is invalid.\n"
     ]
    }
   ],
   "source": [
    "create_group(\"Today is not August 15\")"
   ]
  },
  {
   "cell_type": "code",
   "execution_count": 247,
   "metadata": {},
   "outputs": [
    {
     "name": "stdout",
     "output_type": "stream",
     "text": [
      "Data is invalid.\n"
     ]
    }
   ],
   "source": [
    "create_group (\"24 25\")  ## Both groups cannot be numbers as per the pattern"
   ]
  },
  {
   "cell_type": "markdown",
   "metadata": {},
   "source": [
    "The group() is created through the `regex_pattern` that involves only One Word and One Number.\n",
    "\n",
    "After we create a matching pattern function through the `re.match` command we give 2 arguments inside its parenthesis (`regex_pattern` 'and' `string_text`)\n",
    "\n",
    "However the condition is the `string_text` should only have One Word and One Number as per the pattern laid."
   ]
  },
  {
   "cell_type": "code",
   "execution_count": null,
   "metadata": {},
   "outputs": [],
   "source": []
  },
  {
   "cell_type": "code",
   "execution_count": 339,
   "metadata": {},
   "outputs": [],
   "source": [
    "import re\n",
    "\n",
    "def create_mul_groups():\n",
    "    \n",
    "    ## Pattern created is \n",
    "    ## One Word (Uppercase or lowercase)\n",
    "    ## One Number\n",
    "    ## One word succeeding the number...word after the number is found.\n",
    "    \n",
    "     \n",
    "    text2 = \"Philly has 2 shifts at the mall but my friend Ajay has 3 shifts at the cafe and Laxmi has 4 days at the gym \"\n",
    "    \n",
    "    \n",
    "    \n",
    "    ## You will notice in the pattern only the ones which has parenthesis () are considered into the group/Pattern.\n",
    "    \n",
    "    regex_match = re.search (r'([A-Za-z]+) \\w+ (\\d+) (\\w+)', text2)   ## Pattern is to find a word....followed by a number and lastly a word\n",
    "    \n",
    "    inform = re.findall (r'([A-Za-z]+) \\w+ (\\d+) (\\w+)', text2)      ## re.findall finds all the groups inside the string\n",
    "    \n",
    "    print (\"Group (0) is \", regex_match.group(0))  \n",
    "    \n",
    "    print (\"Group (1) is \", regex_match.group(1))\n",
    "    \n",
    "    print (\"Group (2) is \", regex_match.group(2))\n",
    "    \n",
    "    print (\"Group (3) is \", regex_match.group(3))\n",
    "    \n",
    "    \n",
    "    print (inform) \n",
    "    \n",
    "    "
   ]
  },
  {
   "cell_type": "code",
   "execution_count": 340,
   "metadata": {},
   "outputs": [
    {
     "name": "stdout",
     "output_type": "stream",
     "text": [
      "Group (0) is  Philly has 2 shifts\n",
      "Group (1) is  Philly\n",
      "Group (2) is  2\n",
      "Group (3) is  shifts\n",
      "[('Philly', '2', 'shifts'), ('Ajay', '3', 'shifts'), ('Laxmi', '4', 'days')]\n"
     ]
    }
   ],
   "source": [
    "create_mul_groups()"
   ]
  },
  {
   "cell_type": "code",
   "execution_count": null,
   "metadata": {},
   "outputs": [],
   "source": []
  },
  {
   "cell_type": "code",
   "execution_count": null,
   "metadata": {},
   "outputs": [],
   "source": []
  },
  {
   "cell_type": "code",
   "execution_count": null,
   "metadata": {},
   "outputs": [],
   "source": []
  },
  {
   "cell_type": "markdown",
   "metadata": {},
   "source": [
    "Question 5. \n",
    "\n",
    "In the regex which created from the r&#39;(\\d\\d\\d)-(\\d\\d\\d-\\d\\d\\d\\d)&#39;, what does group zero cover?\n",
    "Group 2? Group 1?"
   ]
  },
  {
   "cell_type": "markdown",
   "metadata": {},
   "source": [
    "The group zero `object.group(0)` covers all the groups...in this case it covers both Group 1 and Group 2.\n",
    "\n",
    "`group(0)` is similar to writing `groups()` that will display all the group inside the match pattern."
   ]
  },
  {
   "cell_type": "code",
   "execution_count": 369,
   "metadata": {},
   "outputs": [],
   "source": [
    "import re\n",
    "\n",
    "def find_phone_number(patt_number):\n",
    "\n",
    "# patt_string = \"000-555-9987\"\n",
    "\n",
    "## This pattern is all numbers\n",
    "\n",
    "## Pattern is read as  \n",
    "\n",
    "## 3 numbers, ....in one group\n",
    "\n",
    "## Followed by 3 numbers 'space' and then 4 numbers ....in Seccond Group\n",
    "\n",
    "    reg_patt = r'(\\d\\d\\d)-(\\d\\d\\d-\\d\\d\\d\\d)' \n",
    "\n",
    "    match_number = re.search(reg_patt, patt_string)\n",
    "    \n",
    "\n",
    "    print(match_number.group(0))\n",
    "\n",
    "    print(match_number.group(1))\n",
    "\n",
    "    print (match_number.group(2))\n",
    "\n",
    "    print (match_number.groups())"
   ]
  },
  {
   "cell_type": "code",
   "execution_count": 370,
   "metadata": {},
   "outputs": [
    {
     "name": "stdout",
     "output_type": "stream",
     "text": [
      "000-555-9987\n",
      "000\n",
      "555-9987\n",
      "('000', '555-9987')\n"
     ]
    }
   ],
   "source": [
    "find_phone_number(\"000-434-5567\")"
   ]
  },
  {
   "cell_type": "markdown",
   "metadata": {},
   "source": [
    "From the above example the first set of elements inside the parenthesis is group 1. And the second set will be group 2.\n",
    "\n",
    "If we return value from groups() or group(0) then we will get all the groups."
   ]
  },
  {
   "cell_type": "code",
   "execution_count": null,
   "metadata": {},
   "outputs": [],
   "source": []
  },
  {
   "cell_type": "code",
   "execution_count": null,
   "metadata": {},
   "outputs": [],
   "source": []
  },
  {
   "cell_type": "code",
   "execution_count": null,
   "metadata": {},
   "outputs": [],
   "source": []
  },
  {
   "cell_type": "markdown",
   "metadata": {},
   "source": [
    "Question 6. \n",
    "\n",
    "In standard expression syntax, parentheses and intervals have distinct meanings. How can you tell\n",
    "a regex that you want it to fit real parentheses and periods?"
   ]
  },
  {
   "cell_type": "markdown",
   "metadata": {},
   "source": [
    "In order to fit in real parentheses or/and periods we have to use 'backslash'.\n",
    "\n",
    "Parenthesis are round brackets `( )` and\n",
    "\n",
    "Periods are fullstop `.`\n",
    "\n",
    "Both are part of regex metacharacters. These can be fit in by using a backslash `\\` which is used to escape. That is the backslash is an escapr character used to find/fit in the parenthesis or periods."
   ]
  },
  {
   "cell_type": "code",
   "execution_count": 373,
   "metadata": {},
   "outputs": [
    {
     "name": "stdout",
     "output_type": "stream",
     "text": [
      "()\n"
     ]
    }
   ],
   "source": [
    "import re\n",
    "\n",
    "for_parenthesis = \"I study at Ineuron () \"\n",
    "\n",
    "res = re.search (r'\\(\\)', for_parenthesis)\n",
    "\n",
    "print (res.group())"
   ]
  },
  {
   "cell_type": "markdown",
   "metadata": {},
   "source": [
    "As seen above backslash is used `\\` for both brackets as a seperate character rather than one...\n",
    "\n",
    "In other words, `\\(`  and `\\)`  for ( )."
   ]
  },
  {
   "cell_type": "code",
   "execution_count": 418,
   "metadata": {},
   "outputs": [
    {
     "name": "stdout",
     "output_type": "stream",
     "text": [
      ".\n",
      "<re.Match object; span=(17, 18), match='.'>\n",
      "['.', '.', '.']\n"
     ]
    }
   ],
   "source": [
    "import re\n",
    "\n",
    "for_periods = \"I Love studying A.I. at Ineuron. \"\n",
    "\n",
    "res2 = re.search(r'\\.', for_periods)  ## Searches only one full-stop\n",
    "\n",
    "res_find = re.findall (r'\\.+', for_periods)   ## Searches all the full-stop and places them inside a list\n",
    "\n",
    "print (res2.group())\n",
    "\n",
    "print (res2)        ## This tells us at what index we can find the period...the first period that we get\n",
    "                    \n",
    "print (res_find)    ## Find all the periods inside a list.\n",
    "\n"
   ]
  },
  {
   "cell_type": "markdown",
   "metadata": {},
   "source": [
    "The period `.` is a part of the string value `for_periods` and in order to find the first one we used `re.seacrh`\n",
    "\n",
    "In order to find all the `.` inside we can use `re.findall`\n",
    "\n",
    "As we have noticed in the code above."
   ]
  },
  {
   "cell_type": "code",
   "execution_count": null,
   "metadata": {},
   "outputs": [],
   "source": []
  },
  {
   "cell_type": "code",
   "execution_count": 396,
   "metadata": {},
   "outputs": [
    {
     "data": {
      "text/plain": [
       "list"
      ]
     },
     "execution_count": 396,
     "metadata": {},
     "output_type": "execute_result"
    }
   ],
   "source": [
    "type(res_find)"
   ]
  },
  {
   "cell_type": "code",
   "execution_count": null,
   "metadata": {},
   "outputs": [],
   "source": []
  },
  {
   "cell_type": "code",
   "execution_count": 427,
   "metadata": {},
   "outputs": [
    {
     "name": "stdout",
     "output_type": "stream",
     "text": [
      "<re.Match object; span=(17, 18), match='.'>\n",
      "<re.Match object; span=(19, 20), match='.'>\n",
      "<re.Match object; span=(31, 32), match='.'>\n"
     ]
    }
   ],
   "source": [
    "for_periods = \"I Love studying A.I. at Ineuron. \"\n",
    "\n",
    "for m in re.finditer (r'\\.+', for_periods):  ## Finding all full-stops from the string value\n",
    "    \n",
    "    print (m)"
   ]
  },
  {
   "cell_type": "markdown",
   "metadata": {},
   "source": [
    "Iterated using `re.finditer` and locating all the `.` \"periods\" and their respective index numbers."
   ]
  },
  {
   "cell_type": "code",
   "execution_count": null,
   "metadata": {},
   "outputs": [],
   "source": []
  },
  {
   "cell_type": "code",
   "execution_count": null,
   "metadata": {},
   "outputs": [],
   "source": []
  },
  {
   "cell_type": "code",
   "execution_count": null,
   "metadata": {},
   "outputs": [],
   "source": []
  },
  {
   "cell_type": "markdown",
   "metadata": {},
   "source": [
    "Question 7. \n",
    "\n",
    "The findall() method returns a string list or a list of string tuples. What causes it to return one of\n",
    "the two options?"
   ]
  },
  {
   "cell_type": "markdown",
   "metadata": {},
   "source": [
    "The `re.findall()` is used to search all matches which do NOT overlap each other.\n",
    "\n",
    "The findall() returns a list of strings when any one of the following methods are performed:\n",
    "\n",
    "(a) When there are no groups specified in the regex pattern it return 'List of Strings'\n",
    "\n",
    "or\n",
    "\n",
    "(b) When there is only ONE group specified and then it returns 'List of Strings'\n",
    "\n",
    "|\n",
    "\n",
    "The findall() returns List of Tuples containing String Values is when the regex pattern has more than one group specified in the regex expression."
   ]
  },
  {
   "cell_type": "code",
   "execution_count": 499,
   "metadata": {},
   "outputs": [],
   "source": [
    "\n",
    "string_text = ''' Data Science is an up and coming career discipline that will change the world. Data Science and Artificial Intelligence require a \n",
    "lot of understanding of Programming, Mathematics, Statistics and Intuition on how technologies work. During the 1980's Data Science was at cusp of changing \n",
    "the way technology was seen. Information in hand where it could be used for Mankind and its prowess would pave for growth for further technologies. Participants \n",
    "included 36 women aged 18 to 52 years old (M = 20.52, SD = 6.97), 10 men aged 18 to 28 years old (M = 23.5, SD = 12.36), and one individual who did not \n",
    "disclose their gender.\"\n",
    "''' \n",
    "\n",
    "## \n",
    "\n"
   ]
  },
  {
   "cell_type": "markdown",
   "metadata": {},
   "source": [
    "When there is no groups inside the regex expression"
   ]
  },
  {
   "cell_type": "code",
   "execution_count": 501,
   "metadata": {},
   "outputs": [],
   "source": [
    "def no_group():\n",
    "    match = re.findall (r\"Data\", string_text)\n",
    "    print (match)"
   ]
  },
  {
   "cell_type": "code",
   "execution_count": 502,
   "metadata": {},
   "outputs": [
    {
     "name": "stdout",
     "output_type": "stream",
     "text": [
      "['Data', 'Data', 'Data']\n"
     ]
    }
   ],
   "source": [
    "no_group()"
   ]
  },
  {
   "cell_type": "code",
   "execution_count": null,
   "metadata": {},
   "outputs": [],
   "source": []
  },
  {
   "cell_type": "markdown",
   "metadata": {},
   "source": [
    "When only one group is described in the regex expression"
   ]
  },
  {
   "cell_type": "code",
   "execution_count": 503,
   "metadata": {},
   "outputs": [],
   "source": [
    "\n",
    "def one_group():\n",
    "    match_3 = re.findall ('(\\\\bc\\w+\\\\b) ' , string_text)\n",
    "    print (match_3)"
   ]
  },
  {
   "cell_type": "code",
   "execution_count": 504,
   "metadata": {},
   "outputs": [
    {
     "name": "stdout",
     "output_type": "stream",
     "text": [
      "['coming', 'career', 'change', 'cusp', 'changing', 'could']\n"
     ]
    }
   ],
   "source": [
    "one_group()"
   ]
  },
  {
   "cell_type": "code",
   "execution_count": null,
   "metadata": {},
   "outputs": [],
   "source": []
  },
  {
   "cell_type": "markdown",
   "metadata": {},
   "source": [
    "When more than one group is made in the regex expression"
   ]
  },
  {
   "cell_type": "code",
   "execution_count": 515,
   "metadata": {},
   "outputs": [],
   "source": [
    "def more_than_one_group():\n",
    "    \n",
    "    match_2 = re.findall (r\"([a-zA-Z]+) (\\w+) (\\d+) (\\w+) (\\d+)\",  string_text)   ## Find pattern which has men age range and women age range\n",
    "\n",
    "    match_22 = re.findall (r\"([a-zA-Z]+) (\\w+)\", string_text)  ## Entire text will be inside the Tuple...2 words each tuple\n",
    "\n",
    "    print (match_2)\n",
    "\n",
    "    print (\"\\n\\n\")\n",
    "\n",
    "    print (match_22)"
   ]
  },
  {
   "cell_type": "code",
   "execution_count": 516,
   "metadata": {},
   "outputs": [
    {
     "name": "stdout",
     "output_type": "stream",
     "text": [
      "[('women', 'aged', '18', 'to', '52'), ('men', 'aged', '18', 'to', '28')]\n",
      "\n",
      "\n",
      "\n",
      "[('Data', 'Science'), ('is', 'an'), ('up', 'and'), ('coming', 'career'), ('discipline', 'that'), ('will', 'change'), ('the', 'world'), ('Data', 'Science'), ('and', 'Artificial'), ('Intelligence', 'require'), ('lot', 'of'), ('understanding', 'of'), ('Statistics', 'and'), ('Intuition', 'on'), ('how', 'technologies'), ('During', 'the'), ('s', 'Data'), ('Science', 'was'), ('at', 'cusp'), ('of', 'changing'), ('the', 'way'), ('technology', 'was'), ('Information', 'in'), ('hand', 'where'), ('it', 'could'), ('be', 'used'), ('for', 'Mankind'), ('and', 'its'), ('prowess', 'would'), ('pave', 'for'), ('growth', 'for'), ('further', 'technologies'), ('included', '36'), ('women', 'aged'), ('to', '52'), ('years', 'old'), ('men', 'aged'), ('to', '28'), ('years', 'old'), ('and', 'one'), ('individual', 'who'), ('did', 'not'), ('disclose', 'their')]\n"
     ]
    }
   ],
   "source": [
    "more_than_one_group()"
   ]
  },
  {
   "cell_type": "code",
   "execution_count": null,
   "metadata": {},
   "outputs": [],
   "source": []
  },
  {
   "cell_type": "markdown",
   "metadata": {},
   "source": [
    "Conclusion: As we can see in the above functions, \n",
    "\n",
    "* If Regex Expressions pattern has One or NO groups...the output will be a List of Strings\n",
    "\n",
    "* Anything more than One group will be a List of String Tuples"
   ]
  },
  {
   "cell_type": "code",
   "execution_count": null,
   "metadata": {},
   "outputs": [],
   "source": []
  },
  {
   "cell_type": "code",
   "execution_count": null,
   "metadata": {},
   "outputs": [],
   "source": []
  },
  {
   "cell_type": "code",
   "execution_count": null,
   "metadata": {},
   "outputs": [],
   "source": []
  },
  {
   "cell_type": "markdown",
   "metadata": {},
   "source": [
    "Question 8. \n",
    "\n",
    "In standard expressions, what does the | character mean?"
   ]
  },
  {
   "cell_type": "markdown",
   "metadata": {},
   "source": [
    "In Standard expression, the vertical line `|` is considered to be a Bitwise Operator known as `OR` operator."
   ]
  },
  {
   "cell_type": "markdown",
   "metadata": {},
   "source": [
    "We will use an example to demonstrate where, a | b which has decimal value will be converted into Binary (As this is a Bitwise operator).\n",
    "\n",
    "But will be added together. As OR operator rule goes if either operator of them is `TRUE` then the output is `TRUE`.\n",
    "\n",
    "In order to get `FALSE` both operator should be `FALSE`."
   ]
  },
  {
   "cell_type": "code",
   "execution_count": 18,
   "metadata": {},
   "outputs": [
    {
     "name": "stdout",
     "output_type": "stream",
     "text": [
      "14\n"
     ]
    }
   ],
   "source": [
    "a = 10\n",
    "\n",
    "b = 4\n",
    "\n",
    "a = a | b\n",
    "\n",
    "print (a)"
   ]
  },
  {
   "cell_type": "code",
   "execution_count": null,
   "metadata": {},
   "outputs": [],
   "source": []
  },
  {
   "cell_type": "code",
   "execution_count": null,
   "metadata": {},
   "outputs": [],
   "source": []
  },
  {
   "cell_type": "code",
   "execution_count": null,
   "metadata": {},
   "outputs": [],
   "source": []
  },
  {
   "cell_type": "markdown",
   "metadata": {},
   "source": [
    "Question 9. \n",
    "\n",
    "In regular expressions, what does the character `|` stand for?"
   ]
  },
  {
   "cell_type": "markdown",
   "metadata": {},
   "source": [
    "In regex the character `|` is also known as the `OR` operator. It is also known as the 'Alternation Operator'.\n",
    "\n",
    "The goal behind using this operator is to match all substrings as per the regex pattern.\n",
    "\n",
    "Let us demonstrate that with an example"
   ]
  },
  {
   "cell_type": "code",
   "execution_count": 41,
   "metadata": {},
   "outputs": [],
   "source": [
    "import re\n",
    "\n",
    "def alternator():\n",
    "    \n",
    "    string_val = ''' Courses used to be held in Bangalore, Mumbai, Delhi, Nagpur and Chennai. But now only Mumbai and Bangalore are functional.\n",
    "                     Mumbai tops with most amount of students, who's age ranges from 18 - 45. Most students in the batch are Male comprising of 83%. \n",
    "                     Bangalore on the other hand has 2nd most populous crowd, with many of them having work experience in the I.T. domain.\n",
    "                     Bangalore on the other hand has Male and Female of equal proportion, as students; wherein Female students comprise of over 53%.\n",
    "    \n",
    "    '''\n",
    "    \n",
    "    match_val = re.findall (\"(Bangalore | Mumbai)\", string_val)  ## Getting only Sub-strings Mumbai and Bangalore from the String\n",
    "    \n",
    "    print (match_val)"
   ]
  },
  {
   "cell_type": "code",
   "execution_count": 42,
   "metadata": {},
   "outputs": [
    {
     "name": "stdout",
     "output_type": "stream",
     "text": [
      "[' Mumbai', ' Mumbai', 'Bangalore ', ' Mumbai', 'Bangalore ', 'Bangalore ']\n"
     ]
    }
   ],
   "source": [
    "alternator()"
   ]
  },
  {
   "cell_type": "code",
   "execution_count": null,
   "metadata": {},
   "outputs": [],
   "source": []
  },
  {
   "cell_type": "code",
   "execution_count": 38,
   "metadata": {},
   "outputs": [
    {
     "name": "stdout",
     "output_type": "stream",
     "text": [
      "Types of Mangoes are Badami, Alphonso\n"
     ]
    }
   ],
   "source": [
    "import re\n",
    "types_str = \"Lots of Types of Mangoes are Badami, Alphonso!\"\n",
    "match_str = re.search(r\"Types.*(Badami|Alphonso|Sundari|Ratnagiri)\",types_str)\n",
    "if match_str: \n",
    "    print(match_str.group())"
   ]
  },
  {
   "cell_type": "code",
   "execution_count": null,
   "metadata": {},
   "outputs": [],
   "source": []
  },
  {
   "cell_type": "code",
   "execution_count": null,
   "metadata": {},
   "outputs": [],
   "source": []
  },
  {
   "cell_type": "code",
   "execution_count": null,
   "metadata": {},
   "outputs": [],
   "source": []
  },
  {
   "cell_type": "markdown",
   "metadata": {},
   "source": [
    "Question 10.\n",
    "\n",
    "In regular expressions, what is the difference between the + and * characters?"
   ]
  },
  {
   "cell_type": "markdown",
   "metadata": {},
   "source": [
    "These are metacharacters in the regex and are specifically known as `Quantifiers`.\n",
    "\n",
    "What a Quantifier metacharacter does is.... it follows the regex pattern laid and signifies/displays how many times the same pattern occur that matches the pattern."
   ]
  },
  {
   "cell_type": "markdown",
   "metadata": {},
   "source": [
    "Type one metacharacter `*` (Asterisk)\n",
    "\n",
    "`*` metacharacter is a type of Quantifier that returns a match on regex patterns. The widely used `*` metacharacter inside the regex pattern, means the string value/character that precedes the metacharacter should have \"zero or more occurrences\"...in other words it has to repeat 0 or more times, with endless repetitions. This makes it an interpretation of greedy repetitions, as the character should be occuring zero or more times with as much as possible repetitions.\n",
    "\n",
    "What it actually means is that when we have a character(s) and use the asterisk sign, for example if we consider string value ---> 'Data'\n",
    "\n",
    "the search pattern would be `r' Data*'`. \n",
    "\n",
    "With `re.findall` we then match the pattern and get a return matched values from a string.\n",
    "\n",
    "The return values most possibly are: 'Data', 'Dat', 'Dataaa' .....and so on.\n",
    "\n",
    "\n",
    "** Note:\n",
    "\n",
    "The search results in all the value from the given string value 'Data' ---> EXCEPT for the last letter.\n",
    "\n",
    "|\n",
    "\n",
    "\n",
    "\n",
    "In other words, the string value 'Data' will return all the matched words till 'Dat' with the lone string element 'a' being arbitrary\n",
    "\n",
    "\"zero or more occurences\".  That means 'Dat' at minimum will be returned as a matched value with 'a' as \"zero occurences\"...\n",
    "\n",
    "and 'Data', 'Dataaa', 'Dataaaa' and so on as ....\" or more occurences with as many repetitions as possible\"."
   ]
  },
  {
   "cell_type": "code",
   "execution_count": 343,
   "metadata": {},
   "outputs": [],
   "source": [
    "import re\n",
    "\n",
    "string_meta1 = ''' Data is considered one of the most important aspect in today's world. Having courses such as Data Science indeed opens doors\n",
    "                   for many aspirants in multiple disciplines as many fields overlap each other due to Data transition. It is called Data not Date, \n",
    "                   not Daty, but Data. It could be called data but, not preferred. \n",
    "                   \n",
    "                   When screaming you could use Dataaaaaa, or DDDDDattttttaaaa, but not attttaDta ever. Can you se DDDDDaaaaatttttaaaaa. We need to see\n",
    "                   Dat would be a wrong word even in plain english.\n",
    "                   \n",
    "                   Using Dtaaaa is not like gtaaaa. Dta should be never used as Dta does not make sense. It is not Dtz, or Dtb or any other alphabet.\n",
    "                   DtaattataDattatDta is even more confusing\n",
    "               \n",
    "              '''\n",
    "\n",
    "def get_asterisk():\n",
    "    get_match = re.findall(r'Data*', string_meta1)\n",
    "\n",
    "    get_another_match = re.findall (r'Dta*', string_meta1)\n",
    "\n",
    "    print (get_match)\n",
    "\n",
    "    print (\"\\n\",get_another_match)\n"
   ]
  },
  {
   "cell_type": "code",
   "execution_count": 344,
   "metadata": {},
   "outputs": [
    {
     "name": "stdout",
     "output_type": "stream",
     "text": [
      "['Data', 'Data', 'Data', 'Data', 'Dat', 'Dat', 'Data', 'Dataaaaaa', 'Dat', 'Dat', 'Dat']\n",
      "\n",
      " ['Dta', 'Dtaaaa', 'Dta', 'Dta', 'Dt', 'Dt', 'Dtaa', 'Dta']\n"
     ]
    }
   ],
   "source": [
    "get_asterisk()"
   ]
  },
  {
   "cell_type": "markdown",
   "metadata": {},
   "source": [
    "** Note:\n",
    "\n",
    "As quantifiers are also sensitive to white space, if we were to use all the words from the String Value, 'Data' including the 'a'\n",
    "\n",
    "Then we can add another whitespace for the same ---> `r'Data *'` ...instead of using `r' Data*'` like in the above example."
   ]
  },
  {
   "cell_type": "code",
   "execution_count": 221,
   "metadata": {},
   "outputs": [
    {
     "name": "stdout",
     "output_type": "stream",
     "text": [
      "[' Data ', ' Data ', ' Data ', ' Data ', ' Data', ' Data']\n"
     ]
    }
   ],
   "source": [
    "get_match2 = re.findall(r' Data *', string_meta1)\n",
    "\n",
    "print (get_match2)"
   ]
  },
  {
   "cell_type": "markdown",
   "metadata": {},
   "source": [
    "As you can see the `whitespace` was considered as a character which should have zero or no occurences....\n",
    "\n",
    "The reason because regex goes from 'Left to Right' and the last character is the whitespace."
   ]
  },
  {
   "cell_type": "code",
   "execution_count": null,
   "metadata": {},
   "outputs": [],
   "source": []
  },
  {
   "cell_type": "markdown",
   "metadata": {},
   "source": [
    "Type Two metacharacter `+` \n",
    "\n",
    "`+` is also a known Quantifier metacharacter, the plus sign. This has similar characteristics to the previous metacharacter, except where the preceding character which has the `+` sign in its pattern should have \"One or more occurrences\", with as many repetitions as possible. This is also a greedy repetition as it allows endless times of repetition of the last character from the string value.\n",
    "\n",
    "In other words, when we use the string_value ---> 'Data' and instill the pattern with this quantifier to gauge the matches it returns.\n",
    "\n",
    "`r''Data+'`\n",
    "\n",
    "The return matches would be: 'Data', 'Dataaa', 'Dataaaaa'.... and so on.\n",
    "\n",
    "As it has characteristics of one or more occurrences it will display all the characters from the string_value."
   ]
  },
  {
   "cell_type": "code",
   "execution_count": 229,
   "metadata": {},
   "outputs": [],
   "source": [
    "string_meta2 = ''' Data is considered one of the most important aspect in today's world. Having courses such as data Science indeed opens doors\n",
    "                   for many aspirants in multiple disciplines as many fields overlap each other due to Data transition. It is called data not date, \n",
    "                   not Daty, but data. It could be called data but, not preferred. \n",
    "                   \n",
    "                   When screaming you could use Dataaaaaa, or DDDDDattttttaaaa, but not attttaDta ever. Can you se DDDDDaaaaatttttaaaaa. We need to see\n",
    "                   Dat would be a wrong word even in plain english. Dataaa, or Dataaaaaa or Datttatataaa\n",
    "                   \n",
    "                   Using Dtaaaa is not like gtaaaa. Dta should be never used as Dta does not make sense. It is not Dtz, or Dtb or any other alphabet.\n",
    "                   DtaattataDattatDta is even more confusing\n",
    "               \n",
    "              '''\n",
    "\n",
    "\n",
    "def plus_meta():\n",
    "    get_plus_match = re.findall(r'Data+', string_meta2)\n",
    "    \n",
    "    print (get_plus_match)"
   ]
  },
  {
   "cell_type": "code",
   "execution_count": 230,
   "metadata": {},
   "outputs": [
    {
     "name": "stdout",
     "output_type": "stream",
     "text": [
      "['Data', 'Data', 'Dataaaaaa', 'Dataaa', 'Dataaaaaa']\n"
     ]
    }
   ],
   "source": [
    "plus_meta()"
   ]
  },
  {
   "cell_type": "markdown",
   "metadata": {},
   "source": [
    "As we can note from the example that it has used all the characters from the string_value inside the regex pattern, giving a return of 'Data'"
   ]
  },
  {
   "cell_type": "code",
   "execution_count": null,
   "metadata": {},
   "outputs": [],
   "source": []
  },
  {
   "cell_type": "markdown",
   "metadata": {},
   "source": [
    "Let us find if we can use a `whitespace` and see what we get"
   ]
  },
  {
   "cell_type": "code",
   "execution_count": 227,
   "metadata": {},
   "outputs": [
    {
     "name": "stdout",
     "output_type": "stream",
     "text": [
      "['Data ', 'Data ']\n"
     ]
    }
   ],
   "source": [
    "get_another_plus_match = re.findall(r'Data +', string_meta2)\n",
    "\n",
    "print (get_another_plus_match)"
   ]
  },
  {
   "cell_type": "markdown",
   "metadata": {},
   "source": [
    "As we notice the `whitespace` has taken out all the repetitions from the regex pattern. The match did not have any repetitions of the characters, as we noticed.\n",
    "\n",
    "Also the `*` metacharacter when using `whitespace` will match all the characters from the string value with NO REPETITIONS.\n",
    "\n",
    "Therefore using `whitespace` with these metacharacters it will delete all occurrences from the greedy repetitions."
   ]
  },
  {
   "cell_type": "code",
   "execution_count": null,
   "metadata": {},
   "outputs": [],
   "source": []
  },
  {
   "cell_type": "code",
   "execution_count": null,
   "metadata": {},
   "outputs": [],
   "source": []
  },
  {
   "cell_type": "code",
   "execution_count": null,
   "metadata": {},
   "outputs": [],
   "source": []
  },
  {
   "cell_type": "markdown",
   "metadata": {},
   "source": [
    "Question 11. \n",
    "\n",
    "What is the difference between {4} and {4,5} in regular expression?"
   ]
  },
  {
   "cell_type": "markdown",
   "metadata": {},
   "source": [
    "Using `{ }` curly braces is a type of quantifier that allows the occurrence of the character as per the specified number.\n",
    "\n",
    "Which means if we specify a number 'n' ---> the quantifier should be inside the brackets where the string value should be preceding the portion for\n",
    "\n",
    "pattern recognition. As regex pattern are from 'Left to Right'....the last character is the one that will be matched with `{n}` regex pattern.\n",
    "\n",
    "For example\n",
    "\n",
    "`r' al{1}'`\n",
    "\n",
    "\n",
    "The pattern will look for all the words that end or begin with 'all' that is 'al' is the first part of the pattern and \n",
    "\n",
    "{2} means...the search will only look for words that repeats 'l' TWICE...as it is {2}...making the match for words which are 'all'\n",
    "\n",
    "If we choose as {3}...the pattern will look for words, which are 'alll'....that is 'al' being the first part of the pattern and 'll' being the specified times in `{ }`.\n",
    "\n",
    "The words should have minimum 2 'l' in order to get an return, therefore any characters which occur more than twice will also have 2 'l'. "
   ]
  },
  {
   "cell_type": "code",
   "execution_count": 301,
   "metadata": {},
   "outputs": [],
   "source": [
    "def curly_quantifier():\n",
    "    \n",
    "    q_text = ''' The Season 1 of Indian Premiere League (IPL) began in the year 2008. It was established by the BCCI in the year 2007. \n",
    "                 The Inaugral Season was won by Rajasthan Royals by defeating CSK by 3 wickets.\n",
    "                 The latest season was held in UAE in 2020 and was won by Mumbai Indians (MI). \n",
    "                 Currently MI is the reigning defending champions and has held the trophy 5 times since inception. It was won in years\n",
    "                 2013, 2015, 2017, 2019 and 2020. Chennai Super Kings has won it 3 times back-to-back in 2010 and 2011, then in 2018.\n",
    "                 Currently IPL is being played in India.\n",
    "                 \n",
    "             '''\n",
    "        \n",
    "    years_match = re.findall (r'\\d{4}', q_text)\n",
    "    \n",
    "    if years_match:\n",
    "        print (years_match, \"\\nAre the matches found !! \")\n",
    "        \n",
    "    else:\n",
    "        print (\"NO Matches Found !! \")\n",
    "    \n"
   ]
  },
  {
   "cell_type": "code",
   "execution_count": 302,
   "metadata": {},
   "outputs": [
    {
     "name": "stdout",
     "output_type": "stream",
     "text": [
      "['2008', '2007', '2020', '2013', '2015', '2017', '2019', '2020', '2010', '2011', '2018'] \n",
      "Are the matches found !! \n"
     ]
    }
   ],
   "source": [
    "## Find all the characters that makes the word 'all' from the given string text\n",
    "\n",
    "curly_quantifier()"
   ]
  },
  {
   "cell_type": "code",
   "execution_count": null,
   "metadata": {},
   "outputs": [],
   "source": []
  },
  {
   "cell_type": "markdown",
   "metadata": {},
   "source": [
    "Using 2 numbers inside the curly brackets `{m, n}` gives us the range on the number of times the character will occur in order to return a match.\n",
    "\n",
    "`m` being the number of times the character will occure at Minimum\n",
    "\n",
    "`n` being the number of times the character will occure at Maximum\n"
   ]
  },
  {
   "cell_type": "code",
   "execution_count": 305,
   "metadata": {},
   "outputs": [],
   "source": [
    "import re\n",
    "\n",
    "def range_curly():\n",
    "    \n",
    "    get_phoneNumber = ''' Hello, if you need to contact me I can be reached at 001 2345 6789 1010. I will be available tomorrow and will appreciate if you\n",
    "                          could call in between 3pm - 4.40 pm. Again my number is 001 2345 6789 1010, and make sure to confirm this email on its receipt.\n",
    "                          All the numbers are updated on the 12 of December'20.\n",
    "                          Thank you\n",
    "    '''\n",
    "    \n",
    "    number_match = re.findall(r'\\d{3,4}', get_phoneNumber)\n",
    "    \n",
    "    if number_match:\n",
    "        print (' '.join(number_match))\n",
    "        \n",
    "    else:\n",
    "        print (\"No number found !!! \")"
   ]
  },
  {
   "cell_type": "code",
   "execution_count": 306,
   "metadata": {},
   "outputs": [
    {
     "name": "stdout",
     "output_type": "stream",
     "text": [
      "001 2345 6789 1010 001 2345 6789 1010\n"
     ]
    }
   ],
   "source": [
    "range_curly()"
   ]
  },
  {
   "cell_type": "code",
   "execution_count": null,
   "metadata": {},
   "outputs": [],
   "source": []
  },
  {
   "cell_type": "code",
   "execution_count": null,
   "metadata": {},
   "outputs": [],
   "source": []
  },
  {
   "cell_type": "code",
   "execution_count": null,
   "metadata": {},
   "outputs": [],
   "source": []
  },
  {
   "cell_type": "markdown",
   "metadata": {},
   "source": [
    "Question 12.\n",
    "\n",
    "What do you mean by the \\d, \\w, and \\s shorthand character classes signify in regular\n",
    "expressions?"
   ]
  },
  {
   "cell_type": "markdown",
   "metadata": {},
   "source": [
    "The metacharacter `\\d` represents any digits from 0-9 in regex, especially in string patterns. As regex has string text `\\d` allows for any matches that are Unicode Character which includes digits. They can be used to replace [0-9], in regex pattern."
   ]
  },
  {
   "cell_type": "code",
   "execution_count": 307,
   "metadata": {},
   "outputs": [
    {
     "data": {
      "text/plain": [
       "['125652', '2021']"
      ]
     },
     "execution_count": 307,
     "metadata": {},
     "output_type": "execute_result"
    }
   ],
   "source": [
    "import re\n",
    "\n",
    "re.findall (r'\\d+', \"I know what is125652 and you would know this year is 2021.\")"
   ]
  },
  {
   "cell_type": "code",
   "execution_count": null,
   "metadata": {},
   "outputs": [],
   "source": []
  },
  {
   "cell_type": "markdown",
   "metadata": {},
   "source": [
    "The metacharacter `\\w` in lowercase matches all alphabets in a string pattern. It is used to identify words, although `\\w+` is used in order to identify and filter words from string texts. The matches are done on any words which involves characters between [a-z] (lowercase) [A-Z] (uppercase) Numbers (0-9) and also underscore `_`"
   ]
  },
  {
   "cell_type": "code",
   "execution_count": 309,
   "metadata": {},
   "outputs": [
    {
     "data": {
      "text/plain": [
       "['In', 'place', 'of', 'use', '45', 'or', '_']"
      ]
     },
     "execution_count": 309,
     "metadata": {},
     "output_type": "execute_result"
    }
   ],
   "source": [
    "import re\n",
    "\n",
    "re.findall (r'\\w+', \"In place of @@ use 45 or _. % < && \")"
   ]
  },
  {
   "cell_type": "code",
   "execution_count": null,
   "metadata": {},
   "outputs": [],
   "source": []
  },
  {
   "cell_type": "markdown",
   "metadata": {},
   "source": [
    "The metacharacter `\\s` is to identify `whitespace` characters in regex such as 'blank (space between 2 words)', tab (horizontal tab) and newline (denoted by \\n)."
   ]
  },
  {
   "cell_type": "code",
   "execution_count": 321,
   "metadata": {},
   "outputs": [
    {
     "name": "stdout",
     "output_type": "stream",
     "text": [
      "apple red, orangeNOT is\t\t r&d or \n",
      "isNot white\n",
      "\n",
      " [' ', ' ', ' ', '\\t\\t ', ' ', ' \\n', ' ']\n"
     ]
    }
   ],
   "source": [
    "import re\n",
    "\n",
    "print_this = re.findall (r'\\s+', \"apple red, orangeNOT is\\t\\t r&d or \\nisNot white\")\n",
    "\n",
    "print (\"apple red, orangeNOT is\\t\\t r&d or \\nisNot white\")\n",
    "\n",
    "print (\"\\n\",print_this)"
   ]
  },
  {
   "cell_type": "markdown",
   "metadata": {},
   "source": [
    "As we can see all whitespaces, horizontal tabs and new lines have been identified by `\\s` "
   ]
  },
  {
   "cell_type": "code",
   "execution_count": null,
   "metadata": {},
   "outputs": [],
   "source": []
  },
  {
   "cell_type": "code",
   "execution_count": null,
   "metadata": {},
   "outputs": [],
   "source": []
  },
  {
   "cell_type": "code",
   "execution_count": null,
   "metadata": {},
   "outputs": [],
   "source": []
  },
  {
   "cell_type": "markdown",
   "metadata": {},
   "source": [
    "Question 13.\n",
    "\n",
    "What do means by \\D, \\W, and \\S shorthand character classes signify in regular expressions?"
   ]
  },
  {
   "cell_type": "markdown",
   "metadata": {},
   "source": [
    "The uppercase metacharacters matches all that are not matched by lowercase in regex. Performing exactly opposite to the functions in string patterns. It does the exact inverse of its lowercase counterpart."
   ]
  },
  {
   "cell_type": "markdown",
   "metadata": {},
   "source": [
    "The `\\D` is used to identify all the non-digits in the string patterns. As the lowercase `\\d` identifies all the numbers between [0-9], the counterpart uppercase is used to match all the non-numbers inside the string pattern texts."
   ]
  },
  {
   "cell_type": "code",
   "execution_count": 322,
   "metadata": {},
   "outputs": [
    {
     "data": {
      "text/plain": [
       "['Numbers are @@', '. Born in the year ', '.']"
      ]
     },
     "execution_count": 322,
     "metadata": {},
     "output_type": "execute_result"
    }
   ],
   "source": [
    "import re\n",
    "\n",
    "re.findall(r'\\D+', \"Numbers are @@90843. Born in the year 1990.\")"
   ]
  },
  {
   "cell_type": "code",
   "execution_count": null,
   "metadata": {},
   "outputs": [],
   "source": []
  },
  {
   "cell_type": "markdown",
   "metadata": {},
   "source": [
    "Metacharacter `\\W` is the counterpart of its lowercase that identifies all non-alphabetic characters. The lowercase is used `\\w` to match all the words in the Unicode string as well as [0-9] and the character `_` underscore. Working exactly inverse to the lowercase, the `\\W` does not match alphabets, numbers and even underscore."
   ]
  },
  {
   "cell_type": "code",
   "execution_count": 331,
   "metadata": {},
   "outputs": [
    {
     "data": {
      "text/plain": [
       "[' ', ' ', ' ', ' ', ' ', ' ', '. ', '-', '-. ', ' ', ' ', '@@. ', ' ^&']"
      ]
     },
     "execution_count": 331,
     "metadata": {},
     "output_type": "execute_result"
    }
   ],
   "source": [
    "import re\n",
    "\n",
    "re.findall (r'\\W+', \"There are many ways _ is underscore. 555-231-. Born in 1960@@. Also ^&\")"
   ]
  },
  {
   "cell_type": "markdown",
   "metadata": {},
   "source": [
    "As we notice. The characters period `.`, and other characters are also identified."
   ]
  },
  {
   "cell_type": "code",
   "execution_count": null,
   "metadata": {},
   "outputs": [],
   "source": []
  },
  {
   "cell_type": "markdown",
   "metadata": {},
   "source": [
    "The `\\S` ignores the whitespace, horizontal tabs and newline. This is therefore display everything other than the metacharacters of `\\t`, `\\n`, ans `\\s`. Tabs, newline and whitespace respectively."
   ]
  },
  {
   "cell_type": "code",
   "execution_count": 336,
   "metadata": {},
   "outputs": [
    {
     "name": "stdout",
     "output_type": "stream",
     "text": [
      "There are many ways _ is underscore.\n",
      " 555-231-. Born in 1960@@. \t\tAlso ^&\n",
      "\n",
      "\n",
      " ['There', 'are', 'many', 'ways', '_', 'is', 'underscore.', '555-231-.', 'Born', 'in', '1960@@.', 'Also', '^&']\n"
     ]
    }
   ],
   "source": [
    "import re\n",
    "\n",
    "res_match = re.findall (r'\\S+', \"There are many ways _ is underscore.\\n 555-231-. Born in 1960@@. \\t\\tAlso ^&\")\n",
    "\n",
    "print (\"There are many ways _ is underscore.\\n 555-231-. Born in 1960@@. \\t\\tAlso ^&\")\n",
    "\n",
    "print (\"\\n\\n\", res_match)"
   ]
  },
  {
   "cell_type": "code",
   "execution_count": null,
   "metadata": {},
   "outputs": [],
   "source": []
  },
  {
   "cell_type": "code",
   "execution_count": null,
   "metadata": {},
   "outputs": [],
   "source": []
  },
  {
   "cell_type": "code",
   "execution_count": null,
   "metadata": {},
   "outputs": [],
   "source": []
  },
  {
   "cell_type": "markdown",
   "metadata": {},
   "source": [
    "Question 14. \n",
    "\n",
    "What is the difference between .* ? and .*"
   ]
  },
  {
   "cell_type": "markdown",
   "metadata": {},
   "source": [
    "There are operators in regular expressions which are kwown as \"Greedy\" and \"Non-Greedy\" operators. Let us try to explore them. \n",
    "\n",
    "* Metacharacter such as `*` is used to find patterns that are repetitive in regex. This results in finding as many patterns as possible and this results in finding all the matches/repetitions from the string text in regex. The function only ends after it matches all the repetition. How this works is the function first tries to match as many repetitions as possible and when it dosen't work it tends to backtrack until a pattern that matches is found.\n",
    "\n",
    "This results in many repetitions to be found in the given text, as the whole text is verified to be matched. Hence, we get many repetitions as the return value. The pattern for \"Greedy Operator\" is denoted as\n",
    "\n",
    "`.*`\n",
    "\n",
    "`r'any_char.*'`"
   ]
  },
  {
   "cell_type": "code",
   "execution_count": 446,
   "metadata": {},
   "outputs": [],
   "source": [
    "## Write a regex program to find matches for the Word 'Data science'\n",
    "\n",
    "import re\n",
    "\n",
    "def greedy_op():\n",
    "    \n",
    "\n",
    "    the_text = ''' Data science is the field of study that combines domain expertise, programming skills, \n",
    "                   and knowledge of mathematics and statistics to extract meaningful insights from data. \n",
    "                   Data science practitioners apply machine learning algorithms to numbers, text, images, video, audio, and more \n",
    "                   to produce artificial intelligence (AI) systems to perform tasks that ordinarily require human intelligence. \n",
    "                   Data science, in turn can generate system paving for insights, which analysts and business users can translate into tangible business value.\n",
    "                  '''\n",
    "    \n",
    "    \n",
    "    \n",
    "    greedy_match = re.findall(r'Data science.*', the_text)\n",
    "    \n",
    "    another_greedy_match = re.findall (r'Datascience.*',\"ffffDataooooBAARAAiieeescienceXCcDatasciencejuZZZooooDZeeeeedatasciencekklfsjkdjkbDatasciencehjbhjsciencejjk\")\n",
    "    \n",
    "    print (greedy_match)\n",
    "    \n",
    "    print (\"\\n\", another_greedy_match)\n"
   ]
  },
  {
   "cell_type": "code",
   "execution_count": 447,
   "metadata": {},
   "outputs": [
    {
     "name": "stdout",
     "output_type": "stream",
     "text": [
      "['Data science is the field of study that combines domain expertise, programming skills, ', 'Data science practitioners apply machine learning algorithms to numbers, text, images, video, audio, and more ']\n",
      "\n",
      " ['DatasciencejuZZZooooDZeeeeedatasciencekklfsjkdjkbDatasciencehjbhjsciencejjk']\n"
     ]
    }
   ],
   "source": [
    "greedy_op()"
   ]
  },
  {
   "cell_type": "markdown",
   "metadata": {},
   "source": [
    "From the above example we note that in order to match the words 'Data science'... the Greedy Operator searched for all possible string value through out. Moreover backtracking in order to finish the search with the repetitive patterns.\n",
    "\n",
    "Doing so it also included other texts into it which are not part of the pattern."
   ]
  },
  {
   "cell_type": "code",
   "execution_count": null,
   "metadata": {},
   "outputs": [],
   "source": []
  },
  {
   "cell_type": "markdown",
   "metadata": {},
   "source": [
    "* Looking at the above code we can therefore understand that our pattern has to be matched without taking in other string value and include them into the return value. The repetition quantifier should therefore add the metacharacter `?` that allows the \"Greedy Operator\" to convert into \"Non-Greedy Operator\".\n",
    "\n",
    "In earlier case the period `(.)` and the asterisk `(*)` combined causes the repetition in the pattern, \n",
    "\n",
    "--(a)  because the period `(.)` matches any one character from the given text.\n",
    "\n",
    "--(b) and combined with asterisk `(*)` that matches zero or more occurences, which means as soon as it finds its first match it includes the following string values, until it matches again from its pattern.\n",
    "\n",
    "|\n",
    "\n",
    "Therefore we use the \"Non-Greedy Operator\" to confine our search and the pattern is denoted as\n",
    "\n",
    "`.*?`\n",
    "\n",
    "`r'any_char.*?'`"
   ]
  },
  {
   "cell_type": "code",
   "execution_count": 449,
   "metadata": {},
   "outputs": [],
   "source": [
    "import re\n",
    "\n",
    "def non_greedy_op():\n",
    "    \n",
    "\n",
    "    the_text = ''' Data science is the field of study that combines domain expertise, programming skills, \n",
    "                   and knowledge of mathematics and statistics to extract meaningful insights from data. \n",
    "                   Data science practitioners apply machine learning algorithms to numbers, text, images, video, audio, and more \n",
    "                   to produce artificial intelligence (AI) systems to perform tasks that ordinarily require human intelligence. \n",
    "                   Data science, in turn can generate system paving for insights, which analysts and business users can translate into tangible business value.\n",
    "                  '''\n",
    "    \n",
    "    \n",
    "    \n",
    "    greedy_match22 = re.findall(r'Data science.*?', the_text)\n",
    "    \n",
    "    another_greedy_match22 = re.findall (r'Datascience.*?',\"ffffDataooooBAARAAiieeescienceXCcDatasciencejuZZZooooDZeeeeedatasciencekklfsjkdjkbDatasciencehjbhjsciencejjk\")\n",
    "    \n",
    "    print (greedy_match22)\n",
    "    \n",
    "    print (\"\\n\", another_greedy_match22)\n"
   ]
  },
  {
   "cell_type": "code",
   "execution_count": 450,
   "metadata": {},
   "outputs": [
    {
     "name": "stdout",
     "output_type": "stream",
     "text": [
      "['Data science', 'Data science', 'Data science']\n",
      "\n",
      " ['Datascience', 'Datascience']\n"
     ]
    }
   ],
   "source": [
    "non_greedy_op()"
   ]
  },
  {
   "cell_type": "markdown",
   "metadata": {},
   "source": [
    "As we see the search for the words 'Data science' or 'Datascience' was easy to be extracted using the `?` metacharacter.\n",
    "\n",
    "--(a) What it does is it allows for the search of every character using the period `(.)` and then stops using the period once it is able to match the pattern.\n",
    "\n",
    "Therefore using the period as less as possible. \n",
    "\n",
    "--(b) The asterisk `*` allows for repeating the patterns and extract all the matches within the text.\n",
    "\n",
    "--(c) The question metacharacter `?` tries to match only that part of the pattern. It matches \"ZERO  OR ONE OCCURRENCES OF THE PRECEDING CHARACTER\"\n",
    "If found enables a return or else it does not find a match causing the entire regex to fail. "
   ]
  },
  {
   "cell_type": "code",
   "execution_count": null,
   "metadata": {},
   "outputs": [],
   "source": []
  },
  {
   "cell_type": "code",
   "execution_count": null,
   "metadata": {},
   "outputs": [],
   "source": []
  },
  {
   "cell_type": "code",
   "execution_count": null,
   "metadata": {},
   "outputs": [],
   "source": []
  },
  {
   "cell_type": "markdown",
   "metadata": {},
   "source": [
    "Question 15. \n",
    "\n",
    "What is the syntax for matching both numbers and lowercase letters with a character class?"
   ]
  },
  {
   "cell_type": "markdown",
   "metadata": {},
   "source": [
    "In such instances to customize the search pattern, we use the 'Square Brackets' `[ ]`. This allows us to target a specific range of characters and we insert them inside the 'Square Brackets'. In this case using only numbers from `0 - 9` and Lowercase alphabets `a-z`.\n",
    "\n",
    "Therefore enclosing with `[ ]` gives us the pattern as:\n",
    "\n",
    "`r'[0-9a-z]`"
   ]
  },
  {
   "cell_type": "code",
   "execution_count": 13,
   "metadata": {},
   "outputs": [],
   "source": [
    "def find_num_lwrcase():\n",
    "\n",
    "    results_char = re.findall (r'[a-z0-9]+', \"TOdaY'S MARKEt aS UsUAL, IS cYNiCAL. enDING ceNTS & DOLLARS AT 20.21 & yeAR ENDING aT DECEMBEr.\")\n",
    "                            ## or use r'[a-z0-9]+\n",
    "        \n",
    "    if results_char:\n",
    "        print (results_char, end = '')\n",
    "        \n",
    "    else:\n",
    "        print (\"No Match found. \")"
   ]
  },
  {
   "cell_type": "code",
   "execution_count": 14,
   "metadata": {},
   "outputs": [
    {
     "name": "stdout",
     "output_type": "stream",
     "text": [
      "['da', 't', 'a', 's', 'c', 'i', 'en', 'ce', '20', '21', 'ye', 'a', 'r']"
     ]
    }
   ],
   "source": [
    "find_num_lwrcase()"
   ]
  },
  {
   "cell_type": "code",
   "execution_count": null,
   "metadata": {},
   "outputs": [],
   "source": []
  },
  {
   "cell_type": "code",
   "execution_count": null,
   "metadata": {},
   "outputs": [],
   "source": []
  },
  {
   "cell_type": "code",
   "execution_count": null,
   "metadata": {},
   "outputs": [],
   "source": []
  },
  {
   "cell_type": "markdown",
   "metadata": {},
   "source": [
    "Question 16. \n",
    "\n",
    "What is the procedure for making a normal expression in regax case insensitive?"
   ]
  },
  {
   "cell_type": "markdown",
   "metadata": {},
   "source": [
    "In Regexp functions and methods, apart from the 'Patterns' and 'String Text' that are enclosed inside the parenthesis of RegExp functions/methods, there is an optional modifier argument that maybe used to control the natural characteristic of RegExp Patterns. They are known as 'Flags' and are optional.\n",
    "\n",
    "* One such Modifier Argument in 'Flags' which can be used for case-insensitive are known as `IGNORECASE` and it is denoted as\n",
    "\n",
    "`re.IGNORECASE`\n",
    "\n",
    "The syntax for the same could also be denoted as\n",
    "\n",
    "`re.I`"
   ]
  },
  {
   "cell_type": "code",
   "execution_count": 9,
   "metadata": {},
   "outputs": [],
   "source": [
    "## Extract all the text regardless of their Cases.\n",
    "\n",
    "import re\n",
    "\n",
    "\n",
    "def case_insense():\n",
    "\n",
    "\n",
    "    sub_in_text = \"Mr. India can Provide Vaccines to the EnTiRe WoRLd. \"\n",
    "\n",
    "    print_this = re.findall (r'[A-Z]', sub_in_text)\n",
    "\n",
    "    print (print_this)"
   ]
  },
  {
   "cell_type": "code",
   "execution_count": 10,
   "metadata": {},
   "outputs": [
    {
     "name": "stdout",
     "output_type": "stream",
     "text": [
      "['M', 'I', 'P', 'V', 'E', 'T', 'R', 'W', 'RL']\n"
     ]
    }
   ],
   "source": [
    "case_insense()"
   ]
  },
  {
   "cell_type": "markdown",
   "metadata": {},
   "source": [
    "From the above example the pattern suggested to extract only Uppercase Letters as a Return Match...\n",
    "\n",
    "Let us try to use `IGNORECASE`. Using the same example"
   ]
  },
  {
   "cell_type": "code",
   "execution_count": 75,
   "metadata": {},
   "outputs": [],
   "source": [
    "import re\n",
    "\n",
    "\n",
    "def case_insense2():\n",
    "    sub_in_text = \"Mr. India can Provide Vaccines to the EnTiRe WoRLd. \"\n",
    "\n",
    "    print_this = re.findall (r'[A-Z]+', sub_in_text, re.IGNORECASE) ## Using Ignorecase\n",
    "    \n",
    "    or_this = re.findall (r'[A-Z]+', sub_in_text, re.I) ## Using the syntax\n",
    "\n",
    "    print (print_this)\n",
    "    \n",
    "    print (or_this)"
   ]
  },
  {
   "cell_type": "code",
   "execution_count": 76,
   "metadata": {},
   "outputs": [
    {
     "name": "stdout",
     "output_type": "stream",
     "text": [
      "['Mr', 'India', 'can', 'Provide', 'Vaccines', 'to', 'the', 'EnTiRe', 'WoRLd']\n",
      "['Mr', 'India', 'can', 'Provide', 'Vaccines', 'to', 'the', 'EnTiRe', 'WoRLd']\n"
     ]
    }
   ],
   "source": [
    "case_insense2()"
   ]
  },
  {
   "cell_type": "code",
   "execution_count": null,
   "metadata": {},
   "outputs": [],
   "source": []
  },
  {
   "cell_type": "code",
   "execution_count": null,
   "metadata": {},
   "outputs": [],
   "source": []
  },
  {
   "cell_type": "code",
   "execution_count": null,
   "metadata": {},
   "outputs": [],
   "source": []
  },
  {
   "cell_type": "markdown",
   "metadata": {},
   "source": [
    "Question 17. \n",
    "\n",
    "What does the . character normally match? What does it match if re.DOTALL is passed as 2nd\n",
    "argument in re.compile()?"
   ]
  },
  {
   "cell_type": "markdown",
   "metadata": {},
   "source": [
    "The `.` character is known as the `period` or `the dot` or `widlcard metacharacter` in RegExp and its feature is to match all the characters from the given string text on a given line. However, will not able to match anything on a 'new line'."
   ]
  },
  {
   "cell_type": "code",
   "execution_count": 84,
   "metadata": {},
   "outputs": [
    {
     "name": "stdout",
     "output_type": "stream",
     "text": [
      " Mr. India should provide all a flat rate for the vaccines and try to help the world. They should not cat but also should not rat.\n"
     ]
    }
   ],
   "source": [
    "import re\n",
    "\n",
    "\n",
    "period_text = ''' Mr. India should provide all a flat rate for the vaccines and try to help the world. They should not cat but also should not rat.\n",
    "                  Blatantly never say no to countries in need. They can do so by committing to the world demand but bat for their people first\n",
    "              '''\n",
    "\n",
    "text_matchp = re.search(r'.*', period_text)\n",
    "\n",
    "print (text_matchp.group())\n",
    "\n"
   ]
  },
  {
   "cell_type": "markdown",
   "metadata": {},
   "source": [
    "As we can notice that using `.*` in re.search the return all the characters within the string text, EXCEPT for the text in the new line."
   ]
  },
  {
   "cell_type": "code",
   "execution_count": 87,
   "metadata": {},
   "outputs": [
    {
     "name": "stdout",
     "output_type": "stream",
     "text": [
      " Mr. India should provide all a flat rate for the vaccines and try to help the world. They should not cat but also should not rat.\n",
      "                  Blatantly never say no to countries in need. They can do so by committing to the world demand but bat for their people first\n",
      "              \n"
     ]
    }
   ],
   "source": [
    "period_text = ''' Mr. India should provide all a flat rate for the vaccines and try to help the world. They should not cat but also should not rat.\n",
    "                  Blatantly never say no to countries in need. They can do so by committing to the world demand but bat for their people first\n",
    "              '''\n",
    "\n",
    "text_dotall = re.search(r'.*', period_text, re.DOTALL)\n",
    "\n",
    "print (text_dotall.group())"
   ]
  },
  {
   "cell_type": "markdown",
   "metadata": {},
   "source": [
    "`re.DOTALL` allows all the character to be matched from the pattern...even on the newline"
   ]
  },
  {
   "cell_type": "code",
   "execution_count": null,
   "metadata": {},
   "outputs": [],
   "source": []
  },
  {
   "cell_type": "code",
   "execution_count": null,
   "metadata": {},
   "outputs": [],
   "source": []
  },
  {
   "cell_type": "code",
   "execution_count": null,
   "metadata": {},
   "outputs": [],
   "source": []
  },
  {
   "cell_type": "markdown",
   "metadata": {},
   "source": [
    "Question 18. \n",
    "\n",
    "If numReg = re.compile(r&#39;\\d+&#39;), what will numRegex.sub(&#39;X&#39;, &#39;11 drummers, 10 pipers, five rings, 4\n",
    "hen&#39;) return?"
   ]
  },
  {
   "cell_type": "markdown",
   "metadata": {},
   "source": [
    "In this example the function `re.sub()` is used to replace a specific sub-string with another. \n",
    "\n",
    "In the function `re.sub` is has 3 components to it, that are enclosed inside its parenthesis:\n",
    "\n",
    "(a) Specify a RegExp pattern, as the first argument, which would be replaced.\n",
    "\n",
    "(b) A sub-string that will replace the previous sub-string as specified in the pattern.\n",
    "\n",
    "(c) The string text, that contains the sub-strings to be swapped.\n",
    "\n",
    "\n",
    "OR\n",
    "\n",
    "|\n",
    "\n",
    "A variable which should have a pattern...for example re.compile(r'\\w+) similar to the example above\n",
    "\n",
    "\n",
    "`variable.sub('new string for replacement', string_text)`"
   ]
  },
  {
   "cell_type": "code",
   "execution_count": 89,
   "metadata": {},
   "outputs": [
    {
     "name": "stdout",
     "output_type": "stream",
     "text": [
      "X drummers, X pipers, five rings, X hen\n"
     ]
    }
   ],
   "source": [
    "## Performing th example\n",
    "\n",
    "numReg = re.compile(r'\\d+')\n",
    "\n",
    "swap_val = numReg.sub ('X', '11 drummers, 10 pipers, five rings, 4 hen')\n",
    "\n",
    "print (swap_val)"
   ]
  },
  {
   "cell_type": "markdown",
   "metadata": {},
   "source": [
    "As we can see inside the parenthesis, the digits (numbers anything 0-9 or its format) is replaced by a sub-string `X` as specified inside the parenthesis.\n",
    "\n",
    "Replacing all numbers with the vaue 'X'"
   ]
  },
  {
   "cell_type": "code",
   "execution_count": null,
   "metadata": {},
   "outputs": [],
   "source": []
  },
  {
   "cell_type": "code",
   "execution_count": null,
   "metadata": {},
   "outputs": [],
   "source": []
  },
  {
   "cell_type": "code",
   "execution_count": null,
   "metadata": {},
   "outputs": [],
   "source": []
  },
  {
   "cell_type": "markdown",
   "metadata": {},
   "source": [
    "Question 19. \n",
    "\n",
    "What does passing re.VERBOSE as the 2nd argument to re.compile() allow to do?"
   ]
  },
  {
   "cell_type": "markdown",
   "metadata": {},
   "source": [
    "`re.VERBOSE` is a type of 'flag' within the RegExp optional argument.\n",
    "\n",
    "This particular flag allows the compiler to make its RegExp pattern more readable, which sometimes tend to be difficult to understand.\n",
    "\n",
    "This flag allows compiler to make \"comments\" within its RegExp pattern, whilst also ignoring whitespace, which is normally becomes a part of the RegExp pattern.\n",
    "\n",
    "|\n",
    "\n",
    "We try to do an example that allows us to compile a string_text while trying to leave comments that are useful."
   ]
  },
  {
   "cell_type": "code",
   "execution_count": 122,
   "metadata": {},
   "outputs": [
    {
     "name": "stdout",
     "output_type": "stream",
     "text": [
      "['I', 'am', 'Pursuing', 'Full', 'Stack', 'Data', 'Science', 'course', 'from', 'Ineuron']\n"
     ]
    }
   ],
   "source": [
    "reg_text = ''' I'am Pursuing Full-Stack Data Science course from Ineuron '''\n",
    "\n",
    "compile_pattern = re.findall ('[A-Za-z]  +  # Writing comments are useful when coding. ' , reg_text, flags=re.X)\n",
    "\n",
    "print (compile_pattern)\n"
   ]
  },
  {
   "cell_type": "code",
   "execution_count": null,
   "metadata": {},
   "outputs": [],
   "source": []
  },
  {
   "cell_type": "code",
   "execution_count": null,
   "metadata": {},
   "outputs": [],
   "source": []
  },
  {
   "cell_type": "code",
   "execution_count": null,
   "metadata": {},
   "outputs": [],
   "source": []
  },
  {
   "cell_type": "markdown",
   "metadata": {},
   "source": [
    "Question 20. \n",
    "\n",
    "How would you write a regex that match a number with comma for every three digits? It must\n",
    "match the given following:\n",
    "\n",
    "&#39;42&#39;\n",
    "\n",
    "\n",
    "&#39;1,234&#39;\n",
    "\n",
    "\n",
    "&#39;6,368,745&#39;\n",
    "\n",
    "\n",
    "\n",
    "but not the following:\n",
    "\n",
    "\n",
    "&#39;12,34,567&#39; (which has only two digits between the commas)\n",
    "\n",
    "\n",
    "&#39;1234&#39; (which lacks commas)"
   ]
  },
  {
   "cell_type": "code",
   "execution_count": null,
   "metadata": {},
   "outputs": [],
   "source": []
  },
  {
   "cell_type": "code",
   "execution_count": 2,
   "metadata": {},
   "outputs": [
    {
     "data": {
      "text/plain": [
       "re.compile(r'^[0-9]{1,3}(?:,[0-9]{3})*$', re.UNICODE)"
      ]
     },
     "execution_count": 2,
     "metadata": {},
     "output_type": "execute_result"
    }
   ],
   "source": [
    "import re\n",
    "\n",
    "comp_patt = re.compile(r'^[0-9]{1,3}(?:,[0-9]{3})*$')\n",
    "comp_patt"
   ]
  },
  {
   "cell_type": "code",
   "execution_count": 5,
   "metadata": {},
   "outputs": [
    {
     "name": "stdout",
     "output_type": "stream",
     "text": [
      "6,368,745,565,007\n"
     ]
    }
   ],
   "source": [
    "match = comp_patt.search('6,368,745,565,007')\n",
    "\n",
    "print (match.group())"
   ]
  },
  {
   "cell_type": "markdown",
   "metadata": {},
   "source": [
    "Concept of the pattern:\n",
    "\n",
    "`r'^[0-9]{1,3}(?:\\,[0-9]{3})*$'`\n",
    "\n",
    "The question asks to match a number with a comma after every 3 numbers. Therefore the pattern begins with:\n",
    "\n",
    "-- Any number/digit that are whole number [0-9] and the range given inside 'Curly Brace Brackets', which are minimum '1' and maximum '3'.\n",
    "\n",
    "-- The pattern `?:` is given inside the round brackets `( )` as that part of the pattern is grouped. The reason we want to group that part of the pattern, is because we want to match any 3 digits after the comma. However, we DO NOT want that part of the group to be extracted.\n",
    "\n",
    "Therefore after comma, any 3 numbers are extracted....  the 'comma' denoted as `\\,`\n",
    "\n",
    "-- The last pattern is `*$` which means the pattern should find any 3 digits after the 'comma' `,`  with zero or more occurrences and should end with that matching position after last character... In other words, `$`  has the exactly same characteristics with `^` where it matches all the three positions after the last character."
   ]
  },
  {
   "cell_type": "code",
   "execution_count": null,
   "metadata": {},
   "outputs": [],
   "source": []
  },
  {
   "cell_type": "code",
   "execution_count": null,
   "metadata": {},
   "outputs": [],
   "source": []
  },
  {
   "cell_type": "code",
   "execution_count": null,
   "metadata": {},
   "outputs": [],
   "source": []
  },
  {
   "cell_type": "markdown",
   "metadata": {},
   "source": [
    "Question 21. \n",
    "\n",
    "How would you write a regex that matches the full name of someone whose last name is\n",
    "Watanabe? \n",
    "\n",
    "You can assume that the first name that comes before it will always be one word that\n",
    "begins with a capital letter. The regex must match the following:\n",
    "\n",
    "\n",
    "&#39;Haruto Watanabe&#39;\n",
    "\n",
    "\n",
    "&#39;Alice Watanabe&#39;\n",
    "\n",
    "&#39;RoboCop Watanabe&#39;\n",
    "\n",
    "but not the following:\n",
    "\n",
    "&#39;haruto Watanabe&#39; (where the first name is not capitalized)\n",
    "\n",
    "\n",
    "&#39;Mr. Watanabe&#39; (where the preceding word has a nonletter character)\n",
    "\n",
    "\n",
    "&#39;Watanabe&#39; (which has no first name)\n",
    "\n",
    "\n",
    "&#39;Haruto watanabe&#39; (where Watanabe is not capitalized)"
   ]
  },
  {
   "cell_type": "code",
   "execution_count": 98,
   "metadata": {},
   "outputs": [
    {
     "data": {
      "text/plain": [
       "re.compile(r'([A-Z])[a-z+]\\w+.\\sWatanabe', re.UNICODE)"
      ]
     },
     "execution_count": 98,
     "metadata": {},
     "output_type": "execute_result"
    }
   ],
   "source": [
    "pattern_name = re.compile (r'([A-Z])[a-z+]\\w+.\\sWatanabe')\n",
    "pattern_name"
   ]
  },
  {
   "cell_type": "code",
   "execution_count": null,
   "metadata": {},
   "outputs": [],
   "source": []
  },
  {
   "cell_type": "code",
   "execution_count": 153,
   "metadata": {},
   "outputs": [],
   "source": [
    "def find_name(name):\n",
    "    pattern_name = re.compile (r'([A-Z])[a-z]\\w+.\\sWatanabe')\n",
    "        \n",
    "    if pattern_name.search(name) != None:\n",
    "        print (name, \":\", \"This Matches\")\n",
    "        \n",
    "    else:\n",
    "        print (name, \":\", \"Is Invalid\")\n",
    "    \n",
    "\n",
    "    "
   ]
  },
  {
   "cell_type": "code",
   "execution_count": 155,
   "metadata": {},
   "outputs": [
    {
     "name": "stdout",
     "output_type": "stream",
     "text": [
      "HARUTO Watanabe : Is Invalid\n"
     ]
    }
   ],
   "source": [
    "find_name(\"HARUTO Watanabe\")"
   ]
  },
  {
   "cell_type": "markdown",
   "metadata": {},
   "source": [
    "Concept:\n",
    "The pattern requires a FirstName, which should begin with a Uppercase letter, hence `([A-Z])` is grouped.\n",
    "\n",
    "This is followed by the rest of the letter inside the FirstName which is denoted as `[a-z]` followed by `\\w+` so that the rest of the FirstName will have Lowercase letters.\n",
    "\n",
    "There should be a space between the 2 names (First and Last) hence the whitespace is denoted inside the pattern by `\\s`\n",
    "\n",
    "The pattern has a common LastName and is denoted as `Watanabe`"
   ]
  },
  {
   "cell_type": "code",
   "execution_count": null,
   "metadata": {},
   "outputs": [],
   "source": []
  },
  {
   "cell_type": "code",
   "execution_count": null,
   "metadata": {},
   "outputs": [],
   "source": []
  },
  {
   "cell_type": "code",
   "execution_count": null,
   "metadata": {},
   "outputs": [],
   "source": []
  },
  {
   "cell_type": "markdown",
   "metadata": {},
   "source": [
    "Question 22. \n",
    "\n",
    "How would you write a regex that matches a sentence where the first word is either Alice, Bob,\n",
    "or Carol; the second word is either eats, pets, or throws; the third word is apples, cats, or baseballs;\n",
    "and the sentence ends with a period? This regex should be case-insensitive. It must match the\n",
    "following:\n",
    "\n",
    "\n",
    "&#39;Alice eats apples.&#39;\n",
    "\n",
    "&#39;Bob pets cats.&#39;\n",
    "\n",
    "&#39;Carol throws baseballs.&#39;\n",
    "\n",
    "&#39;Alice throws Apples.&#39;\n",
    "\n",
    "&#39;BOB EATS CATS.&#39;\n",
    "\n",
    "|\n",
    "\n",
    "\n",
    "but not the following:\n",
    "\n",
    "&#39;RoboCop eats apples.&#39;\n",
    "\n",
    "&#39;ALICE THROWS FOOTBALLS.&#39;\n",
    "\n",
    "&#39;Carol eats 7 cats.&#39;"
   ]
  },
  {
   "cell_type": "code",
   "execution_count": null,
   "metadata": {},
   "outputs": [],
   "source": []
  },
  {
   "cell_type": "code",
   "execution_count": 348,
   "metadata": {},
   "outputs": [
    {
     "data": {
      "text/plain": [
       "re.compile(r\"\\n(^[a-z]*[A-Z][a-z]+)      ## Write any name, which includes atleast one Uppercase Letter           \\n\\s                            \\n(eats|pets|throws)        ## Verbs that are included inside the sentence     \\n\\s                            \\n(apples|cats|baseballs)   ## Nouns that makes up the sentence    \\n\\.                        ## Period or 'Full Stop' for the sentence  \\n$\",\n",
       "re.UNICODE|re.VERBOSE)"
      ]
     },
     "execution_count": 348,
     "metadata": {},
     "output_type": "execute_result"
    }
   ],
   "source": [
    "\n",
    "compile_sentence = re.compile(r'''\n",
    "(^[a-z]*[A-Z][a-z]+)      ## Write any name, which includes atleast one Uppercase Letter           \n",
    "\\s                            \n",
    "(eats|pets|throws)        ## Verbs that are included inside the sentence     \n",
    "\\s                            \n",
    "(apples|cats|baseballs)   ## Nouns that makes up the sentence    \n",
    "\\.                        ## Period or 'Full Stop' for the sentence  \n",
    "$''', re.VERBOSE)         ## allowing for using whitespace and comments for this code.\n",
    "compile_sentence"
   ]
  },
  {
   "cell_type": "code",
   "execution_count": 349,
   "metadata": {},
   "outputs": [
    {
     "name": "stdout",
     "output_type": "stream",
     "text": [
      "('Bob', 'pets', 'cats')\n"
     ]
    }
   ],
   "source": [
    "print(compile_sentence.match('Bob pets cats.').groups())\n"
   ]
  },
  {
   "cell_type": "code",
   "execution_count": null,
   "metadata": {},
   "outputs": [],
   "source": []
  },
  {
   "cell_type": "code",
   "execution_count": null,
   "metadata": {},
   "outputs": [],
   "source": []
  },
  {
   "cell_type": "code",
   "execution_count": null,
   "metadata": {},
   "outputs": [],
   "source": []
  },
  {
   "cell_type": "code",
   "execution_count": null,
   "metadata": {},
   "outputs": [],
   "source": []
  },
  {
   "cell_type": "code",
   "execution_count": null,
   "metadata": {},
   "outputs": [],
   "source": []
  },
  {
   "cell_type": "code",
   "execution_count": 253,
   "metadata": {},
   "outputs": [],
   "source": [
    "# patt00 = re.compile(r'^[a-z]*[A-Z][a-z]+$')"
   ]
  },
  {
   "cell_type": "code",
   "execution_count": 261,
   "metadata": {},
   "outputs": [],
   "source": [
    "# dom = patt00.search(\"Robocop\")\n",
    "# print (dom.group())"
   ]
  },
  {
   "cell_type": "code",
   "execution_count": null,
   "metadata": {},
   "outputs": [],
   "source": []
  },
  {
   "cell_type": "code",
   "execution_count": 234,
   "metadata": {},
   "outputs": [],
   "source": []
  },
  {
   "cell_type": "code",
   "execution_count": null,
   "metadata": {},
   "outputs": [],
   "source": []
  },
  {
   "cell_type": "code",
   "execution_count": null,
   "metadata": {},
   "outputs": [],
   "source": []
  },
  {
   "cell_type": "code",
   "execution_count": null,
   "metadata": {},
   "outputs": [],
   "source": []
  },
  {
   "cell_type": "code",
   "execution_count": null,
   "metadata": {},
   "outputs": [],
   "source": []
  },
  {
   "cell_type": "code",
   "execution_count": null,
   "metadata": {},
   "outputs": [],
   "source": [
    "\n",
    "\n"
   ]
  },
  {
   "cell_type": "code",
   "execution_count": null,
   "metadata": {},
   "outputs": [],
   "source": []
  },
  {
   "cell_type": "code",
   "execution_count": null,
   "metadata": {},
   "outputs": [],
   "source": []
  },
  {
   "cell_type": "code",
   "execution_count": null,
   "metadata": {},
   "outputs": [],
   "source": []
  },
  {
   "cell_type": "code",
   "execution_count": null,
   "metadata": {},
   "outputs": [],
   "source": []
  },
  {
   "cell_type": "code",
   "execution_count": null,
   "metadata": {},
   "outputs": [],
   "source": []
  },
  {
   "cell_type": "code",
   "execution_count": null,
   "metadata": {},
   "outputs": [],
   "source": []
  },
  {
   "cell_type": "code",
   "execution_count": null,
   "metadata": {},
   "outputs": [],
   "source": []
  },
  {
   "cell_type": "code",
   "execution_count": null,
   "metadata": {},
   "outputs": [],
   "source": []
  },
  {
   "cell_type": "code",
   "execution_count": null,
   "metadata": {},
   "outputs": [],
   "source": []
  },
  {
   "cell_type": "code",
   "execution_count": null,
   "metadata": {},
   "outputs": [],
   "source": []
  },
  {
   "cell_type": "code",
   "execution_count": null,
   "metadata": {},
   "outputs": [],
   "source": []
  },
  {
   "cell_type": "code",
   "execution_count": null,
   "metadata": {},
   "outputs": [],
   "source": []
  },
  {
   "cell_type": "code",
   "execution_count": null,
   "metadata": {},
   "outputs": [],
   "source": []
  },
  {
   "cell_type": "code",
   "execution_count": null,
   "metadata": {},
   "outputs": [],
   "source": []
  },
  {
   "cell_type": "code",
   "execution_count": null,
   "metadata": {},
   "outputs": [],
   "source": []
  },
  {
   "cell_type": "code",
   "execution_count": null,
   "metadata": {},
   "outputs": [],
   "source": []
  },
  {
   "cell_type": "code",
   "execution_count": null,
   "metadata": {},
   "outputs": [],
   "source": []
  },
  {
   "cell_type": "code",
   "execution_count": null,
   "metadata": {},
   "outputs": [],
   "source": []
  },
  {
   "cell_type": "code",
   "execution_count": null,
   "metadata": {},
   "outputs": [],
   "source": []
  },
  {
   "cell_type": "code",
   "execution_count": null,
   "metadata": {},
   "outputs": [],
   "source": []
  },
  {
   "cell_type": "code",
   "execution_count": null,
   "metadata": {},
   "outputs": [],
   "source": []
  },
  {
   "cell_type": "code",
   "execution_count": null,
   "metadata": {},
   "outputs": [],
   "source": []
  },
  {
   "cell_type": "code",
   "execution_count": null,
   "metadata": {},
   "outputs": [],
   "source": []
  },
  {
   "cell_type": "code",
   "execution_count": null,
   "metadata": {},
   "outputs": [],
   "source": []
  },
  {
   "cell_type": "code",
   "execution_count": null,
   "metadata": {},
   "outputs": [],
   "source": []
  },
  {
   "cell_type": "code",
   "execution_count": null,
   "metadata": {},
   "outputs": [],
   "source": []
  },
  {
   "cell_type": "code",
   "execution_count": null,
   "metadata": {},
   "outputs": [],
   "source": []
  },
  {
   "cell_type": "code",
   "execution_count": null,
   "metadata": {},
   "outputs": [],
   "source": []
  },
  {
   "cell_type": "code",
   "execution_count": null,
   "metadata": {},
   "outputs": [],
   "source": []
  },
  {
   "cell_type": "code",
   "execution_count": null,
   "metadata": {},
   "outputs": [],
   "source": []
  },
  {
   "cell_type": "code",
   "execution_count": null,
   "metadata": {},
   "outputs": [],
   "source": []
  },
  {
   "cell_type": "code",
   "execution_count": null,
   "metadata": {},
   "outputs": [],
   "source": []
  },
  {
   "cell_type": "code",
   "execution_count": null,
   "metadata": {},
   "outputs": [],
   "source": []
  },
  {
   "cell_type": "code",
   "execution_count": null,
   "metadata": {},
   "outputs": [],
   "source": []
  },
  {
   "cell_type": "code",
   "execution_count": null,
   "metadata": {},
   "outputs": [],
   "source": []
  },
  {
   "cell_type": "code",
   "execution_count": null,
   "metadata": {},
   "outputs": [],
   "source": []
  },
  {
   "cell_type": "code",
   "execution_count": null,
   "metadata": {},
   "outputs": [],
   "source": []
  },
  {
   "cell_type": "code",
   "execution_count": null,
   "metadata": {},
   "outputs": [],
   "source": []
  },
  {
   "cell_type": "code",
   "execution_count": null,
   "metadata": {},
   "outputs": [],
   "source": []
  },
  {
   "cell_type": "code",
   "execution_count": null,
   "metadata": {},
   "outputs": [],
   "source": []
  },
  {
   "cell_type": "code",
   "execution_count": null,
   "metadata": {},
   "outputs": [],
   "source": []
  },
  {
   "cell_type": "code",
   "execution_count": null,
   "metadata": {},
   "outputs": [],
   "source": []
  },
  {
   "cell_type": "code",
   "execution_count": null,
   "metadata": {},
   "outputs": [],
   "source": []
  }
 ],
 "metadata": {
  "kernelspec": {
   "display_name": "Python 3",
   "language": "python",
   "name": "python3"
  },
  "language_info": {
   "codemirror_mode": {
    "name": "ipython",
    "version": 3
   },
   "file_extension": ".py",
   "mimetype": "text/x-python",
   "name": "python",
   "nbconvert_exporter": "python",
   "pygments_lexer": "ipython3",
   "version": "3.8.5"
  }
 },
 "nbformat": 4,
 "nbformat_minor": 4
}
