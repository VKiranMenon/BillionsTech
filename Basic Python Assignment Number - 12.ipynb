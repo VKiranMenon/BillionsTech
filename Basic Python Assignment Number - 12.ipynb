{
 "cells": [
  {
   "cell_type": "code",
   "execution_count": null,
   "metadata": {},
   "outputs": [],
   "source": []
  },
  {
   "cell_type": "markdown",
   "metadata": {},
   "source": [
    "Question 1.\n",
    "\n",
    "In what modes should the PdfFileReader() and PdfFileWriter() File objects will be opened?"
   ]
  },
  {
   "cell_type": "markdown",
   "metadata": {},
   "source": [
    "The File objects passed toward PdfFileReader()  has to be opened in `read-binary` mode by typing in `rb` as the 2nd argument to open().\n",
    "\n",
    "The File objects passed toward  PdfFileWriter() has to be opened in `write-binary` mode. The same should be done through `open()` function with two arguments passed. The first one is the PDF filename and type in `wb` to indicate the file should be opened in write-binary mode."
   ]
  },
  {
   "cell_type": "code",
   "execution_count": null,
   "metadata": {},
   "outputs": [],
   "source": []
  },
  {
   "cell_type": "code",
   "execution_count": null,
   "metadata": {},
   "outputs": [],
   "source": []
  },
  {
   "cell_type": "code",
   "execution_count": null,
   "metadata": {},
   "outputs": [],
   "source": []
  },
  {
   "cell_type": "markdown",
   "metadata": {},
   "source": [
    "Question 2. \n",
    "\n",
    "From a PdfFileReader object, how do you get a Page object for page 5?"
   ]
  },
  {
   "cell_type": "markdown",
   "metadata": {},
   "source": [
    "Page Object is used to extract text from a page, which is represented by a single page from the PDF.\n",
    "\n",
    "The Page Object can called using the `getpage()` method. \n",
    "\n",
    "In order to get to the first page of a said report we need to enter in the command `pdfReader.getpage(0)` notice it would be .getpage(0) and not .getpage(1)\n",
    "\n",
    "Answer:\n",
    "\n",
    "Therefore, to get a page object for \"Page 5\" the command will be `pdfReader.getpage(4)`"
   ]
  },
  {
   "cell_type": "code",
   "execution_count": null,
   "metadata": {},
   "outputs": [],
   "source": []
  },
  {
   "cell_type": "code",
   "execution_count": null,
   "metadata": {},
   "outputs": [],
   "source": []
  },
  {
   "cell_type": "code",
   "execution_count": null,
   "metadata": {},
   "outputs": [],
   "source": []
  },
  {
   "cell_type": "markdown",
   "metadata": {},
   "source": [
    "Question 3. \n",
    "\n",
    "What PdfFileReader variable stores the number of pages in the PDF document?\n",
    "\n"
   ]
  },
  {
   "cell_type": "markdown",
   "metadata": {},
   "source": [
    "The variable name 'numPages' stores the number of pages in the PDF document, which is used through the function \n",
    "\n",
    "`pdfReader.numPages`"
   ]
  },
  {
   "cell_type": "code",
   "execution_count": null,
   "metadata": {},
   "outputs": [],
   "source": []
  },
  {
   "cell_type": "code",
   "execution_count": null,
   "metadata": {},
   "outputs": [],
   "source": []
  },
  {
   "cell_type": "code",
   "execution_count": null,
   "metadata": {},
   "outputs": [],
   "source": []
  },
  {
   "cell_type": "markdown",
   "metadata": {},
   "source": [
    "Question 4. \n",
    "\n",
    "If a PdfFileReader object’s PDF is encrypted with the password swordfish, what must you do\n",
    "before you can obtain Page objects from it?"
   ]
  },
  {
   "cell_type": "markdown",
   "metadata": {},
   "source": [
    "In order to read an encrypted PDF we will have to call the `decrypt()` function and write the password inside the parenthesis as an 'argument'.\n",
    "\n",
    "In the above example the function will be `pdfReader.decrypt(swordfish)` followed by `pdfReader.getpage('insert page number')` will not longer cause an error and will get you the exncypted page one is looking for."
   ]
  },
  {
   "cell_type": "code",
   "execution_count": null,
   "metadata": {},
   "outputs": [],
   "source": []
  },
  {
   "cell_type": "code",
   "execution_count": null,
   "metadata": {},
   "outputs": [],
   "source": []
  },
  {
   "cell_type": "code",
   "execution_count": null,
   "metadata": {},
   "outputs": [],
   "source": []
  },
  {
   "cell_type": "markdown",
   "metadata": {},
   "source": [
    "Question 5. \n",
    "\n",
    "What methods do you use to rotate a page?"
   ]
  },
  {
   "cell_type": "markdown",
   "metadata": {},
   "source": [
    "Pages of a PDF file can be rotated using commands such as `rotateClockwise()` and `rotateCounterClockwise()`. Inside the parenthesis one of the integers (int format) can be written depending on the measure of rotation required. This could be 90, 180 and 270 (all 90 degree denomination)."
   ]
  },
  {
   "cell_type": "code",
   "execution_count": null,
   "metadata": {},
   "outputs": [],
   "source": []
  },
  {
   "cell_type": "code",
   "execution_count": null,
   "metadata": {},
   "outputs": [],
   "source": []
  },
  {
   "cell_type": "code",
   "execution_count": null,
   "metadata": {},
   "outputs": [],
   "source": []
  },
  {
   "cell_type": "markdown",
   "metadata": {},
   "source": [
    "Question 6. \n",
    "\n",
    "What is the difference between a Run object and a Paragraph object?"
   ]
  },
  {
   "cell_type": "markdown",
   "metadata": {},
   "source": [
    "1) The difference between the two is that a \"NEW\" `Paragraph Object` can be added only to the end of the document and a \"NEW\" `Run Object` can be added only to the end of the `Paragraph Object`.\n",
    "\n",
    "2) `Paragraph Objects` contains a list of one or more `Run Objects`. A new paragraph begins whenever the user clicks `ENTER` or `Return` command. Every line in a parapgraph contains `Run Objects` and not the other way round.\n",
    "\n",
    "3) A `Run Object` is needed whenever the 'Text Style' changes. A `Paragraph Object` is needed whenever there is a new paragraph in the document file."
   ]
  },
  {
   "cell_type": "code",
   "execution_count": null,
   "metadata": {},
   "outputs": [],
   "source": []
  },
  {
   "cell_type": "code",
   "execution_count": null,
   "metadata": {},
   "outputs": [],
   "source": []
  },
  {
   "cell_type": "code",
   "execution_count": null,
   "metadata": {},
   "outputs": [],
   "source": []
  },
  {
   "cell_type": "markdown",
   "metadata": {},
   "source": [
    "Question 7. \n",
    "\n",
    "How do you obtain a list of Paragraph objects for a Document object that’s stored in a variable\n",
    "named doc?"
   ]
  },
  {
   "cell_type": "markdown",
   "metadata": {},
   "source": [
    "Step 1) \n",
    "\n",
    "Inside the python we first open the document file `.docx file` \n",
    "\n",
    "\n",
    "Step 2)\n",
    "\n",
    "\n",
    "We can do that as per the question above by using the variable name \"doc\", and by using the command `docx.Document()` in order to CREATE and open the document name called\n",
    "\n",
    "\"memo11\"\n",
    "\n",
    "Therefore the command will be `doc = docx.Document('memo11.docx')`...will be opened by the name `memo11`\n",
    "\n",
    "This is where we can return the list of  `Paragraph Objects` from the `Document Object` through its paragraph attributes.\n",
    "\n",
    "Step 3)\n",
    "\n",
    "We can use the command `len(doc.paragraphs)` in order to get the number of `Parapgraph Objects` inside the document, (doc)."
   ]
  },
  {
   "cell_type": "code",
   "execution_count": null,
   "metadata": {},
   "outputs": [],
   "source": []
  },
  {
   "cell_type": "code",
   "execution_count": null,
   "metadata": {},
   "outputs": [],
   "source": []
  },
  {
   "cell_type": "code",
   "execution_count": null,
   "metadata": {},
   "outputs": [],
   "source": []
  },
  {
   "cell_type": "markdown",
   "metadata": {},
   "source": [
    "Question 8. \n",
    "\n",
    "What type of object has bold, underline, italic, strike, and outline variables?"
   ]
  },
  {
   "cell_type": "markdown",
   "metadata": {},
   "source": [
    "The attributes and the description are for the text which will be used in the document and the type of object which has such variables are\n",
    "\n",
    "`Run Object`"
   ]
  },
  {
   "cell_type": "code",
   "execution_count": null,
   "metadata": {},
   "outputs": [],
   "source": []
  },
  {
   "cell_type": "code",
   "execution_count": null,
   "metadata": {},
   "outputs": [],
   "source": []
  },
  {
   "cell_type": "code",
   "execution_count": null,
   "metadata": {},
   "outputs": [],
   "source": []
  },
  {
   "cell_type": "markdown",
   "metadata": {},
   "source": [
    "Question 9. \n",
    "\n",
    "What is the difference between False, True, and None for the bold variable?"
   ]
  },
  {
   "cell_type": "markdown",
   "metadata": {},
   "source": [
    "The difference between the 3 are based on 'Text Attributes' of `Run Objects`\n",
    "\n",
    "True ==> The Text arrtibute is always enabled regardless of the other styles that are applied to the `Run Object`\n",
    "\n",
    "False ==> The Text attribute is always disabled.\n",
    "\n",
    "None ==> A default mode based on the what Run Object's style has been enabled to."
   ]
  },
  {
   "cell_type": "code",
   "execution_count": null,
   "metadata": {},
   "outputs": [],
   "source": []
  },
  {
   "cell_type": "code",
   "execution_count": null,
   "metadata": {},
   "outputs": [],
   "source": []
  },
  {
   "cell_type": "code",
   "execution_count": null,
   "metadata": {},
   "outputs": [],
   "source": []
  },
  {
   "cell_type": "markdown",
   "metadata": {},
   "source": [
    "Question 10. \n",
    "\n",
    "How do you create a Document object for a new Word document?"
   ]
  },
  {
   "cell_type": "markdown",
   "metadata": {},
   "source": [
    "To create \"Blank\", \"new\" Word Document Object, we call the function `docx.Document()`"
   ]
  },
  {
   "cell_type": "code",
   "execution_count": null,
   "metadata": {},
   "outputs": [],
   "source": []
  },
  {
   "cell_type": "code",
   "execution_count": null,
   "metadata": {},
   "outputs": [],
   "source": []
  },
  {
   "cell_type": "code",
   "execution_count": null,
   "metadata": {},
   "outputs": [],
   "source": []
  },
  {
   "cell_type": "markdown",
   "metadata": {},
   "source": [
    "Question 11. \n",
    "\n",
    "How do you add a paragraph with the text &#39;Hello, there!&#39; to a Document object stored in a\n",
    "variable named doc?"
   ]
  },
  {
   "cell_type": "markdown",
   "metadata": {},
   "source": [
    "The command `add_paragraph()` enables the text \"Hello, there!\" when written inside the parenthesis as an argument. \n",
    "\n",
    "This is done after we have opened a new document as per the earlier question.\n",
    "\n",
    "The variable name is \"doc\" to open the Word Document\n",
    "\n",
    "The command should be written as...\n",
    "\n",
    "`import docx`\n",
    "\n",
    "`doc = docx.Document()`\n",
    "\n",
    "`doc.add_paragraph(\"Hellos, there!\")`\n",
    "\n",
    "|\n",
    "\n",
    "\n",
    "And for every other paragraph and text within that line we repeat the command\n",
    "\n",
    "`doc.add_paragraph(\"This is another paragraph\")`"
   ]
  },
  {
   "cell_type": "code",
   "execution_count": null,
   "metadata": {},
   "outputs": [],
   "source": []
  },
  {
   "cell_type": "code",
   "execution_count": null,
   "metadata": {},
   "outputs": [],
   "source": []
  },
  {
   "cell_type": "code",
   "execution_count": null,
   "metadata": {},
   "outputs": [],
   "source": []
  },
  {
   "cell_type": "markdown",
   "metadata": {},
   "source": [
    "Question 12. \n",
    "\n",
    "What integers represent the levels of headings available in Word documents?"
   ]
  },
  {
   "cell_type": "markdown",
   "metadata": {},
   "source": [
    "When Word Documents opened in Python has 'Default'Word Styles, which are represented by String Values having command of `'Heading insert number'`\n",
    "\n",
    "The integers that represent the levels of \"Headings\" are between 1 - 9..\n",
    "\n",
    "The command could be written for the document having the variable \"doc\" as ....\n",
    "\n",
    "`doc.add_heading('The role of Data Scientists', level=2)`\n"
   ]
  },
  {
   "cell_type": "code",
   "execution_count": null,
   "metadata": {},
   "outputs": [],
   "source": []
  },
  {
   "cell_type": "code",
   "execution_count": null,
   "metadata": {},
   "outputs": [],
   "source": []
  },
  {
   "cell_type": "code",
   "execution_count": null,
   "metadata": {},
   "outputs": [],
   "source": []
  },
  {
   "cell_type": "code",
   "execution_count": null,
   "metadata": {},
   "outputs": [],
   "source": []
  }
 ],
 "metadata": {
  "kernelspec": {
   "display_name": "Python 3",
   "language": "python",
   "name": "python3"
  },
  "language_info": {
   "codemirror_mode": {
    "name": "ipython",
    "version": 3
   },
   "file_extension": ".py",
   "mimetype": "text/x-python",
   "name": "python",
   "nbconvert_exporter": "python",
   "pygments_lexer": "ipython3",
   "version": "3.8.5"
  }
 },
 "nbformat": 4,
 "nbformat_minor": 4
}
