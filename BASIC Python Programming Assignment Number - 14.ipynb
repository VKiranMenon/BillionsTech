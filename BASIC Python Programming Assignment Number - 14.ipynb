{
 "cells": [
  {
   "cell_type": "code",
   "execution_count": null,
   "metadata": {},
   "outputs": [],
   "source": []
  },
  {
   "cell_type": "markdown",
   "metadata": {},
   "source": [
    "Question 1.\n",
    "\n",
    "Define a class with a generator which can iterate the numbers, which are divisible by 7, between a given range 0 and n."
   ]
  },
  {
   "cell_type": "code",
   "execution_count": null,
   "metadata": {},
   "outputs": [],
   "source": []
  },
  {
   "cell_type": "code",
   "execution_count": 62,
   "metadata": {},
   "outputs": [],
   "source": [
    "class every_seventh:\n",
    "    \n",
    "    def __init__(self):\n",
    "        self.num = num\n",
    "        \n",
    "    def __iter__(self):\n",
    "        for i in range(0, num+1):\n",
    "            if i % 7 == 0:\n",
    "                yield i"
   ]
  },
  {
   "cell_type": "code",
   "execution_count": 64,
   "metadata": {},
   "outputs": [
    {
     "name": "stdout",
     "output_type": "stream",
     "text": [
      "Enter an integer: 50\n",
      "\n",
      "0\n",
      "\n",
      "7\n",
      "\n",
      "14\n",
      "\n",
      "21\n",
      "\n",
      "28\n",
      "\n",
      "35\n",
      "\n",
      "42\n",
      "\n",
      "49\n",
      "\n",
      "End of Iteration\n"
     ]
    }
   ],
   "source": [
    "val = iter(every_seventh())\n",
    "# next(f1)\n",
    "\n",
    "try:\n",
    "    for i in range(int(input(\"Enter an integer: \"))):\n",
    "        print()\n",
    "        print(next(val))\n",
    "except:\n",
    "    print(\"End of Iteration\")"
   ]
  },
  {
   "cell_type": "code",
   "execution_count": null,
   "metadata": {},
   "outputs": [],
   "source": []
  },
  {
   "cell_type": "code",
   "execution_count": null,
   "metadata": {},
   "outputs": [],
   "source": []
  },
  {
   "cell_type": "code",
   "execution_count": null,
   "metadata": {},
   "outputs": [],
   "source": []
  },
  {
   "cell_type": "markdown",
   "metadata": {},
   "source": [
    "Question 2:\n",
    "\n",
    "Write a program to compute the frequency of the words from the input. The output\n",
    "should output after sorting the key alphanumerically.\n",
    "\n",
    "Suppose the following input is supplied to the program:\n",
    "\n",
    "New to Python or choosing between Python 2 and Python 3? Read Python 2 or\n",
    "Python 3.\n",
    "\n",
    "Then, the output should be:\n",
    "\n",
    "2:2\n",
    "\n",
    "3.:1\n",
    "\n",
    "3?:1\n",
    "\n",
    "New:1\n",
    "\n",
    "Python:5\n",
    "\n",
    "Read:1\n",
    "\n",
    "and:1\n",
    "\n",
    "between:1\n",
    "\n",
    "choosing:1\n",
    "\n",
    "or:2\n",
    "\n",
    "to:1"
   ]
  },
  {
   "cell_type": "code",
   "execution_count": 197,
   "metadata": {},
   "outputs": [],
   "source": [
    "def count_char():\n",
    "    \n",
    "    ## create a random string and convert it into lowercase string but make all input into lowercase\n",
    "    string = input(\"Enter something: \")\n",
    "    string =  string.lower()\n",
    "    string = string.split()  ## this part makes sure every space in between the words consider it a new element inside the list\n",
    "    \n",
    "    \n",
    "    ## an empty dictionary as we are trying to produce Key and Value pair\n",
    "    ## key == string and Value-pair == no. of times of occurence\n",
    "    word_freq = {}\n",
    "    \n",
    "    ## iterate over the list\n",
    "    ## each word from the iteration if it already exists inside the list then the count goes +1.\n",
    "    ## If not then count goes 1.\n",
    "    for word in string:\n",
    "        if word in word_freq:\n",
    "            word_freq[word] += 1\n",
    "        else:\n",
    "            word_freq[word] = 1\n",
    "    return word_freq\n",
    "    \n"
   ]
  },
  {
   "cell_type": "code",
   "execution_count": 198,
   "metadata": {},
   "outputs": [
    {
     "name": "stdout",
     "output_type": "stream",
     "text": [
      "Enter something: New to Python or choosing between Python 2 and Python 3? Read Python 2 or Python 3.\n"
     ]
    },
    {
     "data": {
      "text/plain": [
       "{'new': 1,\n",
       " 'to': 1,\n",
       " 'python': 5,\n",
       " 'or': 2,\n",
       " 'choosing': 1,\n",
       " 'between': 1,\n",
       " '2': 2,\n",
       " 'and': 1,\n",
       " '3?': 1,\n",
       " 'read': 1,\n",
       " '3.': 1}"
      ]
     },
     "execution_count": 198,
     "metadata": {},
     "output_type": "execute_result"
    }
   ],
   "source": [
    "count_char()"
   ]
  },
  {
   "cell_type": "code",
   "execution_count": null,
   "metadata": {},
   "outputs": [],
   "source": []
  },
  {
   "cell_type": "code",
   "execution_count": 216,
   "metadata": {},
   "outputs": [],
   "source": [
    "def char_count():\n",
    "    \n",
    "    str_msg = input()\n",
    "    str_msg = str_msg.lower()\n",
    "    str_msg = str_msg.split()\n",
    "    \n",
    "    ## create an empty list to append all the words from original list\n",
    "    str_msg2 = []\n",
    "    \n",
    "    ## the first for loop only iterates all the words inside the list\n",
    "    ## Every word if not existing inside the list will be added.\n",
    "    ## No else condition is given because for instance ==> 'else' condition is given then not all the words will be appended inside the empty list.\n",
    "    for word in str_msg:\n",
    "        if word not in str_msg2:\n",
    "            str_msg2.append(word)\n",
    "    \n",
    "    ## the 2nd for loop we used range(len()) because this will give us the \"count\"...as range(len) before a list starts count from 0....n\n",
    "    ##.count() the words that occured from the original list\n",
    "    ## print out each words from the new list.\n",
    "    for words in range(len(str_msg2)):\n",
    "        print(\"The Word is: \", str_msg2[words], \"\\ncount is > \", str_msg.count(str_msg2[words]))\n",
    "        \n",
    "    "
   ]
  },
  {
   "cell_type": "code",
   "execution_count": 217,
   "metadata": {},
   "outputs": [
    {
     "name": "stdout",
     "output_type": "stream",
     "text": [
      "New to Python or choosing between Python 2 and Python 3? Read Python 2 or Python 3\n",
      "The Word is:  new \n",
      "count is >  1\n",
      "The Word is:  to \n",
      "count is >  1\n",
      "The Word is:  python \n",
      "count is >  5\n",
      "The Word is:  or \n",
      "count is >  2\n",
      "The Word is:  choosing \n",
      "count is >  1\n",
      "The Word is:  between \n",
      "count is >  1\n",
      "The Word is:  2 \n",
      "count is >  2\n",
      "The Word is:  and \n",
      "count is >  1\n",
      "The Word is:  3? \n",
      "count is >  1\n",
      "The Word is:  read \n",
      "count is >  1\n",
      "The Word is:  3 \n",
      "count is >  1\n"
     ]
    }
   ],
   "source": [
    "char_count()"
   ]
  },
  {
   "cell_type": "code",
   "execution_count": null,
   "metadata": {},
   "outputs": [],
   "source": []
  },
  {
   "cell_type": "code",
   "execution_count": null,
   "metadata": {},
   "outputs": [],
   "source": []
  },
  {
   "cell_type": "code",
   "execution_count": null,
   "metadata": {},
   "outputs": [],
   "source": []
  },
  {
   "cell_type": "markdown",
   "metadata": {},
   "source": [
    "Question 3:\n",
    "\n",
    "Define a class Person and its two child classes: Male and Female. \n",
    "\n",
    "All classes have a method &quot;getGender&quot; which can print &quot;Male&quot; for Male class and &quot;Female&quot; for Female\n",
    "class."
   ]
  },
  {
   "cell_type": "code",
   "execution_count": 354,
   "metadata": {},
   "outputs": [],
   "source": [
    "class Person1(object):\n",
    "    \n",
    "    def __init__(self):\n",
    "        self.male = \"Male\"\n",
    "        self.female = \"Female\"\n",
    "        \n",
    "        \n",
    "class Male1(Person1):\n",
    "        \n",
    "    def getGender(self):\n",
    "        print(self.male)\n",
    "        \n",
    "class Female1(Person1):\n",
    "    \n",
    "    def getGender(self):\n",
    "        print(self.female)\n",
    "        \n",
    "\n",
    "    "
   ]
  },
  {
   "cell_type": "code",
   "execution_count": 355,
   "metadata": {},
   "outputs": [
    {
     "name": "stdout",
     "output_type": "stream",
     "text": [
      "Male\n"
     ]
    }
   ],
   "source": [
    "m = Male1()\n",
    "m.getGender()"
   ]
  },
  {
   "cell_type": "code",
   "execution_count": 356,
   "metadata": {},
   "outputs": [
    {
     "name": "stdout",
     "output_type": "stream",
     "text": [
      "Female\n"
     ]
    }
   ],
   "source": [
    "f = Female1()\n",
    "f.getGender()"
   ]
  },
  {
   "cell_type": "code",
   "execution_count": null,
   "metadata": {},
   "outputs": [],
   "source": []
  },
  {
   "cell_type": "code",
   "execution_count": 447,
   "metadata": {},
   "outputs": [],
   "source": [
    "class Person(object):\n",
    "    \n",
    "    def getGender_2(self):\n",
    "#         print(\"The person is: \")\n",
    "        pass\n",
    "        \n",
    "class Male(Person):\n",
    "    \n",
    "    def getGender_2(self):\n",
    "        Person.getGender_2(self)\n",
    "        print(\"Male\")\n",
    "        \n",
    "class Female(Person):\n",
    "    def getGender_2(self):\n",
    "        Person.getGender_2(self)\n",
    "        print(\"Female\")"
   ]
  },
  {
   "cell_type": "code",
   "execution_count": 448,
   "metadata": {},
   "outputs": [
    {
     "name": "stdout",
     "output_type": "stream",
     "text": [
      "Male\n"
     ]
    }
   ],
   "source": [
    "m1 = Male()\n",
    "m1.getGender_2()"
   ]
  },
  {
   "cell_type": "code",
   "execution_count": 449,
   "metadata": {},
   "outputs": [
    {
     "name": "stdout",
     "output_type": "stream",
     "text": [
      "Female\n"
     ]
    }
   ],
   "source": [
    "f1 = Female()\n",
    "f1.getGender_2()"
   ]
  },
  {
   "cell_type": "code",
   "execution_count": null,
   "metadata": {},
   "outputs": [],
   "source": []
  },
  {
   "cell_type": "code",
   "execution_count": null,
   "metadata": {},
   "outputs": [],
   "source": []
  },
  {
   "cell_type": "markdown",
   "metadata": {},
   "source": [
    "Question 4:\n",
    "\n",
    "Please write a program to generate all sentences where subject is in [&quot;I&quot;, &quot;You&quot;] and\n",
    "\n",
    "verb is in [&quot;Play&quot;, &quot;Love&quot;] and the object is in [&quot;Hockey&quot;,&quot;Football&quot;]."
   ]
  },
  {
   "cell_type": "code",
   "execution_count": 450,
   "metadata": {},
   "outputs": [
    {
     "name": "stdout",
     "output_type": "stream",
     "text": [
      "88.5 ns ± 3.65 ns per loop (mean ± std. dev. of 7 runs, 10000000 loops each)\n"
     ]
    }
   ],
   "source": [
    "%%timeit\n",
    "\n",
    "def genSentences():\n",
    "    \n",
    "    ## the 3 lists where we have subject, verb, object and combine them to form sentences\n",
    "    subject_ =  [\"I\", \"You\"] \n",
    "    verb_ = [\"Play\", \"Love\"]\n",
    "    object_ = [\"Hockey\",\"Football\"]\n",
    "    \n",
    "    ## List comprehension where for loops iterate each elements, as in the 2nd for loop nests in the 1st and 3rd for loop nests in 2nd\n",
    "#     for i in subject_2:\n",
    "#         for j in verb_2:  ===> nest 1\n",
    "#             for k in object_2:  ===> nest 2\n",
    "#                 print (i + \" \" + j + \" \" + k)  ===> combine all iterated elements from each list\n",
    "\n",
    "### The above nested for loop is therefore written in List comprehension form\n",
    "    \n",
    "    word_list = [(sub_ + \" \" + vb_ + \" \" + obj_) for sub_ in subject_ for vb_ in verb_ for obj_ in object_]\n",
    "    \n",
    "    for phrases in word_list:\n",
    "        print(phrases)"
   ]
  },
  {
   "cell_type": "code",
   "execution_count": 375,
   "metadata": {},
   "outputs": [
    {
     "name": "stdout",
     "output_type": "stream",
     "text": [
      "I Play Hockey\n",
      "I Play Football\n",
      "I Love Hockey\n",
      "I Love Football\n",
      "You Play Hockey\n",
      "You Play Football\n",
      "You Love Hockey\n",
      "You Love Football\n"
     ]
    }
   ],
   "source": [
    "genSentences()"
   ]
  },
  {
   "cell_type": "code",
   "execution_count": null,
   "metadata": {},
   "outputs": [],
   "source": []
  },
  {
   "cell_type": "code",
   "execution_count": null,
   "metadata": {},
   "outputs": [],
   "source": []
  },
  {
   "cell_type": "code",
   "execution_count": null,
   "metadata": {},
   "outputs": [],
   "source": []
  },
  {
   "cell_type": "markdown",
   "metadata": {},
   "source": [
    "Question 5:\n",
    "\n",
    "\n",
    "Please write a program to compress and decompress the string &quot;hello world!hello\n",
    "\n",
    "world!hello world!hello world!&quot;."
   ]
  },
  {
   "cell_type": "code",
   "execution_count": 523,
   "metadata": {},
   "outputs": [],
   "source": [
    "import zlib\n",
    "import binascii\n",
    "def compress():\n",
    "    _data_ = b\"hello world!hello world!hello world!hello world!\"  \n",
    "    \n",
    "    compressd_data = zlib.compress(_data_, 2)\n",
    "    de_compressd_data = zlib.decompress(compressd_data)\n",
    "    \n",
    "    print(\"Compressed String is ===> \", compressd_data) \n",
    "    print(\"Decompressed String is ===> \", de_compressd_data)"
   ]
  },
  {
   "cell_type": "code",
   "execution_count": 524,
   "metadata": {},
   "outputs": [
    {
     "name": "stdout",
     "output_type": "stream",
     "text": [
      "Compressed String is ===>  b'x^\\xcbH\\xcd\\xc9\\xc9W(\\xcf/\\xcaIQ\\xcc \\x82\\r\\x00\\xbd[\\x11\\xf5'\n",
      "Decompressed String is ===>  b'hello world!hello world!hello world!hello world!'\n"
     ]
    }
   ],
   "source": [
    "compress()"
   ]
  },
  {
   "cell_type": "code",
   "execution_count": null,
   "metadata": {},
   "outputs": [],
   "source": []
  },
  {
   "cell_type": "code",
   "execution_count": 525,
   "metadata": {},
   "outputs": [],
   "source": [
    "import zlib\n",
    "import binascii\n",
    "\n",
    "\n",
    "def compress_decompress():\n",
    "    \n",
    "    data = b'Hello world'\n",
    "\n",
    "    compressed_data = zlib.compress(data, 2)\n",
    "\n",
    "    print(\"Original data\" + \" \" + str(data))\n",
    "    print(binascii.hexlify(compressed_data))"
   ]
  },
  {
   "cell_type": "code",
   "execution_count": 527,
   "metadata": {},
   "outputs": [
    {
     "name": "stdout",
     "output_type": "stream",
     "text": [
      "Original data b'Hello world'\n",
      "b'785ef348cdc9c95728cf2fca49010018ab043d'\n"
     ]
    }
   ],
   "source": [
    "compress_decompress()"
   ]
  },
  {
   "cell_type": "code",
   "execution_count": null,
   "metadata": {},
   "outputs": [],
   "source": []
  },
  {
   "cell_type": "code",
   "execution_count": null,
   "metadata": {},
   "outputs": [],
   "source": []
  },
  {
   "cell_type": "code",
   "execution_count": null,
   "metadata": {},
   "outputs": [],
   "source": []
  },
  {
   "cell_type": "markdown",
   "metadata": {},
   "source": [
    "Question 6:\n",
    "\n",
    "\n",
    "Please write a binary search function which searches an item in a sorted list. \n",
    "\n",
    "The function should return the index of element to be searched in the list."
   ]
  },
  {
   "cell_type": "code",
   "execution_count": null,
   "metadata": {},
   "outputs": [],
   "source": []
  },
  {
   "cell_type": "code",
   "execution_count": 49,
   "metadata": {
    "scrolled": true
   },
   "outputs": [],
   "source": [
    "def binary_search():\n",
    "    \n",
    "    ## 2 empty list where one will store int and float values and the other only string values\n",
    "    ## Empty string variable to accept input from the user\n",
    "\n",
    "    insrt_inp = \"\"\n",
    "    app_num = []\n",
    "    app_word = []\n",
    "    \n",
    "    ## while loop to allow user to insert unlimited entries\n",
    "    ## conditions inside the while loop that allows to segregate between float, int and string values\n",
    "\n",
    "    while True != \"stop\":\n",
    "        insrt_inp = input(\"Enter inputs: \").lower()\n",
    "\n",
    "        if type(insrt_inp) is float:\n",
    "            app_num.append(insrt_inp)\n",
    "        elif type(insrt_inp) is int:\n",
    "            app_num.append(insrt_inp)\n",
    "        elif insrt_inp == \"stop\":\n",
    "            break\n",
    "        else:\n",
    "            app_word.append(insrt_inp)\n",
    "\n",
    "            \n",
    "    ## Merging of all the values inside one list and sorting them out from numbers to alphabets\n",
    "    one_lst = app_num + app_word\n",
    "    sortd_one_lst = sorted(one_lst)\n",
    "\n",
    "    print()\n",
    "    print(one_lst)\n",
    "    print()\n",
    "    print(sortd_one_lst)\n",
    "    \n",
    "    ## giving the user the option to choose between 2 options\n",
    "    ## Choosing 1 Gives Binary Search Program to FIND the Index of the ELement inside the merged list\n",
    "    ## Choosing 2 Will Find the ELEMENT/VALUE inside the List by typing in the Index Number.\n",
    "\n",
    "    inp_option = int(input(\"Choose 1 to FIND INDEX of chosen element from the List OR Choose 2 to FIND ELEMENT for the chosen Index: \"))\n",
    "\n",
    "    if inp_option == 1:\n",
    "        try:\n",
    "            inp_wd = input(\"Enter the word from the List: \")\n",
    "\n",
    "            for i in sortd_one_lst:\n",
    "                if i == inp_wd:\n",
    "                    print(sortd_one_lst.index(i))\n",
    "                    break\n",
    "                elif i != inp_wd:\n",
    "                    continue\n",
    "        except Exception as e:\n",
    "            print(\"Word not found\", e)\n",
    "\n",
    "\n",
    "\n",
    "    elif inp_option == 2:\n",
    "        lst_num = int(input(range(len(sortd_one_lst))))\n",
    "\n",
    "        for i in sortd_one_lst:\n",
    "            if lst_num <= len(sortd_one_lst):\n",
    "                print(lst_num)\n",
    "                break\n",
    "            else:\n",
    "                print(\"out of range\")\n",
    "                break\n",
    "        print(\"The Index of \", lst_num, \"is \", sortd_one_lst[lst_num])"
   ]
  },
  {
   "cell_type": "code",
   "execution_count": 52,
   "metadata": {},
   "outputs": [
    {
     "name": "stdout",
     "output_type": "stream",
     "text": [
      "Enter inputs: 56.8\n",
      "Enter inputs: 4\n",
      "Enter inputs: 0.25\n",
      "Enter inputs: 99\n",
      "Enter inputs: police\n",
      "Enter inputs: italy\n",
      "Enter inputs: florence\n",
      "Enter inputs: india\n",
      "Enter inputs: money\n",
      "Enter inputs: stop\n",
      "\n",
      "['56.8', '4', '0.25', '99', 'police', 'italy', 'florence', 'india', 'money']\n",
      "\n",
      "['0.25', '4', '56.8', '99', 'florence', 'india', 'italy', 'money', 'police']\n",
      "Choose 1 to Find Index of chosen element from the List OR Choose 2 to Find Word for the chosen Index: 1\n",
      "Enter the word from the List: 4\n",
      "1\n"
     ]
    }
   ],
   "source": [
    "binary_search()"
   ]
  },
  {
   "cell_type": "code",
   "execution_count": null,
   "metadata": {},
   "outputs": [],
   "source": []
  },
  {
   "cell_type": "code",
   "execution_count": null,
   "metadata": {},
   "outputs": [],
   "source": []
  },
  {
   "cell_type": "code",
   "execution_count": null,
   "metadata": {},
   "outputs": [],
   "source": []
  },
  {
   "cell_type": "code",
   "execution_count": null,
   "metadata": {},
   "outputs": [],
   "source": []
  },
  {
   "cell_type": "code",
   "execution_count": null,
   "metadata": {},
   "outputs": [],
   "source": []
  },
  {
   "cell_type": "code",
   "execution_count": null,
   "metadata": {},
   "outputs": [],
   "source": []
  },
  {
   "cell_type": "code",
   "execution_count": null,
   "metadata": {},
   "outputs": [],
   "source": []
  }
 ],
 "metadata": {
  "kernelspec": {
   "display_name": "Python 3",
   "language": "python",
   "name": "python3"
  },
  "language_info": {
   "codemirror_mode": {
    "name": "ipython",
    "version": 3
   },
   "file_extension": ".py",
   "mimetype": "text/x-python",
   "name": "python",
   "nbconvert_exporter": "python",
   "pygments_lexer": "ipython3",
   "version": "3.8.5"
  }
 },
 "nbformat": 4,
 "nbformat_minor": 4
}
