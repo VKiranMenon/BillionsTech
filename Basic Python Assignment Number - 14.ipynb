{
 "cells": [
  {
   "cell_type": "code",
   "execution_count": null,
   "metadata": {},
   "outputs": [],
   "source": []
  },
  {
   "cell_type": "markdown",
   "metadata": {},
   "source": [
    "Question 1. What does RGBA stand for?"
   ]
  },
  {
   "cell_type": "markdown",
   "metadata": {},
   "source": [
    "RGBA stands for \n",
    "\n",
    "`RED`\n",
    "\n",
    "`BLUE`\n",
    "\n",
    "`GREEN`\n",
    "\n",
    "`ALPHA`\n",
    "\n",
    "Its value specifies the amount of each Red, Blue, Green and Alpha in an image (also known as Transparency)."
   ]
  },
  {
   "cell_type": "code",
   "execution_count": null,
   "metadata": {},
   "outputs": [],
   "source": []
  },
  {
   "cell_type": "code",
   "execution_count": null,
   "metadata": {},
   "outputs": [],
   "source": []
  },
  {
   "cell_type": "code",
   "execution_count": null,
   "metadata": {},
   "outputs": [],
   "source": []
  },
  {
   "cell_type": "markdown",
   "metadata": {},
   "source": [
    "Question 2. \n",
    "\n",
    "From the Pillow module, how do you get the RGBA value of any images?"
   ]
  },
  {
   "cell_type": "markdown",
   "metadata": {},
   "source": [
    "We can use the command `ImageColor.getcolor()` that returns RGBA value of any images."
   ]
  },
  {
   "cell_type": "code",
   "execution_count": null,
   "metadata": {},
   "outputs": [],
   "source": []
  },
  {
   "cell_type": "code",
   "execution_count": null,
   "metadata": {},
   "outputs": [],
   "source": []
  },
  {
   "cell_type": "code",
   "execution_count": null,
   "metadata": {},
   "outputs": [],
   "source": []
  },
  {
   "cell_type": "markdown",
   "metadata": {},
   "source": [
    "Question 3. \n",
    "\n",
    "What is a box tuple, and how does it work?"
   ]
  },
  {
   "cell_type": "markdown",
   "metadata": {},
   "source": [
    "A Box Tuple is an argument, where the library Pillow expects a tuple, which has 4 integer co-ordinates representing rectangular shape of an image.\n",
    "\n",
    "How it works is we could give certain numbers within the tuple that will allow it to crop and re-size the image. \n",
    "\n",
    "|\n",
    "\n",
    "How it works?\n",
    "\n",
    "\n",
    "Left: The x-coordinate of the leftmost edge of the box. (First Number)\n",
    "\n",
    "Top: The y-coordinate of the top edge of the box.  (Second Number)\n",
    "\n",
    "Right: The x-coordinate of one pixel to the right of the rightmost edge of the box. This integer must be greater than the left integer.  (Third Number)\n",
    "\n",
    "Bottom: The y-coordinate of one pixel lower than the bottom edge of the box. This integer must be greater than the top integer.  (Fourth Number)"
   ]
  },
  {
   "cell_type": "code",
   "execution_count": null,
   "metadata": {},
   "outputs": [],
   "source": []
  },
  {
   "cell_type": "code",
   "execution_count": null,
   "metadata": {},
   "outputs": [],
   "source": []
  },
  {
   "cell_type": "code",
   "execution_count": null,
   "metadata": {},
   "outputs": [],
   "source": []
  },
  {
   "cell_type": "markdown",
   "metadata": {},
   "source": [
    "Question 4. \n",
    "\n",
    "Use your image and load in notebook then, How can you find out the width and height of an\n",
    "Image object?"
   ]
  },
  {
   "cell_type": "markdown",
   "metadata": {},
   "source": [
    "The width and height of an Image object can be found from PIL in Python.\n",
    "\n",
    "We first call on the image to be uploaded on the notebook with the command\n",
    "\n",
    "` PIL.Image.open(fp)` with fp being variable for filename.\n",
    "\n",
    "Answer: We then use the command `PIL.Image.Image.size` that returns a tuple giving the (width, height) of the uploaded image in pixels."
   ]
  },
  {
   "cell_type": "code",
   "execution_count": null,
   "metadata": {},
   "outputs": [],
   "source": [
    "\"\"\" \n",
    "The code can be written as\n",
    "\n",
    "\n",
    "## Upload/Open a new image in \n",
    "image_new = PIL.Image.open(\"sample_11.png\")\n",
    "\n",
    "\n",
    "## Find out the width and height of the uploaded image.\n",
    "width, height = image_new.size\n",
    "\n",
    "\n",
    "## Get the measurements in pixels inside a tuple\n",
    "print(width, height)\n",
    "\n",
    "\"\"\""
   ]
  },
  {
   "cell_type": "code",
   "execution_count": null,
   "metadata": {},
   "outputs": [],
   "source": []
  },
  {
   "cell_type": "code",
   "execution_count": null,
   "metadata": {},
   "outputs": [],
   "source": []
  },
  {
   "cell_type": "code",
   "execution_count": null,
   "metadata": {},
   "outputs": [],
   "source": []
  },
  {
   "cell_type": "markdown",
   "metadata": {},
   "source": [
    "Question 5. \n",
    "\n",
    "What method would you call to get Image object for a 100×100 image, excluding the lower-left\n",
    "quarter of it?"
   ]
  },
  {
   "cell_type": "markdown",
   "metadata": {},
   "source": [
    "The `Rectangle` method is used to resize an Image Object to a specified measure of 100x100. \n",
    "\n",
    "The left and top portion specifies values of x - y co-ordinates, while 'right' bottom specifies the lower-right quarter.\n",
    "\n",
    "This method excludes the lower-left quarter in the image."
   ]
  },
  {
   "cell_type": "code",
   "execution_count": null,
   "metadata": {},
   "outputs": [],
   "source": []
  },
  {
   "cell_type": "code",
   "execution_count": null,
   "metadata": {},
   "outputs": [],
   "source": []
  },
  {
   "cell_type": "code",
   "execution_count": null,
   "metadata": {},
   "outputs": [],
   "source": []
  },
  {
   "cell_type": "markdown",
   "metadata": {},
   "source": [
    "Question 6.\n",
    "\n",
    "After making changes to an Image object, how could you save it as an image file?"
   ]
  },
  {
   "cell_type": "markdown",
   "metadata": {},
   "source": [
    "The `PIL` Python Imaging Library is able to support a number of changes made towards an image. Moreover any changes made on the images can be saved through the command.\n",
    "\n",
    " `save()` method of the `Image` class in order to save an image file.\n",
    " \n",
    " Answer: `Image.save()`\n",
    " \n",
    " Filename is important hence the command `Image.save()` is used or any variable name specified when creating the file."
   ]
  },
  {
   "cell_type": "code",
   "execution_count": null,
   "metadata": {},
   "outputs": [],
   "source": []
  },
  {
   "cell_type": "code",
   "execution_count": null,
   "metadata": {},
   "outputs": [],
   "source": []
  },
  {
   "cell_type": "code",
   "execution_count": null,
   "metadata": {},
   "outputs": [],
   "source": []
  },
  {
   "cell_type": "markdown",
   "metadata": {},
   "source": [
    "Question 7. \n",
    "\n",
    "What module contains Pillow’s shape-drawing code?"
   ]
  },
  {
   "cell_type": "markdown",
   "metadata": {},
   "source": [
    "The `ImageDraw` module within the image processing library Pillow, supports drawing of shape and also annotation of texts."
   ]
  },
  {
   "cell_type": "code",
   "execution_count": null,
   "metadata": {},
   "outputs": [],
   "source": []
  },
  {
   "cell_type": "code",
   "execution_count": null,
   "metadata": {},
   "outputs": [],
   "source": []
  },
  {
   "cell_type": "code",
   "execution_count": null,
   "metadata": {},
   "outputs": [],
   "source": []
  },
  {
   "cell_type": "markdown",
   "metadata": {},
   "source": [
    "Question 8. \n",
    "\n",
    "Image objects do not have drawing methods. What kind of object does? How do you get this kind\n",
    "of object?"
   ]
  },
  {
   "cell_type": "markdown",
   "metadata": {},
   "source": [
    "Answer: `ImageDraw Objects` has several methods for drawing features which are received through the command\n",
    "\n",
    "`ImageDraw.Draw()`\n",
    "\n",
    "These objects are gotten through the `ImageDraw` Module from the Python image processing Library \"Pillow\".\n",
    "\n",
    "|\n",
    "\n",
    "The following code can be used as an example:"
   ]
  },
  {
   "cell_type": "code",
   "execution_count": 4,
   "metadata": {},
   "outputs": [],
   "source": [
    "\"\"\" from PIL import Image, ImageDraw\n",
    "\n",
    "img = Image.new('RGB', (500, 300), (128, 128, 128))\n",
    "draw_1 = ImageDraw.Draw(img)\n",
    "\n",
    "## Drawing methods can be called from 'Draw' objects...where we try to draw a rectangle or a straight line\n",
    "\n",
    "draw_1.rectangle((200, 100, 300, 200), fill=(0, 192, 192), outline=(255, 255, 255))\n",
    "draw_1.line((350, 200, 450, 100), fill=(255, 255, 0), width=10)\n",
    "\n",
    "img.save('data/dst/pillow_imagedraw.jpg', quality=95) <--- We need to specify a Pathname for an Image from our system.\n",
    "\n",
    "\"\"\""
   ]
  },
  {
   "cell_type": "code",
   "execution_count": null,
   "metadata": {},
   "outputs": [],
   "source": []
  },
  {
   "cell_type": "code",
   "execution_count": null,
   "metadata": {},
   "outputs": [],
   "source": []
  },
  {
   "cell_type": "code",
   "execution_count": null,
   "metadata": {},
   "outputs": [],
   "source": []
  }
 ],
 "metadata": {
  "kernelspec": {
   "display_name": "Python 3",
   "language": "python",
   "name": "python3"
  },
  "language_info": {
   "codemirror_mode": {
    "name": "ipython",
    "version": 3
   },
   "file_extension": ".py",
   "mimetype": "text/x-python",
   "name": "python",
   "nbconvert_exporter": "python",
   "pygments_lexer": "ipython3",
   "version": "3.8.5"
  }
 },
 "nbformat": 4,
 "nbformat_minor": 4
}
